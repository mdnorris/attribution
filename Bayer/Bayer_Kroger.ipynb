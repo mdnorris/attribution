{
 "nbformat": 4,
 "nbformat_minor": 0,
 "metadata": {
  "kernelspec": {
   "name": "python3",
   "language": "python",
   "display_name": "Python 3 (ipykernel)"
  },
  "language_info": {
   "codemirror_mode": {
    "name": "ipython",
    "version": 2
   },
   "file_extension": ".py",
   "mimetype": "text/x-python",
   "name": "python",
   "nbconvert_exporter": "python",
   "pygments_lexer": "ipython2",
   "version": "2.7.6"
  },
  "colab": {
   "name": "Redemption Curves.ipynb",
   "provenance": []
  }
 },
 "cells": [
  {
   "cell_type": "markdown",
   "metadata": {
    "id": "VOJy_xw2RV9-"
   },
   "source": [
    "## Redemption Decay Functions for Reconciliation Estimation"
   ]
  },
  {
   "cell_type": "markdown",
   "source": [
    "DATASET CONSTRUCTION INFORMATION\n"
   ],
   "metadata": {
    "collapsed": false
   }
  },
  {
   "cell_type": "markdown",
   "source": [
    "This file describes the creation of the first model for Kroger  Bayer.\n",
    "Weekly reports were provided by Bayer. Each report contained a file for one offer, with weekly redemption of coupons reported. Only coupons with data. Each week in a file was given a week number, as well as a new percentage derived from the percentage that was the wrong type in each file. A formula was then derived from the weekly number and the percentage of coupons redeemed."
   ],
   "metadata": {
    "collapsed": false
   }
  },
  {
   "cell_type": "code",
   "execution_count": 241,
   "outputs": [],
   "source": [
    "import os\n",
    "import numpy as np\n",
    "import pandas as pd\n",
    "import matplotlib.pyplot as plt\n",
    "from scipy.optimize import curve_fit as cf\n",
    "from datetime import date"
   ],
   "metadata": {
    "collapsed": false,
    "ExecuteTime": {
     "end_time": "2023-12-15T13:46:27.596688900Z",
     "start_time": "2023-12-15T13:46:27.543132900Z"
    }
   }
  },
  {
   "cell_type": "code",
   "execution_count": 242,
   "outputs": [],
   "source": [
    "df = pd.read_csv('C:/Users/norri/Desktop/Bayer_Models/Tinactin.csv')"
   ],
   "metadata": {
    "collapsed": false,
    "ExecuteTime": {
     "end_time": "2023-12-15T13:46:27.648431500Z",
     "start_time": "2023-12-15T13:46:27.628421800Z"
    }
   }
  },
  {
   "cell_type": "markdown",
   "source": [
    "Tentative code for reading in multiple files in multiple folders."
   ],
   "metadata": {
    "collapsed": false
   }
  },
  {
   "cell_type": "code",
   "execution_count": 243,
   "outputs": [],
   "source": [
    "# for filename in os.listdir(getcwd()):\n",
    "#     with open(os.path.join.os.getcwd(), filename), 'r') as f:\n",
    "#         print(f.read())\n",
    "# os.chdir('path/to/directory')"
   ],
   "metadata": {
    "collapsed": false,
    "ExecuteTime": {
     "end_time": "2023-12-15T13:46:27.670787900Z",
     "start_time": "2023-12-15T13:46:27.651525200Z"
    }
   }
  },
  {
   "cell_type": "markdown",
   "source": [
    "This next line is only necessary if the grand total line is in the dataset. Otherwise, skip."
   ],
   "metadata": {
    "collapsed": false
   }
  },
  {
   "cell_type": "code",
   "execution_count": 244,
   "outputs": [],
   "source": [
    "# df.drop(df.tail(1).index,inplace=True)"
   ],
   "metadata": {
    "collapsed": false,
    "ExecuteTime": {
     "end_time": "2023-12-15T13:46:27.699025300Z",
     "start_time": "2023-12-15T13:46:27.676840200Z"
    }
   }
  },
  {
   "cell_type": "code",
   "execution_count": 245,
   "outputs": [],
   "source": [
    "df['Date'] = pd.to_datetime(df['Date'])"
   ],
   "metadata": {
    "collapsed": false,
    "ExecuteTime": {
     "end_time": "2023-12-15T13:46:27.787741600Z",
     "start_time": "2023-12-15T13:46:27.743212400Z"
    }
   }
  },
  {
   "cell_type": "markdown",
   "source": [
    "Once the date is corrected, a column for the week number is created."
   ],
   "metadata": {
    "collapsed": false
   }
  },
  {
   "cell_type": "code",
   "execution_count": 246,
   "outputs": [],
   "source": [
    "# df.sort_values(by=['Date'], inplace=True)\n",
    "# df['Week_Number'] =  np.arange(df.shape[0]) + 1"
   ],
   "metadata": {
    "collapsed": false,
    "ExecuteTime": {
     "end_time": "2023-12-15T13:46:27.789741300Z",
     "start_time": "2023-12-15T13:46:27.761788900Z"
    }
   }
  },
  {
   "cell_type": "markdown",
   "source": [
    "This function fits the plotted points to an equation of the form y = a * exp(-b * x)."
   ],
   "metadata": {
    "collapsed": false
   }
  },
  {
   "cell_type": "code",
   "execution_count": 247,
   "outputs": [],
   "source": [
    "def func(x, a, b):\n",
    "    \"\"\"\n",
    "    This function defines the formula\n",
    "    That we are optimizing, note that since\n",
    "    The exponential function (non-normalized)\n",
    "    \"Has two parameters\" of interest\n",
    "    :param x: Percentage completed redemption in one period\n",
    "    :param a: constant coefficient\n",
    "    :param b: coefficient for x in the exponent of e\n",
    "    :return: returns a and b, the best estimates for the curve\n",
    "    \"\"\"\n",
    "    return a * np.exp(-b * (x))"
   ],
   "metadata": {
    "collapsed": false,
    "ExecuteTime": {
     "end_time": "2023-12-15T13:46:27.791743300Z",
     "start_time": "2023-12-15T13:46:27.777744200Z"
    }
   }
  },
  {
   "cell_type": "markdown",
   "source": [
    "This function calculates the r-squared value for the curve fit."
   ],
   "metadata": {
    "collapsed": false
   }
  },
  {
   "cell_type": "code",
   "execution_count": 248,
   "outputs": [],
   "source": [
    "def r_squared(x, y, a, b):\n",
    "    \"\"\"\n",
    "    Calculates r-squared, accurate for fitting best fit line\n",
    "    :param x: x observations\n",
    "    :param y: y observations\n",
    "    :param a: coefficient estimate returned from func\n",
    "    :param b: coefficient estimate returned from func\n",
    "    :return: r-squared calculation and printout\n",
    "    \"\"\"\n",
    "    res = y - func(x, a, b)\n",
    "    ss_r = np.sum(res ** 2)\n",
    "    ss_tot = np.sum((y - np.mean(y) ** 2))\n",
    "    r_sq = np.round((1 - (ss_r / ss_tot)), 4)\n",
    "    print(f'R^2 = {r_sq}')\n",
    "    print(f'Curve Formula: y={a}*exp^(-{b}*(x)')"
   ],
   "metadata": {
    "collapsed": false,
    "ExecuteTime": {
     "end_time": "2023-12-15T13:46:27.839310300Z",
     "start_time": "2023-12-15T13:46:27.794743200Z"
    }
   }
  },
  {
   "cell_type": "markdown",
   "source": [
    "Plots the curve after fitting."
   ],
   "metadata": {
    "collapsed": false
   }
  },
  {
   "cell_type": "code",
   "execution_count": 249,
   "outputs": [],
   "source": [
    "def plot_curve(x, y, a, b):\n",
    "    \"\"\"\n",
    "    Converts the existing x and y data and the\n",
    "    best fit curve parameters a and b to create\n",
    "    a plot\n",
    "    :param x:\n",
    "    :param y:\n",
    "    :param a:\n",
    "    :param b:\n",
    "    :return:\n",
    "    \"\"\"\n",
    "    x_est = np.arange(min(x), max(x))\n",
    "    y_curve = a*np.exp(-b*x_est)\n",
    "    plt.figure(figsize=(6,6))\n",
    "    plt.scatter(x, y, s=12)\n",
    "    plt.xlabel('Week Number')\n",
    "    plt.ylabel('Percentage of Coupons Redeemed')\n",
    "    plt.title('Coupon Model Fit')\n",
    "    plt.plot(x_est, y_curve, '--', color='red')\n",
    "    plt.show()"
   ],
   "metadata": {
    "collapsed": false,
    "ExecuteTime": {
     "end_time": "2023-12-15T13:46:27.840549900Z",
     "start_time": "2023-12-15T13:46:27.811309900Z"
    }
   }
  },
  {
   "cell_type": "markdown",
   "source": [
    "Executes each function at once."
   ],
   "metadata": {
    "collapsed": false
   }
  },
  {
   "cell_type": "code",
   "execution_count": 250,
   "outputs": [],
   "source": [
    "def output(x, y, p0):\n",
    "    \"\"\"\n",
    "    This combines all the functions and\n",
    "    creates the plot, formula for estimates\n",
    "    and r-squared\n",
    "    :param x: x data\n",
    "    :param y: y data\n",
    "    :param p0: interval in which the curve-fitting\n",
    "    function begins its search\n",
    "    :return: plot of data against estimate, model formula\n",
    "    estimate, and r-squared\n",
    "    \"\"\"\n",
    "    popt, pcov = cf(func, x, y, p0)\n",
    "    a = np.round(popt[0], 5)\n",
    "    b = np.round(popt[1], 5)\n",
    "    r_squared(x, y, a, b)\n",
    "    plot_curve(x, y, a, b)\n",
    "    return a, b"
   ],
   "metadata": {
    "collapsed": false,
    "ExecuteTime": {
     "end_time": "2023-12-15T13:46:27.867596900Z",
     "start_time": "2023-12-15T13:46:27.826311300Z"
    }
   }
  },
  {
   "cell_type": "markdown",
   "source": [
    "#### Creation of file for Curve Formula\n",
    "1. As the data is currently in an unsupported format, every brand weekly sheet must be opened and copied to a cumulative sheet\n",
    "2. Create new columns for Week Number and Percentage, which represents the percentage of coupon redemption for that week\n",
    "3. Divide the coupon redemption percent by 100 to get a proper percentage\n",
    "4. After appending all weekly data for a single brand, save it as a csv\n",
    "5. Visualize the Week Number  on the x-axis and the Percentage on the y-axis\n",
    "6. This scatter plot, separated by brand, is what the curve fitting portion creates the equation from\n",
    "7. Repeat for each brand, recording the R-Squared and the equation for prediction redemeption"
   ],
   "metadata": {
    "collapsed": false
   }
  },
  {
   "cell_type": "code",
   "execution_count": 251,
   "outputs": [
    {
     "data": {
      "text/plain": "<matplotlib.collections.PathCollection at 0x1c47da7c820>"
     },
     "execution_count": 251,
     "metadata": {},
     "output_type": "execute_result"
    },
    {
     "data": {
      "text/plain": "<Figure size 640x480 with 1 Axes>",
      "image/png": "[encoded data removed]"
     },
     "metadata": {},
     "output_type": "display_data"
    }
   ],
   "source": [
    "x = df['Week_Number']\n",
    "y = df['Percentage']\n",
    "plt.scatter(x, y)"
   ],
   "metadata": {
    "collapsed": false,
    "ExecuteTime": {
     "end_time": "2023-12-15T13:46:28.004670900Z",
     "start_time": "2023-12-15T13:46:27.848596Z"
    }
   }
  },
  {
   "cell_type": "markdown",
   "source": [
    "A concave trendline with a long tail is the best fit for the data, so an exponential decay function is used."
   ],
   "metadata": {
    "collapsed": false
   }
  },
  {
   "cell_type": "code",
   "execution_count": 252,
   "outputs": [],
   "source": [
    "p0 = [1.0, .05]"
   ],
   "metadata": {
    "collapsed": false,
    "ExecuteTime": {
     "end_time": "2023-12-15T13:46:28.057848600Z",
     "start_time": "2023-12-15T13:46:27.997671600Z"
    }
   }
  },
  {
   "cell_type": "markdown",
   "source": [
    "This sets the values for x and y so that the curve fitting function can estimate a and b."
   ],
   "metadata": {
    "collapsed": false
   }
  },
  {
   "cell_type": "code",
   "execution_count": 253,
   "outputs": [],
   "source": [
    "x = df['Week_Number'].to_numpy(dtype=float)\n",
    "y = df[\"Percentage\"].to_numpy(dtype=float)"
   ],
   "metadata": {
    "collapsed": false,
    "ExecuteTime": {
     "end_time": "2023-12-15T13:46:28.058400800Z",
     "start_time": "2023-12-15T13:46:28.014851900Z"
    }
   }
  },
  {
   "cell_type": "code",
   "execution_count": 254,
   "outputs": [
    {
     "data": {
      "text/plain": "Week_Number\n1     10\n2     10\n3     10\n4     10\n5     10\n6     10\n7     10\n8     10\n9      6\n10     3\n11     2\n12     2\n13     2\n14     1\n15     1\n16     1\n17     1\ndtype: int64"
     },
     "execution_count": 254,
     "metadata": {},
     "output_type": "execute_result"
    }
   ],
   "source": [
    "df.value_counts('Week_Number')"
   ],
   "metadata": {
    "collapsed": false,
    "ExecuteTime": {
     "end_time": "2023-12-15T13:46:28.058400800Z",
     "start_time": "2023-12-15T13:46:28.029849200Z"
    }
   }
  },
  {
   "cell_type": "code",
   "execution_count": 255,
   "outputs": [
    {
     "name": "stdout",
     "output_type": "stream",
     "text": [
      "Fit Chart\n",
      "R^2 = 0.8538\n",
      "Curve Formula: y=0.21909*exp^(-0.15155*(x)\n"
     ]
    },
    {
     "data": {
      "text/plain": "<Figure size 600x600 with 1 Axes>",
      "image/png": "[encoded data removed]"
     },
     "metadata": {},
     "output_type": "display_data"
    }
   ],
   "source": [
    "# Provides plots and estimates\n",
    "print('Fit Chart')\n",
    "a, b = output(x, y, p0)"
   ],
   "metadata": {
    "collapsed": false,
    "ExecuteTime": {
     "end_time": "2023-12-15T13:46:28.216191600Z",
     "start_time": "2023-12-15T13:46:28.045849300Z"
    }
   }
  }
 ]
}
