{
 "nbformat": 4,
 "nbformat_minor": 0,
 "metadata": {
  "kernelspec": {
   "name": "python3",
   "language": "python",
   "display_name": "Python 3 (ipykernel)"
  },
  "language_info": {
   "codemirror_mode": {
    "name": "ipython",
    "version": 2
   },
   "file_extension": ".py",
   "mimetype": "text/x-python",
   "name": "python",
   "nbconvert_exporter": "python",
   "pygments_lexer": "ipython2",
   "version": "2.7.6"
  },
  "colab": {
   "name": "Redemption Curves.ipynb",
   "provenance": []
  }
 },
 "cells": [
  {
   "cell_type": "markdown",
   "metadata": {
    "id": "VOJy_xw2RV9-"
   },
   "source": [
    "## Redemption Decay Functions for Reconciliation Estimation"
   ]
  },
  {
   "cell_type": "markdown",
   "source": [
    "DATASET CONSTRUCTION INFORMATION\n"
   ],
   "metadata": {
    "collapsed": false
   }
  },
  {
   "cell_type": "markdown",
   "source": [
    "This file describes the creation of the initial dataset used to model coupon redemption for Bayer.\n",
    "Monthly finance reports were provided by Bayer. Each report contained a list of coupons, issue dates,\n",
    "and redemption numbers. The reports were combined into one large dataset. Only coupons with data\n",
    "greater than 30 days since issue were included. Three variables, two final and one intermediate, were created.\n",
    "\n",
    "1. Sum_PERIOD-QTY: contained the sum total of redemptions for each coupon for all periods.\n",
    "2. Total_Dist_Percent: each period's redemption per coupon divided by the Sum-Period-QTY.\n",
    "3. Days_Since_Issue: calculated the number of days since coupon issue.\n",
    "\n",
    "Variables 2 and 3 were used in the Python program.\n",
    "\n",
    "NOTE: the data provided was monthly. This prevented modeling the first few weeks of any given coupon, meaning coupon forecasting\n",
    "is only possible after 30 days. Also, after filtering criteria, some coupon types did not have enough samples for accurate modeling,\n",
    "and were either grouped together by similarity or defaulted to Budget Cost Life."
   ],
   "metadata": {
    "collapsed": false
   }
  },
  {
   "cell_type": "code",
   "execution_count": 21,
   "outputs": [],
   "source": [
    "import matplotlib.pyplot as plt\n",
    "import numpy as np\n",
    "import pandas as pd\n",
    "import os\n",
    "from scipy.optimize import curve_fit as cf\n",
    "from datetime import date"
   ],
   "metadata": {
    "collapsed": false
   }
  },
  {
   "cell_type": "code",
   "execution_count": 2,
   "outputs": [],
   "source": [
    "def func(x, a, b):\n",
    "    \"\"\"\n",
    "    This function defines the formula\n",
    "    That we are optimizing, note that since\n",
    "    The exponential function (non-normalized)\n",
    "    \"Has two parameters\" of interest\n",
    "    :param x: Percentage completed redemption in one period\n",
    "    :param a: constant coefficient\n",
    "    :param b: coefficient for x in the exponent of e\n",
    "    :return: returns a and b, the best estimates for the curve\n",
    "    \"\"\"\n",
    "    return a * np.exp(-b * (x))"
   ],
   "metadata": {
    "collapsed": false
   }
  },
  {
   "cell_type": "code",
   "execution_count": 3,
   "outputs": [],
   "source": [
    "def r_squared(x, y, a, b):\n",
    "    \"\"\"\n",
    "    Calculates r-squared, accurate for fitting best fit line\n",
    "    :param x: x observations\n",
    "    :param y: y observations\n",
    "    :param a: coefficient estimate returned from func\n",
    "    :param b: coefficient estimate returned from func\n",
    "    :return: r-squared calculation and printout\n",
    "    \"\"\"\n",
    "    res = y - func(x, a, b)\n",
    "    ss_r = np.sum(res ** 2)\n",
    "    ss_tot = np.sum((y - np.mean(y) ** 2))\n",
    "    r_sq = np.round((1 - (ss_r / ss_tot)), 4)\n",
    "    print(f'R^2 = {r_sq}')\n",
    "    print(f'Curve Formula: y={a}*exp^(-{b}*(x)')"
   ],
   "metadata": {
    "collapsed": false
   }
  },
  {
   "cell_type": "code",
   "execution_count": 4,
   "outputs": [],
   "source": [
    "def plot_curve(x, y, a, b):\n",
    "    \"\"\"\n",
    "    Converts the existing x and y data and the\n",
    "    best fit curve parameters a and b to create\n",
    "    a plot\n",
    "    :param x:\n",
    "    :param y:\n",
    "    :param a:\n",
    "    :param b:\n",
    "    :return:\n",
    "    \"\"\"\n",
    "    x_est = np.arange(min(x), max(x))\n",
    "    y_curve = a*np.exp(-b*x_est)\n",
    "    plt.figure(figsize=(8,8))\n",
    "    plt.scatter(x, y, s=12)\n",
    "    plt.plot(x_est, y_curve, '--', color='red')\n",
    "    plt.show()"
   ],
   "metadata": {
    "collapsed": false
   }
  },
  {
   "cell_type": "code",
   "execution_count": 5,
   "outputs": [],
   "source": [
    "def output(x, y, p0):\n",
    "    \"\"\"\n",
    "    This combines all the functions and\n",
    "    creates the plot, formula for estimates\n",
    "    and r-squared\n",
    "    :param x: x data\n",
    "    :param y: y data\n",
    "    :param p0: interval in which the curve-fitting\n",
    "    function begins its search\n",
    "    :return: plot of data against estimate, model formula\n",
    "    estimate, and r-squared\n",
    "    \"\"\"\n",
    "    popt, pcov = cf(func, x, y, p0)\n",
    "    a = np.round(popt[0], 5)\n",
    "    b = np.round(popt[1], 5)\n",
    "    r_squared(x, y, a, b)\n",
    "    plot_curve(x, y, a, b)\n",
    "    return a, b"
   ],
   "metadata": {
    "collapsed": false
   }
  },
  {
   "cell_type": "markdown",
   "source": [
    "#### Creation of file for Curve Formula\n",
    "1. Read in the financial data (either monthly or weekly)\n",
    "2. Calculate the Time Since Issue separately (it will be different for every report)\n",
    "3. Append all reports\n",
    "4. Drop all observations with start dates before the issuance of the first report and after the last\n",
    "5. Using the last cumulative redemption count, divide the observation from each report by number\n",
    "6. Subtract each reports percentage from 1 to get y-axis values\n",
    "7. Visualize days since issue on the x-axis and the percentage on the y-axis\n",
    "8. This scatter plot, separated by offer type, is what the curve fitting portion fits to"
   ],
   "metadata": {
    "collapsed": false
   }
  },
  {
   "cell_type": "code",
   "execution_count": 6,
   "outputs": [],
   "source": [
    "os.chdir('C:/Users/norri/DataspellProjects/mercury-ds/attribution/Bayer/')"
   ],
   "metadata": {
    "collapsed": false
   }
  },
  {
   "cell_type": "code",
   "execution_count": 132,
   "outputs": [],
   "source": [
    "report_0121 = pd.read_excel('Finance Total Report 2021-1.xlsx')\n",
    "report_0221 = pd.read_excel('Finance Total Report 2021-2.xlsx')\n",
    "report_0321 = pd.read_excel('Finance Total Report 2021-3.xlsx')\n",
    "report_0421 = pd.read_excel('Finance Total Report 2021-4.xlsx')\n",
    "report_0521 = pd.read_excel('Finance Total Report 2021-5.xlsx')\n",
    "report_0621 = pd.read_excel('Finance Total Report 2021-6.xlsx')"
   ],
   "metadata": {
    "collapsed": false
   }
  },
  {
   "cell_type": "code",
   "execution_count": 133,
   "outputs": [],
   "source": [
    "report_0121 = report_0121[report_0121['ISSUE DATE'] != '00/00/0000']\n",
    "report_0121['Report_Date'] = date(2021, 1, 31)\n",
    "report_0121['Time_Since_Issue'] = (report_0121['Report_Date'] - pd.to_datetime(report_0121['ISSUE DATE']).dt.date).dt.days"
   ],
   "metadata": {
    "collapsed": false
   }
  },
  {
   "cell_type": "code",
   "execution_count": 134,
   "outputs": [],
   "source": [
    "report_0221 = report_0221[report_0221['ISSUE DATE'] != '00/00/0000']\n",
    "report_0221['Report_Date'] = date(2021, 2, 28)\n",
    "report_0221['Time_Since_Issue'] = (report_0221['Report_Date'] - pd.to_datetime(report_0221['ISSUE DATE']).dt.date).dt.days"
   ],
   "metadata": {
    "collapsed": false
   }
  },
  {
   "cell_type": "code",
   "execution_count": 135,
   "outputs": [],
   "source": [
    "report_0321 = report_0321[report_0321['ISSUE DATE'] != '00/00/0000']\n",
    "report_0321['Report_Date'] = date(2021, 3, 31)\n",
    "report_0321['Time_Since_Issue'] = (report_0321['Report_Date'] - pd.to_datetime(report_0321['ISSUE DATE']).dt.date).dt.days"
   ],
   "metadata": {
    "collapsed": false
   }
  },
  {
   "cell_type": "code",
   "execution_count": 136,
   "outputs": [],
   "source": [
    "report_0421 = report_0421[report_0421['ISSUE DATE'] != '00/00/0000']\n",
    "report_0421['Report_Date'] = date(2021, 4, 30)\n",
    "report_0421['Time_Since_Issue'] = (report_0421['Report_Date'] - pd.to_datetime(report_0421['ISSUE DATE']).dt.date).dt.days"
   ],
   "metadata": {
    "collapsed": false
   }
  },
  {
   "cell_type": "code",
   "execution_count": 137,
   "outputs": [],
   "source": [
    "report_0521 = report_0521[report_0521['ISSUE DATE'] != '00/00/0000']\n",
    "report_0521['Report_Date'] = date(2021, 5, 31)\n",
    "report_0521['Time_Since_Issue'] = (report_0521['Report_Date'] - pd.to_datetime(report_0521['ISSUE DATE']).dt.date).dt.days"
   ],
   "metadata": {
    "collapsed": false
   }
  },
  {
   "cell_type": "code",
   "execution_count": 138,
   "outputs": [],
   "source": [
    "report_0621 = report_0621[report_0621['ISSUE DATE'] != '00/00/0000']\n",
    "report_0621['Report_Date'] = date(2021, 6, 30)\n",
    "report_0621['Time_Since_Issue'] = (report_0621['Report_Date'] - pd.to_datetime(report_0621['ISSUE DATE']).dt.date).dt.days"
   ],
   "metadata": {
    "collapsed": false
   }
  },
  {
   "cell_type": "code",
   "execution_count": 139,
   "outputs": [],
   "source": [
    "reports = pd.concat([report_0121,report_0221,report_0321,report_0421,report_0521,report_0621])"
   ],
   "metadata": {
    "collapsed": false
   }
  },
  {
   "cell_type": "code",
   "execution_count": 141,
   "outputs": [],
   "source": [
    "start_date = date(2021, 1, 1)\n",
    "end_date = date(2021, 6, 30)"
   ],
   "metadata": {
    "collapsed": false
   }
  },
  {
   "cell_type": "code",
   "execution_count": 143,
   "outputs": [],
   "source": [
    "reports = reports[['OFFER CODE', 'ISSUE DATE', 'EXPIRATION DATE',\n",
    "                           'MEDIA LONG DESCRIPTION', 'CUM QTY', 'Time_Since_Issue']]"
   ],
   "metadata": {
    "collapsed": false
   }
  },
  {
   "cell_type": "code",
   "execution_count": 152,
   "outputs": [],
   "source": [
    "reports = reports[reports['EXPIRATION DATE'] != 'NONE']\n",
    "reports = reports[reports['EXPIRATION DATE'] != '00/00/0000']\n",
    "reports['ISSUE DATE'] = pd.to_datetime(reports['ISSUE DATE']).dt.date\n",
    "reports['EXPIRATION DATE'] = pd.to_datetime(reports['EXPIRATION DATE']).dt.date\n",
    "reports = reports[reports['ISSUE DATE'] > start_date]\n",
    "reports = reports[reports['EXPIRATION DATE'] < end_date]\n",
    "reports = reports[reports['CUM QTY'] > 0]"
   ],
   "metadata": {
    "collapsed": false
   }
  },
  {
   "cell_type": "code",
   "execution_count": 154,
   "outputs": [
    {
     "name": "stdout",
     "output_type": "stream",
     "text": [
      "DIRECT MAIL ENVELOPE TYPE     417\n",
      "SUNDAY FSI                    408\n",
      "PAPERLESS                     317\n",
      "PAPERLESS + PRINT AT HOME     136\n",
      "HANDOUT CHECKOUT               89\n",
      "DIRECT MAIL CO-OP               5\n",
      "Name: MEDIA LONG DESCRIPTION, dtype: int64\n"
     ]
    },
    {
     "data": {
      "text/plain": "       OFFER CODE  ISSUE DATE EXPIRATION DATE      MEDIA LONG DESCRIPTION  \\\n9576        21395  2021-03-19      2021-05-30  DIRECT MAIL ENVELOPE TYPE    \n9576        21395  2021-03-19      2021-05-30  DIRECT MAIL ENVELOPE TYPE    \n9576        21395  2021-03-19      2021-05-30  DIRECT MAIL ENVELOPE TYPE    \n9606        21396  2021-01-08      2021-02-07  DIRECT MAIL ENVELOPE TYPE    \n9577        21396  2021-01-08      2021-02-07  DIRECT MAIL ENVELOPE TYPE    \n...           ...         ...             ...                         ...   \n10703       60825  2021-04-19      2021-05-01  PAPERLESS + PRINT AT HOME    \n10739       60825  2021-04-19      2021-05-01  PAPERLESS + PRINT AT HOME    \n10832       60825  2021-04-19      2021-05-01  PAPERLESS + PRINT AT HOME    \n10740       60826  2021-05-02      2021-05-22  PAPERLESS + PRINT AT HOME    \n10833       60826  2021-05-02      2021-05-22  PAPERLESS + PRINT AT HOME    \n\n       CUM QTY  Time_Since_Issue  Offer_Count  \n9576      1774                42            3  \n9576      3033                73            3  \n9576      4520               103            3  \n9606        84                23            6  \n9577      6368                51            6  \n...        ...               ...          ...  \n10703        1                11            3  \n10739      498                42            3  \n10832      526                72            3  \n10740     1295                29            2  \n10833     2283                59            2  \n\n[1372 rows x 7 columns]",
      "text/html": "<div>\n<style scoped>\n    .dataframe tbody tr th:only-of-type {\n        vertical-align: middle;\n    }\n\n    .dataframe tbody tr th {\n        vertical-align: top;\n    }\n\n    .dataframe thead th {\n        text-align: right;\n    }\n</style>\n<table border=\"1\" class=\"dataframe\">\n  <thead>\n    <tr style=\"text-align: right;\">\n      <th></th>\n      <th>OFFER CODE</th>\n      <th>ISSUE DATE</th>\n      <th>EXPIRATION DATE</th>\n      <th>MEDIA LONG DESCRIPTION</th>\n      <th>CUM QTY</th>\n      <th>Time_Since_Issue</th>\n      <th>Offer_Count</th>\n    </tr>\n  </thead>\n  <tbody>\n    <tr>\n      <th>9576</th>\n      <td>21395</td>\n      <td>2021-03-19</td>\n      <td>2021-05-30</td>\n      <td>DIRECT MAIL ENVELOPE TYPE</td>\n      <td>1774</td>\n      <td>42</td>\n      <td>3</td>\n    </tr>\n    <tr>\n      <th>9576</th>\n      <td>21395</td>\n      <td>2021-03-19</td>\n      <td>2021-05-30</td>\n      <td>DIRECT MAIL ENVELOPE TYPE</td>\n      <td>3033</td>\n      <td>73</td>\n      <td>3</td>\n    </tr>\n    <tr>\n      <th>9576</th>\n      <td>21395</td>\n      <td>2021-03-19</td>\n      <td>2021-05-30</td>\n      <td>DIRECT MAIL ENVELOPE TYPE</td>\n      <td>4520</td>\n      <td>103</td>\n      <td>3</td>\n    </tr>\n    <tr>\n      <th>9606</th>\n      <td>21396</td>\n      <td>2021-01-08</td>\n      <td>2021-02-07</td>\n      <td>DIRECT MAIL ENVELOPE TYPE</td>\n      <td>84</td>\n      <td>23</td>\n      <td>6</td>\n    </tr>\n    <tr>\n      <th>9577</th>\n      <td>21396</td>\n      <td>2021-01-08</td>\n      <td>2021-02-07</td>\n      <td>DIRECT MAIL ENVELOPE TYPE</td>\n      <td>6368</td>\n      <td>51</td>\n      <td>6</td>\n    </tr>\n    <tr>\n      <th>...</th>\n      <td>...</td>\n      <td>...</td>\n      <td>...</td>\n      <td>...</td>\n      <td>...</td>\n      <td>...</td>\n      <td>...</td>\n    </tr>\n    <tr>\n      <th>10703</th>\n      <td>60825</td>\n      <td>2021-04-19</td>\n      <td>2021-05-01</td>\n      <td>PAPERLESS + PRINT AT HOME</td>\n      <td>1</td>\n      <td>11</td>\n      <td>3</td>\n    </tr>\n    <tr>\n      <th>10739</th>\n      <td>60825</td>\n      <td>2021-04-19</td>\n      <td>2021-05-01</td>\n      <td>PAPERLESS + PRINT AT HOME</td>\n      <td>498</td>\n      <td>42</td>\n      <td>3</td>\n    </tr>\n    <tr>\n      <th>10832</th>\n      <td>60825</td>\n      <td>2021-04-19</td>\n      <td>2021-05-01</td>\n      <td>PAPERLESS + PRINT AT HOME</td>\n      <td>526</td>\n      <td>72</td>\n      <td>3</td>\n    </tr>\n    <tr>\n      <th>10740</th>\n      <td>60826</td>\n      <td>2021-05-02</td>\n      <td>2021-05-22</td>\n      <td>PAPERLESS + PRINT AT HOME</td>\n      <td>1295</td>\n      <td>29</td>\n      <td>2</td>\n    </tr>\n    <tr>\n      <th>10833</th>\n      <td>60826</td>\n      <td>2021-05-02</td>\n      <td>2021-05-22</td>\n      <td>PAPERLESS + PRINT AT HOME</td>\n      <td>2283</td>\n      <td>59</td>\n      <td>2</td>\n    </tr>\n  </tbody>\n</table>\n<p>1372 rows × 7 columns</p>\n</div>"
     },
     "execution_count": 154,
     "metadata": {},
     "output_type": "execute_result"
    }
   ],
   "source": [
    "reports['Offer_Count'] = reports.groupby('OFFER CODE')['OFFER CODE'].transform('count')\n",
    "reports.sort_values(by=['OFFER CODE', 'CUM QTY'])"
   ],
   "metadata": {
    "collapsed": false
   }
  },
  {
   "cell_type": "code",
   "execution_count": 0,
   "outputs": [],
   "source": [
    "reports['QTY_MAX'] = reports.groupby('OFFER CODE')['CUM QTY'].transform(max)\n",
    "reports['Total_Dist_Percent'] = 1 - reports['CUM QTY'] / reports ['QTY_MAX']"
   ],
   "metadata": {
    "collapsed": false
   }
  },
  {
   "cell_type": "code",
   "execution_count": 0,
   "outputs": [],
   "source": [
    "reports = reports[['Time_Since_Issue', 'MEDIA LONG DESCRIPTION', 'Total_Dist_Percent']]"
   ],
   "metadata": {
    "collapsed": false
   }
  },
  {
   "cell_type": "code",
   "execution_count": 187,
   "outputs": [],
   "source": [
    "reports = reports.rename(columns={'MEDIA LONG DESCRIPTION': 'Media_Type'})"
   ],
   "metadata": {
    "collapsed": false
   }
  },
  {
   "cell_type": "code",
   "execution_count": 185,
   "outputs": [
    {
     "data": {
      "text/plain": "<matplotlib.collections.PathCollection at 0x205592ff760>"
     },
     "execution_count": 185,
     "metadata": {},
     "output_type": "execute_result"
    },
    {
     "data": {
      "text/plain": "<Figure size 432x288 with 1 Axes>",
      "image/png": "[encoded data removed]"
     },
     "metadata": {
      "needs_background": "light"
     },
     "output_type": "display_data"
    }
   ],
   "source": [
    "x = reports['Time_Since_Issue']\n",
    "y = reports['Total_Dist_Percent']\n",
    "plt.scatter(x, y)"
   ],
   "metadata": {
    "collapsed": false
   }
  },
  {
   "cell_type": "markdown",
   "source": [
    "By stacking each month's coupon redemption data, you will be able to generate a formula\n",
    "that will tell you what percentage of the total coupon redemption\n",
    "remains, and therefore how much more money should be allocated to said coupon"
   ],
   "metadata": {
    "collapsed": false
   }
  },
  {
   "cell_type": "code",
   "execution_count": 7,
   "outputs": [
    {
     "name": "stdout",
     "output_type": "stream",
     "text": [
      "Time_Since_Issue      232\n",
      "Media_Type             20\n",
      "Total_Dist_Percent    380\n",
      "dtype: int64\n",
      "Sunday Fsi                             1098\n",
      "Paperless + Print At Home               200\n",
      "Handout Checkout                        152\n",
      "Paperless                                94\n",
      "Handout In-Store Tearpad                 90\n",
      "Handout From A Medical Location          87\n",
      "Print At Home                            65\n",
      "Handout Shelf Dispenser                  47\n",
      "Handout In-Store                         31\n",
      "In-Pack                                  22\n",
      "Direct Mail                              13\n",
      "Instant On-Pack Factory Applied          13\n",
      "Handout With Sample                      12\n",
      "On-Pack                                  12\n",
      "Miscellaneous Media                      10\n",
      "Paperless + Print At Home + Handout       6\n",
      "Direct Mail Solo                          6\n",
      "Handout In-Store Display                  4\n",
      "Handout                                   2\n",
      "Instant On-Pack                           1\n",
      "Name: Media_Type, dtype: int64\n"
     ]
    }
   ],
   "source": [
    "# Load Bayer Curves\n",
    "# Data has media type to break into appropriate groups and run curves\n",
    "\n",
    "all_coupons = pd.read_csv('/home/matt/DataspellProjects/mercury-ds/attribution/Bayer/bayer_curves.csv')\n",
    "p0 = [1.0, .05]\n",
    "print(all_coupons.nunique())\n",
    "print(all_coupons['Media_Type'].value_counts())"
   ],
   "metadata": {
    "collapsed": false
   }
  },
  {
   "cell_type": "code",
   "execution_count": null,
   "outputs": [],
   "source": [
    "#Sunday FSI Curve, creates subset based on media type (or coupon type)\n",
    "sun_fsi = all_coupons[all_coupons[\"Media_Type\"] == \"Sunday Fsi\"]\n",
    "np_sun_fsi = sun_fsi[['Time_Since_Issue', 'Total_Dist_Percent']].to_numpy(dtype=float)\n",
    "\n",
    "# Takes the subset by media type and reduces it into a numpy array\n",
    "# containing the Time Since Issue and Total Distribution Percent data\n",
    "x = np_sun_fsi[:, 0]\n",
    "y = np_sun_fsi[:, 1]\n",
    "\n",
    "# Provides plots and estimates\n",
    "print('Sunday FSI R^2 & Fit Chart')\n",
    "a, b = output(x, y, p0)"
   ],
   "metadata": {
    "collapsed": false
   }
  },
  {
   "cell_type": "code",
   "execution_count": null,
   "outputs": [],
   "source": [
    "#@title\n",
    "# Paperless Curve\n",
    "paperless = all_coupons[all_coupons[\"Media_Type\"] == \"Paperless\"]\n",
    "np_paperless = paperless[['Time_Since_Issue',\n",
    "                          'Total_Dist_Percent']].to_numpy(dtype=float)\n",
    "\n",
    "x = np_paperless[:, 0]\n",
    "y = np_paperless[:, 1]\n",
    "\n",
    "print('Paperless R^2 & Fit Chart')\n",
    "a, b = output(x, y, p0)"
   ],
   "metadata": {
    "collapsed": false
   }
  },
  {
   "cell_type": "code",
   "execution_count": null,
   "outputs": [],
   "source": [
    "#@title\n",
    "# Paperless + Print At Home, Print at Home, Paperless + Print at Home Curve\n",
    "\n",
    "paper_print = all_coupons[all_coupons[\"Media_Type\"].isin([\"Paperless + Print at Home\",\n",
    "                                                          \"Print At Home\",\n",
    "                                                          \"Paperless + Print at Home + Handout\"])]\n",
    "\n",
    "np_paper_print = paper_print[['Time_Since_Issue', 'Total_Dist_Percent']].to_numpy(dtype=float)\n",
    "\n",
    "x = np_paper_print[:, 0]\n",
    "y = np_paper_print[:, 1]\n",
    "\n",
    "print('Paperless + Print Group R^2 & Fit Chart')\n",
    "a, b = output(x, y, p0)"
   ],
   "metadata": {
    "collapsed": false
   }
  },
  {
   "cell_type": "code",
   "execution_count": null,
   "outputs": [],
   "source": [
    "#@title\n",
    "# HANDOUT, HANDOUT IN-STORE, HANDOUT IN-STORE DISPLAY, HANDOUT IN-STORE TEARPAD,\n",
    "# HANDOUT SHELF DISPENSER, HANDOUT WITH SAMPLE, INSTANT ON-PACK,\n",
    "# INSTANT ON-PACK FACTORY APPLIED, ON-PACK\n",
    "\n",
    "handout = all_coupons[all_coupons[\"Media_Type\"].\n",
    "isin([\"Handout\", \"Handout In-Store\",\n",
    "      \"Handout In-Store Display\",\n",
    "      \"Handout In-Store Tearpad\",\n",
    "      \"Handout Shelf Dispenser\",\n",
    "      \"Handout With Samole\", \"Instant On-Pack\",\n",
    "      \"On-Pack\"])]\n",
    "\n",
    "np_handout = handout[['Time_Since_Issue',\n",
    "                      'Total_Dist_Percent']].to_numpy(dtype=float)\n",
    "\n",
    "x = np_handout[:, 0]\n",
    "y = np_handout[:, 1]\n",
    "\n",
    "print('Handout Group R^2 & Fit Chart')\n",
    "a, b = output(x, y, p0)"
   ],
   "metadata": {
    "collapsed": false
   }
  },
  {
   "cell_type": "code",
   "execution_count": null,
   "outputs": [],
   "source": [
    "#@title\n",
    "# All Other: MISCELLANEOUS MEDIA, DIRECT MAIL, DIRECT MAIL SOLO\n",
    "\n",
    "misc = all_coupons[all_coupons[\"Media_Type\"].isin([\"Miscellaneous Media\",\n",
    "                                                    \"Direct Mail Solo\",\n",
    "                                                    \"Direct Mail\"])]\n",
    "\n",
    "np_misc = misc[['Time_Since_Issue',\n",
    "                'Total_Dist_Percent']].to_numpy(dtype=float)\n",
    "\n",
    "x = np_misc[:, 0]\n",
    "y = np_misc[:, 1]\n",
    "\n",
    "print('All Other Group R^2 & Fit Chart')\n",
    "a, b = output(x, y, p0)"
   ],
   "metadata": {
    "collapsed": false
   }
  },
  {
   "cell_type": "code",
   "execution_count": null,
   "outputs": [],
   "source": [],
   "metadata": {
    "collapsed": false
   }
  }
 ]
}
