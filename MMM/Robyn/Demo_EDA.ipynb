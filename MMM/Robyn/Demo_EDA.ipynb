{
 "cells": [
  {
   "cell_type": "code",
   "execution_count": 1,
   "outputs": [],
   "source": [
    "import pandas as pd\n",
    "import numpy as np\n",
    "import dtale\n",
    "# import sweetviz as sv\n",
    "from sklearn.experimental import enable_iterative_imputer\n",
    "from sklearn.impute import IterativeImputer\n",
    "from statsmodels.stats.outliers_influence import variance_inflation_factor\n",
    "import matplotlib.pyplot as plt\n",
    "%matplotlib inline\n",
    "import seaborn as sns"
   ],
   "metadata": {
    "collapsed": false,
    "pycharm": {
     "name": "#%%\n"
    }
   }
  },
  {
   "cell_type": "code",
   "execution_count": 2,
   "outputs": [
    {
     "data": {
      "text/plain": "          DATE   banner_I       blog_I     coupon_I     email_I    social_I  \\\n0   2019-10-05   62836886   11405123.0  183809663.0         NaN   5945479.0   \n1   2019-10-12  120592917   11405123.0  183809663.0         NaN   5945479.0   \n2   2019-10-19  181801495   54811539.0  205679120.0         NaN  14945163.0   \n3   2019-10-26  206085547   59584985.0  214955960.0    456667.0  17167385.0   \n4   2019-11-02  886963849  505839713.0  833886179.0  16856395.0  17167385.0   \n..         ...        ...          ...          ...         ...         ...   \n80  2021-04-17  164301683    3714622.0    7695819.0   2964073.0  15120000.0   \n81  2021-04-24  164301683    3714622.0    7695819.0   2964073.0  15120000.0   \n82  2021-05-01  160411811    3714622.0    4654091.0   2964073.0  15120000.0   \n83  2021-05-08   63853937    3714622.0     413576.0   2964073.0         NaN   \n84  2021-05-15   73609594    9617223.0     413576.0   2964073.0         NaN   \n\n    text_I  website_I  ecom_I   display_I  ...  display_S    event_S  \\\n0      NaN   146664.0     NaN  12600000.0  ...        0.0        NaN   \n1      NaN   146664.0     NaN  12600000.0  ...        0.0        NaN   \n2      NaN   146664.0     NaN  12600000.0  ...        0.0   82116.48   \n3      NaN   146664.0     NaN  12600000.0  ...        0.0  120441.82   \n4      NaN   146664.0     NaN  12600000.0  ...        0.0  206420.41   \n..     ...        ...     ...         ...  ...        ...        ...   \n80     NaN        NaN     NaN   2000000.0  ...        0.0        NaN   \n81     NaN        NaN     NaN   2000000.0  ...        0.0        NaN   \n82     NaN        NaN     NaN   2000000.0  ...        0.0        NaN   \n83     NaN        NaN     NaN   2000000.0  ...        0.0        NaN   \n84     NaN        NaN     NaN   2000000.0  ...        0.0        NaN   \n\n      other_S      post_S  sweepstakes_S     mail_S  radio_S  circular_S  \\\n0         NaN   108489.42       513000.0        NaN      NaN    26955.29   \n1   379997.60   657371.26       513000.0        NaN      NaN    26955.29   \n2   379997.60   664560.05       513000.0        NaN      NaN    26955.29   \n3   415348.35   705420.97       513000.0        NaN      NaN    26955.29   \n4   415348.35  2683025.76       513000.0  1720000.0      NaN    26955.29   \n..        ...         ...            ...        ...      ...         ...   \n80        NaN    74175.34            NaN        NaN      NaN         NaN   \n81        NaN    74175.34            NaN        NaN      NaN         NaN   \n82        NaN    74175.34            NaN        NaN      NaN         NaN   \n83        NaN     9500.00            NaN        NaN      NaN         NaN   \n84   32000.00     9500.00            NaN        NaN      NaN         NaN   \n\n      retailer_S       revenue  \n0   2.772000e+05  8.977483e+07  \n1   7.572986e+05  1.119191e+08  \n2   7.572986e+05  1.106076e+08  \n3   7.653936e+05  1.086742e+08  \n4   2.587007e+06  3.595164e+08  \n..           ...           ...  \n80  1.189420e+08  3.510714e+08  \n81  1.189420e+08  3.277938e+08  \n82  1.193764e+08  3.260223e+08  \n83  1.191789e+08  3.114845e+08  \n84  2.568881e+06  2.397272e+08  \n\n[85 rows x 36 columns]",
      "text/html": "<div>\n<style scoped>\n    .dataframe tbody tr th:only-of-type {\n        vertical-align: middle;\n    }\n\n    .dataframe tbody tr th {\n        vertical-align: top;\n    }\n\n    .dataframe thead th {\n        text-align: right;\n    }\n</style>\n<table border=\"1\" class=\"dataframe\">\n  <thead>\n    <tr style=\"text-align: right;\">\n      <th></th>\n      <th>DATE</th>\n      <th>banner_I</th>\n      <th>blog_I</th>\n      <th>coupon_I</th>\n      <th>email_I</th>\n      <th>social_I</th>\n      <th>text_I</th>\n      <th>website_I</th>\n      <th>ecom_I</th>\n      <th>display_I</th>\n      <th>...</th>\n      <th>display_S</th>\n      <th>event_S</th>\n      <th>other_S</th>\n      <th>post_S</th>\n      <th>sweepstakes_S</th>\n      <th>mail_S</th>\n      <th>radio_S</th>\n      <th>circular_S</th>\n      <th>retailer_S</th>\n      <th>revenue</th>\n    </tr>\n  </thead>\n  <tbody>\n    <tr>\n      <th>0</th>\n      <td>2019-10-05</td>\n      <td>62836886</td>\n      <td>11405123.0</td>\n      <td>183809663.0</td>\n      <td>NaN</td>\n      <td>5945479.0</td>\n      <td>NaN</td>\n      <td>146664.0</td>\n      <td>NaN</td>\n      <td>12600000.0</td>\n      <td>...</td>\n      <td>0.0</td>\n      <td>NaN</td>\n      <td>NaN</td>\n      <td>108489.42</td>\n      <td>513000.0</td>\n      <td>NaN</td>\n      <td>NaN</td>\n      <td>26955.29</td>\n      <td>2.772000e+05</td>\n      <td>8.977483e+07</td>\n    </tr>\n    <tr>\n      <th>1</th>\n      <td>2019-10-12</td>\n      <td>120592917</td>\n      <td>11405123.0</td>\n      <td>183809663.0</td>\n      <td>NaN</td>\n      <td>5945479.0</td>\n      <td>NaN</td>\n      <td>146664.0</td>\n      <td>NaN</td>\n      <td>12600000.0</td>\n      <td>...</td>\n      <td>0.0</td>\n      <td>NaN</td>\n      <td>379997.60</td>\n      <td>657371.26</td>\n      <td>513000.0</td>\n      <td>NaN</td>\n      <td>NaN</td>\n      <td>26955.29</td>\n      <td>7.572986e+05</td>\n      <td>1.119191e+08</td>\n    </tr>\n    <tr>\n      <th>2</th>\n      <td>2019-10-19</td>\n      <td>181801495</td>\n      <td>54811539.0</td>\n      <td>205679120.0</td>\n      <td>NaN</td>\n      <td>14945163.0</td>\n      <td>NaN</td>\n      <td>146664.0</td>\n      <td>NaN</td>\n      <td>12600000.0</td>\n      <td>...</td>\n      <td>0.0</td>\n      <td>82116.48</td>\n      <td>379997.60</td>\n      <td>664560.05</td>\n      <td>513000.0</td>\n      <td>NaN</td>\n      <td>NaN</td>\n      <td>26955.29</td>\n      <td>7.572986e+05</td>\n      <td>1.106076e+08</td>\n    </tr>\n    <tr>\n      <th>3</th>\n      <td>2019-10-26</td>\n      <td>206085547</td>\n      <td>59584985.0</td>\n      <td>214955960.0</td>\n      <td>456667.0</td>\n      <td>17167385.0</td>\n      <td>NaN</td>\n      <td>146664.0</td>\n      <td>NaN</td>\n      <td>12600000.0</td>\n      <td>...</td>\n      <td>0.0</td>\n      <td>120441.82</td>\n      <td>415348.35</td>\n      <td>705420.97</td>\n      <td>513000.0</td>\n      <td>NaN</td>\n      <td>NaN</td>\n      <td>26955.29</td>\n      <td>7.653936e+05</td>\n      <td>1.086742e+08</td>\n    </tr>\n    <tr>\n      <th>4</th>\n      <td>2019-11-02</td>\n      <td>886963849</td>\n      <td>505839713.0</td>\n      <td>833886179.0</td>\n      <td>16856395.0</td>\n      <td>17167385.0</td>\n      <td>NaN</td>\n      <td>146664.0</td>\n      <td>NaN</td>\n      <td>12600000.0</td>\n      <td>...</td>\n      <td>0.0</td>\n      <td>206420.41</td>\n      <td>415348.35</td>\n      <td>2683025.76</td>\n      <td>513000.0</td>\n      <td>1720000.0</td>\n      <td>NaN</td>\n      <td>26955.29</td>\n      <td>2.587007e+06</td>\n      <td>3.595164e+08</td>\n    </tr>\n    <tr>\n      <th>...</th>\n      <td>...</td>\n      <td>...</td>\n      <td>...</td>\n      <td>...</td>\n      <td>...</td>\n      <td>...</td>\n      <td>...</td>\n      <td>...</td>\n      <td>...</td>\n      <td>...</td>\n      <td>...</td>\n      <td>...</td>\n      <td>...</td>\n      <td>...</td>\n      <td>...</td>\n      <td>...</td>\n      <td>...</td>\n      <td>...</td>\n      <td>...</td>\n      <td>...</td>\n      <td>...</td>\n    </tr>\n    <tr>\n      <th>80</th>\n      <td>2021-04-17</td>\n      <td>164301683</td>\n      <td>3714622.0</td>\n      <td>7695819.0</td>\n      <td>2964073.0</td>\n      <td>15120000.0</td>\n      <td>NaN</td>\n      <td>NaN</td>\n      <td>NaN</td>\n      <td>2000000.0</td>\n      <td>...</td>\n      <td>0.0</td>\n      <td>NaN</td>\n      <td>NaN</td>\n      <td>74175.34</td>\n      <td>NaN</td>\n      <td>NaN</td>\n      <td>NaN</td>\n      <td>NaN</td>\n      <td>1.189420e+08</td>\n      <td>3.510714e+08</td>\n    </tr>\n    <tr>\n      <th>81</th>\n      <td>2021-04-24</td>\n      <td>164301683</td>\n      <td>3714622.0</td>\n      <td>7695819.0</td>\n      <td>2964073.0</td>\n      <td>15120000.0</td>\n      <td>NaN</td>\n      <td>NaN</td>\n      <td>NaN</td>\n      <td>2000000.0</td>\n      <td>...</td>\n      <td>0.0</td>\n      <td>NaN</td>\n      <td>NaN</td>\n      <td>74175.34</td>\n      <td>NaN</td>\n      <td>NaN</td>\n      <td>NaN</td>\n      <td>NaN</td>\n      <td>1.189420e+08</td>\n      <td>3.277938e+08</td>\n    </tr>\n    <tr>\n      <th>82</th>\n      <td>2021-05-01</td>\n      <td>160411811</td>\n      <td>3714622.0</td>\n      <td>4654091.0</td>\n      <td>2964073.0</td>\n      <td>15120000.0</td>\n      <td>NaN</td>\n      <td>NaN</td>\n      <td>NaN</td>\n      <td>2000000.0</td>\n      <td>...</td>\n      <td>0.0</td>\n      <td>NaN</td>\n      <td>NaN</td>\n      <td>74175.34</td>\n      <td>NaN</td>\n      <td>NaN</td>\n      <td>NaN</td>\n      <td>NaN</td>\n      <td>1.193764e+08</td>\n      <td>3.260223e+08</td>\n    </tr>\n    <tr>\n      <th>83</th>\n      <td>2021-05-08</td>\n      <td>63853937</td>\n      <td>3714622.0</td>\n      <td>413576.0</td>\n      <td>2964073.0</td>\n      <td>NaN</td>\n      <td>NaN</td>\n      <td>NaN</td>\n      <td>NaN</td>\n      <td>2000000.0</td>\n      <td>...</td>\n      <td>0.0</td>\n      <td>NaN</td>\n      <td>NaN</td>\n      <td>9500.00</td>\n      <td>NaN</td>\n      <td>NaN</td>\n      <td>NaN</td>\n      <td>NaN</td>\n      <td>1.191789e+08</td>\n      <td>3.114845e+08</td>\n    </tr>\n    <tr>\n      <th>84</th>\n      <td>2021-05-15</td>\n      <td>73609594</td>\n      <td>9617223.0</td>\n      <td>413576.0</td>\n      <td>2964073.0</td>\n      <td>NaN</td>\n      <td>NaN</td>\n      <td>NaN</td>\n      <td>NaN</td>\n      <td>2000000.0</td>\n      <td>...</td>\n      <td>0.0</td>\n      <td>NaN</td>\n      <td>32000.00</td>\n      <td>9500.00</td>\n      <td>NaN</td>\n      <td>NaN</td>\n      <td>NaN</td>\n      <td>NaN</td>\n      <td>2.568881e+06</td>\n      <td>2.397272e+08</td>\n    </tr>\n  </tbody>\n</table>\n<p>85 rows × 36 columns</p>\n</div>"
     },
     "execution_count": 2,
     "metadata": {},
     "output_type": "execute_result"
    }
   ],
   "source": [
    "df = pd.read_csv('G:/My Drive/IN/Data/Robyn/robyn_update.csv')\n",
    "df.round(2)"
   ],
   "metadata": {
    "collapsed": false,
    "pycharm": {
     "name": "#%%\n"
    }
   }
  },
  {
   "cell_type": "code",
   "execution_count": 3,
   "outputs": [],
   "source": [
    "# dtale.show(df) # there are quite a few more correlated variables with revenue, but nothing much about .5."
   ],
   "metadata": {
    "collapsed": false,
    "pycharm": {
     "name": "#%%\n"
    }
   }
  },
  {
   "cell_type": "markdown",
   "source": [
    "To give you a better impression of how much missing data there is, I provided the actual missing values, out of 146, the percentage of missing values, and the average of the percentage missing."
   ],
   "metadata": {
    "collapsed": false,
    "pycharm": {
     "name": "#%% md\n"
    }
   }
  },
  {
   "cell_type": "code",
   "execution_count": 4,
   "outputs": [
    {
     "name": "stdout",
     "output_type": "stream",
     "text": [
      "DATE              0\n",
      "banner_I          0\n",
      "blog_I            2\n",
      "coupon_I          7\n",
      "email_I          16\n",
      "social_I         10\n",
      "text_I           67\n",
      "website_I        49\n",
      "ecom_I           71\n",
      "display_I         8\n",
      "event_I          32\n",
      "other_I          30\n",
      "post_I            0\n",
      "sweepstakes_I    80\n",
      "mail_I           50\n",
      "radio_I          60\n",
      "circular_I       10\n",
      "retailer_I        0\n",
      "banner_S          0\n",
      "blog_S            2\n",
      "coupon_S          7\n",
      "email_S          16\n",
      "social_S         10\n",
      "text_S           67\n",
      "website_S        49\n",
      "ecom_S           71\n",
      "display_S         8\n",
      "event_S          32\n",
      "other_S          30\n",
      "post_S            0\n",
      "sweepstakes_S    80\n",
      "mail_S           50\n",
      "radio_S          60\n",
      "circular_S       10\n",
      "retailer_S        0\n",
      "revenue           0\n",
      "dtype: int64\n",
      "27.333333333333332\n"
     ]
    }
   ],
   "source": [
    "missing_values = df.isnull().sum()\n",
    "print(missing_values)\n",
    "print(np.average(missing_values))"
   ],
   "metadata": {
    "collapsed": false,
    "pycharm": {
     "name": "#%%\n"
    }
   }
  },
  {
   "cell_type": "markdown",
   "source": [
    "The average is 27, so any number 28 or above will have to be dropped, along with its matching spend or impressions. Otherwise, it could affect the imputation and therefore the correlation in Roybn prediction."
   ],
   "metadata": {
    "collapsed": false,
    "pycharm": {
     "name": "#%% md\n"
    }
   }
  },
  {
   "cell_type": "code",
   "execution_count": 5,
   "outputs": [],
   "source": [
    "robyn_data = df.drop(['text_I', 'text_S', 'website_I', 'website_S', 'ecom_I', 'ecom_S', 'event_I',\n",
    "                                'event_S', 'sweepstakes_I', 'sweepstakes_S', 'mail_I', 'mail_S', 'radio_I',\n",
    "                                'radio_S', 'text_S', 'text_I', 'other_I', 'other_S'], axis=1)"
   ],
   "metadata": {
    "collapsed": false,
    "pycharm": {
     "name": "#%%\n"
    }
   }
  },
  {
   "cell_type": "markdown",
   "source": [
    "Here I begin the process of imputing missing values. I have to split the date off for this method to work."
   ],
   "metadata": {
    "collapsed": false,
    "pycharm": {
     "name": "#%% md\n"
    }
   }
  },
  {
   "cell_type": "code",
   "execution_count": 6,
   "outputs": [
    {
     "name": "stdout",
     "output_type": "stream",
     "text": [
      "['banner_I', 'blog_I', 'coupon_I', 'email_I', 'social_I', 'display_I', 'post_I', 'circular_I', 'retailer_I', 'banner_S', 'blog_S', 'coupon_S', 'email_S', 'social_S', 'display_S', 'post_S', 'circular_S', 'retailer_S']\n"
     ]
    }
   ],
   "source": [
    "date_split = robyn_data[['DATE', 'revenue']]\n",
    "imp_split = robyn_data.drop(['DATE', 'revenue'], axis=1)\n",
    "col_names = list(imp_split.columns)\n",
    "print(col_names)"
   ],
   "metadata": {
    "collapsed": false,
    "pycharm": {
     "name": "#%%\n"
    }
   }
  },
  {
   "cell_type": "code",
   "execution_count": 7,
   "outputs": [],
   "source": [
    "i_vars = imp_split[['banner_I', 'blog_I', 'coupon_I', 'email_I', 'social_I', 'display_I', 'post_I',\n",
    "                      'circular_I', 'retailer_I']]\n",
    "i_stats = i_vars.describe()"
   ],
   "metadata": {
    "collapsed": false,
    "pycharm": {
     "name": "#%%\n"
    }
   }
  },
  {
   "cell_type": "code",
   "execution_count": 8,
   "outputs": [],
   "source": [
    "# print(i_stats.iloc[4,:])\n",
    "i_mean_25 = i_stats.iloc[4,:].mean()"
   ],
   "metadata": {
    "collapsed": false,
    "pycharm": {
     "name": "#%%\n"
    }
   }
  },
  {
   "cell_type": "code",
   "execution_count": 9,
   "outputs": [],
   "source": [
    "# print(i_stats.iloc[6,:])\n",
    "i_mean_75 = i_stats.iloc[6,:].mean()"
   ],
   "metadata": {
    "collapsed": false,
    "pycharm": {
     "name": "#%%\n"
    }
   }
  },
  {
   "cell_type": "code",
   "execution_count": 10,
   "outputs": [],
   "source": [
    "s_vars = imp_split[['banner_S', 'blog_S', 'coupon_S', 'email_S', 'social_S', 'display_S', 'post_S',\n",
    "                      'circular_S', 'retailer_S']]\n",
    "s_stats = s_vars.describe()"
   ],
   "metadata": {
    "collapsed": false,
    "pycharm": {
     "name": "#%%\n"
    }
   }
  },
  {
   "cell_type": "code",
   "execution_count": 11,
   "outputs": [],
   "source": [
    "# print(s_stats.iloc[4,:])\n",
    "s_mean_25 = s_stats.iloc[4,:].mean()"
   ],
   "metadata": {
    "collapsed": false,
    "pycharm": {
     "name": "#%%\n"
    }
   }
  },
  {
   "cell_type": "code",
   "execution_count": 12,
   "outputs": [],
   "source": [
    "# print(s_stats.iloc[6,:])\n",
    "s_mean_75 = s_stats.iloc[6,:].mean()"
   ],
   "metadata": {
    "collapsed": false,
    "pycharm": {
     "name": "#%%\n"
    }
   }
  },
  {
   "cell_type": "code",
   "execution_count": 13,
   "outputs": [
    {
     "data": {
      "text/plain": "array([[              247331,                90003,               447628,\n        -9223372036854775808,                30000,                    0,\n                      108489,                26955,               277200],\n       [              442966,                90003,               447628,\n        -9223372036854775808,                30000,                    0,\n                      657371,                26955,               757298],\n       [              648786,               339515,               558250,\n        -9223372036854775808,                82633,                    0,\n                      664560,                26955,               757298],\n       [              721169,               370265,               553719,\n                       14500,                94919,                    0,\n                      705420,                26955,               765393],\n       [             4247910,              3872465,              3023477,\n                      894500,                94919,                    0,\n                     2683025,                26955,              2587006],\n       [             4199107,              4517212,              2595977,\n                      894500,                42286, -9223372036854775808,\n                     2295084,                 8000,              1902854],\n       [             4172618,              4572212,              2604232,\n                      894500,                12286,                 1263,\n                     2246199,                    0,              1835138],\n       [             4479393,              4622212,              2604409,\n                      924500,               197149,                 1263,\n                     2793359,                    0,              2629708],\n       [             4479393,              4622212,              2604409,\n                      924500,               197149,                 1263,\n                     2793359,                    0,              2629708],\n       [             4479393,              4655412,              2604409,\n                      924500,               197149,                 1263,\n                     2844502,                    0,              2650557],\n       [             4477685,              4655412,              2611006,\n                      924500,               219862,                 1263,\n                     2803641,                    0,              2695509],\n       [             4485732,              4645412,              2629919,\n                      924500,               219862,                 1263,\n                     2803641,                    0,              2695509],\n       [             4385583,              4571012,              2629919,\n                      910000,               204862,                 1263,\n                     2801452,                    0,              2642462],\n       [             5837291,              5040559,              2622692,\n                     1315000,               197149,                 1263,\n                     3340568,                15000,              3264628],\n       [             2234990,              1031847,               264283,\n                      484599,                12500,                 1263,\n                      754746,                15000,              2392538],\n       [             2474637,              1216447,               292725,\n                      484599,                12500,                 1263,\n                      808789,                15000,              3809849],\n       [             2433340,              1238447,               273812,\n                      484599,                12500,                 1263,\n                      808789,                15000,              4026337],\n       [             2507299,              1238447,               300026,\n                      494599,                12500,                 1263,\n                      897935,                15000,              4119132],\n       [             2471953,              1235977,               292984,\n                      439999,                15000,                    0,\n                      872946,                15000,              3930496],\n       [              790771,               381000,               604152,\n                      194999,                15000,                    0,\n                      670705,                15000,              2554067],\n       [              615771,               341000,               619152,\n                      194999,                15000,                    0,\n                      666807,                15000,              2157572],\n       [              606832,               275638,               609753,\n                      194999,                40000,                    0,\n                      686166,                15000,               652799],\n       [              985640,               375735,               517646,\n                      160000,                25000,                    0,\n                      718115,                    0,               560486],\n       [              686421,               315735,               130779,\n        -9223372036854775808,                25000,                    0,\n                      215088,                    0,               136611],\n       [              630321,               246335,                53779,\n        -9223372036854775808,                25000,                    0,\n                      210088,                    0,               146842],\n       [              511705,               206000,                22565,\n        -9223372036854775808,                25000,                    0,\n                      162924,                    0,               125399],\n       [              468667,               206000, -9223372036854775808,\n        -9223372036854775808,                15000,                    0,\n                      127958,                    0,               105981],\n       [               85660,                35000, -9223372036854775808,\n        -9223372036854775808, -9223372036854775808,                    0,\n                      127958,                    0,                30194],\n       [               85660,                35000, -9223372036854775808,\n        -9223372036854775808, -9223372036854775808,                    0,\n                      127958,                    0,                30194],\n       [               85660,                35000, -9223372036854775808,\n        -9223372036854775808, -9223372036854775808,                    0,\n                      127958,                    0,                30194],\n       [             6535660,               472500, -9223372036854775808,\n                      375000, -9223372036854775808,                    0,\n                      893342,               625000,               755194],\n       [             6535660,               472500, -9223372036854775808,\n                      375000, -9223372036854775808,                    0,\n                      893342,               625000,               755194],\n       [             6535660,               472500, -9223372036854775808,\n                      375000, -9223372036854775808,                    0,\n                      893342,               625000,               755194],\n       [            14620660,               472500,             12314557,\n                      375000, -9223372036854775808,             21070000,\n                      893342,               625000,               935494],\n       [            14620660,              2992500,             12314557,\n                      375000, -9223372036854775808,             21070000,\n                      893342,               625000,              1745494],\n       [            14630649,              2992500,             12314557,\n                      375000,                 5000,             21070000,\n                      893342,               650000,              1745494],\n       [            14690649,              2992500,             12314557,\n                      401000,                37000,             21070000,\n                      953342,               650000,              1791494],\n       [            14983023,              3045294,             12387557,\n                      511000,                37000,             21070000,\n                     1004415,               650000,              2252465],\n       [            14932363,              2607794,             12387557,\n                      511000,                37000,             21070000,\n                      152023,                25000,              2052201],\n       [            48809583,             10339724,             12387557,\n                     4363800,               109500,             21070000,\n                      163862,                25000,             20132680],\n       [            50439583,             13694724,             16843003,\n                     4350300,               114500,             21070000,\n                      139862,                25000,             20184643],\n       [            50689583,             13697724,             16894708,\n                     4471800,               251000,             21070000,\n                      177902,                25000,             20424277],\n       [            66594985,             18195430,             27716208,\n                     4471800,               566000,             21070000,\n                      152464,                25000,             27553926],\n       [            59794685,             18875430,             15401650,\n                     4619300,              1304350, -9223372036854775808,\n                     1170464,              9086380,             27934226],\n       [            59534897,             18863500,             15431650,\n                     4507800,              1192850, -9223372036854775808,\n                     1167124,              9086380,             27687060],\n       [            53154397,             18868500,             15431650,\n                     4159800,              1205350, -9223372036854775808,\n                     1207155,              9086380,             26972560],\n       [            54734397,             18865500,             15431650,\n                     5172300,              2335366,              4050000,\n                     1179155,              9086380,             31786918],\n       [            54099697,             18865500,             15431650,\n                     5172300,              1960366,              4050000,\n                     1179155,              9086380,             31161918],\n       [            54751697,             20386569,             15994575,\n                     5172300,              1960366,              4050000,\n                     1219824,              9086380,             31293708],\n       [            54415332,             20344069,             15724870,\n                     5221800,              1635366,              4050000,\n                      266967,                    0,             29000465],\n       [            52813832,             20349069,             15750392,\n                     4226300,               544850,                    0,\n                      209466,                    0,             26732119],\n       [            52875791,             20349069,             15750392,\n                     4226300,               544850,                    0,\n                      212618,                    0,             26721889],\n       [            56133491,             21049399,             15774412,\n                     4226300,               770533,                    0,\n                      333991,               140000,             26305935],\n       [            38008879,             13176399,               552466,\n                     4161800,               655183,                    0,\n                      206143,               140000,             21206347],\n       [             4215159,              2936399,               567466,\n                      265000,               640183,                    0,\n                      206143,               140000,              2414347],\n       [             3648659,               773399,               103226,\n        -9223372036854775808,               277683,                    0,\n                      215730,               140000,              2301124],\n       [             3551700,               773399,               143445,\n        -9223372036854775808,               277683,                    0,\n                      324298,               140000,              2385472],\n       [              411802,                70000,               107223,\n        -9223372036854775808,               340197, -9223372036854775808,\n                      216810,                    0,              1658433],\n       [             1077053,               160000,               107223,\n                       12500,               704245, -9223372036854775808,\n                      216810,                    0,              1693962],\n       [             1401464,               160000,               144953,\n                      223529,              1075156,                    0,\n                      201810,                    0,              1940193],\n       [             1876464,               160000,               179953,\n                      223529,              2128156,                    0,\n                      169338,                    0,              2680343],\n       [             1982914,               194000,               194203,\n                      230029,              2174406,                    0,\n                      174957,                    0,              2852630],\n       [             1962914,               159000,               180883,\n                      230029,              2174406,                    0,\n                      174957,                    0,              2852630],\n       [             1962914,               159000,               180883,\n                      230029,              2174406,                    0,\n                      174957,                    0,              2852630],\n       [             1922914,               159000,               125665,\n                      230029,              2174406,                    0,\n                      158289,                    0,              2807400],\n       [             7795523,              4382765,              2448830,\n                      731029,              2534406,                    0,\n                     1115874,                    0,             12843228],\n       [             9329790,              4347765,              2443781,\n                      520000,              2879545,                    0,\n                     2539305,                    0,             15505855],\n       [             9667107,              4484565,              2443781,\n                      704920,              2709347,                    0,\n                     2659305,                    0,             15810579],\n       [             9647107,              4450565,              2443781,\n                      698420,              2259347,                    0,\n                     2659305,                    0,             15585579],\n       [             9755107,              4485565,              2443781,\n                      698420,              2259347,                    0,\n                     2759313,                    0,             15676267],\n       [             9070107,              4485565,              2367366,\n                      698420,              2259347,                    0,\n                     2647593,                    0,             10715070],\n       [             7979117,              3608000,              2316638,\n                      698420,              2259347,                    0,\n                     2572063,                    0,             10715070],\n       [             3198000,              2805000,               819775,\n                      513500,              2124347, -9223372036854775808,\n                     2375167,                    0,              9523880],\n       [             1088000,              2805000,               863275,\n                      533000,               930000, -9223372036854775808,\n                      942364,                    0,              9595619],\n       [             1173000,              1110000,               120837,\n                      459500,               325000,                    0,\n                      919432,                    0,            122490712],\n       [              298000,                45000,               120837,\n                       19500,               325000,                    0,\n                       93122, -9223372036854775808,            120859264],\n       [              298000,                20000,                59201,\n                       19500,               325000,                    0,\n                       88154, -9223372036854775808,            120859264],\n       [              278000,                20000,                59201,\n        -9223372036854775808,               305000,                    0,\n                       76404, -9223372036854775808,            120758474],\n       [              808776, -9223372036854775808,               150808,\n        -9223372036854775808,               160000,                    0,\n                       74175, -9223372036854775808,            122899234],\n       [              773776, -9223372036854775808,               150808,\n        -9223372036854775808,               135000,                    0,\n                       74175, -9223372036854775808,            118942034],\n       [              983449,                47000,               150808,\n                       10000,               135000,                    0,\n                       74175, -9223372036854775808,            118942034],\n       [              983449,                47000,               150808,\n                       10000,               135000,                    0,\n                       74175, -9223372036854775808,            118942034],\n       [             1147449,                47000,               221427,\n                       10000,               135000,                    0,\n                       74175, -9223372036854775808,            119376370],\n       [              434673,                47000,               108399,\n                       10000, -9223372036854775808,                    0,\n                        9500, -9223372036854775808,            119178881],\n       [              479673,                97000,               108399,\n                       10000, -9223372036854775808,                    0,\n                        9500, -9223372036854775808,              2568881]],\n      dtype=int64)"
     },
     "execution_count": 13,
     "metadata": {},
     "output_type": "execute_result"
    }
   ],
   "source": [
    "i_vars.to_numpy().astype(np.int64)\n",
    "s_vars.to_numpy().astype(np.int64)"
   ],
   "metadata": {
    "collapsed": false,
    "pycharm": {
     "name": "#%%\n"
    }
   }
  },
  {
   "cell_type": "markdown",
   "source": [
    "IterativeImputer is one of the newest imputation MLs out, and it is very resource intensive. It's imputations are supposed to be excellent, but you can only do so much with so much missing data."
   ],
   "metadata": {
    "collapsed": false,
    "pycharm": {
     "name": "#%% md\n"
    }
   }
  },
  {
   "cell_type": "code",
   "execution_count": 14,
   "outputs": [],
   "source": [
    "i_it_imp = IterativeImputer(random_state=42, max_iter=15, initial_strategy='most_frequent', imputation_order='ascending',\n",
    "                          min_value=i_mean_25, max_value=i_mean_75, verbose=2, sample_posterior=True)"
   ],
   "metadata": {
    "collapsed": false,
    "pycharm": {
     "name": "#%%\n"
    }
   }
  },
  {
   "cell_type": "code",
   "execution_count": 15,
   "outputs": [],
   "source": [
    "s_it_imp = IterativeImputer(random_state=42, max_iter=15, initial_strategy='most_frequent', imputation_order='ascending',\n",
    "                            min_value=s_mean_25, max_value=s_mean_75, verbose=2, sample_posterior=True)"
   ],
   "metadata": {
    "collapsed": false,
    "pycharm": {
     "name": "#%%\n"
    }
   }
  },
  {
   "cell_type": "code",
   "execution_count": 16,
   "outputs": [
    {
     "name": "stdout",
     "output_type": "stream",
     "text": [
      "[IterativeImputer] Completing matrix with shape (85, 9)\n",
      "[IterativeImputer] Ending imputation round 1/15, elapsed time 0.07\n",
      "[IterativeImputer] Ending imputation round 2/15, elapsed time 0.10\n",
      "[IterativeImputer] Ending imputation round 3/15, elapsed time 0.12\n",
      "[IterativeImputer] Ending imputation round 4/15, elapsed time 0.15\n",
      "[IterativeImputer] Ending imputation round 5/15, elapsed time 0.17\n",
      "[IterativeImputer] Ending imputation round 6/15, elapsed time 0.20\n",
      "[IterativeImputer] Ending imputation round 7/15, elapsed time 0.23\n",
      "[IterativeImputer] Ending imputation round 8/15, elapsed time 0.26\n",
      "[IterativeImputer] Ending imputation round 9/15, elapsed time 0.29\n",
      "[IterativeImputer] Ending imputation round 10/15, elapsed time 0.32\n",
      "[IterativeImputer] Ending imputation round 11/15, elapsed time 0.34\n",
      "[IterativeImputer] Ending imputation round 12/15, elapsed time 0.36\n",
      "[IterativeImputer] Ending imputation round 13/15, elapsed time 0.39\n",
      "[IterativeImputer] Ending imputation round 14/15, elapsed time 0.43\n",
      "[IterativeImputer] Ending imputation round 15/15, elapsed time 0.46\n"
     ]
    },
    {
     "data": {
      "text/plain": "IterativeImputer(initial_strategy='most_frequent', max_iter=15,\n                 max_value=4977696830.222222, min_value=89808870.8888889,\n                 random_state=42, sample_posterior=True, verbose=2)"
     },
     "execution_count": 16,
     "metadata": {},
     "output_type": "execute_result"
    }
   ],
   "source": [
    "i_it_imp.fit(i_vars)"
   ],
   "metadata": {
    "collapsed": false,
    "pycharm": {
     "name": "#%%\n"
    }
   }
  },
  {
   "cell_type": "code",
   "execution_count": 17,
   "outputs": [
    {
     "name": "stdout",
     "output_type": "stream",
     "text": [
      "[IterativeImputer] Completing matrix with shape (85, 9)\n",
      "[IterativeImputer] Ending imputation round 1/15, elapsed time 0.01\n",
      "[IterativeImputer] Ending imputation round 2/15, elapsed time 0.01\n",
      "[IterativeImputer] Ending imputation round 3/15, elapsed time 0.02\n",
      "[IterativeImputer] Ending imputation round 4/15, elapsed time 0.03\n",
      "[IterativeImputer] Ending imputation round 5/15, elapsed time 0.04\n",
      "[IterativeImputer] Ending imputation round 6/15, elapsed time 0.05\n",
      "[IterativeImputer] Ending imputation round 7/15, elapsed time 0.05\n",
      "[IterativeImputer] Ending imputation round 8/15, elapsed time 0.06\n",
      "[IterativeImputer] Ending imputation round 9/15, elapsed time 0.07\n",
      "[IterativeImputer] Ending imputation round 10/15, elapsed time 0.08\n",
      "[IterativeImputer] Ending imputation round 11/15, elapsed time 0.09\n",
      "[IterativeImputer] Ending imputation round 12/15, elapsed time 0.09\n",
      "[IterativeImputer] Ending imputation round 13/15, elapsed time 0.10\n",
      "[IterativeImputer] Ending imputation round 14/15, elapsed time 0.11\n",
      "[IterativeImputer] Ending imputation round 15/15, elapsed time 0.11\n"
     ]
    }
   ],
   "source": [
    "imputed_i = i_it_imp.transform(i_vars)"
   ],
   "metadata": {
    "collapsed": false,
    "pycharm": {
     "name": "#%%\n"
    }
   }
  },
  {
   "cell_type": "code",
   "execution_count": 18,
   "outputs": [
    {
     "name": "stdout",
     "output_type": "stream",
     "text": [
      "[IterativeImputer] Completing matrix with shape (85, 9)\n",
      "[IterativeImputer] Ending imputation round 1/15, elapsed time 0.03\n",
      "[IterativeImputer] Ending imputation round 2/15, elapsed time 0.07\n",
      "[IterativeImputer] Ending imputation round 3/15, elapsed time 0.13\n",
      "[IterativeImputer] Ending imputation round 4/15, elapsed time 0.16\n",
      "[IterativeImputer] Ending imputation round 5/15, elapsed time 0.20\n",
      "[IterativeImputer] Ending imputation round 6/15, elapsed time 0.23\n",
      "[IterativeImputer] Ending imputation round 7/15, elapsed time 0.26\n",
      "[IterativeImputer] Ending imputation round 8/15, elapsed time 0.30\n",
      "[IterativeImputer] Ending imputation round 9/15, elapsed time 0.33\n",
      "[IterativeImputer] Ending imputation round 10/15, elapsed time 0.36\n",
      "[IterativeImputer] Ending imputation round 11/15, elapsed time 0.39\n",
      "[IterativeImputer] Ending imputation round 12/15, elapsed time 0.43\n",
      "[IterativeImputer] Ending imputation round 13/15, elapsed time 0.46\n",
      "[IterativeImputer] Ending imputation round 14/15, elapsed time 0.49\n",
      "[IterativeImputer] Ending imputation round 15/15, elapsed time 0.53\n"
     ]
    },
    {
     "data": {
      "text/plain": "IterativeImputer(initial_strategy='most_frequent', max_iter=15,\n                 max_value=5436584.56, min_value=379813.80027777783,\n                 random_state=42, sample_posterior=True, verbose=2)"
     },
     "execution_count": 18,
     "metadata": {},
     "output_type": "execute_result"
    }
   ],
   "source": [
    "s_it_imp.fit(s_vars)"
   ],
   "metadata": {
    "collapsed": false,
    "pycharm": {
     "name": "#%%\n"
    }
   }
  },
  {
   "cell_type": "code",
   "execution_count": 19,
   "outputs": [
    {
     "name": "stdout",
     "output_type": "stream",
     "text": [
      "[IterativeImputer] Completing matrix with shape (85, 9)\n",
      "[IterativeImputer] Ending imputation round 1/15, elapsed time 0.01\n",
      "[IterativeImputer] Ending imputation round 2/15, elapsed time 0.02\n",
      "[IterativeImputer] Ending imputation round 3/15, elapsed time 0.03\n",
      "[IterativeImputer] Ending imputation round 4/15, elapsed time 0.04\n",
      "[IterativeImputer] Ending imputation round 5/15, elapsed time 0.05\n",
      "[IterativeImputer] Ending imputation round 6/15, elapsed time 0.06\n",
      "[IterativeImputer] Ending imputation round 7/15, elapsed time 0.07\n",
      "[IterativeImputer] Ending imputation round 8/15, elapsed time 0.08\n",
      "[IterativeImputer] Ending imputation round 9/15, elapsed time 0.10\n",
      "[IterativeImputer] Ending imputation round 10/15, elapsed time 0.26\n",
      "[IterativeImputer] Ending imputation round 11/15, elapsed time 0.27\n",
      "[IterativeImputer] Ending imputation round 12/15, elapsed time 0.28\n",
      "[IterativeImputer] Ending imputation round 13/15, elapsed time 0.29\n",
      "[IterativeImputer] Ending imputation round 14/15, elapsed time 0.30\n",
      "[IterativeImputer] Ending imputation round 15/15, elapsed time 0.30\n"
     ]
    }
   ],
   "source": [
    "imputed_s = s_it_imp.transform(s_vars)"
   ],
   "metadata": {
    "collapsed": false,
    "pycharm": {
     "name": "#%%\n"
    }
   }
  },
  {
   "cell_type": "markdown",
   "source": [
    "I merged the dates back in, and as you can see, the missing values are gone, and they all look pretty reasonable. I'll repeat most of the tests I ran earlier to see if there's anything not obvious."
   ],
   "metadata": {
    "collapsed": false,
    "pycharm": {
     "name": "#%% md\n"
    }
   }
  },
  {
   "cell_type": "code",
   "execution_count": 20,
   "outputs": [],
   "source": [
    "i_temp = pd.DataFrame(imputed_i)\n",
    "s_temp = pd.DataFrame(imputed_s)"
   ],
   "metadata": {
    "collapsed": false,
    "pycharm": {
     "name": "#%%\n"
    }
   }
  },
  {
   "cell_type": "code",
   "execution_count": 21,
   "outputs": [],
   "source": [
    "robyn_data = pd.concat([i_temp, s_temp], axis=1)\n",
    "robyn_data = robyn_data.set_axis(col_names, axis=1)"
   ],
   "metadata": {
    "collapsed": false,
    "pycharm": {
     "name": "#%%\n"
    }
   }
  },
  {
   "cell_type": "code",
   "execution_count": 22,
   "outputs": [],
   "source": [
    "robyn_data = pd.concat([robyn_data, date_split], axis=1)"
   ],
   "metadata": {
    "collapsed": false,
    "pycharm": {
     "name": "#%%\n"
    }
   }
  },
  {
   "cell_type": "code",
   "execution_count": 23,
   "outputs": [
    {
     "data": {
      "text/plain": "<IPython.lib.display.IFrame at 0x28a24d61d00>",
      "text/html": "\n        <iframe\n            width=\"100%\"\n            height=\"475\"\n            src=\"http://windowsMain:40000/dtale/iframe/1\"\n            frameborder=\"0\"\n            allowfullscreen\n            \n        ></iframe>\n        "
     },
     "metadata": {},
     "output_type": "display_data"
    },
    {
     "data": {
      "text/plain": ""
     },
     "execution_count": 23,
     "metadata": {},
     "output_type": "execute_result"
    }
   ],
   "source": [
    "dtale.show(robyn_data) # the revenue correlations look much more reasonable, but only banner spend breaking .5. Also, the power analysis doesn't reveal anything strange towards revenue."
   ],
   "metadata": {
    "collapsed": false,
    "pycharm": {
     "name": "#%%\n"
    }
   }
  },
  {
   "cell_type": "code",
   "execution_count": 31,
   "outputs": [
    {
     "name": "stdout",
     "output_type": "stream",
     "text": [
      "       feature         VIF\n",
      "0     coupon_I   78.197550\n",
      "1      email_I   67.279306\n",
      "2     social_I   28.919790\n",
      "3    display_I   74.185496\n",
      "4       post_I    6.731160\n",
      "5   circular_I   10.271085\n",
      "6     coupon_S  128.889445\n",
      "7      email_S   73.002617\n",
      "8     social_S   18.646003\n",
      "9    display_S   85.152050\n",
      "10      post_S    9.933962\n",
      "11  circular_S    4.117384\n",
      "12     revenue   19.541916\n"
     ]
    }
   ],
   "source": [
    "temp_split = robyn_data.drop(['DATE'], axis=1)\n",
    "vif_df = temp_split[~temp_split.isin([np.nan, np.inf, -np.inf]).any(1)]\n",
    "X = vif_df\n",
    "vif_data = pd.DataFrame()\n",
    "vif_data[\"feature\"] = X.columns\n",
    "vif_data[\"VIF\"] = [variance_inflation_factor(X.values, i) for i in range(len(X.columns))]\n",
    "print(vif_data)"
   ],
   "metadata": {
    "collapsed": false,
    "pycharm": {
     "name": "#%%\n"
    }
   }
  },
  {
   "cell_type": "code",
   "execution_count": 29,
   "outputs": [
    {
     "data": {
      "text/plain": "<Figure size 1296x1296 with 2 Axes>",
      "image/png": "[encoded data removed]"
     },
     "metadata": {
      "needs_background": "light"
     },
     "output_type": "display_data"
    }
   ],
   "source": [
    "corr_vif = vif_df.corr(method=\"spearman\").round(2)\n",
    "mask = np.triu(np.ones_like(corr_vif, dtype=bool))\n",
    "plt.subplots(figsize=(18, 18))\n",
    "cmap = sns.diverging_palette(250, 1, as_cmap=True)\n",
    "sns.heatmap(corr_vif, annot=True, mask=mask, cmap=cmap, vmax=1, vmin=-1, center=0,\n",
    "            square=True, linewidths=.5, cbar_kws={\"shrink\": .5})\n",
    "robyn_data = robyn_data.drop(['blog_I', 'blog_S'], axis=1)"
   ],
   "metadata": {
    "collapsed": false,
    "pycharm": {
     "name": "#%%\n"
    }
   }
  },
  {
   "cell_type": "code",
   "execution_count": 33,
   "outputs": [],
   "source": [
    "robyn_data.to_csv('robyn_88.csv', index=False)"
   ],
   "metadata": {
    "collapsed": false,
    "pycharm": {
     "name": "#%%\n"
    }
   }
  }
 ],
 "metadata": {
  "kernelspec": {
   "name": "python3",
   "language": "python",
   "display_name": "Python 3 (ipykernel)"
  },
  "language_info": {
   "codemirror_mode": {
    "name": "ipython",
    "version": 2
   },
   "file_extension": ".py",
   "mimetype": "text/x-python",
   "name": "python",
   "nbconvert_exporter": "python",
   "pygments_lexer": "ipython2",
   "version": "2.7.6"
  }
 },
 "nbformat": 4,
 "nbformat_minor": 0
}
