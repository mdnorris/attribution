{
 "cells": [
  {
   "cell_type": "code",
   "execution_count": 19,
   "metadata": {
    "collapsed": true,
    "pycharm": {
     "name": "#%%\n"
    }
   },
   "outputs": [],
   "source": [
    "import pandas as pd\n",
    "import os"
   ]
  },
  {
   "cell_type": "code",
   "execution_count": 20,
   "outputs": [],
   "source": [
    "os.chdir('G:/My Drive/IN/Data/Data_Definitions')"
   ],
   "metadata": {
    "collapsed": false,
    "pycharm": {
     "name": "#%%\n"
    }
   }
  },
  {
   "cell_type": "code",
   "execution_count": 21,
   "outputs": [],
   "source": [
    "amazon = pd.read_csv('amazon.csv')\n",
    "kind_neuralprophet = pd.read_csv('kind_neuralprophet.csv')\n",
    "kind_prophet = pd.read_csv('kind_prophet.csv')\n",
    "robyn_cleaned = pd.read_csv('robyn_cleaned.csv')\n",
    "kind_tabular = pd.read_csv('kind_tabular.csv')"
   ],
   "metadata": {
    "collapsed": false,
    "pycharm": {
     "name": "#%%\n"
    }
   }
  },
  {
   "cell_type": "code",
   "execution_count": 22,
   "outputs": [
    {
     "data": {
      "text/plain": "  client_name brand_name       week         campaign_type  \\\n0        KIND       KIND  1/31/2021       sponsoredBrands   \n1        KIND       KIND  1/31/2021       sponsoredBrands   \n2        KIND       KIND  1/31/2021       sponsoredBrands   \n3        KIND       KIND  1/31/2021       sponsoredBrands   \n4        KIND       KIND  1/31/2021  sponsoredBrandsVideo   \n\n  primary_search_strategy    spend  impressions  clicks  attributed_sales  \\\n0                 Branded  6658.83     306608.0  2448.0          19079.06   \n1                Category  2228.18     207500.0   254.0           1269.88   \n2             Competitive     0.00          0.0     0.0              0.00   \n3           Uncategorized     0.00          0.0     0.0              0.00   \n4                 Branded     0.00          0.0     0.0              0.00   \n\n       sales  \n0  890866.78  \n1  890866.78  \n2  890866.78  \n3  890866.78  \n4  890866.78  ",
      "text/html": "<div>\n<style scoped>\n    .dataframe tbody tr th:only-of-type {\n        vertical-align: middle;\n    }\n\n    .dataframe tbody tr th {\n        vertical-align: top;\n    }\n\n    .dataframe thead th {\n        text-align: right;\n    }\n</style>\n<table border=\"1\" class=\"dataframe\">\n  <thead>\n    <tr style=\"text-align: right;\">\n      <th></th>\n      <th>client_name</th>\n      <th>brand_name</th>\n      <th>week</th>\n      <th>campaign_type</th>\n      <th>primary_search_strategy</th>\n      <th>spend</th>\n      <th>impressions</th>\n      <th>clicks</th>\n      <th>attributed_sales</th>\n      <th>sales</th>\n    </tr>\n  </thead>\n  <tbody>\n    <tr>\n      <th>0</th>\n      <td>KIND</td>\n      <td>KIND</td>\n      <td>1/31/2021</td>\n      <td>sponsoredBrands</td>\n      <td>Branded</td>\n      <td>6658.83</td>\n      <td>306608.0</td>\n      <td>2448.0</td>\n      <td>19079.06</td>\n      <td>890866.78</td>\n    </tr>\n    <tr>\n      <th>1</th>\n      <td>KIND</td>\n      <td>KIND</td>\n      <td>1/31/2021</td>\n      <td>sponsoredBrands</td>\n      <td>Category</td>\n      <td>2228.18</td>\n      <td>207500.0</td>\n      <td>254.0</td>\n      <td>1269.88</td>\n      <td>890866.78</td>\n    </tr>\n    <tr>\n      <th>2</th>\n      <td>KIND</td>\n      <td>KIND</td>\n      <td>1/31/2021</td>\n      <td>sponsoredBrands</td>\n      <td>Competitive</td>\n      <td>0.00</td>\n      <td>0.0</td>\n      <td>0.0</td>\n      <td>0.00</td>\n      <td>890866.78</td>\n    </tr>\n    <tr>\n      <th>3</th>\n      <td>KIND</td>\n      <td>KIND</td>\n      <td>1/31/2021</td>\n      <td>sponsoredBrands</td>\n      <td>Uncategorized</td>\n      <td>0.00</td>\n      <td>0.0</td>\n      <td>0.0</td>\n      <td>0.00</td>\n      <td>890866.78</td>\n    </tr>\n    <tr>\n      <th>4</th>\n      <td>KIND</td>\n      <td>KIND</td>\n      <td>1/31/2021</td>\n      <td>sponsoredBrandsVideo</td>\n      <td>Branded</td>\n      <td>0.00</td>\n      <td>0.0</td>\n      <td>0.0</td>\n      <td>0.00</td>\n      <td>890866.78</td>\n    </tr>\n  </tbody>\n</table>\n</div>"
     },
     "execution_count": 22,
     "metadata": {},
     "output_type": "execute_result"
    }
   ],
   "source": [
    "amazon.head()"
   ],
   "metadata": {
    "collapsed": false,
    "pycharm": {
     "name": "#%%\n"
    }
   }
  },
  {
   "cell_type": "markdown",
   "source": [
    "#### The original Amazon Kind data set has been fundamental for quite a few of my time\n",
    "#### series work. While I have used all of Kind's data for Vertex AI, for example,\n",
    "#### I typically will delete all of the columns besides the revenue and date,\n",
    "#### eliminate all duplicates, and progress with the forecasting"
   ],
   "metadata": {
    "collapsed": false,
    "pycharm": {
     "name": "#%% md\n"
    }
   }
  },
  {
   "cell_type": "code",
   "execution_count": 23,
   "outputs": [
    {
     "name": "stdout",
     "output_type": "stream",
     "text": [
      "<class 'pandas.core.frame.DataFrame'>\n",
      "RangeIndex: 3309 entries, 0 to 3308\n",
      "Data columns (total 10 columns):\n",
      " #   Column                   Non-Null Count  Dtype  \n",
      "---  ------                   --------------  -----  \n",
      " 0   client_name              3309 non-null   object \n",
      " 1   brand_name               3309 non-null   object \n",
      " 2   week                     3309 non-null   object \n",
      " 3   campaign_type            3309 non-null   object \n",
      " 4   primary_search_strategy  3309 non-null   object \n",
      " 5   spend                    3227 non-null   float64\n",
      " 6   impressions              3227 non-null   float64\n",
      " 7   clicks                   3227 non-null   float64\n",
      " 8   attributed_sales         3227 non-null   float64\n",
      " 9   sales                    3309 non-null   float64\n",
      "dtypes: float64(5), object(5)\n",
      "memory usage: 258.6+ KB\n"
     ]
    }
   ],
   "source": [
    "amazon.info()"
   ],
   "metadata": {
    "collapsed": false,
    "pycharm": {
     "name": "#%%\n"
    }
   }
  },
  {
   "cell_type": "code",
   "execution_count": 24,
   "outputs": [
    {
     "data": {
      "text/plain": "              spend   impressions        clicks  attributed_sales  \\\ncount   3227.000000  3.227000e+03   3227.000000       3227.000000   \nmean    2512.364072  4.370186e+05    976.777812       6995.083626   \nstd     5535.500038  1.047554e+06   1833.851847      16412.159329   \nmin        0.000000  0.000000e+00      0.000000          0.000000   \n25%       21.405000  3.682500e+03     18.000000         31.515000   \n50%      438.420000  8.750000e+04    271.000000       1169.560000   \n75%     2141.335000  3.932630e+05    961.000000       5184.325000   \nmax    63252.070000  2.230435e+07  16169.000000     194489.010000   \n\n              sales  \ncount  3.309000e+03  \nmean   8.208856e+05  \nstd    5.754544e+05  \nmin    5.446846e+04  \n25%    3.550916e+05  \n50%    7.568306e+05  \n75%    1.289654e+06  \nmax    2.497727e+06  ",
      "text/html": "<div>\n<style scoped>\n    .dataframe tbody tr th:only-of-type {\n        vertical-align: middle;\n    }\n\n    .dataframe tbody tr th {\n        vertical-align: top;\n    }\n\n    .dataframe thead th {\n        text-align: right;\n    }\n</style>\n<table border=\"1\" class=\"dataframe\">\n  <thead>\n    <tr style=\"text-align: right;\">\n      <th></th>\n      <th>spend</th>\n      <th>impressions</th>\n      <th>clicks</th>\n      <th>attributed_sales</th>\n      <th>sales</th>\n    </tr>\n  </thead>\n  <tbody>\n    <tr>\n      <th>count</th>\n      <td>3227.000000</td>\n      <td>3.227000e+03</td>\n      <td>3227.000000</td>\n      <td>3227.000000</td>\n      <td>3.309000e+03</td>\n    </tr>\n    <tr>\n      <th>mean</th>\n      <td>2512.364072</td>\n      <td>4.370186e+05</td>\n      <td>976.777812</td>\n      <td>6995.083626</td>\n      <td>8.208856e+05</td>\n    </tr>\n    <tr>\n      <th>std</th>\n      <td>5535.500038</td>\n      <td>1.047554e+06</td>\n      <td>1833.851847</td>\n      <td>16412.159329</td>\n      <td>5.754544e+05</td>\n    </tr>\n    <tr>\n      <th>min</th>\n      <td>0.000000</td>\n      <td>0.000000e+00</td>\n      <td>0.000000</td>\n      <td>0.000000</td>\n      <td>5.446846e+04</td>\n    </tr>\n    <tr>\n      <th>25%</th>\n      <td>21.405000</td>\n      <td>3.682500e+03</td>\n      <td>18.000000</td>\n      <td>31.515000</td>\n      <td>3.550916e+05</td>\n    </tr>\n    <tr>\n      <th>50%</th>\n      <td>438.420000</td>\n      <td>8.750000e+04</td>\n      <td>271.000000</td>\n      <td>1169.560000</td>\n      <td>7.568306e+05</td>\n    </tr>\n    <tr>\n      <th>75%</th>\n      <td>2141.335000</td>\n      <td>3.932630e+05</td>\n      <td>961.000000</td>\n      <td>5184.325000</td>\n      <td>1.289654e+06</td>\n    </tr>\n    <tr>\n      <th>max</th>\n      <td>63252.070000</td>\n      <td>2.230435e+07</td>\n      <td>16169.000000</td>\n      <td>194489.010000</td>\n      <td>2.497727e+06</td>\n    </tr>\n  </tbody>\n</table>\n</div>"
     },
     "execution_count": 24,
     "metadata": {},
     "output_type": "execute_result"
    }
   ],
   "source": [
    "amazon.describe()"
   ],
   "metadata": {
    "collapsed": false,
    "pycharm": {
     "name": "#%%\n"
    }
   }
  },
  {
   "cell_type": "code",
   "execution_count": 25,
   "outputs": [
    {
     "data": {
      "text/plain": "           ds          y\n0  2018-06-03  662170.37\n1  2018-06-10  652171.79\n2  2018-06-17  668735.46\n3  2018-06-24  697074.12\n4  2018-07-01  605821.35",
      "text/html": "<div>\n<style scoped>\n    .dataframe tbody tr th:only-of-type {\n        vertical-align: middle;\n    }\n\n    .dataframe tbody tr th {\n        vertical-align: top;\n    }\n\n    .dataframe thead th {\n        text-align: right;\n    }\n</style>\n<table border=\"1\" class=\"dataframe\">\n  <thead>\n    <tr style=\"text-align: right;\">\n      <th></th>\n      <th>ds</th>\n      <th>y</th>\n    </tr>\n  </thead>\n  <tbody>\n    <tr>\n      <th>0</th>\n      <td>2018-06-03</td>\n      <td>662170.37</td>\n    </tr>\n    <tr>\n      <th>1</th>\n      <td>2018-06-10</td>\n      <td>652171.79</td>\n    </tr>\n    <tr>\n      <th>2</th>\n      <td>2018-06-17</td>\n      <td>668735.46</td>\n    </tr>\n    <tr>\n      <th>3</th>\n      <td>2018-06-24</td>\n      <td>697074.12</td>\n    </tr>\n    <tr>\n      <th>4</th>\n      <td>2018-07-01</td>\n      <td>605821.35</td>\n    </tr>\n  </tbody>\n</table>\n</div>"
     },
     "execution_count": 25,
     "metadata": {},
     "output_type": "execute_result"
    }
   ],
   "source": [
    "kind_prophet.head()"
   ],
   "metadata": {
    "collapsed": false,
    "pycharm": {
     "name": "#%%\n"
    }
   }
  },
  {
   "cell_type": "code",
   "execution_count": 26,
   "outputs": [
    {
     "name": "stdout",
     "output_type": "stream",
     "text": [
      "<class 'pandas.core.frame.DataFrame'>\n",
      "RangeIndex: 210 entries, 0 to 209\n",
      "Data columns (total 2 columns):\n",
      " #   Column  Non-Null Count  Dtype  \n",
      "---  ------  --------------  -----  \n",
      " 0   ds      210 non-null    object \n",
      " 1   y       210 non-null    float64\n",
      "dtypes: float64(1), object(1)\n",
      "memory usage: 3.4+ KB\n"
     ]
    }
   ],
   "source": [
    "kind_prophet.info()"
   ],
   "metadata": {
    "collapsed": false,
    "pycharm": {
     "name": "#%%\n"
    }
   }
  },
  {
   "cell_type": "code",
   "execution_count": 27,
   "outputs": [
    {
     "data": {
      "text/plain": "                  y\ncount  2.100000e+02\nmean   1.098883e+06\nstd    4.346303e+05\nmin    4.174589e+05\n25%    7.471314e+05\n50%    9.120214e+05\n75%    1.522354e+06\nmax    2.497727e+06",
      "text/html": "<div>\n<style scoped>\n    .dataframe tbody tr th:only-of-type {\n        vertical-align: middle;\n    }\n\n    .dataframe tbody tr th {\n        vertical-align: top;\n    }\n\n    .dataframe thead th {\n        text-align: right;\n    }\n</style>\n<table border=\"1\" class=\"dataframe\">\n  <thead>\n    <tr style=\"text-align: right;\">\n      <th></th>\n      <th>y</th>\n    </tr>\n  </thead>\n  <tbody>\n    <tr>\n      <th>count</th>\n      <td>2.100000e+02</td>\n    </tr>\n    <tr>\n      <th>mean</th>\n      <td>1.098883e+06</td>\n    </tr>\n    <tr>\n      <th>std</th>\n      <td>4.346303e+05</td>\n    </tr>\n    <tr>\n      <th>min</th>\n      <td>4.174589e+05</td>\n    </tr>\n    <tr>\n      <th>25%</th>\n      <td>7.471314e+05</td>\n    </tr>\n    <tr>\n      <th>50%</th>\n      <td>9.120214e+05</td>\n    </tr>\n    <tr>\n      <th>75%</th>\n      <td>1.522354e+06</td>\n    </tr>\n    <tr>\n      <th>max</th>\n      <td>2.497727e+06</td>\n    </tr>\n  </tbody>\n</table>\n</div>"
     },
     "execution_count": 27,
     "metadata": {},
     "output_type": "execute_result"
    }
   ],
   "source": [
    "kind_prophet.describe()"
   ],
   "metadata": {
    "collapsed": false,
    "pycharm": {
     "name": "#%%\n"
    }
   }
  },
  {
   "cell_type": "markdown",
   "source": [
    "#### Robyn, and any associated data set with it, is an ongoing process. I have found\n",
    "#### the most success using Tyson, which I am using here, and narrowing down the most\n",
    "#### important tactics, then using a pivot table to put it into the format Robyn requires\n",
    "#### for analysis. Google Lightweight MMM can use the same data but seems to have far\n",
    "#### fewer problems"
   ],
   "metadata": {
    "collapsed": false,
    "pycharm": {
     "name": "#%% md\n"
    }
   }
  },
  {
   "cell_type": "code",
   "execution_count": 28,
   "outputs": [
    {
     "data": {
      "text/plain": "   Influencer_I  Social_Media_I      Radio_I  Influencer_S  Social_Media_S  \\\n0      11405123         5945479  216475453.4      90003.23           30000   \n1      11405123         5945479  211874540.5      90003.23           30000   \n2      54811539         5945479  207273627.6     339515.58           30000   \n3      59584985         7056590  202672714.6     370265.58           35000   \n4     505839713         7056590  198071801.7    3872465.58           35000   \n\n   Radio_S      revenue   beef  chicken      cag_V        DATE  \n0   693000  14201964.62  3.841    2.930  29.160000  2019-10-06  \n1   693000  15703190.71  3.841    2.930  28.500000  2019-10-13  \n2   693000  16903252.55  3.841    2.930  27.680000  2019-10-20  \n3   693000  17041206.68  3.841    2.930  27.959999  2019-10-27  \n4   693000  44838814.19  3.812    2.948  28.230000  2019-11-03  ",
      "text/html": "<div>\n<style scoped>\n    .dataframe tbody tr th:only-of-type {\n        vertical-align: middle;\n    }\n\n    .dataframe tbody tr th {\n        vertical-align: top;\n    }\n\n    .dataframe thead th {\n        text-align: right;\n    }\n</style>\n<table border=\"1\" class=\"dataframe\">\n  <thead>\n    <tr style=\"text-align: right;\">\n      <th></th>\n      <th>Influencer_I</th>\n      <th>Social_Media_I</th>\n      <th>Radio_I</th>\n      <th>Influencer_S</th>\n      <th>Social_Media_S</th>\n      <th>Radio_S</th>\n      <th>revenue</th>\n      <th>beef</th>\n      <th>chicken</th>\n      <th>cag_V</th>\n      <th>DATE</th>\n    </tr>\n  </thead>\n  <tbody>\n    <tr>\n      <th>0</th>\n      <td>11405123</td>\n      <td>5945479</td>\n      <td>216475453.4</td>\n      <td>90003.23</td>\n      <td>30000</td>\n      <td>693000</td>\n      <td>14201964.62</td>\n      <td>3.841</td>\n      <td>2.930</td>\n      <td>29.160000</td>\n      <td>2019-10-06</td>\n    </tr>\n    <tr>\n      <th>1</th>\n      <td>11405123</td>\n      <td>5945479</td>\n      <td>211874540.5</td>\n      <td>90003.23</td>\n      <td>30000</td>\n      <td>693000</td>\n      <td>15703190.71</td>\n      <td>3.841</td>\n      <td>2.930</td>\n      <td>28.500000</td>\n      <td>2019-10-13</td>\n    </tr>\n    <tr>\n      <th>2</th>\n      <td>54811539</td>\n      <td>5945479</td>\n      <td>207273627.6</td>\n      <td>339515.58</td>\n      <td>30000</td>\n      <td>693000</td>\n      <td>16903252.55</td>\n      <td>3.841</td>\n      <td>2.930</td>\n      <td>27.680000</td>\n      <td>2019-10-20</td>\n    </tr>\n    <tr>\n      <th>3</th>\n      <td>59584985</td>\n      <td>7056590</td>\n      <td>202672714.6</td>\n      <td>370265.58</td>\n      <td>35000</td>\n      <td>693000</td>\n      <td>17041206.68</td>\n      <td>3.841</td>\n      <td>2.930</td>\n      <td>27.959999</td>\n      <td>2019-10-27</td>\n    </tr>\n    <tr>\n      <th>4</th>\n      <td>505839713</td>\n      <td>7056590</td>\n      <td>198071801.7</td>\n      <td>3872465.58</td>\n      <td>35000</td>\n      <td>693000</td>\n      <td>44838814.19</td>\n      <td>3.812</td>\n      <td>2.948</td>\n      <td>28.230000</td>\n      <td>2019-11-03</td>\n    </tr>\n  </tbody>\n</table>\n</div>"
     },
     "execution_count": 28,
     "metadata": {},
     "output_type": "execute_result"
    }
   ],
   "source": [
    "robyn_cleaned.head()"
   ],
   "metadata": {
    "collapsed": false,
    "pycharm": {
     "name": "#%%\n"
    }
   }
  },
  {
   "cell_type": "code",
   "execution_count": 29,
   "outputs": [
    {
     "name": "stdout",
     "output_type": "stream",
     "text": [
      "<class 'pandas.core.frame.DataFrame'>\n",
      "RangeIndex: 85 entries, 0 to 84\n",
      "Data columns (total 11 columns):\n",
      " #   Column          Non-Null Count  Dtype  \n",
      "---  ------          --------------  -----  \n",
      " 0   Influencer_I    85 non-null     int64  \n",
      " 1   Social_Media_I  85 non-null     int64  \n",
      " 2   Radio_I         85 non-null     float64\n",
      " 3   Influencer_S    85 non-null     float64\n",
      " 4   Social_Media_S  85 non-null     int64  \n",
      " 5   Radio_S         85 non-null     int64  \n",
      " 6   revenue         85 non-null     float64\n",
      " 7   beef            85 non-null     float64\n",
      " 8   chicken         85 non-null     float64\n",
      " 9   cag_V           85 non-null     float64\n",
      " 10  DATE            85 non-null     object \n",
      "dtypes: float64(6), int64(4), object(1)\n",
      "memory usage: 7.4+ KB\n"
     ]
    }
   ],
   "source": [
    "robyn_cleaned.info()"
   ],
   "metadata": {
    "collapsed": false,
    "pycharm": {
     "name": "#%%\n"
    }
   }
  },
  {
   "cell_type": "code",
   "execution_count": 30,
   "outputs": [
    {
     "data": {
      "text/plain": "       Influencer_I  Social_Media_I       Radio_I  Influencer_S  \\\ncount  8.500000e+01    8.500000e+01  8.500000e+01  8.500000e+01   \nmean   6.154648e+08    3.873606e+07  1.226710e+08  4.477620e+06   \nstd    8.507351e+08    5.521095e+07  7.975367e+07  6.531803e+06   \nmin    2.421731e+06    7.000000e+05  2.325463e+05  2.000000e+04   \n25%    2.577117e+07    1.727728e+06  4.624168e+07  1.600000e+05   \n50%    3.597878e+08    1.217154e+07  1.198563e+08  1.235978e+06   \n75%    7.659713e+08    5.435969e+07  1.934709e+08  4.572212e+06   \nmax    2.801696e+09    2.100431e+08  2.670855e+08  2.104940e+07   \n\n       Social_Media_S       Radio_S       revenue       beef    chicken  \\\ncount    8.500000e+01  8.500000e+01  8.500000e+01  85.000000  85.000000   \nmean     3.202294e+05  2.325455e+06  1.295914e+08   4.052894   3.184694   \nstd      4.002625e+05  4.521038e+06  1.716710e+08   0.221283   0.157301   \nmin      5.000000e+03  5.866200e+04  9.285800e+02   3.812000   2.930000   \n25%      3.000000e+04  6.930000e+05  9.361923e+06   3.881000   3.013000   \n50%      1.600000e+05  6.930000e+05  3.796270e+07   4.008000   3.239000   \n75%      3.250000e+05  6.930000e+05  1.616179e+08   4.096000   3.293000   \nmax      1.495000e+06  1.469723e+07  6.585114e+08   4.737000   3.412000   \n\n           cag_V  \ncount  85.000000  \nmean   34.819412  \nstd     3.231174  \nmin    27.680000  \n25%    33.369999  \n50%    35.450001  \n75%    37.189999  \nmax    39.340000  ",
      "text/html": "<div>\n<style scoped>\n    .dataframe tbody tr th:only-of-type {\n        vertical-align: middle;\n    }\n\n    .dataframe tbody tr th {\n        vertical-align: top;\n    }\n\n    .dataframe thead th {\n        text-align: right;\n    }\n</style>\n<table border=\"1\" class=\"dataframe\">\n  <thead>\n    <tr style=\"text-align: right;\">\n      <th></th>\n      <th>Influencer_I</th>\n      <th>Social_Media_I</th>\n      <th>Radio_I</th>\n      <th>Influencer_S</th>\n      <th>Social_Media_S</th>\n      <th>Radio_S</th>\n      <th>revenue</th>\n      <th>beef</th>\n      <th>chicken</th>\n      <th>cag_V</th>\n    </tr>\n  </thead>\n  <tbody>\n    <tr>\n      <th>count</th>\n      <td>8.500000e+01</td>\n      <td>8.500000e+01</td>\n      <td>8.500000e+01</td>\n      <td>8.500000e+01</td>\n      <td>8.500000e+01</td>\n      <td>8.500000e+01</td>\n      <td>8.500000e+01</td>\n      <td>85.000000</td>\n      <td>85.000000</td>\n      <td>85.000000</td>\n    </tr>\n    <tr>\n      <th>mean</th>\n      <td>6.154648e+08</td>\n      <td>3.873606e+07</td>\n      <td>1.226710e+08</td>\n      <td>4.477620e+06</td>\n      <td>3.202294e+05</td>\n      <td>2.325455e+06</td>\n      <td>1.295914e+08</td>\n      <td>4.052894</td>\n      <td>3.184694</td>\n      <td>34.819412</td>\n    </tr>\n    <tr>\n      <th>std</th>\n      <td>8.507351e+08</td>\n      <td>5.521095e+07</td>\n      <td>7.975367e+07</td>\n      <td>6.531803e+06</td>\n      <td>4.002625e+05</td>\n      <td>4.521038e+06</td>\n      <td>1.716710e+08</td>\n      <td>0.221283</td>\n      <td>0.157301</td>\n      <td>3.231174</td>\n    </tr>\n    <tr>\n      <th>min</th>\n      <td>2.421731e+06</td>\n      <td>7.000000e+05</td>\n      <td>2.325463e+05</td>\n      <td>2.000000e+04</td>\n      <td>5.000000e+03</td>\n      <td>5.866200e+04</td>\n      <td>9.285800e+02</td>\n      <td>3.812000</td>\n      <td>2.930000</td>\n      <td>27.680000</td>\n    </tr>\n    <tr>\n      <th>25%</th>\n      <td>2.577117e+07</td>\n      <td>1.727728e+06</td>\n      <td>4.624168e+07</td>\n      <td>1.600000e+05</td>\n      <td>3.000000e+04</td>\n      <td>6.930000e+05</td>\n      <td>9.361923e+06</td>\n      <td>3.881000</td>\n      <td>3.013000</td>\n      <td>33.369999</td>\n    </tr>\n    <tr>\n      <th>50%</th>\n      <td>3.597878e+08</td>\n      <td>1.217154e+07</td>\n      <td>1.198563e+08</td>\n      <td>1.235978e+06</td>\n      <td>1.600000e+05</td>\n      <td>6.930000e+05</td>\n      <td>3.796270e+07</td>\n      <td>4.008000</td>\n      <td>3.239000</td>\n      <td>35.450001</td>\n    </tr>\n    <tr>\n      <th>75%</th>\n      <td>7.659713e+08</td>\n      <td>5.435969e+07</td>\n      <td>1.934709e+08</td>\n      <td>4.572212e+06</td>\n      <td>3.250000e+05</td>\n      <td>6.930000e+05</td>\n      <td>1.616179e+08</td>\n      <td>4.096000</td>\n      <td>3.293000</td>\n      <td>37.189999</td>\n    </tr>\n    <tr>\n      <th>max</th>\n      <td>2.801696e+09</td>\n      <td>2.100431e+08</td>\n      <td>2.670855e+08</td>\n      <td>2.104940e+07</td>\n      <td>1.495000e+06</td>\n      <td>1.469723e+07</td>\n      <td>6.585114e+08</td>\n      <td>4.737000</td>\n      <td>3.412000</td>\n      <td>39.340000</td>\n    </tr>\n  </tbody>\n</table>\n</div>"
     },
     "execution_count": 30,
     "metadata": {},
     "output_type": "execute_result"
    }
   ],
   "source": [
    "robyn_cleaned.describe()"
   ],
   "metadata": {
    "collapsed": false,
    "pycharm": {
     "name": "#%%\n"
    }
   }
  },
  {
   "cell_type": "markdown",
   "source": [
    "#### So far I like the NeuralProphet quite a bit, but it does use data the very same\n",
    "#### way that Prophet does. The date column is renamed 'ds', and the sales column 'y',\n",
    "#### and  it's ready to go."
   ],
   "metadata": {
    "collapsed": false,
    "pycharm": {
     "name": "#%% md\n"
    }
   }
  },
  {
   "cell_type": "code",
   "execution_count": 31,
   "outputs": [
    {
     "data": {
      "text/plain": "          ds          y\n0   6/3/2018  662170.37\n1  6/10/2018  652171.79\n2  6/17/2018  668735.46\n3  6/24/2018  697074.12\n4   7/1/2018  605821.35",
      "text/html": "<div>\n<style scoped>\n    .dataframe tbody tr th:only-of-type {\n        vertical-align: middle;\n    }\n\n    .dataframe tbody tr th {\n        vertical-align: top;\n    }\n\n    .dataframe thead th {\n        text-align: right;\n    }\n</style>\n<table border=\"1\" class=\"dataframe\">\n  <thead>\n    <tr style=\"text-align: right;\">\n      <th></th>\n      <th>ds</th>\n      <th>y</th>\n    </tr>\n  </thead>\n  <tbody>\n    <tr>\n      <th>0</th>\n      <td>6/3/2018</td>\n      <td>662170.37</td>\n    </tr>\n    <tr>\n      <th>1</th>\n      <td>6/10/2018</td>\n      <td>652171.79</td>\n    </tr>\n    <tr>\n      <th>2</th>\n      <td>6/17/2018</td>\n      <td>668735.46</td>\n    </tr>\n    <tr>\n      <th>3</th>\n      <td>6/24/2018</td>\n      <td>697074.12</td>\n    </tr>\n    <tr>\n      <th>4</th>\n      <td>7/1/2018</td>\n      <td>605821.35</td>\n    </tr>\n  </tbody>\n</table>\n</div>"
     },
     "execution_count": 31,
     "metadata": {},
     "output_type": "execute_result"
    }
   ],
   "source": [
    "kind_neuralprophet.head()"
   ],
   "metadata": {
    "collapsed": false,
    "pycharm": {
     "name": "#%%\n"
    }
   }
  },
  {
   "cell_type": "code",
   "execution_count": 32,
   "outputs": [
    {
     "name": "stdout",
     "output_type": "stream",
     "text": [
      "<class 'pandas.core.frame.DataFrame'>\n",
      "RangeIndex: 196 entries, 0 to 195\n",
      "Data columns (total 2 columns):\n",
      " #   Column  Non-Null Count  Dtype  \n",
      "---  ------  --------------  -----  \n",
      " 0   ds      196 non-null    object \n",
      " 1   y       196 non-null    float64\n",
      "dtypes: float64(1), object(1)\n",
      "memory usage: 3.2+ KB\n"
     ]
    }
   ],
   "source": [
    "kind_neuralprophet.info()"
   ],
   "metadata": {
    "collapsed": false,
    "pycharm": {
     "name": "#%%\n"
    }
   }
  },
  {
   "cell_type": "code",
   "execution_count": 33,
   "outputs": [
    {
     "data": {
      "text/plain": "                  y\ncount  1.960000e+02\nmean   1.049276e+06\nstd    3.976111e+05\nmin    4.174589e+05\n25%    7.335468e+05\n50%    8.924860e+05\n75%    1.413862e+06\nmax    2.013326e+06",
      "text/html": "<div>\n<style scoped>\n    .dataframe tbody tr th:only-of-type {\n        vertical-align: middle;\n    }\n\n    .dataframe tbody tr th {\n        vertical-align: top;\n    }\n\n    .dataframe thead th {\n        text-align: right;\n    }\n</style>\n<table border=\"1\" class=\"dataframe\">\n  <thead>\n    <tr style=\"text-align: right;\">\n      <th></th>\n      <th>y</th>\n    </tr>\n  </thead>\n  <tbody>\n    <tr>\n      <th>count</th>\n      <td>1.960000e+02</td>\n    </tr>\n    <tr>\n      <th>mean</th>\n      <td>1.049276e+06</td>\n    </tr>\n    <tr>\n      <th>std</th>\n      <td>3.976111e+05</td>\n    </tr>\n    <tr>\n      <th>min</th>\n      <td>4.174589e+05</td>\n    </tr>\n    <tr>\n      <th>25%</th>\n      <td>7.335468e+05</td>\n    </tr>\n    <tr>\n      <th>50%</th>\n      <td>8.924860e+05</td>\n    </tr>\n    <tr>\n      <th>75%</th>\n      <td>1.413862e+06</td>\n    </tr>\n    <tr>\n      <th>max</th>\n      <td>2.013326e+06</td>\n    </tr>\n  </tbody>\n</table>\n</div>"
     },
     "execution_count": 33,
     "metadata": {},
     "output_type": "execute_result"
    }
   ],
   "source": [
    "kind_neuralprophet.describe()"
   ],
   "metadata": {
    "collapsed": false,
    "pycharm": {
     "name": "#%%\n"
    }
   }
  },
  {
   "cell_type": "markdown",
   "source": [
    "Because of the peculiar limitations for using Vertex AI's forecasting capabilities,\n",
    "there needed to be more than 1000 rows, which was not possible by dropping the other\n",
    "columns (after dropping duplicates, only ~250 remained). By concatenating the two\n",
    "categorical fields (and of course putting the obligatory id of 1 in every cell in the\n",
    "column), I was able to finish the model and get it to batch processing. "
   ],
   "metadata": {
    "collapsed": false,
    "pycharm": {
     "name": "#%% md\n"
    }
   }
  },
  {
   "cell_type": "code",
   "execution_count": 34,
   "outputs": [
    {
     "data": {
      "text/plain": "         week               campaign_type     spend  clicks      sales  id\n0  2018-06-03      sponsoredBrandsBranded   3979.63    1649  662170.37   1\n1  2018-06-03     sponsoredBrandsCategory   1584.37     444  662170.37   1\n2  2018-06-03  sponsoredBrandsCompetitive     53.03      42  662170.37   1\n3  2018-06-03       sponsoredProductsAuto   3800.92    1866  662170.37   1\n4  2018-06-03    sponsoredProductsBranded  13325.53    8278  662170.37   1",
      "text/html": "<div>\n<style scoped>\n    .dataframe tbody tr th:only-of-type {\n        vertical-align: middle;\n    }\n\n    .dataframe tbody tr th {\n        vertical-align: top;\n    }\n\n    .dataframe thead th {\n        text-align: right;\n    }\n</style>\n<table border=\"1\" class=\"dataframe\">\n  <thead>\n    <tr style=\"text-align: right;\">\n      <th></th>\n      <th>week</th>\n      <th>campaign_type</th>\n      <th>spend</th>\n      <th>clicks</th>\n      <th>sales</th>\n      <th>id</th>\n    </tr>\n  </thead>\n  <tbody>\n    <tr>\n      <th>0</th>\n      <td>2018-06-03</td>\n      <td>sponsoredBrandsBranded</td>\n      <td>3979.63</td>\n      <td>1649</td>\n      <td>662170.37</td>\n      <td>1</td>\n    </tr>\n    <tr>\n      <th>1</th>\n      <td>2018-06-03</td>\n      <td>sponsoredBrandsCategory</td>\n      <td>1584.37</td>\n      <td>444</td>\n      <td>662170.37</td>\n      <td>1</td>\n    </tr>\n    <tr>\n      <th>2</th>\n      <td>2018-06-03</td>\n      <td>sponsoredBrandsCompetitive</td>\n      <td>53.03</td>\n      <td>42</td>\n      <td>662170.37</td>\n      <td>1</td>\n    </tr>\n    <tr>\n      <th>3</th>\n      <td>2018-06-03</td>\n      <td>sponsoredProductsAuto</td>\n      <td>3800.92</td>\n      <td>1866</td>\n      <td>662170.37</td>\n      <td>1</td>\n    </tr>\n    <tr>\n      <th>4</th>\n      <td>2018-06-03</td>\n      <td>sponsoredProductsBranded</td>\n      <td>13325.53</td>\n      <td>8278</td>\n      <td>662170.37</td>\n      <td>1</td>\n    </tr>\n  </tbody>\n</table>\n</div>"
     },
     "execution_count": 34,
     "metadata": {},
     "output_type": "execute_result"
    }
   ],
   "source": [
    "kind_tabular.head()"
   ],
   "metadata": {
    "collapsed": false,
    "pycharm": {
     "name": "#%%\n"
    }
   }
  },
  {
   "cell_type": "code",
   "execution_count": 35,
   "outputs": [
    {
     "name": "stdout",
     "output_type": "stream",
     "text": [
      "<class 'pandas.core.frame.DataFrame'>\n",
      "RangeIndex: 1394 entries, 0 to 1393\n",
      "Data columns (total 6 columns):\n",
      " #   Column         Non-Null Count  Dtype  \n",
      "---  ------         --------------  -----  \n",
      " 0   week           1394 non-null   object \n",
      " 1   campaign_type  1394 non-null   object \n",
      " 2   spend          1394 non-null   float64\n",
      " 3   clicks         1394 non-null   int64  \n",
      " 4   sales          1394 non-null   float64\n",
      " 5   id             1394 non-null   int64  \n",
      "dtypes: float64(2), int64(2), object(2)\n",
      "memory usage: 65.5+ KB\n"
     ]
    }
   ],
   "source": [
    "kind_tabular.info()"
   ],
   "metadata": {
    "collapsed": false,
    "pycharm": {
     "name": "#%%\n"
    }
   }
  },
  {
   "cell_type": "code",
   "execution_count": 36,
   "outputs": [
    {
     "data": {
      "text/plain": "              spend        clicks         sales      id\ncount   1394.000000   1394.000000  1.394000e+03  1394.0\nmean    5126.590301   1850.906743  1.047213e+06     1.0\nstd     7563.383366   2455.025047  3.944732e+05     0.0\nmin        0.840000      1.000000  4.174589e+05     1.0\n25%      571.182500    270.250000  7.313538e+05     1.0\n50%     1978.775000    791.000000  8.883132e+05     1.0\n75%     6115.425000   2325.000000  1.409162e+06     1.0\nmax    63252.070000  16169.000000  2.013326e+06     1.0",
      "text/html": "<div>\n<style scoped>\n    .dataframe tbody tr th:only-of-type {\n        vertical-align: middle;\n    }\n\n    .dataframe tbody tr th {\n        vertical-align: top;\n    }\n\n    .dataframe thead th {\n        text-align: right;\n    }\n</style>\n<table border=\"1\" class=\"dataframe\">\n  <thead>\n    <tr style=\"text-align: right;\">\n      <th></th>\n      <th>spend</th>\n      <th>clicks</th>\n      <th>sales</th>\n      <th>id</th>\n    </tr>\n  </thead>\n  <tbody>\n    <tr>\n      <th>count</th>\n      <td>1394.000000</td>\n      <td>1394.000000</td>\n      <td>1.394000e+03</td>\n      <td>1394.0</td>\n    </tr>\n    <tr>\n      <th>mean</th>\n      <td>5126.590301</td>\n      <td>1850.906743</td>\n      <td>1.047213e+06</td>\n      <td>1.0</td>\n    </tr>\n    <tr>\n      <th>std</th>\n      <td>7563.383366</td>\n      <td>2455.025047</td>\n      <td>3.944732e+05</td>\n      <td>0.0</td>\n    </tr>\n    <tr>\n      <th>min</th>\n      <td>0.840000</td>\n      <td>1.000000</td>\n      <td>4.174589e+05</td>\n      <td>1.0</td>\n    </tr>\n    <tr>\n      <th>25%</th>\n      <td>571.182500</td>\n      <td>270.250000</td>\n      <td>7.313538e+05</td>\n      <td>1.0</td>\n    </tr>\n    <tr>\n      <th>50%</th>\n      <td>1978.775000</td>\n      <td>791.000000</td>\n      <td>8.883132e+05</td>\n      <td>1.0</td>\n    </tr>\n    <tr>\n      <th>75%</th>\n      <td>6115.425000</td>\n      <td>2325.000000</td>\n      <td>1.409162e+06</td>\n      <td>1.0</td>\n    </tr>\n    <tr>\n      <th>max</th>\n      <td>63252.070000</td>\n      <td>16169.000000</td>\n      <td>2.013326e+06</td>\n      <td>1.0</td>\n    </tr>\n  </tbody>\n</table>\n</div>"
     },
     "execution_count": 36,
     "metadata": {},
     "output_type": "execute_result"
    }
   ],
   "source": [
    "kind_tabular.describe()"
   ],
   "metadata": {
    "collapsed": false,
    "pycharm": {
     "name": "#%%\n"
    }
   }
  }
 ],
 "metadata": {
  "kernelspec": {
   "display_name": "Python 3",
   "language": "python",
   "name": "python3"
  },
  "language_info": {
   "codemirror_mode": {
    "name": "ipython",
    "version": 2
   },
   "file_extension": ".py",
   "mimetype": "text/x-python",
   "name": "python",
   "nbconvert_exporter": "python",
   "pygments_lexer": "ipython2",
   "version": "2.7.6"
  }
 },
 "nbformat": 4,
 "nbformat_minor": 0
}