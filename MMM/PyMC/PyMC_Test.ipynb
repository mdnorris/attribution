{
 "cells": [
  {
   "cell_type": "code",
   "execution_count": 13,
   "metadata": {
    "collapsed": true,
    "ExecuteTime": {
     "end_time": "2023-05-21T02:33:26.759162100Z",
     "start_time": "2023-05-21T02:33:26.594637700Z"
    }
   },
   "outputs": [
    {
     "ename": "ValueError",
     "evalue": "('The name of the object cannot be an existing tag or the name of another existing object.', <theano.graph.opt.TopoOptimizer object at 0x00000272011FF1F0>, 'local_inplace_sparse_block_gemv')",
     "output_type": "error",
     "traceback": [
      "\u001B[1;31m---------------------------------------------------------------------------\u001B[0m",
      "\u001B[1;31mValueError\u001B[0m                                Traceback (most recent call last)",
      "Input \u001B[1;32mIn [13]\u001B[0m, in \u001B[0;36m<cell line: 3>\u001B[1;34m()\u001B[0m\n\u001B[0;32m      1\u001B[0m \u001B[38;5;66;03m# import numpy as np\u001B[39;00m\n\u001B[0;32m      2\u001B[0m \u001B[38;5;28;01mimport\u001B[39;00m \u001B[38;5;21;01mpandas\u001B[39;00m \u001B[38;5;28;01mas\u001B[39;00m \u001B[38;5;21;01mpd\u001B[39;00m\n\u001B[1;32m----> 3\u001B[0m \u001B[38;5;28;01mimport\u001B[39;00m \u001B[38;5;21;01mtheano\u001B[39;00m\u001B[38;5;21;01m.\u001B[39;00m\u001B[38;5;21;01mtensor\u001B[39;00m \u001B[38;5;28;01mas\u001B[39;00m \u001B[38;5;21;01mtt\u001B[39;00m\n\u001B[0;32m      4\u001B[0m \u001B[38;5;28;01mimport\u001B[39;00m \u001B[38;5;21;01mpymc3\u001B[39;00m \u001B[38;5;28;01mas\u001B[39;00m \u001B[38;5;21;01mpm\u001B[39;00m\n\u001B[0;32m      5\u001B[0m \u001B[38;5;28;01mimport\u001B[39;00m \u001B[38;5;21;01marviz\u001B[39;00m \u001B[38;5;28;01mas\u001B[39;00m \u001B[38;5;21;01maz\u001B[39;00m\n",
      "File \u001B[1;32m~\\.conda\\envs\\pymc_env\\lib\\site-packages\\theano\\__init__.py:83\u001B[0m, in \u001B[0;36m<module>\u001B[1;34m\u001B[0m\n\u001B[0;32m     75\u001B[0m \u001B[38;5;66;03m# This is the api version for ops that generate C code.  External ops\u001B[39;00m\n\u001B[0;32m     76\u001B[0m \u001B[38;5;66;03m# might need manual changes if this number goes up.  An undefined\u001B[39;00m\n\u001B[0;32m     77\u001B[0m \u001B[38;5;66;03m# __api_version__ can be understood to mean api version 0.\u001B[39;00m\n\u001B[0;32m     78\u001B[0m \u001B[38;5;66;03m#\u001B[39;00m\n\u001B[0;32m     79\u001B[0m \u001B[38;5;66;03m# This number is not tied to the release version and should change\u001B[39;00m\n\u001B[0;32m     80\u001B[0m \u001B[38;5;66;03m# very rarely.\u001B[39;00m\n\u001B[0;32m     81\u001B[0m __api_version__ \u001B[38;5;241m=\u001B[39m \u001B[38;5;241m1\u001B[39m\n\u001B[1;32m---> 83\u001B[0m \u001B[38;5;28;01mfrom\u001B[39;00m \u001B[38;5;21;01mtheano\u001B[39;00m \u001B[38;5;28;01mimport\u001B[39;00m scalar, tensor\n\u001B[0;32m     84\u001B[0m \u001B[38;5;28;01mfrom\u001B[39;00m \u001B[38;5;21;01mtheano\u001B[39;00m\u001B[38;5;21;01m.\u001B[39;00m\u001B[38;5;21;01mcompile\u001B[39;00m \u001B[38;5;28;01mimport\u001B[39;00m (\n\u001B[0;32m     85\u001B[0m     In,\n\u001B[0;32m     86\u001B[0m     Mode,\n\u001B[1;32m   (...)\u001B[0m\n\u001B[0;32m     93\u001B[0m     shared,\n\u001B[0;32m     94\u001B[0m )\n\u001B[0;32m     95\u001B[0m \u001B[38;5;28;01mfrom\u001B[39;00m \u001B[38;5;21;01mtheano\u001B[39;00m\u001B[38;5;21;01m.\u001B[39;00m\u001B[38;5;21;01mcompile\u001B[39;00m\u001B[38;5;21;01m.\u001B[39;00m\u001B[38;5;21;01mfunction\u001B[39;00m \u001B[38;5;28;01mimport\u001B[39;00m function, function_dump\n",
      "File \u001B[1;32m~\\.conda\\envs\\pymc_env\\lib\\site-packages\\theano\\tensor\\__init__.py:20\u001B[0m, in \u001B[0;36m<module>\u001B[1;34m\u001B[0m\n\u001B[0;32m      9\u001B[0m \u001B[38;5;28;01mfrom\u001B[39;00m \u001B[38;5;21;01mtheano\u001B[39;00m\u001B[38;5;21;01m.\u001B[39;00m\u001B[38;5;21;01mcompile\u001B[39;00m \u001B[38;5;28;01mimport\u001B[39;00m SpecifyShape, specify_shape\n\u001B[0;32m     10\u001B[0m \u001B[38;5;28;01mfrom\u001B[39;00m \u001B[38;5;21;01mtheano\u001B[39;00m\u001B[38;5;21;01m.\u001B[39;00m\u001B[38;5;21;01mgradient\u001B[39;00m \u001B[38;5;28;01mimport\u001B[39;00m (\n\u001B[0;32m     11\u001B[0m     Lop,\n\u001B[0;32m     12\u001B[0m     Rop,\n\u001B[1;32m   (...)\u001B[0m\n\u001B[0;32m     18\u001B[0m     verify_grad,\n\u001B[0;32m     19\u001B[0m )\n\u001B[1;32m---> 20\u001B[0m \u001B[38;5;28;01mfrom\u001B[39;00m \u001B[38;5;21;01mtheano\u001B[39;00m\u001B[38;5;21;01m.\u001B[39;00m\u001B[38;5;21;01mtensor\u001B[39;00m \u001B[38;5;28;01mimport\u001B[39;00m nnet  \u001B[38;5;66;03m# used for softmax, sigmoid, etc.\u001B[39;00m\n\u001B[0;32m     21\u001B[0m \u001B[38;5;28;01mfrom\u001B[39;00m \u001B[38;5;21;01mtheano\u001B[39;00m\u001B[38;5;21;01m.\u001B[39;00m\u001B[38;5;21;01mtensor\u001B[39;00m \u001B[38;5;28;01mimport\u001B[39;00m sharedvar  \u001B[38;5;66;03m# adds shared-variable constructors\u001B[39;00m\n\u001B[0;32m     22\u001B[0m \u001B[38;5;28;01mfrom\u001B[39;00m \u001B[38;5;21;01mtheano\u001B[39;00m\u001B[38;5;21;01m.\u001B[39;00m\u001B[38;5;21;01mtensor\u001B[39;00m \u001B[38;5;28;01mimport\u001B[39;00m (\n\u001B[0;32m     23\u001B[0m     blas,\n\u001B[0;32m     24\u001B[0m     blas_c,\n\u001B[1;32m   (...)\u001B[0m\n\u001B[0;32m     29\u001B[0m     xlogx,\n\u001B[0;32m     30\u001B[0m )\n",
      "File \u001B[1;32m~\\.conda\\envs\\pymc_env\\lib\\site-packages\\theano\\tensor\\nnet\\__init__.py:3\u001B[0m, in \u001B[0;36m<module>\u001B[1;34m\u001B[0m\n\u001B[0;32m      1\u001B[0m \u001B[38;5;28;01mimport\u001B[39;00m \u001B[38;5;21;01mwarnings\u001B[39;00m\n\u001B[1;32m----> 3\u001B[0m \u001B[38;5;28;01mfrom\u001B[39;00m \u001B[38;5;21;01m.\u001B[39;00m \u001B[38;5;28;01mimport\u001B[39;00m opt\n\u001B[0;32m      4\u001B[0m \u001B[38;5;28;01mfrom\u001B[39;00m \u001B[38;5;21;01m.\u001B[39;00m\u001B[38;5;21;01mabstract_conv\u001B[39;00m \u001B[38;5;28;01mimport\u001B[39;00m conv2d \u001B[38;5;28;01mas\u001B[39;00m abstract_conv2d\n\u001B[0;32m      5\u001B[0m \u001B[38;5;28;01mfrom\u001B[39;00m \u001B[38;5;21;01m.\u001B[39;00m\u001B[38;5;21;01mabstract_conv\u001B[39;00m \u001B[38;5;28;01mimport\u001B[39;00m conv2d_grad_wrt_inputs, conv3d, separable_conv2d\n",
      "File \u001B[1;32m~\\.conda\\envs\\pymc_env\\lib\\site-packages\\theano\\tensor\\nnet\\opt.py:51\u001B[0m, in \u001B[0;36m<module>\u001B[1;34m\u001B[0m\n\u001B[0;32m     47\u001B[0m         \u001B[38;5;28;01mreturn\u001B[39;00m [new_node]\n\u001B[0;32m     48\u001B[0m     \u001B[38;5;28;01mreturn\u001B[39;00m \u001B[38;5;28;01mFalse\u001B[39;00m\n\u001B[1;32m---> 51\u001B[0m \u001B[38;5;28;43mcompile\u001B[39;49m\u001B[38;5;241;43m.\u001B[39;49m\u001B[43moptdb\u001B[49m\u001B[38;5;241;43m.\u001B[39;49m\u001B[43mregister\u001B[49m\u001B[43m(\u001B[49m\n\u001B[0;32m     52\u001B[0m \u001B[43m    \u001B[49m\u001B[38;5;124;43m\"\u001B[39;49m\u001B[38;5;124;43mlocal_inplace_sparse_block_gemv\u001B[39;49m\u001B[38;5;124;43m\"\u001B[39;49m\u001B[43m,\u001B[49m\n\u001B[0;32m     53\u001B[0m \u001B[43m    \u001B[49m\u001B[43mTopoOptimizer\u001B[49m\u001B[43m(\u001B[49m\n\u001B[0;32m     54\u001B[0m \u001B[43m        \u001B[49m\u001B[43mlocal_inplace_sparse_block_gemv\u001B[49m\u001B[43m,\u001B[49m\u001B[43m \u001B[49m\u001B[43mfailure_callback\u001B[49m\u001B[38;5;241;43m=\u001B[39;49m\u001B[43mTopoOptimizer\u001B[49m\u001B[38;5;241;43m.\u001B[39;49m\u001B[43mwarn_inplace\u001B[49m\n\u001B[0;32m     55\u001B[0m \u001B[43m    \u001B[49m\u001B[43m)\u001B[49m\u001B[43m,\u001B[49m\n\u001B[0;32m     56\u001B[0m \u001B[43m    \u001B[49m\u001B[38;5;241;43m60\u001B[39;49m\u001B[43m,\u001B[49m\n\u001B[0;32m     57\u001B[0m \u001B[43m    \u001B[49m\u001B[38;5;124;43m\"\u001B[39;49m\u001B[38;5;124;43mfast_run\u001B[39;49m\u001B[38;5;124;43m\"\u001B[39;49m\u001B[43m,\u001B[49m\n\u001B[0;32m     58\u001B[0m \u001B[43m    \u001B[49m\u001B[38;5;124;43m\"\u001B[39;49m\u001B[38;5;124;43minplace\u001B[39;49m\u001B[38;5;124;43m\"\u001B[39;49m\u001B[43m,\u001B[49m\n\u001B[0;32m     59\u001B[0m \u001B[43m)\u001B[49m  \u001B[38;5;66;03m# DEBUG\u001B[39;00m\n\u001B[0;32m     62\u001B[0m \u001B[38;5;129m@local_optimizer\u001B[39m([SparseBlockOuter], inplace\u001B[38;5;241m=\u001B[39m\u001B[38;5;28;01mTrue\u001B[39;00m)\n\u001B[0;32m     63\u001B[0m \u001B[38;5;28;01mdef\u001B[39;00m \u001B[38;5;21mlocal_inplace_sparse_block_outer\u001B[39m(fgraph, node):\n\u001B[0;32m     64\u001B[0m     \u001B[38;5;124;03m\"\"\"\u001B[39;00m\n\u001B[0;32m     65\u001B[0m \u001B[38;5;124;03m    SparseBlockOuter(inplace=False) -> SparseBlockOuter(inplace=True)\u001B[39;00m\n\u001B[0;32m     66\u001B[0m \u001B[38;5;124;03m    \"\"\"\u001B[39;00m\n",
      "File \u001B[1;32m~\\.conda\\envs\\pymc_env\\lib\\site-packages\\theano\\graph\\optdb.py:355\u001B[0m, in \u001B[0;36mSequenceDB.register\u001B[1;34m(self, name, obj, position, *tags)\u001B[0m\n\u001B[0;32m    354\u001B[0m \u001B[38;5;28;01mdef\u001B[39;00m \u001B[38;5;21mregister\u001B[39m(\u001B[38;5;28mself\u001B[39m, name, obj, position, \u001B[38;5;241m*\u001B[39mtags):\n\u001B[1;32m--> 355\u001B[0m     \u001B[38;5;28;43msuper\u001B[39;49m\u001B[43m(\u001B[49m\u001B[43m)\u001B[49m\u001B[38;5;241;43m.\u001B[39;49m\u001B[43mregister\u001B[49m\u001B[43m(\u001B[49m\u001B[43mname\u001B[49m\u001B[43m,\u001B[49m\u001B[43m \u001B[49m\u001B[43mobj\u001B[49m\u001B[43m,\u001B[49m\u001B[43m \u001B[49m\u001B[38;5;241;43m*\u001B[39;49m\u001B[43mtags\u001B[49m\u001B[43m)\u001B[49m\n\u001B[0;32m    356\u001B[0m     \u001B[38;5;28;01mif\u001B[39;00m position \u001B[38;5;241m==\u001B[39m \u001B[38;5;124m\"\u001B[39m\u001B[38;5;124mlast\u001B[39m\u001B[38;5;124m\"\u001B[39m:\n\u001B[0;32m    357\u001B[0m         \u001B[38;5;28;01mif\u001B[39;00m \u001B[38;5;28mlen\u001B[39m(\u001B[38;5;28mself\u001B[39m\u001B[38;5;241m.\u001B[39m__position__) \u001B[38;5;241m==\u001B[39m \u001B[38;5;241m0\u001B[39m:\n",
      "File \u001B[1;32m~\\.conda\\envs\\pymc_env\\lib\\site-packages\\theano\\graph\\optdb.py:52\u001B[0m, in \u001B[0;36mDB.register\u001B[1;34m(self, name, obj, *tags, **kwargs)\u001B[0m\n\u001B[0;32m     50\u001B[0m     \u001B[38;5;28;01mraise\u001B[39;00m \u001B[38;5;167;01mTypeError\u001B[39;00m(\u001B[38;5;124m\"\u001B[39m\u001B[38;5;124mObject cannot be registered in OptDB\u001B[39m\u001B[38;5;124m\"\u001B[39m, obj)\n\u001B[0;32m     51\u001B[0m \u001B[38;5;28;01mif\u001B[39;00m name \u001B[38;5;129;01min\u001B[39;00m \u001B[38;5;28mself\u001B[39m\u001B[38;5;241m.\u001B[39m__db__:\n\u001B[1;32m---> 52\u001B[0m     \u001B[38;5;28;01mraise\u001B[39;00m \u001B[38;5;167;01mValueError\u001B[39;00m(\n\u001B[0;32m     53\u001B[0m         \u001B[38;5;124m\"\u001B[39m\u001B[38;5;124mThe name of the object cannot be an existing\u001B[39m\u001B[38;5;124m\"\u001B[39m\n\u001B[0;32m     54\u001B[0m         \u001B[38;5;124m\"\u001B[39m\u001B[38;5;124m tag or the name of another existing object.\u001B[39m\u001B[38;5;124m\"\u001B[39m,\n\u001B[0;32m     55\u001B[0m         obj,\n\u001B[0;32m     56\u001B[0m         name,\n\u001B[0;32m     57\u001B[0m     )\n\u001B[0;32m     58\u001B[0m \u001B[38;5;28;01mif\u001B[39;00m kwargs:\n\u001B[0;32m     59\u001B[0m     \u001B[38;5;28;01massert\u001B[39;00m \u001B[38;5;124m\"\u001B[39m\u001B[38;5;124muse_db_name_as_tag\u001B[39m\u001B[38;5;124m\"\u001B[39m \u001B[38;5;129;01min\u001B[39;00m kwargs\n",
      "\u001B[1;31mValueError\u001B[0m: ('The name of the object cannot be an existing tag or the name of another existing object.', <theano.graph.opt.TopoOptimizer object at 0x00000272011FF1F0>, 'local_inplace_sparse_block_gemv')"
     ]
    }
   ],
   "source": [
    "# import numpy as np\n",
    "import pandas as pd\n",
    "import theano.tensor as tt\n",
    "import pymc3 as pm\n",
    "import arviz as az\n",
    "\n",
    "### with the new combination of theano and PyMC3, amongst others, DelayedSaturedMMM is not working\n",
    "from pymc_marketing.mmm import DelayedSaturatedMMM"
   ]
  },
  {
   "cell_type": "code",
   "execution_count": null,
   "outputs": [],
   "source": [
    "### with the new combination of theano and PyMC3, amongst others, DelayedSaturedMMM is not working\n",
    "from pymc_marketing.mmm import DelayedSaturatedMMM"
   ],
   "metadata": {
    "collapsed": false,
    "ExecuteTime": {
     "start_time": "2023-05-21T02:33:10.918187800Z"
    }
   }
  },
  {
   "cell_type": "code",
   "execution_count": null,
   "outputs": [],
   "source": [
    "data = pd.read_csv(\n",
    "    'C:/Users/norri/Desktop/pymc_data.csv',\n",
    "    parse_dates=['Date']\n",
    "    # index_col='Date'\n",
    ")\n",
    "\n",
    "X = data.drop(columns=['Sales'])\n",
    "y = data['Sales']"
   ],
   "metadata": {
    "collapsed": false,
    "ExecuteTime": {
     "start_time": "2023-05-21T02:33:10.920186900Z"
    }
   }
  },
  {
   "cell_type": "code",
   "execution_count": null,
   "outputs": [],
   "source": [
    "mmm = DelayedSaturatedMMM(\n",
    "    data=data,\n",
    "    target_column=\"Sales\",\n",
    "    date_column=\"Date\",\n",
    "    channel_columns=[\"TV\", \"Radio\", \"Banners\"],\n",
    ")"
   ],
   "metadata": {
    "collapsed": false,
    "ExecuteTime": {
     "start_time": "2023-05-21T02:33:10.921187100Z"
    }
   }
  },
  {
   "cell_type": "code",
   "execution_count": null,
   "outputs": [],
   "source": [
    "pm.model_to_graphviz(model=mmm.model)"
   ],
   "metadata": {
    "collapsed": false,
    "ExecuteTime": {
     "start_time": "2023-05-21T02:33:10.923188100Z"
    }
   }
  },
  {
   "cell_type": "code",
   "execution_count": null,
   "outputs": [],
   "source": [
    "mmm.fit()"
   ],
   "metadata": {
    "collapsed": false,
    "ExecuteTime": {
     "start_time": "2023-05-21T02:33:10.925186300Z"
    }
   }
  },
  {
   "cell_type": "code",
   "execution_count": 9,
   "outputs": [
    {
     "ename": "NameError",
     "evalue": "name 'az' is not defined",
     "output_type": "error",
     "traceback": [
      "\u001B[1;31m---------------------------------------------------------------------------\u001B[0m",
      "\u001B[1;31mNameError\u001B[0m                                 Traceback (most recent call last)",
      "Input \u001B[1;32mIn [9]\u001B[0m, in \u001B[0;36m<cell line: 1>\u001B[1;34m()\u001B[0m\n\u001B[1;32m----> 1\u001B[0m \u001B[43maz\u001B[49m\u001B[38;5;241m.\u001B[39msummary(\n\u001B[0;32m      2\u001B[0m     data\u001B[38;5;241m=\u001B[39mmmm\u001B[38;5;241m.\u001B[39mfit_result,\n\u001B[0;32m      3\u001B[0m     var_names\u001B[38;5;241m=\u001B[39m[\u001B[38;5;124m\"\u001B[39m\u001B[38;5;124mintercept\u001B[39m\u001B[38;5;124m\"\u001B[39m, \u001B[38;5;124m\"\u001B[39m\u001B[38;5;124mbeta_channel\u001B[39m\u001B[38;5;124m\"\u001B[39m, \u001B[38;5;124m\"\u001B[39m\u001B[38;5;124malpha\u001B[39m\u001B[38;5;124m\"\u001B[39m,  \u001B[38;5;124m\"\u001B[39m\u001B[38;5;124mlam\u001B[39m\u001B[38;5;124m\"\u001B[39m, \u001B[38;5;124m\"\u001B[39m\u001B[38;5;124msigma\u001B[39m\u001B[38;5;124m\"\u001B[39m]\n\u001B[0;32m      4\u001B[0m )\n",
      "\u001B[1;31mNameError\u001B[0m: name 'az' is not defined"
     ]
    }
   ],
   "source": [
    "az.summary(\n",
    "    data=mmm.fit_result,\n",
    "    var_names=[\"intercept\", \"beta_channel\", \"alpha\",  \"lam\", \"sigma\"]\n",
    ")"
   ],
   "metadata": {
    "collapsed": false
   }
  },
  {
   "cell_type": "markdown",
   "source": [],
   "metadata": {
    "collapsed": false
   }
  },
  {
   "cell_type": "code",
   "execution_count": null,
   "outputs": [],
   "source": [
    "mmm.plot_channel_parameter(param_name=\"alpha\", figsize=(9, 5))"
   ],
   "metadata": {
    "collapsed": false
   }
  },
  {
   "cell_type": "code",
   "execution_count": 10,
   "outputs": [
    {
     "ename": "NameError",
     "evalue": "name 'mmm' is not defined",
     "output_type": "error",
     "traceback": [
      "\u001B[1;31m---------------------------------------------------------------------------\u001B[0m",
      "\u001B[1;31mNameError\u001B[0m                                 Traceback (most recent call last)",
      "Input \u001B[1;32mIn [10]\u001B[0m, in \u001B[0;36m<cell line: 1>\u001B[1;34m()\u001B[0m\n\u001B[1;32m----> 1\u001B[0m \u001B[43mmmm\u001B[49m\u001B[38;5;241m.\u001B[39mplot_channel_contribution_share_hdi()\n",
      "\u001B[1;31mNameError\u001B[0m: name 'mmm' is not defined"
     ]
    }
   ],
   "source": [
    "mmm.plot_channel_contribution_share_hdi()"
   ],
   "metadata": {
    "collapsed": false
   }
  },
  {
   "cell_type": "code",
   "execution_count": 11,
   "outputs": [
    {
     "ename": "NameError",
     "evalue": "name 'mmm' is not defined",
     "output_type": "error",
     "traceback": [
      "\u001B[1;31m---------------------------------------------------------------------------\u001B[0m",
      "\u001B[1;31mNameError\u001B[0m                                 Traceback (most recent call last)",
      "Input \u001B[1;32mIn [11]\u001B[0m, in \u001B[0;36m<cell line: 1>\u001B[1;34m()\u001B[0m\n\u001B[1;32m----> 1\u001B[0m \u001B[43mmmm\u001B[49m\u001B[38;5;241m.\u001B[39mplot_posterior_predictive(original_scale\u001B[38;5;241m=\u001B[39m\u001B[38;5;28;01mTrue\u001B[39;00m)\n",
      "\u001B[1;31mNameError\u001B[0m: name 'mmm' is not defined"
     ]
    }
   ],
   "source": [
    "mmm.plot_posterior_predictive(original_scale=True)"
   ],
   "metadata": {
    "collapsed": false
   }
  },
  {
   "cell_type": "code",
   "execution_count": 12,
   "outputs": [
    {
     "ename": "NameError",
     "evalue": "name 'mmm' is not defined",
     "output_type": "error",
     "traceback": [
      "\u001B[1;31m---------------------------------------------------------------------------\u001B[0m",
      "\u001B[1;31mNameError\u001B[0m                                 Traceback (most recent call last)",
      "Input \u001B[1;32mIn [12]\u001B[0m, in \u001B[0;36m<cell line: 1>\u001B[1;34m()\u001B[0m\n\u001B[1;32m----> 1\u001B[0m \u001B[43mmmm\u001B[49m\u001B[38;5;241m.\u001B[39mplot_components_contributions()\n",
      "\u001B[1;31mNameError\u001B[0m: name 'mmm' is not defined"
     ]
    }
   ],
   "source": [
    "mmm.plot_components_contributions()"
   ],
   "metadata": {
    "collapsed": false
   }
  }
 ],
 "metadata": {
  "kernelspec": {
   "name": "python3",
   "language": "python",
   "display_name": "Python 3 (ipykernel)"
  },
  "language_info": {
   "codemirror_mode": {
    "name": "ipython",
    "version": 2
   },
   "file_extension": ".py",
   "mimetype": "text/x-python",
   "name": "python",
   "nbconvert_exporter": "python",
   "pygments_lexer": "ipython2",
   "version": "2.7.6"
  }
 },
 "nbformat": 4,
 "nbformat_minor": 0
}
