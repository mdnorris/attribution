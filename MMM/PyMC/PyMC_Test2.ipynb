{
 "cells": [
  {
   "cell_type": "code",
   "execution_count": null,
   "outputs": [],
   "source": [
    "\n",
    "import arviz as az\n",
    "import matplotlib.pyplot as plt\n",
    "import numpy as np\n",
    "import pandas as pd\n",
    "import pymc as pm\n",
    "import seaborn as sns\n",
    "import theano.tensor as tt\n",
    "import pymc3 as pm\n",
    "\n",
    "from pymc_marketing.mmm.transformers import geometric_adstock, logistic_saturation\n",
    "from pymc_marketing.mmm.delayed_saturated_mmm import DelayedSaturatedMMM\n",
    "from pymc_marketing.mmm.utils import generate_fourier_modes\n",
    "\n",
    "az.style.use(\"arviz-darkgrid\")\n",
    "plt.rcParams[\"figure.figsize\"] = [8, 8]\n",
    "plt.rcParams[\"figure.dpi\"] = 100\n",
    "\n",
    "%load_ext autoreload\n",
    "%autoreload 2\n",
    "%config InlineBackend.figure_format = \"retina\""
   ],
   "metadata": {
    "collapsed": false,
    "is_executing": true
   }
  },
  {
   "cell_type": "code",
   "execution_count": null,
   "outputs": [],
   "source": [
    "data = pd.read_csv('C:/Users/norri/Desktop/pymc_data.csv',\n",
    "    parse_dates=['Date'], index_col='Date')"
   ],
   "metadata": {
    "collapsed": false
   }
  },
  {
   "cell_type": "code",
   "execution_count": null,
   "outputs": [],
   "source": [
    "X = data.drop(columns=['Sales'])\n",
    "y = data['Sales']"
   ],
   "metadata": {
    "collapsed": false
   }
  },
  {
   "cell_type": "code",
   "execution_count": null,
   "outputs": [],
   "source": [
    "def saturate(x, a):\n",
    "    return 1 - tt.exp(-a*x)\n",
    "\n",
    "def carryover(x, strength, length=21):\n",
    "    w = tt.as_tensor_variable(\n",
    "        [tt.power(strength, i) for i in range(length)]\n",
    "    )\n",
    "    x_lags = tt.stack(\n",
    "        [tt.concatenate([\n",
    "            tt.zeros(i),\n",
    "            x[:x.shape[0]-i]\n",
    "        ]) for i in range(length)]\n",
    "    )\n",
    "    return tt.dot(w, x_lags)"
   ],
   "metadata": {
    "collapsed": false
   }
  },
  {
   "cell_type": "code",
   "execution_count": null,
   "outputs": [],
   "source": [
    "with pm.Model() as mmm:\n",
    "    channel_contributions = []\n",
    "    for channel in X.columns:\n",
    "        coef = pm.Exponential(f'coef_{channel}', lam=0.0001)\n",
    "        sat = pm.Exponential(f'sat_{channel}', lam=1)\n",
    "        car = pm.Beta(f'car_{channel}', alpha=2, beta=2)\n",
    "        channel_data = X[channel].values\n",
    "        channel_contribution = pm.Deterministic(\n",
    "            f'contribution_{channel}',\n",
    "            coef * saturate(\n",
    "                carryover(\n",
    "                    channel_data,\n",
    "                    car\n",
    "                ),\n",
    "                sat\n",
    "            )\n",
    "        )\n",
    "        channel_contributions.append(channel_contribution)\n",
    "    base = pm.Exponential('base', lam=0.0001)\n",
    "    noise = pm.Exponential('noise', lam=0.0001)\n",
    "    sales = pm.Normal(\n",
    "        'sales',\n",
    "        mu=sum(channel_contributions) + base,\n",
    "        sigma=noise,\n",
    "        observed=y\n",
    "    )\n",
    "    trace = pm.sample(return_inferencedata=True, tune=3000)"
   ],
   "metadata": {
    "collapsed": false
   }
  },
  {
   "cell_type": "code",
   "execution_count": null,
   "outputs": [],
   "source": [
    "az.plot_posterior(trace, var_names=['~contribution'],\n",
    "    filter_vars='like')"
   ],
   "metadata": {
    "collapsed": false
   }
  },
  {
   "cell_type": "code",
   "execution_count": null,
   "outputs": [],
   "source": [
    "az.plot_pair(trace, var_names=[\"coef_TV\", \"sat_TV\"],\n",
    "    divergences=True, textsize=18)"
   ],
   "metadata": {
    "collapsed": false
   }
  },
  {
   "cell_type": "code",
   "execution_count": null,
   "outputs": [],
   "source": [
    "az.plot_pair(trace, var_names=['car_TV', 'sat_TV'],\n",
    "             divergences=True, textsize=18)"
   ],
   "metadata": {
    "collapsed": false
   }
  },
  {
   "cell_type": "code",
   "execution_count": null,
   "outputs": [],
   "source": [
    "with mmm:\n",
    "    posterior = pm.sample_posterior_predictive(trace)"
   ],
   "metadata": {
    "collapsed": false
   }
  },
  {
   "cell_type": "code",
   "execution_count": null,
   "outputs": [],
   "source": [
    "means = posterior['sales'].mean(0)\n",
    "stds = posterior['sales'].std(0)\n",
    "\n",
    "plt.figure(figsize=(20, 8))\n",
    "plt.plot(y.values, linewidth=2, c='r', label='Observations')\n",
    "plt.plot(means, linewidth=1, c='b', label='Mean prediction')\n",
    "plt.fill_between(np.arange(len(y)), means - 2*stds, means + 2*stds, alpha=0.33)\n",
    "plt.legend()"
   ],
   "metadata": {
    "collapsed": false
   }
  },
  {
   "cell_type": "code",
   "execution_count": null,
   "outputs": [],
   "source": [
    "#channel contributions picture, let us take the means to end up with a single value again. Since we introduced some channel contribution #variables in the PyMC3 code, we can easily extract them now using a short compute_mean function.\n",
    "\n",
    "def compute_mean(trace, channel):\n",
    "    return (trace\n",
    "            .posterior[f'contribution_{channel}']\n",
    "            .values\n",
    "            .reshape(4000, 200)\n",
    "            .mean(0)\n",
    "           )\n",
    "\n",
    "channels = ['Banners', 'Radio', 'TV']\n",
    "unadj_contributions = pd.DataFrame(\n",
    "    {'Base': trace.posterior['base'].values.mean()},\n",
    "    index=X.index\n",
    ")\n",
    "\n",
    "for channel in channels:\n",
    "    unadj_contributions[channel] = compute_mean(trace, channel)\n",
    "\n",
    "adj_contributions = (unadj_contributions\n",
    "                     .div(unadj_contributions.sum(axis=1), axis=0)\n",
    "                     .mul(y, axis=0)\n",
    "                    )\n",
    "\n",
    "ax = (adj_contributions\n",
    "      .plot.area(\n",
    "          figsize=(16, 10),\n",
    "          linewidth=1,\n",
    "          title='Predicted Sales and Breakdown',\n",
    "          ylabel='Sales',\n",
    "          xlabel='Date'\n",
    "      )\n",
    "     )\n",
    "\n",
    "handles, labels = ax.get_legend_handles_labels()\n",
    "ax.legend(\n",
    "    handles[::-1], labels[::-1],\n",
    "    title='Channels', loc=\"center left\",\n",
    "    bbox_to_anchor=(1.01, 0.5)\n",
    ")"
   ],
   "metadata": {
    "collapsed": false
   }
  },
  {
   "cell_type": "code",
   "execution_count": null,
   "outputs": [],
   "source": [
    "from pymc_marketing.mmm import DelayedSaturatedMMM\n",
    "\n",
    "data = pd.read_csv('C:/Users/norri/Desktop/pymc_data.csv',\n",
    "                   parse_dates=['Date'])\n",
    "\n",
    "mmm = DelayedSaturatedMMM(\n",
    "    data=data,\n",
    "    target_column=\"Sales\",\n",
    "    date_column=\"Date\",\n",
    "    channel_columns=[\"TV\", \"Radio\", \"Banners\"],\n",
    ")"
   ],
   "metadata": {
    "collapsed": false
   }
  },
  {
   "cell_type": "code",
   "execution_count": null,
   "outputs": [],
   "source": [],
   "metadata": {
    "collapsed": false
   }
  }
 ],
 "metadata": {
  "kernelspec": {
   "name": "python3",
   "language": "python",
   "display_name": "Python 3 (ipykernel)"
  },
  "language_info": {
   "codemirror_mode": {
    "name": "ipython",
    "version": 2
   },
   "file_extension": ".py",
   "mimetype": "text/x-python",
   "name": "python",
   "nbconvert_exporter": "python",
   "pygments_lexer": "ipython2",
   "version": "2.7.6"
  }
 },
 "nbformat": 4,
 "nbformat_minor": 0
}
