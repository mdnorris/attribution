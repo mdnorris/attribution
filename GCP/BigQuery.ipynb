{
 "cells": [
  {
   "cell_type": "markdown",
   "source": [
    "1. Open terminal and enter the following 'pip install --upgrade google-cloud-BigQuery' as well as\n",
    "'pip install pandas-gbq'\n",
    "2. Download the new JDBC (not the ODBC driver) from\n",
    "https://cloud.google.com/bigquery/docs/reference/odbc-jdbc-drivers#jdbc_release_132_1003\n",
    "3. Go to the database add-on and click on the plus sign, then data source, then BigQuery\n",
    "4. Go to the drivers tab, and in the section named drivers files, add a JAR File, with\n",
    "the location of your download JDBC\n",
    "5. Go back to the main Data Sources tab, change the authentification type to Google User Account\n",
    "then for project put, all lowercase, 'projectmercuryv1'\n",
    "6. Try the test button, and hopefull it opens a Chrome window for you to enter your GCP credentials\n",
    "7. Tips on queries are on these sites:\n",
    "https://github.com/googleapis/python-bigquery/tree/280656c47f0aca924c881bdde811702f8693a469/samples\n",
    "https://github.com/googleapis/python-bigquery/tree/280656c47f0aca924c881bdde811702f8693a469/google/cloud/bigquery_v2/types\n",
    "https://cloud.google.com/bigquery/docs/visualize-jupyter#browse_bigquery_resources_in_jupyterlab\n",
    "https://hevodata.com/learn/bigquery-jupyter-notebook/"
   ],
   "metadata": {
    "collapsed": false
   }
  },
  {
   "cell_type": "markdown",
   "source": [
    "You may have also have to install these if there's an error:\n",
    "1. pip install pandas-gbq\n",
    "2. pip install --upgrade 'google-cloud-bigquery[bqstorage,pandas]'\n",
    "3. conda install pyarrow"
   ],
   "metadata": {
    "collapsed": false
   }
  },
  {
   "cell_type": "code",
   "execution_count": 3,
   "outputs": [],
   "source": [
    "import pandas as pd\n",
    "import pandas_gbq\n",
    "import pyarrow\n",
    "\n",
    "from google.cloud import bigquery\n",
    "\n",
    "pandas_gbq.context.project = 'projectmercuryv1'\n",
    "# if you hover over some methods, you can see different\n",
    "# parameters. for example, you can change 'standard' to\n",
    "# 'legacy' to get traditional BQ SQL\n",
    "pandas_gbq.context.dialect = 'standard'\n",
    "\n",
    "%matplotlib inline"
   ],
   "metadata": {
    "collapsed": false,
    "ExecuteTime": {
     "end_time": "2023-06-26T19:21:43.751970200Z",
     "start_time": "2023-06-26T19:21:43.746968800Z"
    }
   }
  },
  {
   "cell_type": "code",
   "execution_count": 1,
   "outputs": [],
   "source": [
    "%load_ext google.cloud.bigquery"
   ],
   "metadata": {
    "collapsed": false,
    "ExecuteTime": {
     "end_time": "2023-06-26T19:21:28.715564600Z",
     "start_time": "2023-06-26T19:21:28.400942100Z"
    }
   }
  },
  {
   "cell_type": "markdown",
   "source": [
    "For some reason, this defaults to the tyson project,\n",
    "so you have to remind it frequently what project we need."
   ],
   "metadata": {
    "collapsed": false
   }
  },
  {
   "cell_type": "code",
   "execution_count": 4,
   "outputs": [],
   "source": [
    "client = bigquery.Client(project='projectmercuryv1')"
   ],
   "metadata": {
    "collapsed": false,
    "ExecuteTime": {
     "end_time": "2023-06-26T19:21:54.665767100Z",
     "start_time": "2023-06-26T19:21:52.603406400Z"
    }
   }
  },
  {
   "cell_type": "markdown",
   "source": [
    "This is one of the most basic ways to query."
   ],
   "metadata": {
    "collapsed": false
   }
  },
  {
   "cell_type": "code",
   "execution_count": 65,
   "outputs": [],
   "source": [
    "QUERY = (\n",
    "    'SELECT * FROM `bkm_dev_1_warehouse.ams_campaign` '\n",
    ")"
   ],
   "metadata": {
    "collapsed": false,
    "ExecuteTime": {
     "end_time": "2023-05-26T15:32:39.121181400Z",
     "start_time": "2023-05-26T15:32:39.106182200Z"
    }
   }
  },
  {
   "cell_type": "code",
   "execution_count": 66,
   "outputs": [
    {
     "name": "stdout",
     "output_type": "stream",
     "text": [
      "nutraleaf_targeting_v1\n",
      "nipple_balm_targeting_v3\n",
      "Dough Whisk | SP\n",
      "Test\n",
      "Brown Leather\n",
      "Lolli Living Lampshade, Pink Zig Zag\n",
      "Sparrow Pillow - Fox\n",
      "Lolli Living Lampshade, Blue\n",
      "Lolli Living Sparrow Crib Skirt, Tripod\n",
      "Living Textiles Muslin Jacquard Blanket, Pink Bird\n"
     ]
    }
   ],
   "source": [
    "query_job = client.query(QUERY)  # API request\n",
    "rows = query_job.result(page_size=10, max_results=10)  # Waits for query to finish\n",
    "\n",
    "for row in rows:\n",
    "    print(row.campaign_name)"
   ],
   "metadata": {
    "collapsed": false,
    "ExecuteTime": {
     "end_time": "2023-05-26T15:32:40.364147300Z",
     "start_time": "2023-05-26T15:32:39.124182Z"
    }
   }
  },
  {
   "cell_type": "markdown",
   "source": [
    "You can use this to list all of the datasets in a project."
   ],
   "metadata": {
    "collapsed": false
   }
  },
  {
   "cell_type": "code",
   "execution_count": 5,
   "outputs": [],
   "source": [
    "def list_datasets() -> None:\n",
    "    client = bigquery.Client(project='projectmercuryv1')\n",
    "    datasets = list(client.list_datasets())  # Make an API request.\n",
    "    project = client.project\n",
    "\n",
    "    if datasets:\n",
    "        print(\"Datasets in project {}:\".format(project))\n",
    "        for dataset in datasets:\n",
    "            print(\"\\t{}\".format(dataset.dataset_id))\n",
    "    else:\n",
    "        print(\"{} project does not contain any datasets.\".format(project))"
   ],
   "metadata": {
    "collapsed": false,
    "ExecuteTime": {
     "end_time": "2023-06-26T19:22:09.799175Z",
     "start_time": "2023-06-26T19:22:09.785166900Z"
    }
   }
  },
  {
   "cell_type": "markdown",
   "source": [
    "And now this to list all of the tables in a dataset."
   ],
   "metadata": {
    "collapsed": false
   }
  },
  {
   "cell_type": "code",
   "execution_count": 6,
   "outputs": [],
   "source": [
    "def list_tables(dataset_id: str) -> None:\n",
    "    client = bigquery.Client(project='projectmercuryv1')\n",
    "    tables = client.list_tables(dataset_id)  # Make an API request.\n",
    "\n",
    "    print(\"Tables contained in '{}':\".format(dataset_id))\n",
    "    for table in tables:\n",
    "        print(\"{}.{}.{}\".format(table.project, table.dataset_id, table.table_id))"
   ],
   "metadata": {
    "collapsed": false,
    "ExecuteTime": {
     "end_time": "2023-06-26T19:22:12.788596100Z",
     "start_time": "2023-06-26T19:22:12.770588Z"
    }
   }
  },
  {
   "cell_type": "code",
   "execution_count": 7,
   "outputs": [
    {
     "name": "stdout",
     "output_type": "stream",
     "text": [
      "Tables contained in 'bkm_prod_warehouse':\n",
      "projectmercuryv1.bkm_prod_warehouse.ams_asins_report_sponsored_products\n",
      "projectmercuryv1.bkm_prod_warehouse.ams_campaign\n",
      "projectmercuryv1.bkm_prod_warehouse.ams_campaign_report_sponsored_display\n",
      "projectmercuryv1.bkm_prod_warehouse.ams_campaign_report_sponsored_products\n",
      "projectmercuryv1.bkm_prod_warehouse.ams_campaign_snapshot_history\n",
      "projectmercuryv1.bkm_prod_warehouse.ams_keyword\n",
      "projectmercuryv1.bkm_prod_warehouse.ams_keyword_latest\n",
      "projectmercuryv1.bkm_prod_warehouse.ams_keyword_report_headline_search\n",
      "projectmercuryv1.bkm_prod_warehouse.ams_keyword_report_headline_search_snapshot\n",
      "projectmercuryv1.bkm_prod_warehouse.ams_keyword_report_sponsored_products\n",
      "projectmercuryv1.bkm_prod_warehouse.ams_keyword_snapshot_history\n",
      "projectmercuryv1.bkm_prod_warehouse.ams_portfolio\n",
      "projectmercuryv1.bkm_prod_warehouse.ams_portfolio_snapshot_history\n",
      "projectmercuryv1.bkm_prod_warehouse.ams_product_ads_report_sponsored_products\n",
      "projectmercuryv1.bkm_prod_warehouse.ams_product_ads_report_sponsored_products_snapshot\n",
      "projectmercuryv1.bkm_prod_warehouse.ams_profile\n",
      "projectmercuryv1.bkm_prod_warehouse.ams_profile_snapshot_history\n",
      "projectmercuryv1.bkm_prod_warehouse.ams_target_report_sponsored_products\n",
      "projectmercuryv1.bkm_prod_warehouse.avc_chargeback\n",
      "projectmercuryv1.bkm_prod_warehouse.avc_chargeback_snapshot_history\n",
      "projectmercuryv1.bkm_prod_warehouse.avc_chargeback_snapshot_history_table\n",
      "projectmercuryv1.bkm_prod_warehouse.avc_closed_po_summary_v3\n",
      "projectmercuryv1.bkm_prod_warehouse.avc_closed_po_v3\n",
      "projectmercuryv1.bkm_prod_warehouse.avc_coop_invoice_summary\n",
      "projectmercuryv1.bkm_prod_warehouse.avc_coop_invoice_summary_snapshot_history\n",
      "projectmercuryv1.bkm_prod_warehouse.avc_invoice\n",
      "projectmercuryv1.bkm_prod_warehouse.avc_invoice_snapshot_history\n",
      "projectmercuryv1.bkm_prod_warehouse.avc_open_po_snapshot_history_v2\n",
      "projectmercuryv1.bkm_prod_warehouse.avc_open_po_summary_snapshot_history_v2\n",
      "projectmercuryv1.bkm_prod_warehouse.avc_open_po_summary_v2\n",
      "projectmercuryv1.bkm_prod_warehouse.avc_open_po_v2\n",
      "projectmercuryv1.bkm_prod_warehouse.avc_portal_import_daily__jmsmucker_chargeback_snapshot\n",
      "projectmercuryv1.bkm_prod_warehouse.avc_remittance\n",
      "projectmercuryv1.bkm_prod_warehouse.avc_remittance_payments\n",
      "projectmercuryv1.bkm_prod_warehouse.avc_remittance_payments_snapshot_history\n",
      "projectmercuryv1.bkm_prod_warehouse.avc_remittance_snapshot_history\n",
      "projectmercuryv1.bkm_prod_warehouse.sp_api_product_vendor_forecast_daily_latest\n",
      "projectmercuryv1.bkm_prod_warehouse.sp_api_product_vendor_forecast_daily_snapshot_history\n",
      "projectmercuryv1.bkm_prod_warehouse.sp_api_product_vendor_inventory_daily_latest\n",
      "projectmercuryv1.bkm_prod_warehouse.sp_api_product_vendor_inventory_daily_snapshot_history\n",
      "projectmercuryv1.bkm_prod_warehouse.sp_api_product_vendor_sales_daily_latest\n",
      "projectmercuryv1.bkm_prod_warehouse.sp_api_product_vendor_sales_daily_snapshot_history\n",
      "projectmercuryv1.bkm_prod_warehouse.sp_api_product_vendor_traffic_daily_latest\n",
      "projectmercuryv1.bkm_prod_warehouse.sp_api_product_vendor_traffic_daily_snapshot_history\n",
      "projectmercuryv1.bkm_prod_warehouse.sp_api_seller_inventory_planning_data_daily_snapshot_history\n",
      "projectmercuryv1.bkm_prod_warehouse.sp_api_seller_inventory_v2_latest\n",
      "projectmercuryv1.bkm_prod_warehouse.sp_api_seller_order_latest\n"
     ]
    }
   ],
   "source": [
    "list_tables(dataset_id='bkm_prod_warehouse')"
   ],
   "metadata": {
    "collapsed": false,
    "ExecuteTime": {
     "end_time": "2023-06-26T19:22:15.992256900Z",
     "start_time": "2023-06-26T19:22:14.655295100Z"
    }
   }
  },
  {
   "cell_type": "code",
   "execution_count": 70,
   "outputs": [],
   "source": [
    "def browse_table_data(table_id: str) -> None:\n",
    "    client = bigquery.Client(project='projectmercuryv1')\n",
    "    table = client.get_table(table_id)  # Make an API request.\n",
    "    fields = table.schema[:]  # First two columns.\n",
    "    rows_iter = client.list_rows(table_id, selected_fields=fields, max_results=10)\n",
    "\n",
    "    print(\"Selected {} columns from table {}.\".format(len(rows_iter.schema), table_id))\n",
    "\n",
    "    rows_iter = client.list_rows(table_id, max_results=10)\n",
    "    format_string = \"{!s:<16} \" * len(rows_iter.schema)\n",
    "    field_names = [field.name for field in rows_iter.schema]\n",
    "    print(format_string.format(*field_names))  # Prints column header\n",
    "    # for row in rows_iter:\n",
    "    #     print(format_string.format(*row))  #"
   ],
   "metadata": {
    "collapsed": false,
    "ExecuteTime": {
     "end_time": "2023-05-26T15:32:41.491030800Z",
     "start_time": "2023-05-26T15:32:41.472019900Z"
    }
   }
  },
  {
   "cell_type": "code",
   "execution_count": 71,
   "outputs": [
    {
     "name": "stdout",
     "output_type": "stream",
     "text": [
      "Selected 42 columns from table projectmercuryv1.bkm_prod_warehouse.sp_api_seller_order_latest.\n",
      "data_start_date  data_end_date    selling_partner_id report_id        document_id      report_creation_time marketplace_id   run_id           created_at       updated_at       is_backfilled    sku              asin             product_name     amazon_order_id  merchant_order_id purchase_date    last_updated_date order_status     sales_channel    fulfillment_channel ship_service_level address_city     address_state    address_postal_code address_country  is_business_order item_status      quantity         item_price_currency item_price       item_tax         shipping_price   shipping_tax     gift_wrap_price  gift_wrap_tax    item_promotion_discount ship_promotion_discount promotion_ids    purchase_order_number price_designation order_channel    \n"
     ]
    }
   ],
   "source": [
    "browse_table_data(table_id='projectmercuryv1.bkm_prod_warehouse.sp_api_seller_order_latest')"
   ],
   "metadata": {
    "collapsed": false,
    "ExecuteTime": {
     "end_time": "2023-05-26T15:32:42.773513100Z",
     "start_time": "2023-05-26T15:32:41.485022200Z"
    }
   }
  },
  {
   "cell_type": "code",
   "execution_count": 72,
   "outputs": [
    {
     "name": "stdout",
     "output_type": "stream",
     "text": [
      "Datasets in project projectmercuryv1:\n",
      "\tLooker_Test\n",
      "\tbkm_dev_1_warehouse\n",
      "\tbkm_dev_fivetran_warehouse\n",
      "\tbkm_dev_replica_warehouse\n",
      "\tbkm_dev_test_decoding_warehouse\n",
      "\tbkm_dev_warehouse\n",
      "\tbkm_prod_warehouse\n",
      "\tbkm_staging\n",
      "\tbkm_staging_test\n",
      "\tbkm_staging_warehouse\n",
      "\tbq_dev_db\n",
      "\tbq_forecast\n",
      "\tbqml_tutorial\n",
      "\tdaily_kind_forecast\n",
      "\tdbt_jekholm\n",
      "\tfivetran_consciousness_president_staging\n",
      "\thivehq\n",
      "\tmultivariate_forecasting\n",
      "\tpostgres_rds_warehouse\n",
      "\ttest_bkm_staging_warehouse\n",
      "\ttest_demo_01\n",
      "\ttest_staging\n",
      "\ttest_staging_dev\n",
      "\ttest_staging_skaii\n",
      "\ttest_staging_walmart\n",
      "\ttest_warehouse\n",
      "\ttest_warehouse_dev\n",
      "\ttest_warehouse_skaii\n",
      "\ttest_warehouse_walmart\n"
     ]
    }
   ],
   "source": [
    "list_datasets()"
   ],
   "metadata": {
    "collapsed": false,
    "ExecuteTime": {
     "end_time": "2023-05-26T15:32:43.826401700Z",
     "start_time": "2023-05-26T15:32:42.774510700Z"
    }
   }
  },
  {
   "cell_type": "code",
   "execution_count": 73,
   "outputs": [],
   "source": [
    "project_id = 'projectmercuryv1'"
   ],
   "metadata": {
    "collapsed": false,
    "ExecuteTime": {
     "end_time": "2023-05-26T15:32:43.854400100Z",
     "start_time": "2023-05-26T15:32:43.830405400Z"
    }
   }
  },
  {
   "cell_type": "markdown",
   "source": [
    "You can use a \"magic\" command, one that begins with two percentage signs,\n",
    "to call BQ in a more efficient manner (though I don't know if it\n",
    "will work in a call cases)."
   ],
   "metadata": {
    "collapsed": false
   }
  },
  {
   "cell_type": "code",
   "execution_count": 74,
   "outputs": [
    {
     "data": {
      "text/plain": "Query is running:   0%|          |",
      "application/vnd.jupyter.widget-view+json": {
       "version_major": 2,
       "version_minor": 0,
       "model_id": "32de1a8dcef74bc1add58c7979a7354a"
      }
     },
     "metadata": {},
     "output_type": "display_data"
    },
    {
     "data": {
      "text/plain": "Downloading:   0%|          |",
      "application/vnd.jupyter.widget-view+json": {
       "version_major": 2,
       "version_minor": 0,
       "model_id": "e4ebfd1da24242fd988990cb977dda31"
      }
     },
     "metadata": {},
     "output_type": "display_data"
    },
    {
     "data": {
      "text/plain": "                   account_id      campaign_id data_snapshot_date  \\\n0     advertising@quiverr.com  230188460414928         2020-09-30   \n1     advertising@quiverr.com  237829966588463         2020-09-30   \n2     advertising@quiverr.com   69162554461784         2020-09-30   \n3     advertising@quiverr.com   21838627103157         2020-09-30   \n4     advertising@quiverr.com   61188954657870         2020-09-30   \n...                       ...              ...                ...   \n3562  advertising@quiverr.com  133345847193502         2020-09-30   \n3563  advertising@quiverr.com   72243784168035         2020-09-30   \n3564  advertising@quiverr.com   51872661668191         2020-09-30   \n3565  advertising@quiverr.com  121899563935030         2020-09-30   \n3566  advertising@quiverr.com   21215455340391         2020-09-30   \n\n            profile_id  _fivetran_deleted                 _fivetran_synced  \\\n0      654519822684430              False 2022-02-25 17:05:06.886000+00:00   \n1     1358910521628894              False 2022-02-25 17:05:06.890000+00:00   \n2      654519822684430              False 2022-02-25 17:05:06.785000+00:00   \n3     2548290150447617              False 2022-02-25 17:05:06.754000+00:00   \n4      493214053858924              False 2022-02-25 17:05:06.781000+00:00   \n...                ...                ...                              ...   \n3562   297263927480587              False 2022-02-25 17:05:06.828000+00:00   \n3563   297263927480587              False 2022-02-25 17:05:06.786000+00:00   \n3564   297263927480587              False 2022-02-25 17:05:06.776000+00:00   \n3565   297263927480587              False 2022-02-25 17:05:06.821000+00:00   \n3566   297263927480587              False 2022-02-25 17:05:06.753000+00:00   \n\n      budget budgettype campaign_creation_date   campaign_end_date  ...  \\\n0        NaN       None    2016-03-24 16:46:08 2016-06-06 07:00:00  ...   \n1        NaN       None    2016-03-24 18:42:23 2016-06-06 07:00:00  ...   \n2        NaN       None    2016-08-16 22:43:18                 NaT  ...   \n3        NaN       None    2016-10-24 18:44:44                 NaT  ...   \n4        NaN       None    2017-05-09 18:41:40                 NaT  ...   \n...      ...        ...                    ...                 ...  ...   \n3562     NaN       None    2020-05-06 18:54:11                 NaT  ...   \n3563     NaN       None    2020-05-06 18:54:11                 NaT  ...   \n3564     NaN       None    2020-05-06 18:54:11                 NaT  ...   \n3565     NaN       None    2020-05-06 18:54:11                 NaT  ...   \n3566     NaN       None    2020-05-06 18:54:11                 NaT  ...   \n\n     daily_budget deliveryprofile portfolio_id premium_bid_adjustment  \\\n0           255.0            None         <NA>                  False   \n1           768.0            None         <NA>                  False   \n2            20.0            None         <NA>                  False   \n3            50.0            None         <NA>                  False   \n4            10.0            None         <NA>                  False   \n...           ...             ...          ...                    ...   \n3562         15.0            None         <NA>                  False   \n3563         15.0            None         <NA>                  False   \n3564         15.0            None         <NA>                  False   \n3565         15.0            None         <NA>                  False   \n3566         15.0            None         <NA>                  False   \n\n                              run_id       serving_status     state tactic  \\\n0     scheduled__2020-09-29T16:00:00    CAMPAIGN_ARCHIVED  archived   None   \n1     scheduled__2020-09-29T16:00:00    CAMPAIGN_ARCHIVED  archived   None   \n2     scheduled__2020-09-29T16:00:00      CAMPAIGN_PAUSED    paused   None   \n3     scheduled__2020-09-29T16:00:00  ADVERTISER_ARCHIVED  archived   None   \n4     scheduled__2020-09-29T16:00:00  ADVERTISER_ARCHIVED    paused   None   \n...                              ...                  ...       ...    ...   \n3562  scheduled__2020-09-29T16:00:00    CAMPAIGN_ARCHIVED  archived   None   \n3563  scheduled__2020-09-29T16:00:00    CAMPAIGN_ARCHIVED  archived   None   \n3564  scheduled__2020-09-29T16:00:00    CAMPAIGN_ARCHIVED  archived   None   \n3565  scheduled__2020-09-29T16:00:00    CAMPAIGN_ARCHIVED  archived   None   \n3566  scheduled__2020-09-29T16:00:00    CAMPAIGN_ARCHIVED  archived   None   \n\n      targeting_type                 updated_at  \n0               auto 2020-10-01 15:16:57.349492  \n1               auto 2020-10-01 15:16:57.349492  \n2             manual 2020-10-01 15:16:57.349492  \n3             manual 2020-10-01 15:16:57.349492  \n4               auto 2020-10-01 15:16:57.349492  \n...              ...                        ...  \n3562          manual 2020-10-01 15:16:57.349492  \n3563          manual 2020-10-01 15:16:57.349492  \n3564          manual 2020-10-01 15:16:57.349492  \n3565          manual 2020-10-01 15:16:57.349492  \n3566          manual 2020-10-01 15:16:57.349492  \n\n[3567 rows x 26 columns]",
      "text/html": "<div>\n<style scoped>\n    .dataframe tbody tr th:only-of-type {\n        vertical-align: middle;\n    }\n\n    .dataframe tbody tr th {\n        vertical-align: top;\n    }\n\n    .dataframe thead th {\n        text-align: right;\n    }\n</style>\n<table border=\"1\" class=\"dataframe\">\n  <thead>\n    <tr style=\"text-align: right;\">\n      <th></th>\n      <th>account_id</th>\n      <th>campaign_id</th>\n      <th>data_snapshot_date</th>\n      <th>profile_id</th>\n      <th>_fivetran_deleted</th>\n      <th>_fivetran_synced</th>\n      <th>budget</th>\n      <th>budgettype</th>\n      <th>campaign_creation_date</th>\n      <th>campaign_end_date</th>\n      <th>...</th>\n      <th>daily_budget</th>\n      <th>deliveryprofile</th>\n      <th>portfolio_id</th>\n      <th>premium_bid_adjustment</th>\n      <th>run_id</th>\n      <th>serving_status</th>\n      <th>state</th>\n      <th>tactic</th>\n      <th>targeting_type</th>\n      <th>updated_at</th>\n    </tr>\n  </thead>\n  <tbody>\n    <tr>\n      <th>0</th>\n      <td>advertising@quiverr.com</td>\n      <td>230188460414928</td>\n      <td>2020-09-30</td>\n      <td>654519822684430</td>\n      <td>False</td>\n      <td>2022-02-25 17:05:06.886000+00:00</td>\n      <td>NaN</td>\n      <td>None</td>\n      <td>2016-03-24 16:46:08</td>\n      <td>2016-06-06 07:00:00</td>\n      <td>...</td>\n      <td>255.0</td>\n      <td>None</td>\n      <td>&lt;NA&gt;</td>\n      <td>False</td>\n      <td>scheduled__2020-09-29T16:00:00</td>\n      <td>CAMPAIGN_ARCHIVED</td>\n      <td>archived</td>\n      <td>None</td>\n      <td>auto</td>\n      <td>2020-10-01 15:16:57.349492</td>\n    </tr>\n    <tr>\n      <th>1</th>\n      <td>advertising@quiverr.com</td>\n      <td>237829966588463</td>\n      <td>2020-09-30</td>\n      <td>1358910521628894</td>\n      <td>False</td>\n      <td>2022-02-25 17:05:06.890000+00:00</td>\n      <td>NaN</td>\n      <td>None</td>\n      <td>2016-03-24 18:42:23</td>\n      <td>2016-06-06 07:00:00</td>\n      <td>...</td>\n      <td>768.0</td>\n      <td>None</td>\n      <td>&lt;NA&gt;</td>\n      <td>False</td>\n      <td>scheduled__2020-09-29T16:00:00</td>\n      <td>CAMPAIGN_ARCHIVED</td>\n      <td>archived</td>\n      <td>None</td>\n      <td>auto</td>\n      <td>2020-10-01 15:16:57.349492</td>\n    </tr>\n    <tr>\n      <th>2</th>\n      <td>advertising@quiverr.com</td>\n      <td>69162554461784</td>\n      <td>2020-09-30</td>\n      <td>654519822684430</td>\n      <td>False</td>\n      <td>2022-02-25 17:05:06.785000+00:00</td>\n      <td>NaN</td>\n      <td>None</td>\n      <td>2016-08-16 22:43:18</td>\n      <td>NaT</td>\n      <td>...</td>\n      <td>20.0</td>\n      <td>None</td>\n      <td>&lt;NA&gt;</td>\n      <td>False</td>\n      <td>scheduled__2020-09-29T16:00:00</td>\n      <td>CAMPAIGN_PAUSED</td>\n      <td>paused</td>\n      <td>None</td>\n      <td>manual</td>\n      <td>2020-10-01 15:16:57.349492</td>\n    </tr>\n    <tr>\n      <th>3</th>\n      <td>advertising@quiverr.com</td>\n      <td>21838627103157</td>\n      <td>2020-09-30</td>\n      <td>2548290150447617</td>\n      <td>False</td>\n      <td>2022-02-25 17:05:06.754000+00:00</td>\n      <td>NaN</td>\n      <td>None</td>\n      <td>2016-10-24 18:44:44</td>\n      <td>NaT</td>\n      <td>...</td>\n      <td>50.0</td>\n      <td>None</td>\n      <td>&lt;NA&gt;</td>\n      <td>False</td>\n      <td>scheduled__2020-09-29T16:00:00</td>\n      <td>ADVERTISER_ARCHIVED</td>\n      <td>archived</td>\n      <td>None</td>\n      <td>manual</td>\n      <td>2020-10-01 15:16:57.349492</td>\n    </tr>\n    <tr>\n      <th>4</th>\n      <td>advertising@quiverr.com</td>\n      <td>61188954657870</td>\n      <td>2020-09-30</td>\n      <td>493214053858924</td>\n      <td>False</td>\n      <td>2022-02-25 17:05:06.781000+00:00</td>\n      <td>NaN</td>\n      <td>None</td>\n      <td>2017-05-09 18:41:40</td>\n      <td>NaT</td>\n      <td>...</td>\n      <td>10.0</td>\n      <td>None</td>\n      <td>&lt;NA&gt;</td>\n      <td>False</td>\n      <td>scheduled__2020-09-29T16:00:00</td>\n      <td>ADVERTISER_ARCHIVED</td>\n      <td>paused</td>\n      <td>None</td>\n      <td>auto</td>\n      <td>2020-10-01 15:16:57.349492</td>\n    </tr>\n    <tr>\n      <th>...</th>\n      <td>...</td>\n      <td>...</td>\n      <td>...</td>\n      <td>...</td>\n      <td>...</td>\n      <td>...</td>\n      <td>...</td>\n      <td>...</td>\n      <td>...</td>\n      <td>...</td>\n      <td>...</td>\n      <td>...</td>\n      <td>...</td>\n      <td>...</td>\n      <td>...</td>\n      <td>...</td>\n      <td>...</td>\n      <td>...</td>\n      <td>...</td>\n      <td>...</td>\n      <td>...</td>\n    </tr>\n    <tr>\n      <th>3562</th>\n      <td>advertising@quiverr.com</td>\n      <td>133345847193502</td>\n      <td>2020-09-30</td>\n      <td>297263927480587</td>\n      <td>False</td>\n      <td>2022-02-25 17:05:06.828000+00:00</td>\n      <td>NaN</td>\n      <td>None</td>\n      <td>2020-05-06 18:54:11</td>\n      <td>NaT</td>\n      <td>...</td>\n      <td>15.0</td>\n      <td>None</td>\n      <td>&lt;NA&gt;</td>\n      <td>False</td>\n      <td>scheduled__2020-09-29T16:00:00</td>\n      <td>CAMPAIGN_ARCHIVED</td>\n      <td>archived</td>\n      <td>None</td>\n      <td>manual</td>\n      <td>2020-10-01 15:16:57.349492</td>\n    </tr>\n    <tr>\n      <th>3563</th>\n      <td>advertising@quiverr.com</td>\n      <td>72243784168035</td>\n      <td>2020-09-30</td>\n      <td>297263927480587</td>\n      <td>False</td>\n      <td>2022-02-25 17:05:06.786000+00:00</td>\n      <td>NaN</td>\n      <td>None</td>\n      <td>2020-05-06 18:54:11</td>\n      <td>NaT</td>\n      <td>...</td>\n      <td>15.0</td>\n      <td>None</td>\n      <td>&lt;NA&gt;</td>\n      <td>False</td>\n      <td>scheduled__2020-09-29T16:00:00</td>\n      <td>CAMPAIGN_ARCHIVED</td>\n      <td>archived</td>\n      <td>None</td>\n      <td>manual</td>\n      <td>2020-10-01 15:16:57.349492</td>\n    </tr>\n    <tr>\n      <th>3564</th>\n      <td>advertising@quiverr.com</td>\n      <td>51872661668191</td>\n      <td>2020-09-30</td>\n      <td>297263927480587</td>\n      <td>False</td>\n      <td>2022-02-25 17:05:06.776000+00:00</td>\n      <td>NaN</td>\n      <td>None</td>\n      <td>2020-05-06 18:54:11</td>\n      <td>NaT</td>\n      <td>...</td>\n      <td>15.0</td>\n      <td>None</td>\n      <td>&lt;NA&gt;</td>\n      <td>False</td>\n      <td>scheduled__2020-09-29T16:00:00</td>\n      <td>CAMPAIGN_ARCHIVED</td>\n      <td>archived</td>\n      <td>None</td>\n      <td>manual</td>\n      <td>2020-10-01 15:16:57.349492</td>\n    </tr>\n    <tr>\n      <th>3565</th>\n      <td>advertising@quiverr.com</td>\n      <td>121899563935030</td>\n      <td>2020-09-30</td>\n      <td>297263927480587</td>\n      <td>False</td>\n      <td>2022-02-25 17:05:06.821000+00:00</td>\n      <td>NaN</td>\n      <td>None</td>\n      <td>2020-05-06 18:54:11</td>\n      <td>NaT</td>\n      <td>...</td>\n      <td>15.0</td>\n      <td>None</td>\n      <td>&lt;NA&gt;</td>\n      <td>False</td>\n      <td>scheduled__2020-09-29T16:00:00</td>\n      <td>CAMPAIGN_ARCHIVED</td>\n      <td>archived</td>\n      <td>None</td>\n      <td>manual</td>\n      <td>2020-10-01 15:16:57.349492</td>\n    </tr>\n    <tr>\n      <th>3566</th>\n      <td>advertising@quiverr.com</td>\n      <td>21215455340391</td>\n      <td>2020-09-30</td>\n      <td>297263927480587</td>\n      <td>False</td>\n      <td>2022-02-25 17:05:06.753000+00:00</td>\n      <td>NaN</td>\n      <td>None</td>\n      <td>2020-05-06 18:54:11</td>\n      <td>NaT</td>\n      <td>...</td>\n      <td>15.0</td>\n      <td>None</td>\n      <td>&lt;NA&gt;</td>\n      <td>False</td>\n      <td>scheduled__2020-09-29T16:00:00</td>\n      <td>CAMPAIGN_ARCHIVED</td>\n      <td>archived</td>\n      <td>None</td>\n      <td>manual</td>\n      <td>2020-10-01 15:16:57.349492</td>\n    </tr>\n  </tbody>\n</table>\n<p>3567 rows × 26 columns</p>\n</div>"
     },
     "execution_count": 74,
     "metadata": {},
     "output_type": "execute_result"
    }
   ],
   "source": [
    "%%bigquery --project $project_id\n",
    "SELECT *\n",
    "FROM `projectmercuryv1.bkm_dev_1_warehouse.ams_campaign`\n"
   ],
   "metadata": {
    "collapsed": false
   }
  },
  {
   "cell_type": "markdown",
   "source": [
    "By putting the \"df\" after the magic command, I can save the output to DataSpell"
   ],
   "metadata": {
    "collapsed": false
   }
  },
  {
   "cell_type": "code",
   "execution_count": 75,
   "outputs": [
    {
     "data": {
      "text/plain": "Query is running:   0%|          |",
      "application/vnd.jupyter.widget-view+json": {
       "version_major": 2,
       "version_minor": 0,
       "model_id": "9aa86f26f3d24c5fadeeaaa1cfef9342"
      }
     },
     "metadata": {},
     "output_type": "display_data"
    },
    {
     "data": {
      "text/plain": "Downloading:   0%|          |",
      "application/vnd.jupyter.widget-view+json": {
       "version_major": 2,
       "version_minor": 0,
       "model_id": "16122bd607b447dab0892408689fa684"
      }
     },
     "metadata": {},
     "output_type": "display_data"
    }
   ],
   "source": [
    "%%bigquery df --project projectmercuryv1\n",
    "SELECT serving_status, SUM(daily_budget) as budget\n",
    "FROM `projectmercuryv1.bkm_dev_1_warehouse.ams_campaign`\n",
    "GROUP BY serving_status"
   ],
   "metadata": {
    "collapsed": false
   }
  },
  {
   "cell_type": "markdown",
   "source": [
    "There are quite a few plots you can do with the data you save to DataSpell."
   ],
   "metadata": {
    "collapsed": false
   }
  },
  {
   "cell_type": "code",
   "execution_count": 76,
   "outputs": [
    {
     "data": {
      "text/plain": "<Axes: xlabel='serving_status'>"
     },
     "execution_count": 76,
     "metadata": {},
     "output_type": "execute_result"
    },
    {
     "data": {
      "text/plain": "<Figure size 640x480 with 1 Axes>",
      "image/png": "[encoded data removed]"
     },
     "metadata": {},
     "output_type": "display_data"
    }
   ],
   "source": [
    "df.plot(kind=\"bar\", x=\"serving_status\", y=\"budget\")"
   ],
   "metadata": {
    "collapsed": false,
    "ExecuteTime": {
     "end_time": "2023-05-26T15:32:47.462095900Z",
     "start_time": "2023-05-26T15:32:47.259464900Z"
    }
   }
  },
  {
   "cell_type": "code",
   "execution_count": 77,
   "outputs": [
    {
     "data": {
      "text/plain": "Query is running:   0%|          |",
      "application/vnd.jupyter.widget-view+json": {
       "version_major": 2,
       "version_minor": 0,
       "model_id": "46dc8acf719545f383c77bc1f8c20f3d"
      }
     },
     "metadata": {},
     "output_type": "display_data"
    },
    {
     "data": {
      "text/plain": "Downloading:   0%|          |",
      "application/vnd.jupyter.widget-view+json": {
       "version_major": 2,
       "version_minor": 0,
       "model_id": "8ec917a24853470db37a7b132bedbe63"
      }
     },
     "metadata": {},
     "output_type": "display_data"
    }
   ],
   "source": [
    "%%bigquery test_table --project projectmercuryv1\n",
    "SELECT *\n",
    "FROM `projectmercuryv1.bkm_dev_1_warehouse.ams_campaign`"
   ],
   "metadata": {
    "collapsed": false
   }
  },
  {
   "cell_type": "markdown",
   "source": [
    "This uses yet another way to write the query, but the last line transforms\n",
    "the output to a Pandas dataframe, which we save to a csv in the next cell."
   ],
   "metadata": {
    "collapsed": false
   }
  },
  {
   "cell_type": "code",
   "execution_count": 8,
   "outputs": [
    {
     "ename": "Forbidden",
     "evalue": "403 Access Denied: Table mercury-analytics-345523:prod.fct_combined_search_dsp: User does not have permission to query table mercury-analytics-345523:prod.fct_combined_search_dsp, or perhaps it does not exist in location US.\n\nLocation: US\nJob ID: cdb464a5-0fe2-4b2d-8027-354ef5d46b6d\n",
     "output_type": "error",
     "traceback": [
      "\u001B[1;31m---------------------------------------------------------------------------\u001B[0m",
      "\u001B[1;31mForbidden\u001B[0m                                 Traceback (most recent call last)",
      "Cell \u001B[1;32mIn[8], line 111\u001B[0m\n\u001B[0;32m      1\u001B[0m sql \u001B[38;5;241m=\u001B[39m \u001B[38;5;124m\"\"\"\u001B[39m\n\u001B[0;32m      2\u001B[0m \u001B[38;5;124m/*\u001B[39m\n\u001B[0;32m      3\u001B[0m \u001B[38;5;124m###INSTRUCTIONS###\u001B[39m\n\u001B[1;32m   (...)\u001B[0m\n\u001B[0;32m    109\u001B[0m \u001B[38;5;124mORDER BY 1 DESC\u001B[39m\n\u001B[0;32m    110\u001B[0m \u001B[38;5;124m\"\"\"\u001B[39m\n\u001B[1;32m--> 111\u001B[0m ams_campaign \u001B[38;5;241m=\u001B[39m \u001B[43mclient\u001B[49m\u001B[38;5;241;43m.\u001B[39;49m\u001B[43mquery\u001B[49m\u001B[43m(\u001B[49m\u001B[43msql\u001B[49m\u001B[43m)\u001B[49m\u001B[38;5;241;43m.\u001B[39;49m\u001B[43mto_dataframe\u001B[49m\u001B[43m(\u001B[49m\u001B[43m)\u001B[49m\n",
      "File \u001B[1;32m~\\.conda\\envs\\env_test\\lib\\site-packages\\google\\cloud\\bigquery\\job\\query.py:1799\u001B[0m, in \u001B[0;36mQueryJob.to_dataframe\u001B[1;34m(self, bqstorage_client, dtypes, progress_bar_type, create_bqstorage_client, max_results, geography_as_object, bool_dtype, int_dtype, float_dtype, string_dtype, date_dtype, datetime_dtype, time_dtype, timestamp_dtype)\u001B[0m\n\u001B[0;32m   1633\u001B[0m \u001B[38;5;28;01mdef\u001B[39;00m \u001B[38;5;21mto_dataframe\u001B[39m(\n\u001B[0;32m   1634\u001B[0m     \u001B[38;5;28mself\u001B[39m,\n\u001B[0;32m   1635\u001B[0m     bqstorage_client: Optional[\u001B[38;5;124m\"\u001B[39m\u001B[38;5;124mbigquery_storage.BigQueryReadClient\u001B[39m\u001B[38;5;124m\"\u001B[39m] \u001B[38;5;241m=\u001B[39m \u001B[38;5;28;01mNone\u001B[39;00m,\n\u001B[1;32m   (...)\u001B[0m\n\u001B[0;32m   1648\u001B[0m     timestamp_dtype: Union[Any, \u001B[38;5;28;01mNone\u001B[39;00m] \u001B[38;5;241m=\u001B[39m \u001B[38;5;28;01mNone\u001B[39;00m,\n\u001B[0;32m   1649\u001B[0m ) \u001B[38;5;241m-\u001B[39m\u001B[38;5;241m>\u001B[39m \u001B[38;5;124m\"\u001B[39m\u001B[38;5;124mpandas.DataFrame\u001B[39m\u001B[38;5;124m\"\u001B[39m:\n\u001B[0;32m   1650\u001B[0m \u001B[38;5;250m    \u001B[39m\u001B[38;5;124;03m\"\"\"Return a pandas DataFrame from a QueryJob\u001B[39;00m\n\u001B[0;32m   1651\u001B[0m \n\u001B[0;32m   1652\u001B[0m \u001B[38;5;124;03m    Args:\u001B[39;00m\n\u001B[1;32m   (...)\u001B[0m\n\u001B[0;32m   1797\u001B[0m \u001B[38;5;124;03m            :mod:`shapely` library cannot be imported.\u001B[39;00m\n\u001B[0;32m   1798\u001B[0m \u001B[38;5;124;03m    \"\"\"\u001B[39;00m\n\u001B[1;32m-> 1799\u001B[0m     query_result \u001B[38;5;241m=\u001B[39m \u001B[43mwait_for_query\u001B[49m\u001B[43m(\u001B[49m\u001B[38;5;28;43mself\u001B[39;49m\u001B[43m,\u001B[49m\u001B[43m \u001B[49m\u001B[43mprogress_bar_type\u001B[49m\u001B[43m,\u001B[49m\u001B[43m \u001B[49m\u001B[43mmax_results\u001B[49m\u001B[38;5;241;43m=\u001B[39;49m\u001B[43mmax_results\u001B[49m\u001B[43m)\u001B[49m\n\u001B[0;32m   1800\u001B[0m     \u001B[38;5;28;01mreturn\u001B[39;00m query_result\u001B[38;5;241m.\u001B[39mto_dataframe(\n\u001B[0;32m   1801\u001B[0m         bqstorage_client\u001B[38;5;241m=\u001B[39mbqstorage_client,\n\u001B[0;32m   1802\u001B[0m         dtypes\u001B[38;5;241m=\u001B[39mdtypes,\n\u001B[1;32m   (...)\u001B[0m\n\u001B[0;32m   1813\u001B[0m         timestamp_dtype\u001B[38;5;241m=\u001B[39mtimestamp_dtype,\n\u001B[0;32m   1814\u001B[0m     )\n",
      "File \u001B[1;32m~\\.conda\\envs\\env_test\\lib\\site-packages\\google\\cloud\\bigquery\\_tqdm_helpers.py:104\u001B[0m, in \u001B[0;36mwait_for_query\u001B[1;34m(query_job, progress_bar_type, max_results)\u001B[0m\n\u001B[0;32m    100\u001B[0m progress_bar \u001B[38;5;241m=\u001B[39m get_progress_bar(\n\u001B[0;32m    101\u001B[0m     progress_bar_type, \u001B[38;5;124m\"\u001B[39m\u001B[38;5;124mQuery is running\u001B[39m\u001B[38;5;124m\"\u001B[39m, default_total, \u001B[38;5;124m\"\u001B[39m\u001B[38;5;124mquery\u001B[39m\u001B[38;5;124m\"\u001B[39m\n\u001B[0;32m    102\u001B[0m )\n\u001B[0;32m    103\u001B[0m \u001B[38;5;28;01mif\u001B[39;00m progress_bar \u001B[38;5;129;01mis\u001B[39;00m \u001B[38;5;28;01mNone\u001B[39;00m:\n\u001B[1;32m--> 104\u001B[0m     \u001B[38;5;28;01mreturn\u001B[39;00m \u001B[43mquery_job\u001B[49m\u001B[38;5;241;43m.\u001B[39;49m\u001B[43mresult\u001B[49m\u001B[43m(\u001B[49m\u001B[43mmax_results\u001B[49m\u001B[38;5;241;43m=\u001B[39;49m\u001B[43mmax_results\u001B[49m\u001B[43m)\u001B[49m\n\u001B[0;32m    106\u001B[0m i \u001B[38;5;241m=\u001B[39m \u001B[38;5;241m0\u001B[39m\n\u001B[0;32m    107\u001B[0m \u001B[38;5;28;01mwhile\u001B[39;00m \u001B[38;5;28;01mTrue\u001B[39;00m:\n",
      "File \u001B[1;32m~\\.conda\\envs\\env_test\\lib\\site-packages\\google\\cloud\\bigquery\\job\\query.py:1520\u001B[0m, in \u001B[0;36mQueryJob.result\u001B[1;34m(self, page_size, max_results, retry, timeout, start_index, job_retry)\u001B[0m\n\u001B[0;32m   1517\u001B[0m     \u001B[38;5;28;01mif\u001B[39;00m retry_do_query \u001B[38;5;129;01mis\u001B[39;00m \u001B[38;5;129;01mnot\u001B[39;00m \u001B[38;5;28;01mNone\u001B[39;00m \u001B[38;5;129;01mand\u001B[39;00m job_retry \u001B[38;5;129;01mis\u001B[39;00m \u001B[38;5;129;01mnot\u001B[39;00m \u001B[38;5;28;01mNone\u001B[39;00m:\n\u001B[0;32m   1518\u001B[0m         do_get_result \u001B[38;5;241m=\u001B[39m job_retry(do_get_result)\n\u001B[1;32m-> 1520\u001B[0m     \u001B[43mdo_get_result\u001B[49m\u001B[43m(\u001B[49m\u001B[43m)\u001B[49m\n\u001B[0;32m   1522\u001B[0m \u001B[38;5;28;01mexcept\u001B[39;00m exceptions\u001B[38;5;241m.\u001B[39mGoogleAPICallError \u001B[38;5;28;01mas\u001B[39;00m exc:\n\u001B[0;32m   1523\u001B[0m     exc\u001B[38;5;241m.\u001B[39mmessage \u001B[38;5;241m=\u001B[39m _EXCEPTION_FOOTER_TEMPLATE\u001B[38;5;241m.\u001B[39mformat(\n\u001B[0;32m   1524\u001B[0m         message\u001B[38;5;241m=\u001B[39mexc\u001B[38;5;241m.\u001B[39mmessage, location\u001B[38;5;241m=\u001B[39m\u001B[38;5;28mself\u001B[39m\u001B[38;5;241m.\u001B[39mlocation, job_id\u001B[38;5;241m=\u001B[39m\u001B[38;5;28mself\u001B[39m\u001B[38;5;241m.\u001B[39mjob_id\n\u001B[0;32m   1525\u001B[0m     )\n",
      "File \u001B[1;32m~\\.conda\\envs\\env_test\\lib\\site-packages\\google\\api_core\\retry.py:349\u001B[0m, in \u001B[0;36mRetry.__call__.<locals>.retry_wrapped_func\u001B[1;34m(*args, **kwargs)\u001B[0m\n\u001B[0;32m    345\u001B[0m target \u001B[38;5;241m=\u001B[39m functools\u001B[38;5;241m.\u001B[39mpartial(func, \u001B[38;5;241m*\u001B[39margs, \u001B[38;5;241m*\u001B[39m\u001B[38;5;241m*\u001B[39mkwargs)\n\u001B[0;32m    346\u001B[0m sleep_generator \u001B[38;5;241m=\u001B[39m exponential_sleep_generator(\n\u001B[0;32m    347\u001B[0m     \u001B[38;5;28mself\u001B[39m\u001B[38;5;241m.\u001B[39m_initial, \u001B[38;5;28mself\u001B[39m\u001B[38;5;241m.\u001B[39m_maximum, multiplier\u001B[38;5;241m=\u001B[39m\u001B[38;5;28mself\u001B[39m\u001B[38;5;241m.\u001B[39m_multiplier\n\u001B[0;32m    348\u001B[0m )\n\u001B[1;32m--> 349\u001B[0m \u001B[38;5;28;01mreturn\u001B[39;00m \u001B[43mretry_target\u001B[49m\u001B[43m(\u001B[49m\n\u001B[0;32m    350\u001B[0m \u001B[43m    \u001B[49m\u001B[43mtarget\u001B[49m\u001B[43m,\u001B[49m\n\u001B[0;32m    351\u001B[0m \u001B[43m    \u001B[49m\u001B[38;5;28;43mself\u001B[39;49m\u001B[38;5;241;43m.\u001B[39;49m\u001B[43m_predicate\u001B[49m\u001B[43m,\u001B[49m\n\u001B[0;32m    352\u001B[0m \u001B[43m    \u001B[49m\u001B[43msleep_generator\u001B[49m\u001B[43m,\u001B[49m\n\u001B[0;32m    353\u001B[0m \u001B[43m    \u001B[49m\u001B[38;5;28;43mself\u001B[39;49m\u001B[38;5;241;43m.\u001B[39;49m\u001B[43m_timeout\u001B[49m\u001B[43m,\u001B[49m\n\u001B[0;32m    354\u001B[0m \u001B[43m    \u001B[49m\u001B[43mon_error\u001B[49m\u001B[38;5;241;43m=\u001B[39;49m\u001B[43mon_error\u001B[49m\u001B[43m,\u001B[49m\n\u001B[0;32m    355\u001B[0m \u001B[43m\u001B[49m\u001B[43m)\u001B[49m\n",
      "File \u001B[1;32m~\\.conda\\envs\\env_test\\lib\\site-packages\\google\\api_core\\retry.py:191\u001B[0m, in \u001B[0;36mretry_target\u001B[1;34m(target, predicate, sleep_generator, timeout, on_error, **kwargs)\u001B[0m\n\u001B[0;32m    189\u001B[0m \u001B[38;5;28;01mfor\u001B[39;00m sleep \u001B[38;5;129;01min\u001B[39;00m sleep_generator:\n\u001B[0;32m    190\u001B[0m     \u001B[38;5;28;01mtry\u001B[39;00m:\n\u001B[1;32m--> 191\u001B[0m         \u001B[38;5;28;01mreturn\u001B[39;00m \u001B[43mtarget\u001B[49m\u001B[43m(\u001B[49m\u001B[43m)\u001B[49m\n\u001B[0;32m    193\u001B[0m     \u001B[38;5;66;03m# pylint: disable=broad-except\u001B[39;00m\n\u001B[0;32m    194\u001B[0m     \u001B[38;5;66;03m# This function explicitly must deal with broad exceptions.\u001B[39;00m\n\u001B[0;32m    195\u001B[0m     \u001B[38;5;28;01mexcept\u001B[39;00m \u001B[38;5;167;01mException\u001B[39;00m \u001B[38;5;28;01mas\u001B[39;00m exc:\n",
      "File \u001B[1;32m~\\.conda\\envs\\env_test\\lib\\site-packages\\google\\cloud\\bigquery\\job\\query.py:1510\u001B[0m, in \u001B[0;36mQueryJob.result.<locals>.do_get_result\u001B[1;34m()\u001B[0m\n\u001B[0;32m   1507\u001B[0m     \u001B[38;5;28mself\u001B[39m\u001B[38;5;241m.\u001B[39m_retry_do_query \u001B[38;5;241m=\u001B[39m retry_do_query\n\u001B[0;32m   1508\u001B[0m     \u001B[38;5;28mself\u001B[39m\u001B[38;5;241m.\u001B[39m_job_retry \u001B[38;5;241m=\u001B[39m job_retry\n\u001B[1;32m-> 1510\u001B[0m \u001B[38;5;28;43msuper\u001B[39;49m\u001B[43m(\u001B[49m\u001B[43mQueryJob\u001B[49m\u001B[43m,\u001B[49m\u001B[43m \u001B[49m\u001B[38;5;28;43mself\u001B[39;49m\u001B[43m)\u001B[49m\u001B[38;5;241;43m.\u001B[39;49m\u001B[43mresult\u001B[49m\u001B[43m(\u001B[49m\u001B[43mretry\u001B[49m\u001B[38;5;241;43m=\u001B[39;49m\u001B[43mretry\u001B[49m\u001B[43m,\u001B[49m\u001B[43m \u001B[49m\u001B[43mtimeout\u001B[49m\u001B[38;5;241;43m=\u001B[39;49m\u001B[43mtimeout\u001B[49m\u001B[43m)\u001B[49m\n\u001B[0;32m   1512\u001B[0m \u001B[38;5;66;03m# Since the job could already be \"done\" (e.g. got a finished job\u001B[39;00m\n\u001B[0;32m   1513\u001B[0m \u001B[38;5;66;03m# via client.get_job), the superclass call to done() might not\u001B[39;00m\n\u001B[0;32m   1514\u001B[0m \u001B[38;5;66;03m# set the self._query_results cache.\u001B[39;00m\n\u001B[0;32m   1515\u001B[0m \u001B[38;5;28mself\u001B[39m\u001B[38;5;241m.\u001B[39m_reload_query_results(retry\u001B[38;5;241m=\u001B[39mretry, timeout\u001B[38;5;241m=\u001B[39mtimeout)\n",
      "File \u001B[1;32m~\\.conda\\envs\\env_test\\lib\\site-packages\\google\\cloud\\bigquery\\job\\base.py:911\u001B[0m, in \u001B[0;36m_AsyncJob.result\u001B[1;34m(self, retry, timeout)\u001B[0m\n\u001B[0;32m    908\u001B[0m     \u001B[38;5;28mself\u001B[39m\u001B[38;5;241m.\u001B[39m_begin(retry\u001B[38;5;241m=\u001B[39mretry, timeout\u001B[38;5;241m=\u001B[39mtimeout)\n\u001B[0;32m    910\u001B[0m kwargs \u001B[38;5;241m=\u001B[39m {} \u001B[38;5;28;01mif\u001B[39;00m retry \u001B[38;5;129;01mis\u001B[39;00m DEFAULT_RETRY \u001B[38;5;28;01melse\u001B[39;00m {\u001B[38;5;124m\"\u001B[39m\u001B[38;5;124mretry\u001B[39m\u001B[38;5;124m\"\u001B[39m: retry}\n\u001B[1;32m--> 911\u001B[0m \u001B[38;5;28;01mreturn\u001B[39;00m \u001B[38;5;28;43msuper\u001B[39;49m\u001B[43m(\u001B[49m\u001B[43m_AsyncJob\u001B[49m\u001B[43m,\u001B[49m\u001B[43m \u001B[49m\u001B[38;5;28;43mself\u001B[39;49m\u001B[43m)\u001B[49m\u001B[38;5;241;43m.\u001B[39;49m\u001B[43mresult\u001B[49m\u001B[43m(\u001B[49m\u001B[43mtimeout\u001B[49m\u001B[38;5;241;43m=\u001B[39;49m\u001B[43mtimeout\u001B[49m\u001B[43m,\u001B[49m\u001B[43m \u001B[49m\u001B[38;5;241;43m*\u001B[39;49m\u001B[38;5;241;43m*\u001B[39;49m\u001B[43mkwargs\u001B[49m\u001B[43m)\u001B[49m\n",
      "File \u001B[1;32m~\\.conda\\envs\\env_test\\lib\\site-packages\\google\\api_core\\future\\polling.py:261\u001B[0m, in \u001B[0;36mPollingFuture.result\u001B[1;34m(self, timeout, retry, polling)\u001B[0m\n\u001B[0;32m    256\u001B[0m \u001B[38;5;28mself\u001B[39m\u001B[38;5;241m.\u001B[39m_blocking_poll(timeout\u001B[38;5;241m=\u001B[39mtimeout, retry\u001B[38;5;241m=\u001B[39mretry, polling\u001B[38;5;241m=\u001B[39mpolling)\n\u001B[0;32m    258\u001B[0m \u001B[38;5;28;01mif\u001B[39;00m \u001B[38;5;28mself\u001B[39m\u001B[38;5;241m.\u001B[39m_exception \u001B[38;5;129;01mis\u001B[39;00m \u001B[38;5;129;01mnot\u001B[39;00m \u001B[38;5;28;01mNone\u001B[39;00m:\n\u001B[0;32m    259\u001B[0m     \u001B[38;5;66;03m# pylint: disable=raising-bad-type\u001B[39;00m\n\u001B[0;32m    260\u001B[0m     \u001B[38;5;66;03m# Pylint doesn't recognize that this is valid in this case.\u001B[39;00m\n\u001B[1;32m--> 261\u001B[0m     \u001B[38;5;28;01mraise\u001B[39;00m \u001B[38;5;28mself\u001B[39m\u001B[38;5;241m.\u001B[39m_exception\n\u001B[0;32m    263\u001B[0m \u001B[38;5;28;01mreturn\u001B[39;00m \u001B[38;5;28mself\u001B[39m\u001B[38;5;241m.\u001B[39m_result\n",
      "\u001B[1;31mForbidden\u001B[0m: 403 Access Denied: Table mercury-analytics-345523:prod.fct_combined_search_dsp: User does not have permission to query table mercury-analytics-345523:prod.fct_combined_search_dsp, or perhaps it does not exist in location US.\n\nLocation: US\nJob ID: cdb464a5-0fe2-4b2d-8027-354ef5d46b6d\n"
     ]
    }
   ],
   "source": [
    "# sql = \"\"\"\n",
    "# /*\n",
    "# ###INSTRUCTIONS###\n",
    "# 1). Change the 'client_id' field in the client CTE. This will filter all data to that particular client\n",
    "# 2). In the Media Data CTE, ensure only one of the LEFT JOINs is un-commented. Further instruction in CTE\n",
    "# 3). Run Query\n",
    "#         */\n",
    "#\n",
    "#         WITH\n",
    "# client AS(\n",
    "#     SELECT\n",
    "# '47' AS client_id\n",
    "#         /*\n",
    "#         This id will filter data below, replace as needed;\n",
    "# Native =  279\n",
    "# EO = 47\n",
    "#      */\n",
    "# ),\n",
    "# tagging AS(\n",
    "# SELECT * FROM `mercury-analytics-345523.prod.master_tag_data`\n",
    "# WHERE tag_group = 'Primary Search Strategy' AND client_id = (SELECT * FROM client)\n",
    "# ),\n",
    "# --temp_tagging is used to quickly make tags for campaigns in the event a client doesnt have any in the system\n",
    "# temp_tagging AS(\n",
    "# SELECT DISTINCT\n",
    "# CAST(campaign_id AS STRING) AS tag_entity,\n",
    "# campaign_name,\n",
    "# CASE\n",
    "# WHEN campaign_name LIKE '%Branded%' AND campaign_name NOT LIKE '%Non%' THEN 'Branded'\n",
    "# WHEN campaign_name LIKE '%Auto%' THEN 'Auto'\n",
    "# WHEN campaign_name LIKE '%Category%' THEN 'Category'\n",
    "# ELSE 'Competitive'\n",
    "# END AS tag_value\n",
    "# FROM `mercury-analytics-345523.prod.fct_combined_search_dsp`\n",
    "# WHERE client_id = (SELECT * FROM client)\n",
    "# ),\n",
    "# media_data AS(\n",
    "# SELECT\n",
    "# DATE_TRUNC(reporting_date,WEEK) AS reporting_date,\n",
    "# CONCAT(campaign_type,\"_\",tag_value) AS type,\n",
    "# IFNULL(SUM(spend),0) AS spend\n",
    "# FROM `mercury-analytics-345523.prod.fct_combined_search_dsp` d\n",
    "# /*\n",
    "# Uncomment one of the LEFT JOINs below for tagging or temp_tagging (NOT BOTH), depending on if tagging already exists for client or not\n",
    "# If tagging exists, comment out the temp_tagging\n",
    "# If tagging doesn't exist, comment out the tagging and add tagging logic to the temp_tagging CTE\n",
    "# */\n",
    "# --LEFT JOIN temp_tagging t ON t.tag_entity = CAST(d.campaign_id AS STRING)\n",
    "# LEFT JOIN tagging t ON t.tag_entity = CAST(d.campaign_id AS STRING)\n",
    "# WHERE d.client_id = (SELECT * FROM client)\n",
    "# GROUP BY 1,2\n",
    "# ),\n",
    "# retail_data AS(\n",
    "# SELECT\n",
    "# DATE_TRUNC(reporting_date,WEEK) AS reporting_date,\n",
    "# SUM(units_shipped) AS shipped_units,\n",
    "# SUM(shipped_revenue) AS shipped_revenue\n",
    "# FROM `mercury-analytics-345523.prod.fct_master_asin_data`\n",
    "# WHERE distributor_view = 'Sourcing' AND program = 'Amazon Retail' AND client_id = (SELECT * FROM client)\n",
    "# GROUP BY 1\n",
    "# ORDER BY 1 DESC\n",
    "# ),\n",
    "# pivot_d AS(\n",
    "# SELECT * FROM media_data\n",
    "# PIVOT(\n",
    "# SUM(spend) AS spend\n",
    "# FOR type IN (\n",
    "# --'sponsoredBrands_Undefined',\n",
    "# --'sponsoredProducts_Undefined',\n",
    "# --'sponsoredDisplay_Undefined',\n",
    "# 'sponsoredBrands_Branded',\n",
    "# 'sponsoredProducts_Branded',\n",
    "# 'sponsoredDisplay_Branded',\n",
    "# 'sponsoredBrands_Category',\n",
    "# 'sponsoredProducts_Category',\n",
    "# 'sponsoredDisplay_Category',\n",
    "# 'sponsoredBrands_Competitive',\n",
    "# 'sponsoredProducts_Competitive',\n",
    "# 'sponsoredDisplay_Competitive',\n",
    "# 'sponsoredBrands_Auto',\n",
    "# 'sponsoredProducts_Auto',\n",
    "# 'sponsoredDisplay_Auto'\n",
    "# )\n",
    "# )\n",
    "# )\n",
    "# SELECT\n",
    "# COALESCE(pd.reporting_date,rd.reporting_date) AS reporting_date,\n",
    "# (\n",
    "#         --COALESCE(spend_sponsoredDisplay_Undefined,0) +\n",
    "#         COALESCE(spend_sponsoredDisplay_Branded,0) +\n",
    "#         COALESCE(spend_sponsoredDisplay_Category,0) +\n",
    "#         COALESCE(spend_sponsoredDisplay_Competitive,0) +\n",
    "#         COALESCE(spend_sponsoredDisplay_Auto,0)\n",
    "# ) AS display_s,\n",
    "# --spend_sponsoredBrands_Undefined AS b_undefined_s,\n",
    "# spend_sponsoredBrands_Branded AS b_branded_s,\n",
    "# spend_sponsoredBrands_Category AS b_category_s,\n",
    "# spend_sponsoredBrands_Competitive AS b_competitive_s,\n",
    "# spend_sponsoredBrands_Auto AS b_auto_s,\n",
    "# --spend_sponsoredProducts_Undefined AS p_undefined_s,\n",
    "# spend_sponsoredProducts_Branded AS p_branded_s,\n",
    "# spend_sponsoredProducts_Category AS p_category_s,\n",
    "# spend_sponsoredProducts_Competitive AS p_competitive_s,\n",
    "# spend_sponsoredProducts_Auto AS p_auto_s,\n",
    "# shipped_units,\n",
    "# shipped_revenue\n",
    "# FROM pivot_d pd\n",
    "# FULL JOIN retail_data rd ON rd.reporting_date = pd.reporting_date\n",
    "# ORDER BY 1 DESC\n",
    "# \"\"\"\n",
    "# ams_campaign = client.query(sql).to_dataframe()"
   ],
   "metadata": {
    "collapsed": false,
    "ExecuteTime": {
     "end_time": "2023-06-26T19:25:32.590791200Z",
     "start_time": "2023-06-26T19:25:30.258939800Z"
    }
   }
  },
  {
   "cell_type": "code",
   "execution_count": 79,
   "outputs": [],
   "source": [
    "ams_campaign.to_csv('ams_campaign', index=False)"
   ],
   "metadata": {
    "collapsed": false,
    "ExecuteTime": {
     "end_time": "2023-05-26T15:32:50.579624200Z",
     "start_time": "2023-05-26T15:32:50.472112600Z"
    }
   }
  }
 ],
 "metadata": {
  "kernelspec": {
   "display_name": "Python 3",
   "language": "python",
   "name": "python3"
  },
  "language_info": {
   "codemirror_mode": {
    "name": "ipython",
    "version": 2
   },
   "file_extension": ".py",
   "mimetype": "text/x-python",
   "name": "python",
   "nbconvert_exporter": "python",
   "pygments_lexer": "ipython2",
   "version": "2.7.6"
  }
 },
 "nbformat": 4,
 "nbformat_minor": 0
}
