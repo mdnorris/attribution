{
 "cells": [
  {
   "cell_type": "code",
   "execution_count": 48,
   "metadata": {
    "collapsed": true
   },
   "outputs": [],
   "source": [
    "import numpy as np\n",
    "import pandas as pd\n",
    "from datetime import datetime\n",
    "from pathlib import Path"
   ]
  },
  {
   "cell_type": "code",
   "execution_count": 49,
   "outputs": [
    {
     "data": {
      "text/plain": "         week   sales\n0  2017-10-01  303.73\n1  2017-10-01   61.14\n2  2017-10-01  119.61\n3  2017-10-01  845.43\n4  2017-10-01  489.22",
      "text/html": "<div>\n<style scoped>\n    .dataframe tbody tr th:only-of-type {\n        vertical-align: middle;\n    }\n\n    .dataframe tbody tr th {\n        vertical-align: top;\n    }\n\n    .dataframe thead th {\n        text-align: right;\n    }\n</style>\n<table border=\"1\" class=\"dataframe\">\n  <thead>\n    <tr style=\"text-align: right;\">\n      <th></th>\n      <th>week</th>\n      <th>sales</th>\n    </tr>\n  </thead>\n  <tbody>\n    <tr>\n      <th>0</th>\n      <td>2017-10-01</td>\n      <td>303.73</td>\n    </tr>\n    <tr>\n      <th>1</th>\n      <td>2017-10-01</td>\n      <td>61.14</td>\n    </tr>\n    <tr>\n      <th>2</th>\n      <td>2017-10-01</td>\n      <td>119.61</td>\n    </tr>\n    <tr>\n      <th>3</th>\n      <td>2017-10-01</td>\n      <td>845.43</td>\n    </tr>\n    <tr>\n      <th>4</th>\n      <td>2017-10-01</td>\n      <td>489.22</td>\n    </tr>\n  </tbody>\n</table>\n</div>"
     },
     "execution_count": 49,
     "metadata": {},
     "output_type": "execute_result"
    }
   ],
   "source": [
    "df = pd.read_csv('C:/Users/norri/DataspellProjects/mercury-ds/attribution/TimeSeries/BQ_11_15_22/EO_campaign.csv')\n",
    "df.head(5)"
   ],
   "metadata": {
    "collapsed": false
   }
  },
  {
   "cell_type": "markdown",
   "source": [
    "The following three code blocks have to be adjusted for different datasets,\n",
    "but they all standardize the columns for the end of the program.\n",
    "There is also a drop NA if needed"
   ],
   "metadata": {
    "collapsed": false
   }
  },
  {
   "cell_type": "code",
   "execution_count": 50,
   "outputs": [],
   "source": [
    "# df.drop(['campaign_type_long', 'campaign_type', 'spend', 'impressions'], axis=1, inplace=True)\n",
    "# df.head(5)"
   ],
   "metadata": {
    "collapsed": false
   }
  },
  {
   "cell_type": "code",
   "execution_count": 53,
   "outputs": [],
   "source": [
    "df.rename(columns={'week': 'Date', 'sales': 'Revenue'}, inplace=True)\n",
    "df = df.dropna()"
   ],
   "metadata": {
    "collapsed": false
   }
  },
  {
   "cell_type": "code",
   "execution_count": 54,
   "outputs": [
    {
     "data": {
      "text/plain": "        Date  Revenue\n0 2017-10-01   303.73\n1 2017-10-01    61.14\n2 2017-10-01   119.61\n3 2017-10-01   845.43\n4 2017-10-01   489.22",
      "text/html": "<div>\n<style scoped>\n    .dataframe tbody tr th:only-of-type {\n        vertical-align: middle;\n    }\n\n    .dataframe tbody tr th {\n        vertical-align: top;\n    }\n\n    .dataframe thead th {\n        text-align: right;\n    }\n</style>\n<table border=\"1\" class=\"dataframe\">\n  <thead>\n    <tr style=\"text-align: right;\">\n      <th></th>\n      <th>Date</th>\n      <th>Revenue</th>\n    </tr>\n  </thead>\n  <tbody>\n    <tr>\n      <th>0</th>\n      <td>2017-10-01</td>\n      <td>303.73</td>\n    </tr>\n    <tr>\n      <th>1</th>\n      <td>2017-10-01</td>\n      <td>61.14</td>\n    </tr>\n    <tr>\n      <th>2</th>\n      <td>2017-10-01</td>\n      <td>119.61</td>\n    </tr>\n    <tr>\n      <th>3</th>\n      <td>2017-10-01</td>\n      <td>845.43</td>\n    </tr>\n    <tr>\n      <th>4</th>\n      <td>2017-10-01</td>\n      <td>489.22</td>\n    </tr>\n  </tbody>\n</table>\n</div>"
     },
     "execution_count": 54,
     "metadata": {},
     "output_type": "execute_result"
    }
   ],
   "source": [
    "df['Date'] = pd.to_datetime(df['Date'], format='%Y-%m-%d')\n",
    "df.head(5)"
   ],
   "metadata": {
    "collapsed": false
   }
  },
  {
   "cell_type": "markdown",
   "source": [
    "I felt the clearest way to aggregate to weekly was to number each week\n",
    "and sort by column and week number. It gives a reliable way to groupby in the next section,"
   ],
   "metadata": {
    "collapsed": false
   }
  },
  {
   "cell_type": "code",
   "execution_count": 55,
   "outputs": [
    {
     "data": {
      "text/plain": "        Date  Revenue  Week_Number  Year\n0 2017-10-01   303.73           39  2017\n1 2017-10-01    61.14           39  2017\n2 2017-10-01   119.61           39  2017\n3 2017-10-01   845.43           39  2017\n4 2017-10-01   489.22           39  2017",
      "text/html": "<div>\n<style scoped>\n    .dataframe tbody tr th:only-of-type {\n        vertical-align: middle;\n    }\n\n    .dataframe tbody tr th {\n        vertical-align: top;\n    }\n\n    .dataframe thead th {\n        text-align: right;\n    }\n</style>\n<table border=\"1\" class=\"dataframe\">\n  <thead>\n    <tr style=\"text-align: right;\">\n      <th></th>\n      <th>Date</th>\n      <th>Revenue</th>\n      <th>Week_Number</th>\n      <th>Year</th>\n    </tr>\n  </thead>\n  <tbody>\n    <tr>\n      <th>0</th>\n      <td>2017-10-01</td>\n      <td>303.73</td>\n      <td>39</td>\n      <td>2017</td>\n    </tr>\n    <tr>\n      <th>1</th>\n      <td>2017-10-01</td>\n      <td>61.14</td>\n      <td>39</td>\n      <td>2017</td>\n    </tr>\n    <tr>\n      <th>2</th>\n      <td>2017-10-01</td>\n      <td>119.61</td>\n      <td>39</td>\n      <td>2017</td>\n    </tr>\n    <tr>\n      <th>3</th>\n      <td>2017-10-01</td>\n      <td>845.43</td>\n      <td>39</td>\n      <td>2017</td>\n    </tr>\n    <tr>\n      <th>4</th>\n      <td>2017-10-01</td>\n      <td>489.22</td>\n      <td>39</td>\n      <td>2017</td>\n    </tr>\n  </tbody>\n</table>\n</div>"
     },
     "execution_count": 55,
     "metadata": {},
     "output_type": "execute_result"
    }
   ],
   "source": [
    "df['Week_Number'] = df['Date'].dt.isocalendar().week\n",
    "df['Year'] = df['Date'].dt.isocalendar().year\n",
    "df.head(5)"
   ],
   "metadata": {
    "collapsed": false
   }
  },
  {
   "cell_type": "code",
   "execution_count": 56,
   "outputs": [
    {
     "data": {
      "text/plain": "                  Revenue\nYear Week_Number         \n2017 39           2042.01\n     40           4042.41\n     41           2094.59\n     42           2315.04\n     43           3513.06",
      "text/html": "<div>\n<style scoped>\n    .dataframe tbody tr th:only-of-type {\n        vertical-align: middle;\n    }\n\n    .dataframe tbody tr th {\n        vertical-align: top;\n    }\n\n    .dataframe thead th {\n        text-align: right;\n    }\n</style>\n<table border=\"1\" class=\"dataframe\">\n  <thead>\n    <tr style=\"text-align: right;\">\n      <th></th>\n      <th></th>\n      <th>Revenue</th>\n    </tr>\n    <tr>\n      <th>Year</th>\n      <th>Week_Number</th>\n      <th></th>\n    </tr>\n  </thead>\n  <tbody>\n    <tr>\n      <th rowspan=\"5\" valign=\"top\">2017</th>\n      <th>39</th>\n      <td>2042.01</td>\n    </tr>\n    <tr>\n      <th>40</th>\n      <td>4042.41</td>\n    </tr>\n    <tr>\n      <th>41</th>\n      <td>2094.59</td>\n    </tr>\n    <tr>\n      <th>42</th>\n      <td>2315.04</td>\n    </tr>\n    <tr>\n      <th>43</th>\n      <td>3513.06</td>\n    </tr>\n  </tbody>\n</table>\n</div>"
     },
     "execution_count": 56,
     "metadata": {},
     "output_type": "execute_result"
    }
   ],
   "source": [
    "df2 = df.groupby(['Year', 'Week_Number']).sum()\n",
    "df2.head(5)"
   ],
   "metadata": {
    "collapsed": false
   }
  },
  {
   "cell_type": "markdown",
   "source": [
    "The original dataframe still has every observation from each day, but df2 has a repeated revenue for each sum it did for each week"
   ],
   "metadata": {
    "collapsed": false
   }
  },
  {
   "cell_type": "code",
   "execution_count": 57,
   "outputs": [
    {
     "data": {
      "text/plain": "        Date  Revenue_x  Week_Number  Year  Revenue_y\n0 2017-10-01     303.73           39  2017    2042.01\n1 2017-10-01      61.14           39  2017    2042.01\n2 2017-10-01     119.61           39  2017    2042.01\n3 2017-10-01     845.43           39  2017    2042.01\n4 2017-10-01     489.22           39  2017    2042.01",
      "text/html": "<div>\n<style scoped>\n    .dataframe tbody tr th:only-of-type {\n        vertical-align: middle;\n    }\n\n    .dataframe tbody tr th {\n        vertical-align: top;\n    }\n\n    .dataframe thead th {\n        text-align: right;\n    }\n</style>\n<table border=\"1\" class=\"dataframe\">\n  <thead>\n    <tr style=\"text-align: right;\">\n      <th></th>\n      <th>Date</th>\n      <th>Revenue_x</th>\n      <th>Week_Number</th>\n      <th>Year</th>\n      <th>Revenue_y</th>\n    </tr>\n  </thead>\n  <tbody>\n    <tr>\n      <th>0</th>\n      <td>2017-10-01</td>\n      <td>303.73</td>\n      <td>39</td>\n      <td>2017</td>\n      <td>2042.01</td>\n    </tr>\n    <tr>\n      <th>1</th>\n      <td>2017-10-01</td>\n      <td>61.14</td>\n      <td>39</td>\n      <td>2017</td>\n      <td>2042.01</td>\n    </tr>\n    <tr>\n      <th>2</th>\n      <td>2017-10-01</td>\n      <td>119.61</td>\n      <td>39</td>\n      <td>2017</td>\n      <td>2042.01</td>\n    </tr>\n    <tr>\n      <th>3</th>\n      <td>2017-10-01</td>\n      <td>845.43</td>\n      <td>39</td>\n      <td>2017</td>\n      <td>2042.01</td>\n    </tr>\n    <tr>\n      <th>4</th>\n      <td>2017-10-01</td>\n      <td>489.22</td>\n      <td>39</td>\n      <td>2017</td>\n      <td>2042.01</td>\n    </tr>\n  </tbody>\n</table>\n</div>"
     },
     "execution_count": 57,
     "metadata": {},
     "output_type": "execute_result"
    }
   ],
   "source": [
    "df = df.merge(df2, how='inner', left_on=['Year', 'Week_Number'], right_on=['Year', 'Week_Number'])\n",
    "df.head(5)"
   ],
   "metadata": {
    "collapsed": false
   }
  },
  {
   "cell_type": "markdown",
   "source": [
    "After merging back together, we need to first drop all of the repeated Sales values, so whenever\n",
    "a Year, Week_Number, and a Sales are a duplicate, all but the first are dropped."
   ],
   "metadata": {
    "collapsed": false
   }
  },
  {
   "cell_type": "code",
   "execution_count": 58,
   "outputs": [],
   "source": [
    "df['Sales'] = df['Revenue_y']"
   ],
   "metadata": {
    "collapsed": false
   }
  },
  {
   "cell_type": "code",
   "execution_count": 59,
   "outputs": [
    {
     "data": {
      "text/plain": "         Date  Revenue_x  Week_Number  Year  Revenue_y    Sales\n0  2017-10-01     303.73           39  2017    2042.01  2042.01\n6  2017-10-02       0.00           40  2017    4042.41  4042.41\n41 2017-10-09     106.53           41  2017    2094.59  2094.59\n69 2017-10-16       0.00           42  2017    2315.04  2315.04\n96 2017-10-23      43.96           43  2017    3513.06  3513.06",
      "text/html": "<div>\n<style scoped>\n    .dataframe tbody tr th:only-of-type {\n        vertical-align: middle;\n    }\n\n    .dataframe tbody tr th {\n        vertical-align: top;\n    }\n\n    .dataframe thead th {\n        text-align: right;\n    }\n</style>\n<table border=\"1\" class=\"dataframe\">\n  <thead>\n    <tr style=\"text-align: right;\">\n      <th></th>\n      <th>Date</th>\n      <th>Revenue_x</th>\n      <th>Week_Number</th>\n      <th>Year</th>\n      <th>Revenue_y</th>\n      <th>Sales</th>\n    </tr>\n  </thead>\n  <tbody>\n    <tr>\n      <th>0</th>\n      <td>2017-10-01</td>\n      <td>303.73</td>\n      <td>39</td>\n      <td>2017</td>\n      <td>2042.01</td>\n      <td>2042.01</td>\n    </tr>\n    <tr>\n      <th>6</th>\n      <td>2017-10-02</td>\n      <td>0.00</td>\n      <td>40</td>\n      <td>2017</td>\n      <td>4042.41</td>\n      <td>4042.41</td>\n    </tr>\n    <tr>\n      <th>41</th>\n      <td>2017-10-09</td>\n      <td>106.53</td>\n      <td>41</td>\n      <td>2017</td>\n      <td>2094.59</td>\n      <td>2094.59</td>\n    </tr>\n    <tr>\n      <th>69</th>\n      <td>2017-10-16</td>\n      <td>0.00</td>\n      <td>42</td>\n      <td>2017</td>\n      <td>2315.04</td>\n      <td>2315.04</td>\n    </tr>\n    <tr>\n      <th>96</th>\n      <td>2017-10-23</td>\n      <td>43.96</td>\n      <td>43</td>\n      <td>2017</td>\n      <td>3513.06</td>\n      <td>3513.06</td>\n    </tr>\n  </tbody>\n</table>\n</div>"
     },
     "execution_count": 59,
     "metadata": {},
     "output_type": "execute_result"
    }
   ],
   "source": [
    "df = df.drop_duplicates(subset=['Year', 'Week_Number', 'Sales'], keep='first')\n",
    "df.head(5)"
   ],
   "metadata": {
    "collapsed": false
   }
  },
  {
   "cell_type": "markdown",
   "source": [
    "The index is reset because it has gaps in it from all the dropped variables."
   ],
   "metadata": {
    "collapsed": false
   }
  },
  {
   "cell_type": "code",
   "execution_count": 60,
   "outputs": [],
   "source": [
    "df = df.drop(['Revenue_x', 'Revenue_y'], axis=1)\n",
    "df = df.iloc[1: , :]\n",
    "df = df.reset_index(drop=True)"
   ],
   "metadata": {
    "collapsed": false
   }
  },
  {
   "cell_type": "code",
   "execution_count": 61,
   "outputs": [],
   "source": [
    "df = df.drop(['Week_Number', 'Year'], axis=1)"
   ],
   "metadata": {
    "collapsed": false
   }
  },
  {
   "cell_type": "code",
   "execution_count": 62,
   "outputs": [
    {
     "data": {
      "text/plain": "        Date    Sales\n0 2017-10-02  4042.41\n1 2017-10-09  2094.59\n2 2017-10-16  2315.04\n3 2017-10-23  3513.06\n4 2017-10-30  1863.94\n5 2017-11-06  3332.38\n6 2017-11-13  3198.49\n7 2017-11-20  2922.20\n8 2017-11-27  1885.98\n9 2017-12-04  2161.47",
      "text/html": "<div>\n<style scoped>\n    .dataframe tbody tr th:only-of-type {\n        vertical-align: middle;\n    }\n\n    .dataframe tbody tr th {\n        vertical-align: top;\n    }\n\n    .dataframe thead th {\n        text-align: right;\n    }\n</style>\n<table border=\"1\" class=\"dataframe\">\n  <thead>\n    <tr style=\"text-align: right;\">\n      <th></th>\n      <th>Date</th>\n      <th>Sales</th>\n    </tr>\n  </thead>\n  <tbody>\n    <tr>\n      <th>0</th>\n      <td>2017-10-02</td>\n      <td>4042.41</td>\n    </tr>\n    <tr>\n      <th>1</th>\n      <td>2017-10-09</td>\n      <td>2094.59</td>\n    </tr>\n    <tr>\n      <th>2</th>\n      <td>2017-10-16</td>\n      <td>2315.04</td>\n    </tr>\n    <tr>\n      <th>3</th>\n      <td>2017-10-23</td>\n      <td>3513.06</td>\n    </tr>\n    <tr>\n      <th>4</th>\n      <td>2017-10-30</td>\n      <td>1863.94</td>\n    </tr>\n    <tr>\n      <th>5</th>\n      <td>2017-11-06</td>\n      <td>3332.38</td>\n    </tr>\n    <tr>\n      <th>6</th>\n      <td>2017-11-13</td>\n      <td>3198.49</td>\n    </tr>\n    <tr>\n      <th>7</th>\n      <td>2017-11-20</td>\n      <td>2922.20</td>\n    </tr>\n    <tr>\n      <th>8</th>\n      <td>2017-11-27</td>\n      <td>1885.98</td>\n    </tr>\n    <tr>\n      <th>9</th>\n      <td>2017-12-04</td>\n      <td>2161.47</td>\n    </tr>\n  </tbody>\n</table>\n</div>"
     },
     "execution_count": 62,
     "metadata": {},
     "output_type": "execute_result"
    }
   ],
   "source": [
    "df.head(10)"
   ],
   "metadata": {
    "collapsed": false
   }
  },
  {
   "cell_type": "markdown",
   "source": [
    "Finally, two files are saved out: one with all but the last four in the file, and the other with only the last four in the file."
   ],
   "metadata": {
    "collapsed": false
   }
  },
  {
   "cell_type": "code",
   "execution_count": 63,
   "outputs": [],
   "source": [
    "df_training = df.iloc[:-4,:]\n",
    "df_training.to_csv('eo_training.csv', header=True, index=False)"
   ],
   "metadata": {
    "collapsed": false
   }
  },
  {
   "cell_type": "code",
   "execution_count": 64,
   "outputs": [],
   "source": [
    "df_test = df.iloc[-4:,:]\n",
    "df_test.to_csv('eo_test.csv', header=True, index=False)"
   ],
   "metadata": {
    "collapsed": false
   }
  }
 ],
 "metadata": {
  "kernelspec": {
   "display_name": "Python 3",
   "language": "python",
   "name": "python3"
  },
  "language_info": {
   "codemirror_mode": {
    "name": "ipython",
    "version": 2
   },
   "file_extension": ".py",
   "mimetype": "text/x-python",
   "name": "python",
   "nbconvert_exporter": "python",
   "pygments_lexer": "ipython2",
   "version": "2.7.6"
  }
 },
 "nbformat": 4,
 "nbformat_minor": 0
}
