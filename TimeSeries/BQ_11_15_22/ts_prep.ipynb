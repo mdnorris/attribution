{
 "cells": [
  {
   "cell_type": "code",
   "execution_count": 10,
   "metadata": {
    "collapsed": true
   },
   "outputs": [],
   "source": [
    "import numpy as np\n",
    "import pandas as pd\n",
    "from datetime import datetime\n",
    "from pathlib import Path"
   ]
  },
  {
   "cell_type": "code",
   "execution_count": 11,
   "outputs": [],
   "source": [
    "company =\"biobag\"\n",
    "df = pd.read_csv('G:/My Drive/IN/Data/Forecast_Comparisons/New_Forecasts/Deck_Prep/biobag.csv')\n",
    "df['Date'] = pd.to_datetime(df['Date'], format='%Y-%m-%d')"
   ],
   "metadata": {
    "collapsed": false
   }
  },
  {
   "cell_type": "code",
   "execution_count": 12,
   "outputs": [],
   "source": [
    "df['Week_Number'] = df['Date'].dt.isocalendar().week\n",
    "df['Year'] = df['Date'].dt.isocalendar().year"
   ],
   "metadata": {
    "collapsed": false
   }
  },
  {
   "cell_type": "code",
   "execution_count": 13,
   "outputs": [],
   "source": [
    "df2 = df.groupby(['Year', 'Week_Number']).sum()"
   ],
   "metadata": {
    "collapsed": false
   }
  },
  {
   "cell_type": "code",
   "execution_count": 14,
   "outputs": [],
   "source": [
    "df = df.merge(df2, how='inner', left_on=['Year', 'Week_Number'], right_on=['Year', 'Week_Number'])\n",
    "df['Sales'] = df['Revenue_y']"
   ],
   "metadata": {
    "collapsed": false
   }
  },
  {
   "cell_type": "code",
   "execution_count": 15,
   "outputs": [],
   "source": [
    "df = df.drop_duplicates(subset=['Year', 'Week_Number', 'Sales'], keep='first')\n",
    "df = df.drop(['Revenue_x', 'Revenue_y'], axis=1)\n",
    "df = df.iloc[1: , :]"
   ],
   "metadata": {
    "collapsed": false
   }
  },
  {
   "cell_type": "code",
   "execution_count": 16,
   "outputs": [],
   "source": [
    "df = df.reset_index(drop=True)\n",
    "df = df.drop(['Year', 'Week_Number'], axis=1)"
   ],
   "metadata": {
    "collapsed": false
   }
  },
  {
   "cell_type": "code",
   "execution_count": 17,
   "outputs": [],
   "source": [
    "df_training = df.iloc[0:-4,:]\n",
    "df_test = df.iloc[-4: , :]"
   ],
   "metadata": {
    "collapsed": false
   }
  },
  {
   "cell_type": "code",
   "execution_count": 18,
   "outputs": [],
   "source": [
    "df.to_csv(company + \".csv\", header=True, index=False)\n",
    "df_training.to_csv(company + \"_training\" + \".csv\", header=True, index=False)\n",
    "df_test.to_csv(company + \"_test\" + \".csv\", header=True, index=False)"
   ],
   "metadata": {
    "collapsed": false
   }
  }
 ],
 "metadata": {
  "kernelspec": {
   "display_name": "Python 3",
   "language": "python",
   "name": "python3"
  },
  "language_info": {
   "codemirror_mode": {
    "name": "ipython",
    "version": 2
   },
   "file_extension": ".py",
   "mimetype": "text/x-python",
   "name": "python",
   "nbconvert_exporter": "python",
   "pygments_lexer": "ipython2",
   "version": "2.7.6"
  }
 },
 "nbformat": 4,
 "nbformat_minor": 0
}
