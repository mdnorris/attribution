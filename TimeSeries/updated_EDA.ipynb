{
 "cells": [
  {
   "cell_type": "markdown",
   "source": [
    "#### The purpose of this EDA notebook is the following:\n",
    "- Better understand the nature of the relationship between the independent variables\n",
    "- Create an initial model with reasonable economic assumptions that may be dropped in later versions\n",
    "- Explore methods of imputation for missing variables to provide more data samples\n",
    "- Avoid linear combinations that might be more difficult to spot in the Bayesian Modeling process\n",
    "- Establish a reasonable measure of variable importance, which along with correlation plots may inform initial hierarchies\n",
    "- Create visualizations of poor quality data and also establish probability distributions for the likelihood function"
   ],
   "metadata": {
    "collapsed": false,
    "pycharm": {
     "name": "#%% md\n"
    }
   }
  },
  {
   "cell_type": "markdown",
   "source": [
    "#### 1. Import data and necessary packages"
   ],
   "metadata": {
    "collapsed": false,
    "pycharm": {
     "name": "#%% md\n"
    }
   }
  },
  {
   "cell_type": "code",
   "execution_count": null,
   "outputs": [],
   "source": [
    "import os\n",
    "import pandas as pd\n",
    "import numpy as np\n",
    "import matplotlib.pyplot as plt\n",
    "%matplotlib inline\n",
    "import seaborn as sns\n",
    "sns.set_style('darkgrid')\n",
    "# from rfpimp import *\n",
    "# from rfpimp import plot_corr_heatmap\n",
    "from sklearn.ensemble import RandomForestRegressor, RandomForestClassifier\n",
    "from sklearn.model_selection import train_test_split\n",
    "from sklearn.linear_model import LinearRegression\n",
    "from sklearn import metrics\n",
    "from scipy.optimize import curve_fit\n",
    "from scipy.stats import linregress\n",
    "from sklearn.decomposition import PCA\n",
    "from sklearn.discriminant_analysis import LinearDiscriminantAnalysis\n",
    "from sklearn.metrics import accuracy_score, mean_squared_error\n",
    "from sklearn.preprocessing import StandardScaler\n",
    "from multiprocessing import Pool\n",
    "from sklearn.inspection import permutation_importance\n",
    "# import category_encoders as ce\n",
    "# from catboost import CatBoostRegressor, Pool\n",
    "import arviz as az\n",
    "import pymc3 as pm\n",
    "from theano import tensor as tt\n",
    "from theano import shared\n",
    "from sklearn import preprocessing\n",
    "import shap\n",
    "# import bambi as bmb\n",
    "# import formulae\n",
    "from statsmodels.stats.outliers_influence import variance_inflation_factor\n",
    "from fitter import Fitter, get_common_distributions, get_distributions\n",
    "import xarray\n",
    "from sklearn.metrics import mean_squared_error\n",
    "from pymc3.variational.callbacks import CheckParametersConvergence\n",
    "import graphviz\n",
    "\n",
    "# %load_ext heat\n",
    "# %load_ext line_profiler\n",
    "# %load_ext memory_profiler"
   ],
   "metadata": {
    "collapsed": false,
    "pycharm": {
     "name": "#%%\n",
     "is_executing": true
    }
   }
  },
  {
   "cell_type": "code",
   "execution_count": 2,
   "outputs": [
    {
     "name": "stdout",
     "output_type": "stream",
     "text": [
      "C:\\Users\\norri\\Documents\\GitHub\\mercury-ds\\attribution\n",
      "<class 'pandas.core.frame.DataFrame'>\n",
      "RangeIndex: 54039 entries, 0 to 54038\n",
      "Data columns (total 48 columns):\n",
      " #   Column                                        Non-Null Count  Dtype  \n",
      "---  ------                                        --------------  -----  \n",
      " 0   ClientId                                      54039 non-null  int64  \n",
      " 1   Program Id                                    54039 non-null  int64  \n",
      " 2   Program Name                                  54039 non-null  object \n",
      " 3   Retailers                                     54039 non-null  object \n",
      " 4   TacticId                                      54039 non-null  int64  \n",
      " 5   Tactic                                        54039 non-null  object \n",
      " 6   CategoryId                                    54039 non-null  int64  \n",
      " 7   Tactic Category                               54039 non-null  object \n",
      " 8   VendorId                                      53135 non-null  float64\n",
      " 9   Vendor                                        54039 non-null  object \n",
      " 10  Total Impressions for Tactic                  54039 non-null  int64  \n",
      " 11  Total Tactic Spend                            54039 non-null  float64\n",
      " 12  Total Tactic Insertion Cost                   54039 non-null  float64\n",
      " 13  Total Tactic Redemption Cost                  54039 non-null  float64\n",
      " 14  Tactic Start Date                             54039 non-null  object \n",
      " 15  Tactic End Date                               54039 non-null  object \n",
      " 16  BrandId                                       54039 non-null  int64  \n",
      " 17  Brand                                         54039 non-null  object \n",
      " 18  Nielsen_Week_Year                             54039 non-null  int64  \n",
      " 19  StoreCount                                    54031 non-null  float64\n",
      " 20  RMN                                           54039 non-null  object \n",
      " 21  Weeks                                         54039 non-null  int64  \n",
      " 22  Impressions per Week                          54039 non-null  float64\n",
      " 23  Brand Share of Program Budget                 54039 non-null  float64\n",
      " 24  Brand Share of Total Tactic Spend             54039 non-null  float64\n",
      " 25  Brand Share of Tactic Insertion Cost          54039 non-null  float64\n",
      " 26  Brand Share of Tactic Redemption Cost         54039 non-null  float64\n",
      " 27  Weekly Brand Share of Total Tactic Spend      54039 non-null  float64\n",
      " 28  Weekly Brand Share of Tactic Insertion Cost   54039 non-null  float64\n",
      " 29  Weekly Brand Share of Tactic Redemption Cost  54039 non-null  float64\n",
      " 30  Total Sales                                   20515 non-null  float64\n",
      " 31  Base $                                        20515 non-null  float64\n",
      " 32  Incr $                                        20515 non-null  float64\n",
      " 33  Units                                         20515 non-null  float64\n",
      " 34  Base Units                                    20515 non-null  float64\n",
      " 35  Incr Units                                    20515 non-null  float64\n",
      " 36  Avg Unit Price                                20523 non-null  float64\n",
      " 37  Any Promo Units                               20523 non-null  float64\n",
      " 38  %ACV Distribution                             20481 non-null  float64\n",
      " 39  Any Promo %ACV                                20481 non-null  float64\n",
      " 40  Disp w/o Feat %ACV                            20481 non-null  float64\n",
      " 41  Feat & Disp %ACV                              20481 non-null  float64\n",
      " 42  Feat w/o Disp %ACV                            20481 non-null  float64\n",
      " 43  Price Decr Only %ACV                          20481 non-null  float64\n",
      " 44  Number of UPCs Selling                        20523 non-null  float64\n",
      " 45  $ Shr - Ty Subcategory                        5220 non-null   float64\n",
      " 46  Units Shr - Ty Category                       3153 non-null   float64\n",
      " 47  Units Shr - Ty Subcategory                    5220 non-null   float64\n",
      "dtypes: float64(31), int64(8), object(9)\n",
      "memory usage: 19.8+ MB\n"
     ]
    }
   ],
   "source": [
    "print(os.getcwd())\n",
    "\n",
    "df = pd.read_csv('C:/Users/norri/Documents/GitHub/mercury-ds/attribution/cortex_Push.csv')\n",
    "df_bu = df\n",
    "df.describe()\n",
    "df.info()"
   ],
   "metadata": {
    "collapsed": false,
    "pycharm": {
     "name": "#%%\n"
    }
   }
  },
  {
   "cell_type": "markdown",
   "source": [
    "Pandas dataframes will have string, int, and float columns. The following\n",
    "three sections will look for columns that need to be fixed or ped altogether"
   ],
   "metadata": {
    "collapsed": false,
    "pycharm": {
     "name": "#%% md\n"
    }
   }
  },
  {
   "cell_type": "markdown",
   "source": [
    "##### The following few sections analyze categorical, float, and int variables\n",
    "##### so the dataset can be cleaned"
   ],
   "metadata": {
    "collapsed": false,
    "pycharm": {
     "name": "#%% md\n"
    }
   }
  },
  {
   "cell_type": "code",
   "execution_count": 3,
   "outputs": [
    {
     "name": "stdout",
     "output_type": "stream",
     "text": [
      "There are 3 categorical variables\n",
      "\n",
      "The categorical variables are :\n",
      "\n",
      " ['Tactic Category', 'Brand', 'RMN']\n",
      "Tactic Category    0.0\n",
      "Brand              0.0\n",
      "RMN                0.0\n",
      "dtype: float64\n",
      "<class 'pandas.core.frame.DataFrame'>\n",
      "RangeIndex: 54039 entries, 0 to 54038\n",
      "Data columns (total 3 columns):\n",
      " #   Column           Non-Null Count  Dtype \n",
      "---  ------           --------------  ----- \n",
      " 0   Tactic Category  54039 non-null  object\n",
      " 1   Brand            54039 non-null  object\n",
      " 2   RMN              54039 non-null  object\n",
      "dtypes: object(3)\n",
      "memory usage: 1.2+ MB\n",
      "Tactic Category    20\n",
      "Brand              97\n",
      "RMN                 2\n",
      "dtype: int64\n"
     ]
    }
   ],
   "source": [
    "# these drop column snippets are not used often here,\n",
    "# but have been useful, especially with large datasets\n",
    "\n",
    "df = df.drop(['Program Name', 'Retailers', 'Tactic', 'Vendor', 'Tactic Start Date',\n",
    "              'Tactic End Date'], axis=1)\n",
    "segment = [var for var in df.columns if df[var].dtype == 'O']\n",
    "print('There are {} categorical variables\\n'.format(len(segment)))\n",
    "print('The categorical variables are :\\n\\n', segment)\n",
    "print(df[segment].isnull().sum() / len(df))\n",
    "df_cat = df.select_dtypes(include=object)\n",
    "df_cat.info()\n",
    "df_cat.describe()\n",
    "print(df_cat.nunique())"
   ],
   "metadata": {
    "collapsed": false,
    "pycharm": {
     "name": "#%%\n"
    }
   }
  },
  {
   "cell_type": "code",
   "execution_count": 4,
   "outputs": [],
   "source": [
    "df.RMN.replace(('Yes', 'No'), (1, 0), inplace=True)"
   ],
   "metadata": {
    "collapsed": false,
    "pycharm": {
     "name": "#%%\n"
    }
   }
  },
  {
   "cell_type": "code",
   "execution_count": 5,
   "outputs": [
    {
     "data": {
      "text/plain": "<Figure size 432x288 with 1 Axes>",
      "image/png": "[encoded data removed]"
     },
     "metadata": {},
     "output_type": "display_data"
    }
   ],
   "source": [
    "for col in df.select_dtypes(include='object'):\n",
    "    if df[col].nunique() <= 25:\n",
    "        sns.countplot(y=col, data=df)\n",
    "        plt.show()"
   ],
   "metadata": {
    "collapsed": false,
    "pycharm": {
     "name": "#%%\n"
    }
   }
  },
  {
   "cell_type": "code",
   "execution_count": 6,
   "outputs": [
    {
     "name": "stdout",
     "output_type": "stream",
     "text": [
      "There are 9 integer variables\n",
      "\n",
      "The integer variables are :\n",
      "\n",
      " ['ClientId', 'Program Id', 'TacticId', 'CategoryId', 'Total Impressions for Tactic', 'BrandId', 'Nielsen_Week_Year', 'RMN', 'Weeks']\n",
      "ClientId                        0\n",
      "Program Id                      0\n",
      "TacticId                        0\n",
      "CategoryId                      0\n",
      "Total Impressions for Tactic    0\n",
      "BrandId                         0\n",
      "Nielsen_Week_Year               0\n",
      "RMN                             0\n",
      "Weeks                           0\n",
      "dtype: int64\n",
      "<class 'pandas.core.frame.DataFrame'>\n",
      "RangeIndex: 54039 entries, 0 to 54038\n",
      "Data columns (total 9 columns):\n",
      " #   Column                        Non-Null Count  Dtype\n",
      "---  ------                        --------------  -----\n",
      " 0   ClientId                      54039 non-null  int64\n",
      " 1   Program Id                    54039 non-null  int64\n",
      " 2   TacticId                      54039 non-null  int64\n",
      " 3   CategoryId                    54039 non-null  int64\n",
      " 4   Total Impressions for Tactic  54039 non-null  int64\n",
      " 5   BrandId                       54039 non-null  int64\n",
      " 6   Nielsen_Week_Year             54039 non-null  int64\n",
      " 7   RMN                           54039 non-null  int64\n",
      " 8   Weeks                         54039 non-null  int64\n",
      "dtypes: int64(9)\n",
      "memory usage: 3.7 MB\n"
     ]
    }
   ],
   "source": [
    "# df = df.drop(\n",
    "#     [], axis=1)\n",
    "integer = [var for var in df.columns if df[var].dtype == 'int64']\n",
    "print('There are {} integer variables\\n'.format(len(integer)))\n",
    "print('The integer variables are :\\n\\n', integer)\n",
    "print(df[integer].isnull().sum())\n",
    "df_int = df.select_dtypes(include=int)\n",
    "if len(df_int.columns) > 0.0:\n",
    "    df_int.info()\n",
    "    df_int.describe()"
   ],
   "metadata": {
    "collapsed": false,
    "pycharm": {
     "name": "#%%\n"
    }
   }
  },
  {
   "cell_type": "markdown",
   "source": [
    "##### In the below section we address the large number of missing s and also\n",
    "##### the columns consisting entirely of zeroes, and drop them accordingly"
   ],
   "metadata": {
    "collapsed": false,
    "pycharm": {
     "name": "#%% md\n"
    }
   }
  },
  {
   "cell_type": "code",
   "execution_count": 7,
   "outputs": [
    {
     "name": "stdout",
     "output_type": "stream",
     "text": [
      "There are 24 float variables\n",
      "\n",
      "The float variables are :\n",
      "\n",
      " ['VendorId', 'Total Tactic Spend', 'Total Tactic Insertion Cost', 'Total Tactic Redemption Cost', 'StoreCount', 'Impressions per Week', 'Brand Share of Program Budget', 'Brand Share of Total Tactic Spend', 'Brand Share of Tactic Insertion Cost', 'Brand Share of Tactic Redemption Cost', 'Weekly Brand Share of Total Tactic Spend', 'Weekly Brand Share of Tactic Insertion Cost', 'Weekly Brand Share of Tactic Redemption Cost', 'Total Sales', 'Units', 'Avg Unit Price', 'Any Promo Units', '%ACV Distribution', 'Any Promo %ACV', 'Disp w/o Feat %ACV', 'Feat & Disp %ACV', 'Feat w/o Disp %ACV', 'Price Decr Only %ACV', 'Number of UPCs Selling']\n",
      "Total Sales               62.036677\n",
      "Units                     62.036677\n",
      "Avg Unit Price            62.021873\n",
      "Any Promo Units           62.021873\n",
      "%ACV Distribution         62.099595\n",
      "Any Promo %ACV            62.099595\n",
      "Disp w/o Feat %ACV        62.099595\n",
      "Feat & Disp %ACV          62.099595\n",
      "Feat w/o Disp %ACV        62.099595\n",
      "Price Decr Only %ACV      62.099595\n",
      "Number of UPCs Selling    62.021873\n",
      "dtype: float64\n",
      "Series([], dtype: float64)\n"
     ]
    }
   ],
   "source": [
    "df = df.drop(\n",
    "        ['Base $', 'Incr $', 'Base Units', 'Incr Units',\n",
    "         '$ Shr - Ty Subcategory', 'Units Shr - Ty Category',\n",
    "         'Units Shr - Ty Subcategory'], axis=1)\n",
    "fp = [var for var in df.columns if df[var].dtype == 'float64']\n",
    "print('There are {} float variables\\n'.format(len(fp)))\n",
    "print('The float variables are :\\n\\n', fp)\n",
    "fp_na = df[fp].isnull().sum() / len(df) * 100\n",
    "print(fp_na[fp_na > 10])\n",
    "fp_zero = df[fp].sum()\n",
    "print(fp_zero[fp_zero == 0.0])"
   ],
   "metadata": {
    "collapsed": false,
    "pycharm": {
     "name": "#%%\n"
    }
   }
  },
  {
   "cell_type": "code",
   "execution_count": 8,
   "outputs": [
    {
     "data": {
      "text/plain": "       Total Impressions for Tactic  Total Tactic Spend  \\\ncount                  5.403900e+04        54039.000000   \nmean                   3.408857e+07        33927.000842   \nstd                    3.680617e+08        61813.987485   \nmin                    0.000000e+00            0.000000   \n25%                    5.269400e+04         8714.000000   \n50%                    3.000000e+05        20000.000000   \n75%                    3.800838e+06        40000.000000   \nmax                    4.750000e+09       690000.000000   \n\n       Total Tactic Insertion Cost  Total Tactic Redemption Cost  \\\ncount                 54039.000000                  54039.000000   \nmean                  27540.179030                   6386.821813   \nstd                   61974.946222                  12328.696054   \nmin                       0.000000                      0.000000   \n25%                    4494.000000                      0.000000   \n50%                   10480.890000                      0.000000   \n75%                   29994.800000                   9750.000000   \nmax                  690000.000000                 151705.000000   \n\n         StoreCount           RMN         Weeks  Impressions per Week  \\\ncount  54031.000000  54039.000000  54039.000000          5.403900e+04   \nmean    1033.474764      0.212513      8.902885          3.044121e+06   \nstd     1304.144639      0.409090      5.067866          3.048686e+07   \nmin        0.000000      0.000000      1.000000          0.000000e+00   \n25%        0.000000      0.000000      6.000000          7.064667e+03   \n50%        0.000000      0.000000      8.000000          3.739900e+04   \n75%     2277.000000      0.000000     12.000000          5.371706e+05   \nmax    15000.000000      1.000000     61.000000          4.500000e+08   \n\n       Brand Share of Program Budget  Brand Share of Total Tactic Spend  ...  \\\ncount                   54039.000000                       54039.000000  ...   \nmean                        0.239102                        7075.707566  ...   \nstd                         0.291679                       14125.204066  ...   \nmin                         0.000000                           0.000000  ...   \n25%                         0.056904                         635.431163  ...   \n50%                         0.123091                        2291.429059  ...   \n75%                         0.271429                        6725.352668  ...   \nmax                         1.000000                      187676.881500  ...   \n\n              Units  Avg Unit Price  Any Promo Units  %ACV Distribution  \\\ncount  2.051500e+04    20523.000000     2.052300e+04       20481.000000   \nmean   1.984949e+05        5.651272     6.032207e+04          86.373085   \nstd    4.354113e+05        2.231451     1.662932e+05          25.044837   \nmin    0.000000e+00        0.000000     0.000000e+00           0.331000   \n25%    2.088150e+04        4.000000     2.202813e+03          91.901000   \n50%    7.331000e+04        5.149000     1.539920e+04          98.872000   \n75%    1.814967e+05        7.119000     5.465139e+04          99.761000   \nmax    3.600584e+06       14.957000     2.074647e+06         100.000000   \n\n       Any Promo %ACV  Disp w/o Feat %ACV  Feat & Disp %ACV  \\\ncount    20481.000000        20481.000000      20481.000000   \nmean        45.409581            2.082658          0.820302   \nstd         33.745145            5.432150          3.497597   \nmin          0.000000            0.000000          0.000000   \n25%         12.753000            0.000000          0.000000   \n50%         43.668000            0.000000          0.000000   \n75%         74.771000            1.900000          0.000000   \nmax        100.000000           66.782000         58.213000   \n\n       Feat w/o Disp %ACV  Price Decr Only %ACV  Number of UPCs Selling  \ncount        20481.000000          20481.000000            20523.000000  \nmean            17.774523             36.872715               16.736686  \nstd             27.201852             31.021937               16.984060  \nmin              0.000000              0.000000                0.000000  \n25%              0.000000              7.571000                6.000000  \n50%              0.900000             30.984000               11.000000  \n75%             26.047000             61.200000               20.000000  \nmax            100.000000            100.000000               83.000000  \n\n[8 rows x 26 columns]",
      "text/html": "<div>\n<style scoped>\n    .dataframe tbody tr th:only-of-type {\n        vertical-align: middle;\n    }\n\n    .dataframe tbody tr th {\n        vertical-align: top;\n    }\n\n    .dataframe thead th {\n        text-align: right;\n    }\n</style>\n<table border=\"1\" class=\"dataframe\">\n  <thead>\n    <tr style=\"text-align: right;\">\n      <th></th>\n      <th>Total Impressions for Tactic</th>\n      <th>Total Tactic Spend</th>\n      <th>Total Tactic Insertion Cost</th>\n      <th>Total Tactic Redemption Cost</th>\n      <th>StoreCount</th>\n      <th>RMN</th>\n      <th>Weeks</th>\n      <th>Impressions per Week</th>\n      <th>Brand Share of Program Budget</th>\n      <th>Brand Share of Total Tactic Spend</th>\n      <th>...</th>\n      <th>Units</th>\n      <th>Avg Unit Price</th>\n      <th>Any Promo Units</th>\n      <th>%ACV Distribution</th>\n      <th>Any Promo %ACV</th>\n      <th>Disp w/o Feat %ACV</th>\n      <th>Feat &amp; Disp %ACV</th>\n      <th>Feat w/o Disp %ACV</th>\n      <th>Price Decr Only %ACV</th>\n      <th>Number of UPCs Selling</th>\n    </tr>\n  </thead>\n  <tbody>\n    <tr>\n      <th>count</th>\n      <td>5.403900e+04</td>\n      <td>54039.000000</td>\n      <td>54039.000000</td>\n      <td>54039.000000</td>\n      <td>54031.000000</td>\n      <td>54039.000000</td>\n      <td>54039.000000</td>\n      <td>5.403900e+04</td>\n      <td>54039.000000</td>\n      <td>54039.000000</td>\n      <td>...</td>\n      <td>2.051500e+04</td>\n      <td>20523.000000</td>\n      <td>2.052300e+04</td>\n      <td>20481.000000</td>\n      <td>20481.000000</td>\n      <td>20481.000000</td>\n      <td>20481.000000</td>\n      <td>20481.000000</td>\n      <td>20481.000000</td>\n      <td>20523.000000</td>\n    </tr>\n    <tr>\n      <th>mean</th>\n      <td>3.408857e+07</td>\n      <td>33927.000842</td>\n      <td>27540.179030</td>\n      <td>6386.821813</td>\n      <td>1033.474764</td>\n      <td>0.212513</td>\n      <td>8.902885</td>\n      <td>3.044121e+06</td>\n      <td>0.239102</td>\n      <td>7075.707566</td>\n      <td>...</td>\n      <td>1.984949e+05</td>\n      <td>5.651272</td>\n      <td>6.032207e+04</td>\n      <td>86.373085</td>\n      <td>45.409581</td>\n      <td>2.082658</td>\n      <td>0.820302</td>\n      <td>17.774523</td>\n      <td>36.872715</td>\n      <td>16.736686</td>\n    </tr>\n    <tr>\n      <th>std</th>\n      <td>3.680617e+08</td>\n      <td>61813.987485</td>\n      <td>61974.946222</td>\n      <td>12328.696054</td>\n      <td>1304.144639</td>\n      <td>0.409090</td>\n      <td>5.067866</td>\n      <td>3.048686e+07</td>\n      <td>0.291679</td>\n      <td>14125.204066</td>\n      <td>...</td>\n      <td>4.354113e+05</td>\n      <td>2.231451</td>\n      <td>1.662932e+05</td>\n      <td>25.044837</td>\n      <td>33.745145</td>\n      <td>5.432150</td>\n      <td>3.497597</td>\n      <td>27.201852</td>\n      <td>31.021937</td>\n      <td>16.984060</td>\n    </tr>\n    <tr>\n      <th>min</th>\n      <td>0.000000e+00</td>\n      <td>0.000000</td>\n      <td>0.000000</td>\n      <td>0.000000</td>\n      <td>0.000000</td>\n      <td>0.000000</td>\n      <td>1.000000</td>\n      <td>0.000000e+00</td>\n      <td>0.000000</td>\n      <td>0.000000</td>\n      <td>...</td>\n      <td>0.000000e+00</td>\n      <td>0.000000</td>\n      <td>0.000000e+00</td>\n      <td>0.331000</td>\n      <td>0.000000</td>\n      <td>0.000000</td>\n      <td>0.000000</td>\n      <td>0.000000</td>\n      <td>0.000000</td>\n      <td>0.000000</td>\n    </tr>\n    <tr>\n      <th>25%</th>\n      <td>5.269400e+04</td>\n      <td>8714.000000</td>\n      <td>4494.000000</td>\n      <td>0.000000</td>\n      <td>0.000000</td>\n      <td>0.000000</td>\n      <td>6.000000</td>\n      <td>7.064667e+03</td>\n      <td>0.056904</td>\n      <td>635.431163</td>\n      <td>...</td>\n      <td>2.088150e+04</td>\n      <td>4.000000</td>\n      <td>2.202813e+03</td>\n      <td>91.901000</td>\n      <td>12.753000</td>\n      <td>0.000000</td>\n      <td>0.000000</td>\n      <td>0.000000</td>\n      <td>7.571000</td>\n      <td>6.000000</td>\n    </tr>\n    <tr>\n      <th>50%</th>\n      <td>3.000000e+05</td>\n      <td>20000.000000</td>\n      <td>10480.890000</td>\n      <td>0.000000</td>\n      <td>0.000000</td>\n      <td>0.000000</td>\n      <td>8.000000</td>\n      <td>3.739900e+04</td>\n      <td>0.123091</td>\n      <td>2291.429059</td>\n      <td>...</td>\n      <td>7.331000e+04</td>\n      <td>5.149000</td>\n      <td>1.539920e+04</td>\n      <td>98.872000</td>\n      <td>43.668000</td>\n      <td>0.000000</td>\n      <td>0.000000</td>\n      <td>0.900000</td>\n      <td>30.984000</td>\n      <td>11.000000</td>\n    </tr>\n    <tr>\n      <th>75%</th>\n      <td>3.800838e+06</td>\n      <td>40000.000000</td>\n      <td>29994.800000</td>\n      <td>9750.000000</td>\n      <td>2277.000000</td>\n      <td>0.000000</td>\n      <td>12.000000</td>\n      <td>5.371706e+05</td>\n      <td>0.271429</td>\n      <td>6725.352668</td>\n      <td>...</td>\n      <td>1.814967e+05</td>\n      <td>7.119000</td>\n      <td>5.465139e+04</td>\n      <td>99.761000</td>\n      <td>74.771000</td>\n      <td>1.900000</td>\n      <td>0.000000</td>\n      <td>26.047000</td>\n      <td>61.200000</td>\n      <td>20.000000</td>\n    </tr>\n    <tr>\n      <th>max</th>\n      <td>4.750000e+09</td>\n      <td>690000.000000</td>\n      <td>690000.000000</td>\n      <td>151705.000000</td>\n      <td>15000.000000</td>\n      <td>1.000000</td>\n      <td>61.000000</td>\n      <td>4.500000e+08</td>\n      <td>1.000000</td>\n      <td>187676.881500</td>\n      <td>...</td>\n      <td>3.600584e+06</td>\n      <td>14.957000</td>\n      <td>2.074647e+06</td>\n      <td>100.000000</td>\n      <td>100.000000</td>\n      <td>66.782000</td>\n      <td>58.213000</td>\n      <td>100.000000</td>\n      <td>100.000000</td>\n      <td>83.000000</td>\n    </tr>\n  </tbody>\n</table>\n<p>8 rows × 26 columns</p>\n</div>"
     },
     "execution_count": 8,
     "metadata": {},
     "output_type": "execute_result"
    }
   ],
   "source": [
    "df = df.drop(\n",
    "        ['ClientId', 'Program Id', 'TacticId', 'CategoryId',\n",
    "         'BrandId', 'Nielsen_Week_Year', 'VendorId'], axis=1)\n",
    "df_num = df.select_dtypes(exclude='object')\n",
    "df_num.describe()"
   ],
   "metadata": {
    "collapsed": false,
    "pycharm": {
     "name": "#%%\n"
    }
   }
  },
  {
   "cell_type": "markdown",
   "source": [
    "Here we use the correlation df and filter by a minimum threshold, while\n",
    "eliminating one to avoid including the variable itself\n",
    "by converting it to a list, we can use it in our feature importance plots"
   ],
   "metadata": {
    "collapsed": false,
    "pycharm": {
     "name": "#%% md\n"
    }
   }
  },
  {
   "cell_type": "code",
   "execution_count": 11,
   "outputs": [],
   "source": [
    "# df_num = df_num.drop(['Units', 'Impressions per Week',\n",
    "#                       'Any Promo %ACV', '%ACV Distribution'], axis=1)\n",
    "corr = df_num.corr(method=\"spearman\").round(2)"
   ],
   "metadata": {
    "collapsed": false,
    "pycharm": {
     "name": "#%%\n"
    }
   }
  },
  {
   "cell_type": "markdown",
   "source": [
    "#### 2. This section continues on to modeling and exploration of modeling techniques"
   ],
   "metadata": {
    "collapsed": false,
    "pycharm": {
     "name": "#%% md\n"
    }
   }
  },
  {
   "cell_type": "code",
   "execution_count": 18,
   "outputs": [],
   "source": [
    "final_vars_cat = ['Number of UPCs Selling', 'Any Promo Units', '%ACV Distribution',\n",
    "                  'Feat w/o Disp %ACV', 'Price Decr Only %ACV', 'Disp w/o Feat %ACV',\n",
    "                  'Total Sales', 'Feat & Disp %ACV', 'RMN', 'Tactic Category', 'Brand']\n",
    "\n",
    "final_vars = ['Number of UPCs Selling', 'Any Promo Units', '%ACV Distribution',\n",
    "              'Feat w/o Disp %ACV', 'Price Decr Only %ACV', 'Disp w/o Feat %ACV',\n",
    "              'Total Sales', 'Feat & Disp %ACV', 'RMN']"
   ],
   "metadata": {
    "collapsed": false,
    "pycharm": {
     "name": "#%%\n"
    }
   }
  },
  {
   "cell_type": "code",
   "execution_count": 19,
   "outputs": [
    {
     "name": "stdout",
     "output_type": "stream",
     "text": [
      "Number of UPCs Selling\n",
      "         sumsquare_error          aic            bic  kl_div\n",
      "gamma           0.013375  1075.968649 -292293.237680     inf\n",
      "expon           0.014814  1063.437196 -290205.813534     inf\n",
      "cauchy          0.016145  1186.153183 -288439.471614     inf\n",
      "norm            0.025284  1165.841763 -279234.115072     inf\n",
      "uniform         0.035964   887.768122 -272003.307866     inf\n",
      "{'gamma': {'a': 1.1546879907984438, 'loc': -0.0074750016901030895, 'scale': 14.500983104854907}}\n",
      "Any Promo Units\n",
      "         sumsquare_error           aic            bic  kl_div\n",
      "cauchy      2.123850e-11  3.745221e+03 -708116.143728     inf\n",
      "expon       1.891835e-10  5.644774e+03 -663234.352935     inf\n",
      "norm        6.276788e-10  7.341008e+03 -638620.889651     inf\n",
      "uniform     7.617030e-10  2.913060e+03 -634649.112487     inf\n",
      "gamma       7.849363e-10  6.428922e+07 -634022.551167     NaN\n",
      "{'cauchy': {'loc': 9127.707279836573, 'scale': 13423.69390246777}}\n",
      "%ACV Distribution\n",
      "         sumsquare_error          aic            bic  kl_div\n",
      "cauchy          0.029709  1672.227967 -275317.509971     inf\n",
      "norm            0.230823  1172.906008 -233327.533562     inf\n",
      "gamma           0.232413  1151.649599 -233176.991352     inf\n",
      "uniform         0.236744   924.370939 -232808.759056     inf\n",
      "expon           0.243028  1010.804807 -232272.231917     inf\n",
      "{'cauchy': {'loc': 99.4496133009393, 'scale': 0.9875628130992835}}\n",
      "Feat w/o Disp %ACV\n",
      "         sumsquare_error          aic            bic    kl_div\n",
      "cauchy          0.044108  1884.274840 -267223.769605  0.825699\n",
      "gamma           0.109156  1427.516091 -248655.227375  0.842844\n",
      "expon           0.212554  1142.156226 -235016.295149  0.850628\n",
      "norm            0.241970  1101.409107 -232361.513311  0.818926\n",
      "uniform         0.245791   925.034037 -232040.624295  1.078022\n",
      "{'cauchy': {'loc': 0.008638838710766117, 'scale': 0.35516997847774234}}\n",
      "Price Decr Only %ACV\n",
      "         sumsquare_error          aic            bic    kl_div\n",
      "gamma           0.004059  1060.925561 -316073.062455  0.166556\n",
      "expon           0.008777   996.697616 -300291.089589  0.166525\n",
      "uniform         0.011961   925.034037 -293950.518291  0.221112\n",
      "norm            0.013318   979.217372 -291750.432230  0.244174\n",
      "cauchy          0.014026  1053.143886 -290689.664241  0.304780\n",
      "{'gamma': {'a': 0.45774179394257725, 'loc': -1.2761938911210542e-20, 'scale': 70.31730962847135}}\n",
      "Disp w/o Feat %ACV\n",
      "         sumsquare_error          aic            bic  kl_div\n",
      "expon           0.467843  3357.304753 -218858.059000     inf\n",
      "gamma           0.511049  1280.400896 -217038.955695     inf\n",
      "norm            0.913792  5107.659642 -205146.620917     inf\n",
      "uniform         1.031938   844.286717 -202656.322157     inf\n",
      "cauchy          1.054360  9432.426927 -202216.068782     inf\n",
      "{'expon': {'loc': 0.0, 'scale': 2.0826577803818176}}\n",
      "Total Sales\n",
      "         sumsquare_error          aic            bic  kl_div\n",
      "expon       9.469225e-13  4400.489734 -771641.008820     inf\n",
      "cauchy      1.158290e-12  3942.755325 -767507.590516     inf\n",
      "norm        4.202922e-12  5361.195217 -741067.136865     inf\n",
      "uniform     5.672881e-12  3307.421824 -734914.337179     inf\n",
      "gamma       6.123097e-12          inf -733337.657580     NaN\n",
      "{'expon': {'loc': 0.0, 'scale': 900921.3266184744}}\n",
      "Feat & Disp %ACV\n",
      "         sumsquare_error           aic            bic  kl_div\n",
      "expon           0.537182   7060.916716 -216027.462434     inf\n",
      "gamma           1.442352   1399.854666 -195788.603554     inf\n",
      "norm            1.866829   9287.324349 -190515.129898     inf\n",
      "uniform         2.120133    816.821739 -187909.174483     inf\n",
      "cauchy          2.149642  10871.630379 -187626.072392     inf\n",
      "{'expon': {'loc': 0.0, 'scale': 0.8203019383819149}}\n",
      "RMN\n",
      "         sumsquare_error          aic            bic  kl_div\n",
      "gamma        5678.922904   854.315740 -121714.171291     inf\n",
      "expon        6162.410256   164.808789 -117309.737080     inf\n",
      "uniform      6552.973377     4.000000 -113988.990758     inf\n",
      "norm         6564.056988   108.198501 -113897.667129     inf\n",
      "cauchy       6652.973377  9462.696564 -113170.571088     inf\n",
      "{'gamma': {'a': 0.03768909667923484, 'loc': -1.3139264196509206e-29, 'scale': 0.2506348552019996}}\n"
     ]
    }
   ],
   "source": [
    "df_final = df[final_vars]\n",
    "\n",
    "dist_list = ['gamma', 'expon', 'cauchy', 'norm', 'uniform']\n",
    "\n",
    "for var in final_vars:\n",
    "    dist_test = df_final[var].dropna()\n",
    "    dist_test = dist_test.values\n",
    "    f = Fitter(dist_test, distributions=dist_list, timeout=60)\n",
    "    f.fit()\n",
    "    print(var)\n",
    "    print(f.summary(plot=False))\n",
    "    print(f.get_best(method='sumsquare_error'))"
   ],
   "metadata": {
    "collapsed": false,
    "pycharm": {
     "name": "#%%\n"
    }
   }
  },
  {
   "cell_type": "code",
   "execution_count": 20,
   "outputs": [],
   "source": [
    "df_final_cat = df_bu[final_vars_cat]\n",
    "df_final_cat = df_final_cat[df_final_cat['Total Sales'] > 0.0]"
   ],
   "metadata": {
    "collapsed": false,
    "pycharm": {
     "name": "#%%\n"
    }
   }
  },
  {
   "cell_type": "markdown",
   "source": [
    "The following two charts show that many Tactic Category observations have dropped and two categories have also dropped."
   ],
   "metadata": {
    "collapsed": false,
    "pycharm": {
     "name": "#%% md\n"
    }
   }
  },
  {
   "cell_type": "code",
   "execution_count": 21,
   "outputs": [
    {
     "data": {
      "text/plain": "<Figure size 432x288 with 1 Axes>",
      "image/png": "[encoded data removed]"
     },
     "metadata": {},
     "output_type": "display_data"
    },
    {
     "name": "stdout",
     "output_type": "stream",
     "text": [
      "Original number of obs and Tactic Categories\n",
      "54039\n",
      "20\n"
     ]
    }
   ],
   "source": [
    "for col in df.select_dtypes(include='object'):\n",
    "    if df[col].nunique() <= 25:\n",
    "        sns.countplot(y=col, data=df)\n",
    "        plt.show()\n",
    "\n",
    "print('Original number of obs and Tactic Categories')\n",
    "print(df['Tactic Category'].count())\n",
    "print(df['Tactic Category'].nunique())"
   ],
   "metadata": {
    "collapsed": false,
    "pycharm": {
     "name": "#%%\n"
    }
   }
  },
  {
   "cell_type": "code",
   "execution_count": 22,
   "outputs": [
    {
     "data": {
      "text/plain": "<Figure size 432x288 with 1 Axes>",
      "image/png": "[encoded data removed]"
     },
     "metadata": {},
     "output_type": "display_data"
    },
    {
     "data": {
      "text/plain": "<Figure size 432x288 with 1 Axes>",
      "image/png": "[encoded data removed]"
     },
     "metadata": {},
     "output_type": "display_data"
    },
    {
     "name": "stdout",
     "output_type": "stream",
     "text": [
      "Number of obs, new tactics, and new displays\n",
      "20481\n",
      "18\n",
      "46\n"
     ]
    }
   ],
   "source": [
    "for col in df_final_cat.select_dtypes(include='object'):\n",
    "    if df_final_cat[col].nunique() <= 25:\n",
    "        sns.countplot(y=col, data=df_final_cat)\n",
    "        plt.show()\n",
    "\n",
    "print('Number of obs, new tactics, and new displays')\n",
    "print(df_final_cat['Tactic Category'].count())\n",
    "print(df_final_cat['Tactic Category'].nunique())\n",
    "print(df_final_cat['Brand'].nunique())"
   ],
   "metadata": {
    "collapsed": false,
    "pycharm": {
     "name": "#%%\n"
    }
   }
  },
  {
   "cell_type": "code",
   "execution_count": 23,
   "outputs": [],
   "source": [
    "tt.config.floatX = 'float64'\n",
    "\n",
    "df_final_cat = df_bu[final_vars_cat]\n",
    "df_final_cat = df_final_cat[df_final_cat['Total Sales'] > 0.0]\n",
    "\n",
    "df_final_cat['Total Sales'] = np.log(df_final_cat['Total Sales'])\n",
    "\n",
    "price_decr_idxs, price_decr = pd.factorize(df_final_cat['Price Decr Only %ACV'],\n",
    "                                           sort=True)\n",
    "tactic_idxs, tactics = pd.factorize(df_final_cat['Tactic Category'], sort=True)\n",
    "brand_idxs, brand = pd.factorize(df_final_cat['Brand'], sort=True)\n",
    "coords = {\"tactics\": tactics, 'brand': brand, 'obs_idx': np.arange(len(tactic_idxs)),\n",
    "          'price_decrease': price_decr}"
   ],
   "metadata": {
    "collapsed": false,
    "pycharm": {
     "name": "#%%\n"
    }
   }
  },
  {
   "cell_type": "markdown",
   "source": [
    "#### 3. Hierarchical Model with diagnostics"
   ],
   "metadata": {
    "collapsed": false,
    "pycharm": {
     "name": "#%% md\n"
    }
   }
  },
  {
   "cell_type": "code",
   "execution_count": null,
   "outputs": [
    {
     "name": "stderr",
     "output_type": "stream",
     "text": [
      "Auto-assigning NUTS sampler...\n",
      "INFO:pymc3:Auto-assigning NUTS sampler...\n",
      "Initializing NUTS using advi+adapt_diag...\n",
      "INFO:pymc3:Initializing NUTS using advi+adapt_diag...\n"
     ]
    },
    {
     "data": {
      "text/plain": "<IPython.core.display.HTML object>",
      "text/html": "\n<style>\n    /* Turns off some styling */\n    progress {\n        /* gets rid of default border in Firefox and Opera. */\n        border: none;\n        /* Needs to be in here for Safari polyfill so background images work as expected. */\n        background-size: auto;\n    }\n    .progress-bar-interrupted, .progress-bar-interrupted::-webkit-progress-bar {\n        background: #F44336;\n    }\n</style>\n"
     },
     "metadata": {},
     "output_type": "display_data"
    },
    {
     "data": {
      "text/plain": "<IPython.core.display.HTML object>",
      "text/html": "\n    <div>\n      <progress value='0' class='' max='200000' style='width:300px; height:20px; vertical-align: middle;'></progress>\n      \n    </div>\n    "
     },
     "metadata": {},
     "output_type": "display_data"
    },
    {
     "name": "stderr",
     "output_type": "stream",
     "text": [
      "Convergence achieved at 66600\n",
      "INFO:pymc3.variational.inference:Convergence achieved at 66600\n",
      "Interrupted at 66,599 [33%]: Average Loss = 2.5027e+09\n",
      "INFO:pymc3.variational.inference:Interrupted at 66,599 [33%]: Average Loss = 2.5027e+09\n",
      "Multiprocess sampling (5 chains in 4 jobs)\n",
      "INFO:pymc3:Multiprocess sampling (5 chains in 4 jobs)\n",
      "NUTS: [noise, display_slope, display_int, tactic_slope, tactic_int, hp_b_4, sigma_d, hp_b_3, sigma_c, hp_b_2, sigma_b, hp_b_1, sigma_a, hp_b_0]\n",
      "INFO:pymc3:NUTS: [noise, display_slope, display_int, tactic_slope, tactic_int, hp_b_4, sigma_d, hp_b_3, sigma_c, hp_b_2, sigma_b, hp_b_1, sigma_a, hp_b_0]\n"
     ]
    },
    {
     "data": {
      "text/plain": "<IPython.core.display.HTML object>",
      "text/html": "\n<style>\n    /* Turns off some styling */\n    progress {\n        /* gets rid of default border in Firefox and Opera. */\n        border: none;\n        /* Needs to be in here for Safari polyfill so background images work as expected. */\n        background-size: auto;\n    }\n    .progress-bar-interrupted, .progress-bar-interrupted::-webkit-progress-bar {\n        background: #F44336;\n    }\n</style>\n"
     },
     "metadata": {},
     "output_type": "display_data"
    },
    {
     "data": {
      "text/plain": "<IPython.core.display.HTML object>",
      "text/html": "\n    <div>\n      <progress value='0' class='' max='20000' style='width:300px; height:20px; vertical-align: middle;'></progress>\n      \n    </div>\n    "
     },
     "metadata": {},
     "output_type": "display_data"
    }
   ],
   "source": [
    "with pm.Model(coords=coords) as hierarchical_model:\n",
    "    tactic_idx = pm.Data(\"Tactic Category\", tactic_idxs, dims=\"obs_idx\")\n",
    "    brand_idx = pm.Data(\"Brand\", brand_idxs, dims=\"obs_idx\")\n",
    "    price_decr = pm.Data(\"Price Decrease Only\", price_decr_idxs, dims=\"obs_idx\")\n",
    "\n",
    "    # Tactic Category hyperpriors parameters:\n",
    "    hp_b_0 = pm.Normal(\"hp_b_0\", mu=0.0, sigma=5.0)\n",
    "    sigma_a = pm.Exponential(\"sigma_a\", 1.0)\n",
    "    hp_b_1 = pm.Normal(\"hp_b_1\", mu=0.0, sigma=1.0)\n",
    "    sigma_b = pm.Exponential(\"sigma_b\", 0.5)\n",
    "\n",
    "    # Brand hyperpriors parameters\n",
    "    hp_b_2 = pm.Normal(\"hp_b_2\", mu=0.0, sigma=5.0)\n",
    "    sigma_c = pm.Exponential(\"sigma_c\", 1.0)\n",
    "    hp_b_3 = pm.Normal(\"hp_b_3\", mu=0.0, sigma=1.0)\n",
    "    sigma_d = pm.Exponential(\"sigma_d\", 0.5)\n",
    "\n",
    "    hp_b_4 = pm.Normal(\"hp_b_4\", mu=0.5, sigma=.3)\n",
    "\n",
    "    # estimates of independent intercepts and interactions of intercepts\n",
    "    b_0 = pm.Normal(\"tactic_int\", mu=hp_b_0, sigma=sigma_a, dims=\"tactics\")\n",
    "    b_1 = pm.Normal(\"tactic_slope\", mu=hp_b_1, sigma=sigma_b, dims=\"tactics\")\n",
    "\n",
    "    b_2 = pm.Normal(\"display_int\", mu=hp_b_2, sigma=sigma_c, dims=\"brand\")\n",
    "    b_3 = pm.Normal(\"display_slope\", mu=hp_b_3, sigma=sigma_d, dims=\"brand\")\n",
    "\n",
    "    price_decr_est = hp_b_4 * price_decr\n",
    "\n",
    "    # estimate of total sales using intercepts\n",
    "    sales_est_1 = b_0[tactic_idx] + b_1[tactic_idx] * brand_idx\n",
    "    sales_est_2 = b_2[brand_idx] + b_3[brand_idx] * tactic_idx\n",
    "    sales_est = sales_est_1 + sales_est_2 + price_decr_est\n",
    "\n",
    "    # Data likelihood\n",
    "    epsilon = pm.Exponential(\"noise\", 1.0)\n",
    "    Total_Sales = pm.Normal(\n",
    "            \"Log_Total_Sales\", mu=sales_est, sigma=epsilon,\n",
    "            observed=df_final_cat['Total Sales'], dims=\"obs_idx\")\n",
    "\n",
    "with hierarchical_model:\n",
    "    hierarchical_trace = pm.sample(draws=1500, init='advi+adapt_diag', chains=5,\n",
    "                                   tune=1500,\n",
    "                                   target_accept=0.8, return_inferencedata=True)"
   ],
   "metadata": {
    "collapsed": false,
    "pycharm": {
     "name": "#%%\n",
     "is_executing": true
    }
   }
  },
  {
   "cell_type": "code",
   "execution_count": null,
   "outputs": [],
   "source": [
    "ppc = pm.sample_posterior_predictive(hierarchical_trace, samples=20481,\n",
    "                                     model=hierarchical_model)\n",
    "print('Model R-Squared')\n",
    "print(az.r2_score(df_final_cat['Total Sales'].values, ppc['Log_Total_Sales']))\n",
    "\n",
    "\n",
    "def score_model(trace, y, model_name):\n",
    "    \"\"\"\n",
    "\n",
    "    :param trace: model_trace\n",
    "    :param y: dependent data column\n",
    "    :param model_name: model itself\n",
    "    \"\"\"\n",
    "    ppc_mod = pm.sample_posterior_predictive(trace, samples=20841,\n",
    "                                             model=model_name)\n",
    "    pred = ppc_mod['Log_Total_Sales'].mean(axis=0)\n",
    "    mse = np.sqrt(mean_squared_error(y, pred))\n",
    "    print('The Mean Squared Error')\n",
    "    print(mse)\n",
    "\n",
    "score_model(hierarchical_trace, df_final_cat['Total Sales'], hierarchical_model)\n",
    "\n",
    "print('Trace Summary and Effective Sample Size')\n",
    "print(az.summary(hierarchical_trace, kind='stats'))\n",
    "print(az.summary(hierarchical_trace, kind='diagnostics'))\n",
    "az.plot_posterior(hierarchical_trace, hdi_prob=0.99)\n",
    "az.plot_energy(hierarchical_trace)\n",
    "plt.show()\n",
    "print('Bayesian fraction of missing information')\n",
    "print(az.bfmi(hierarchical_trace))\n",
    "az.plot_forest(hierarchical_trace, kind='ridgeplot')"
   ],
   "metadata": {
    "collapsed": false,
    "pycharm": {
     "name": "#%%\n",
     "is_executing": true
    }
   }
  },
  {
   "cell_type": "code",
   "execution_count": null,
   "outputs": [],
   "source": [
    "pm.model_to_graphviz(hierarchical_model)"
   ],
   "metadata": {
    "collapsed": false,
    "pycharm": {
     "name": "#%%\n",
     "is_executing": true
    }
   }
  }
 ],
 "metadata": {
  "datalore": {
   "base_environment": "default",
   "computation_mode": "JUPYTER",
   "package_manager": "pip",
   "packages": [],
   "version": 1
  },
  "kernelspec": {
   "name": "python3",
   "language": "python",
   "display_name": "Python 3 (ipykernel)"
  },
  "language_info": {
   "codemirror_mode": {
    "name": "ipython",
    "version": 3
   },
   "file_extension": ".py",
   "mimetype": "text/x-python",
   "name": "python",
   "nbconvert_exporter": "python",
   "pygments_lexer": "ipython3",
   "version": "3.8.13"
  }
 },
 "nbformat": 4,
 "nbformat_minor": 4
}
