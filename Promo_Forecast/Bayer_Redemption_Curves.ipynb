{
 "nbformat": 4,
 "nbformat_minor": 0,
 "metadata": {
  "kernelspec": {
   "name": "python3",
   "language": "python",
   "display_name": "Python 3 (ipykernel)"
  },
  "language_info": {
   "codemirror_mode": {
    "name": "ipython",
    "version": 2
   },
   "file_extension": ".py",
   "mimetype": "text/x-python",
   "name": "python",
   "nbconvert_exporter": "python",
   "pygments_lexer": "ipython2",
   "version": "2.7.6"
  },
  "colab": {
   "name": "Redemption Curves.ipynb",
   "provenance": []
  }
 },
 "cells": [
  {
   "cell_type": "markdown",
   "metadata": {
    "id": "VOJy_xw2RV9-"
   },
   "source": [
    "## Redemption Decay Functions for Reconciliation Estimation"
   ]
  },
  {
   "cell_type": "markdown",
   "source": [
    "DATASET CONSTRUCTION INFORMATION\n"
   ],
   "metadata": {
    "collapsed": false
   }
  },
  {
   "cell_type": "markdown",
   "source": [
    "This file describes the creation of the initial dataset used to model coupon redemption for Bayer.\n",
    "Monthly finance reports were provided by Bayer. Each report contained a list of coupons, issue dates,\n",
    "and redemption numbers. The reports were combined into one large dataset. Only coupons with data\n",
    "greater than 30 days since issue were included. Three variables, two final and one intermediate, were created.\n",
    "\n",
    "1. Sum_PERIOD-QTY: contained the sum total of redemptions for each coupon for all periods.\n",
    "2. Total_Dist_Percent: each period's redemption per coupon divided by the Sum-Period-QTY.\n",
    "3. Days_Since_Issue: calculated the number of days since coupon issue.\n",
    "\n",
    "Variables 2 and 3 were used in the Python program.\n",
    "\n",
    "NOTE: the data provided was monthly. This prevented modeling the first few weeks of any given coupon, meaning coupon forecasting\n",
    "is only possible after 30 days. Also, after filtering criteria, some coupon types did not have enough samples for accurate modeling,\n",
    "and were either grouped together by similarity or defaulted to Budget Cost Life."
   ],
   "metadata": {
    "collapsed": false
   }
  },
  {
   "cell_type": "code",
   "execution_count": 10,
   "outputs": [],
   "source": [
    "import matplotlib.pyplot as plt\n",
    "import numpy as np\n",
    "import pandas as pd\n",
    "import os\n",
    "from scipy.optimize import curve_fit as cf\n",
    "from datetime import date"
   ],
   "metadata": {
    "collapsed": false,
    "ExecuteTime": {
     "end_time": "2023-10-25T15:52:10.774874300Z",
     "start_time": "2023-10-25T15:52:10.573537100Z"
    }
   }
  },
  {
   "cell_type": "code",
   "execution_count": 11,
   "outputs": [],
   "source": [
    "def func(x, a, b):\n",
    "    \"\"\"\n",
    "    This function defines the formula\n",
    "    That we are optimizing, note that since\n",
    "    The exponential function (non-normalized)\n",
    "    \"Has two parameters\" of interest\n",
    "    :param x: Percentage completed redemption in one period\n",
    "    :param a: constant coefficient\n",
    "    :param b: coefficient for x in the exponent of e\n",
    "    :return: returns a and b, the best estimates for the curve\n",
    "    \"\"\"\n",
    "    return a * np.exp(-b * (x))"
   ],
   "metadata": {
    "collapsed": false,
    "ExecuteTime": {
     "end_time": "2023-10-25T15:52:10.909411800Z",
     "start_time": "2023-10-25T15:52:10.843716400Z"
    }
   }
  },
  {
   "cell_type": "code",
   "execution_count": 12,
   "outputs": [],
   "source": [
    "def r_squared(x, y, a, b):\n",
    "    \"\"\"\n",
    "    Calculates r-squared, accurate for fitting best fit line\n",
    "    :param x: x observations\n",
    "    :param y: y observations\n",
    "    :param a: coefficient estimate returned from func\n",
    "    :param b: coefficient estimate returned from func\n",
    "    :return: r-squared calculation and printout\n",
    "    \"\"\"\n",
    "    res = y - func(x, a, b)\n",
    "    ss_r = np.sum(res ** 2)\n",
    "    ss_tot = np.sum((y - np.mean(y) ** 2))\n",
    "    r_sq = np.round((1 - (ss_r / ss_tot)), 4)\n",
    "    print(f'R^2 = {r_sq}')\n",
    "    print(f'Curve Formula: y={a}*exp^(-{b}*(x)')"
   ],
   "metadata": {
    "collapsed": false,
    "ExecuteTime": {
     "end_time": "2023-10-25T15:52:11.001427300Z",
     "start_time": "2023-10-25T15:52:10.959139900Z"
    }
   }
  },
  {
   "cell_type": "code",
   "execution_count": 13,
   "outputs": [],
   "source": [
    "def plot_curve(x, y, a, b):\n",
    "    \"\"\"\n",
    "    Converts the existing x and y data and the\n",
    "    best fit curve parameters a and b to create\n",
    "    a plot\n",
    "    :param x:\n",
    "    :param y:\n",
    "    :param a:\n",
    "    :param b:\n",
    "    :return:\n",
    "    \"\"\"\n",
    "    x_est = np.arange(min(x), max(x))\n",
    "    y_curve = a*np.exp(-b*x_est)\n",
    "    plt.figure(figsize=(8,8))\n",
    "    plt.scatter(x, y, s=12)\n",
    "    plt.plot(x_est, y_curve, '--', color='red')\n",
    "    plt.show()"
   ],
   "metadata": {
    "collapsed": false,
    "ExecuteTime": {
     "end_time": "2023-10-25T15:52:11.135545900Z",
     "start_time": "2023-10-25T15:52:11.069645600Z"
    }
   }
  },
  {
   "cell_type": "code",
   "execution_count": 14,
   "outputs": [],
   "source": [
    "def output(x, y, p0):\n",
    "    \"\"\"\n",
    "    This combines all the functions and\n",
    "    creates the plot, formula for estimates\n",
    "    and r-squared\n",
    "    :param x: x data\n",
    "    :param y: y data\n",
    "    :param p0: interval in which the curve-fitting\n",
    "    function begins its search\n",
    "    :return: plot of data against estimate, model formula\n",
    "    estimate, and r-squared\n",
    "    \"\"\"\n",
    "    popt, pcov = cf(func, x, y, p0)\n",
    "    a = np.round(popt[0], 5)\n",
    "    b = np.round(popt[1], 5)\n",
    "    r_squared(x, y, a, b)\n",
    "    plot_curve(x, y, a, b)\n",
    "    return a, b"
   ],
   "metadata": {
    "collapsed": false,
    "ExecuteTime": {
     "end_time": "2023-10-25T15:52:11.174866300Z",
     "start_time": "2023-10-25T15:52:11.151551100Z"
    }
   }
  },
  {
   "cell_type": "markdown",
   "source": [
    "#### Creation of file for Curve Formula\n",
    "1. Read in the financial data (either monthly or weekly)\n",
    "2. Calculate the Time Since Issue separately (it will be different for every report)\n",
    "3. Append all reports\n",
    "4. Drop all observations with start dates before the issuance of the first report and after the last\n",
    "5. Using the last cumulative redemption count, divide the observation from each report by number\n",
    "6. Subtract each reports percentage from 1 to get y-axis values\n",
    "7. Visualize days since issue on the x-axis and the percentage on the y-axis\n",
    "8. This scatter plot, separated by offer type, is what the curve fitting portion fits to"
   ],
   "metadata": {
    "collapsed": false
   }
  },
  {
   "cell_type": "code",
   "execution_count": 15,
   "outputs": [],
   "source": [
    "os.chdir('C:/Users/norri/Desktop/Kroger/Kroger_Raw/')"
   ],
   "metadata": {
    "collapsed": false,
    "ExecuteTime": {
     "end_time": "2023-10-25T15:52:11.239919Z",
     "start_time": "2023-10-25T15:52:11.213930200Z"
    }
   }
  },
  {
   "cell_type": "code",
   "execution_count": 16,
   "outputs": [],
   "source": [
    "afrin = pd.read_csv('Afrin_LCM.csv')\n",
    "afrin['Week Cpn'] = afrin['Net Cpn Prd']"
   ],
   "metadata": {
    "collapsed": false,
    "ExecuteTime": {
     "end_time": "2023-10-25T15:52:11.334994Z",
     "start_time": "2023-10-25T15:52:11.287339200Z"
    }
   }
  },
  {
   "cell_type": "code",
   "execution_count": 17,
   "outputs": [],
   "source": [
    "afrin_bg = afrin.groupby(['Coupon'])['Week Cpn'].sum().reset_index()\n",
    "afrin_bg = afrin_bg.rename(columns=({\"Week Cpn\": \"Temp Week Cpn\"}))"
   ],
   "metadata": {
    "collapsed": false,
    "ExecuteTime": {
     "end_time": "2023-10-25T15:52:11.374813800Z",
     "start_time": "2023-10-25T15:52:11.338995900Z"
    }
   }
  },
  {
   "cell_type": "code",
   "execution_count": 18,
   "outputs": [
    {
     "data": {
      "text/plain": "      Coupon  Temp Week Cpn  Net Cpn Prd  Net Amt Prd  Net Cpn Cum  \\\n0    22239.0         1967.0         55.0        61.35         55.0   \n1    22239.0         1967.0        511.0       572.09        566.0   \n2    22239.0         1967.0        462.0       519.33       1028.0   \n3    22239.0         1967.0        402.0       458.34       1430.0   \n4    22239.0         1967.0        354.0       405.53       1784.0   \n..       ...            ...          ...          ...          ...   \n198  23673.0         1390.0         84.0        99.09         84.0   \n199  23673.0         1390.0        559.0       651.68        643.0   \n200  23673.0         1390.0        450.0       527.63       1093.0   \n201  23673.0         1390.0        199.0       228.74       1292.0   \n202  23673.0         1390.0         98.0       113.34       1390.0   \n\n     Net Amt Cum  Week  % of Total Cpns  Week Cpn  \n0          61.35   1.0             2.80      55.0  \n1         633.44   2.0            25.98     511.0  \n2        1152.77   3.0            23.49     462.0  \n3        1611.11   4.0            20.44     402.0  \n4        2016.64   5.0            18.00     354.0  \n..           ...   ...              ...       ...  \n198        99.09   1.0             6.04      84.0  \n199       750.77   2.0            40.22     559.0  \n200      1278.40   3.0            32.37     450.0  \n201      1507.14   4.0            14.32     199.0  \n202      1620.48   5.0             7.05      98.0  \n\n[203 rows x 9 columns]",
      "text/html": "<div>\n<style scoped>\n    .dataframe tbody tr th:only-of-type {\n        vertical-align: middle;\n    }\n\n    .dataframe tbody tr th {\n        vertical-align: top;\n    }\n\n    .dataframe thead th {\n        text-align: right;\n    }\n</style>\n<table border=\"1\" class=\"dataframe\">\n  <thead>\n    <tr style=\"text-align: right;\">\n      <th></th>\n      <th>Coupon</th>\n      <th>Temp Week Cpn</th>\n      <th>Net Cpn Prd</th>\n      <th>Net Amt Prd</th>\n      <th>Net Cpn Cum</th>\n      <th>Net Amt Cum</th>\n      <th>Week</th>\n      <th>% of Total Cpns</th>\n      <th>Week Cpn</th>\n    </tr>\n  </thead>\n  <tbody>\n    <tr>\n      <th>0</th>\n      <td>22239.0</td>\n      <td>1967.0</td>\n      <td>55.0</td>\n      <td>61.35</td>\n      <td>55.0</td>\n      <td>61.35</td>\n      <td>1.0</td>\n      <td>2.80</td>\n      <td>55.0</td>\n    </tr>\n    <tr>\n      <th>1</th>\n      <td>22239.0</td>\n      <td>1967.0</td>\n      <td>511.0</td>\n      <td>572.09</td>\n      <td>566.0</td>\n      <td>633.44</td>\n      <td>2.0</td>\n      <td>25.98</td>\n      <td>511.0</td>\n    </tr>\n    <tr>\n      <th>2</th>\n      <td>22239.0</td>\n      <td>1967.0</td>\n      <td>462.0</td>\n      <td>519.33</td>\n      <td>1028.0</td>\n      <td>1152.77</td>\n      <td>3.0</td>\n      <td>23.49</td>\n      <td>462.0</td>\n    </tr>\n    <tr>\n      <th>3</th>\n      <td>22239.0</td>\n      <td>1967.0</td>\n      <td>402.0</td>\n      <td>458.34</td>\n      <td>1430.0</td>\n      <td>1611.11</td>\n      <td>4.0</td>\n      <td>20.44</td>\n      <td>402.0</td>\n    </tr>\n    <tr>\n      <th>4</th>\n      <td>22239.0</td>\n      <td>1967.0</td>\n      <td>354.0</td>\n      <td>405.53</td>\n      <td>1784.0</td>\n      <td>2016.64</td>\n      <td>5.0</td>\n      <td>18.00</td>\n      <td>354.0</td>\n    </tr>\n    <tr>\n      <th>...</th>\n      <td>...</td>\n      <td>...</td>\n      <td>...</td>\n      <td>...</td>\n      <td>...</td>\n      <td>...</td>\n      <td>...</td>\n      <td>...</td>\n      <td>...</td>\n    </tr>\n    <tr>\n      <th>198</th>\n      <td>23673.0</td>\n      <td>1390.0</td>\n      <td>84.0</td>\n      <td>99.09</td>\n      <td>84.0</td>\n      <td>99.09</td>\n      <td>1.0</td>\n      <td>6.04</td>\n      <td>84.0</td>\n    </tr>\n    <tr>\n      <th>199</th>\n      <td>23673.0</td>\n      <td>1390.0</td>\n      <td>559.0</td>\n      <td>651.68</td>\n      <td>643.0</td>\n      <td>750.77</td>\n      <td>2.0</td>\n      <td>40.22</td>\n      <td>559.0</td>\n    </tr>\n    <tr>\n      <th>200</th>\n      <td>23673.0</td>\n      <td>1390.0</td>\n      <td>450.0</td>\n      <td>527.63</td>\n      <td>1093.0</td>\n      <td>1278.40</td>\n      <td>3.0</td>\n      <td>32.37</td>\n      <td>450.0</td>\n    </tr>\n    <tr>\n      <th>201</th>\n      <td>23673.0</td>\n      <td>1390.0</td>\n      <td>199.0</td>\n      <td>228.74</td>\n      <td>1292.0</td>\n      <td>1507.14</td>\n      <td>4.0</td>\n      <td>14.32</td>\n      <td>199.0</td>\n    </tr>\n    <tr>\n      <th>202</th>\n      <td>23673.0</td>\n      <td>1390.0</td>\n      <td>98.0</td>\n      <td>113.34</td>\n      <td>1390.0</td>\n      <td>1620.48</td>\n      <td>5.0</td>\n      <td>7.05</td>\n      <td>98.0</td>\n    </tr>\n  </tbody>\n</table>\n<p>203 rows × 9 columns</p>\n</div>"
     },
     "execution_count": 18,
     "metadata": {},
     "output_type": "execute_result"
    }
   ],
   "source": [
    "afrin_bg = afrin_bg.merge(afrin, on='Coupon')\n",
    "afrin_bg.drop(columns=['Period Date'], axis=1)"
   ],
   "metadata": {
    "collapsed": false,
    "ExecuteTime": {
     "end_time": "2023-10-25T15:52:11.486328Z",
     "start_time": "2023-10-25T15:52:11.378812700Z"
    }
   }
  },
  {
   "cell_type": "code",
   "execution_count": 19,
   "outputs": [],
   "source": [
    "afrin_bg = afrin_bg.rename(columns=({\"Net Cpn Cum\": \"Cpn Total\"}))"
   ],
   "metadata": {
    "collapsed": false,
    "ExecuteTime": {
     "end_time": "2023-10-25T15:52:11.519021200Z",
     "start_time": "2023-10-25T15:52:11.491150900Z"
    }
   }
  },
  {
   "cell_type": "code",
   "execution_count": 43,
   "outputs": [],
   "source": [
    "afrin_bg['Percentage']  = afrin_bg['Week Cpn'] / afrin_bg['Coupon'] * 100"
   ],
   "metadata": {
    "collapsed": false,
    "ExecuteTime": {
     "end_time": "2023-10-25T16:12:45.512831600Z",
     "start_time": "2023-10-25T16:12:45.493828300Z"
    }
   }
  },
  {
   "cell_type": "code",
   "execution_count": 21,
   "outputs": [
    {
     "ename": "NameError",
     "evalue": "name 'afrin_lcm_bg' is not defined",
     "output_type": "error",
     "traceback": [
      "\u001B[1;31m---------------------------------------------------------------------------\u001B[0m",
      "\u001B[1;31mNameError\u001B[0m                                 Traceback (most recent call last)",
      "Cell \u001B[1;32mIn[21], line 1\u001B[0m\n\u001B[1;32m----> 1\u001B[0m \u001B[38;5;28mprint\u001B[39m(\u001B[43mafrin_lcm_bg\u001B[49m\u001B[38;5;241m.\u001B[39mdtypes)\n",
      "\u001B[1;31mNameError\u001B[0m: name 'afrin_lcm_bg' is not defined"
     ]
    }
   ],
   "source": [
    "\n",
    "# report_0121 = pd.read_excel('Finance Total Report 2021-1.xlsx')\n",
    "# report_0221 = pd.read_excel('Finance Total Report 2021-2.xlsx')\n",
    "# report_0321 = pd.read_excel('Finance Total Report 2021-3.xlsx')\n",
    "# report_0421 = pd.read_excel('Finance Total Report 2021-4.xlsx')\n",
    "# report_0521 = pd.read_excel('Finance Total Report 2021-5.xlsx')\n",
    "# report_0621 = pd.read_excel('Finance Total Report 2021-6.xlsx')"
   ],
   "metadata": {
    "collapsed": false,
    "ExecuteTime": {
     "end_time": "2023-10-25T15:52:11.720753300Z",
     "start_time": "2023-10-25T15:52:11.671517200Z"
    }
   }
  },
  {
   "cell_type": "code",
   "execution_count": 22,
   "outputs": [],
   "source": [
    "# report_0121 = report_0121[report_0121['ISSUE DATE'] != '00/00/0000']\n",
    "# report_0121['Report_Date'] = date(2021, 1, 31)\n",
    "# report_0121['Time_Since_Issue'] = (report_0121['Report_Date'] - pd.to_datetime(report_0121['ISSUE DATE']).dt.date).dt.days"
   ],
   "metadata": {
    "collapsed": false,
    "ExecuteTime": {
     "end_time": "2023-10-25T15:52:11.785390700Z",
     "start_time": "2023-10-25T15:52:11.726754100Z"
    }
   }
  },
  {
   "cell_type": "code",
   "execution_count": 23,
   "outputs": [],
   "source": [
    "# report_0221 = report_0221[report_0221['ISSUE DATE'] != '00/00/0000']\n",
    "# report_0221['Report_Date'] = date(2021, 2, 28)\n",
    "# report_0221['Time_Since_Issue'] = (report_0221['Report_Date'] - pd.to_datetime(report_0221['ISSUE DATE']).dt.date).dt.days"
   ],
   "metadata": {
    "collapsed": false,
    "ExecuteTime": {
     "end_time": "2023-10-25T15:52:11.875989800Z",
     "start_time": "2023-10-25T15:52:11.844456800Z"
    }
   }
  },
  {
   "cell_type": "code",
   "execution_count": 24,
   "outputs": [],
   "source": [
    "# report_0321 = report_0321[report_0321['ISSUE DATE'] != '00/00/0000']\n",
    "# report_0321['Report_Date'] = date(2021, 3, 31)\n",
    "# report_0321['Time_Since_Issue'] = (report_0321['Report_Date'] - pd.to_datetime(report_0321['ISSUE DATE']).dt.date).dt.days"
   ],
   "metadata": {
    "collapsed": false,
    "ExecuteTime": {
     "end_time": "2023-10-25T15:52:11.939645900Z",
     "start_time": "2023-10-25T15:52:11.910382Z"
    }
   }
  },
  {
   "cell_type": "code",
   "execution_count": 25,
   "outputs": [],
   "source": [
    "# report_0421 = report_0421[report_0421['ISSUE DATE'] != '00/00/0000']\n",
    "# report_0421['Report_Date'] = date(2021, 4, 30)\n",
    "# report_0421['Time_Since_Issue'] = (report_0421['Report_Date'] - pd.to_datetime(report_0421['ISSUE DATE']).dt.date).dt.days"
   ],
   "metadata": {
    "collapsed": false,
    "ExecuteTime": {
     "end_time": "2023-10-25T15:52:11.969837Z",
     "start_time": "2023-10-25T15:52:11.938644900Z"
    }
   }
  },
  {
   "cell_type": "code",
   "execution_count": 26,
   "outputs": [],
   "source": [
    "# report_0521 = report_0521[report_0521['ISSUE DATE'] != '00/00/0000']\n",
    "# report_0521['Report_Date'] = date(2021, 5, 31)\n",
    "# report_0521['Time_Since_Issue'] = (report_0521['Report_Date'] - pd.to_datetime(report_0521['ISSUE DATE']).dt.date).dt.days"
   ],
   "metadata": {
    "collapsed": false,
    "ExecuteTime": {
     "end_time": "2023-10-25T15:52:12.007781100Z",
     "start_time": "2023-10-25T15:52:11.974844100Z"
    }
   }
  },
  {
   "cell_type": "code",
   "execution_count": 27,
   "outputs": [],
   "source": [
    "# report_0621 = report_0621[report_0621['ISSUE DATE'] != '00/00/0000']\n",
    "# report_0621['Report_Date'] = date(2021, 6, 30)\n",
    "# report_0621['Time_Since_Issue'] = (report_0621['Report_Date'] - pd.to_datetime(report_0621['ISSUE DATE']).dt.date).dt.days"
   ],
   "metadata": {
    "collapsed": false,
    "ExecuteTime": {
     "end_time": "2023-10-25T15:52:12.038149Z",
     "start_time": "2023-10-25T15:52:12.010780700Z"
    }
   }
  },
  {
   "cell_type": "code",
   "execution_count": 28,
   "outputs": [],
   "source": [
    "# reports = pd.concat([report_0121,report_0221,report_0321,report_0421,report_0521,report_0621])"
   ],
   "metadata": {
    "collapsed": false,
    "ExecuteTime": {
     "end_time": "2023-10-25T15:52:12.104926300Z",
     "start_time": "2023-10-25T15:52:12.071871200Z"
    }
   }
  },
  {
   "cell_type": "code",
   "execution_count": 29,
   "outputs": [],
   "source": [
    "# start_date = date(2021, 1, 1)\n",
    "# end_date = date(2021, 6, 30)"
   ],
   "metadata": {
    "collapsed": false,
    "ExecuteTime": {
     "end_time": "2023-10-25T15:52:12.142249300Z",
     "start_time": "2023-10-25T15:52:12.105432500Z"
    }
   }
  },
  {
   "cell_type": "code",
   "execution_count": 30,
   "outputs": [],
   "source": [
    "# reports = reports[['OFFER CODE', 'ISSUE DATE', 'EXPIRATION DATE',\n",
    "#                            'MEDIA LONG DESCRIPTION', 'CUM QTY', 'Time_Since_Issue']]"
   ],
   "metadata": {
    "collapsed": false,
    "ExecuteTime": {
     "end_time": "2023-10-25T15:52:12.171693100Z",
     "start_time": "2023-10-25T15:52:12.146120600Z"
    }
   }
  },
  {
   "cell_type": "code",
   "execution_count": 31,
   "outputs": [
    {
     "ename": "NameError",
     "evalue": "name 'reports' is not defined",
     "output_type": "error",
     "traceback": [
      "\u001B[1;31m---------------------------------------------------------------------------\u001B[0m",
      "\u001B[1;31mNameError\u001B[0m                                 Traceback (most recent call last)",
      "Cell \u001B[1;32mIn[31], line 1\u001B[0m\n\u001B[1;32m----> 1\u001B[0m reports \u001B[38;5;241m=\u001B[39m \u001B[43mreports\u001B[49m[reports[\u001B[38;5;124m'\u001B[39m\u001B[38;5;124mEXPIRATION DATE\u001B[39m\u001B[38;5;124m'\u001B[39m] \u001B[38;5;241m!=\u001B[39m \u001B[38;5;124m'\u001B[39m\u001B[38;5;124mNONE\u001B[39m\u001B[38;5;124m'\u001B[39m]\n\u001B[0;32m      2\u001B[0m reports \u001B[38;5;241m=\u001B[39m reports[reports[\u001B[38;5;124m'\u001B[39m\u001B[38;5;124mEXPIRATION DATE\u001B[39m\u001B[38;5;124m'\u001B[39m] \u001B[38;5;241m!=\u001B[39m \u001B[38;5;124m'\u001B[39m\u001B[38;5;124m00/00/0000\u001B[39m\u001B[38;5;124m'\u001B[39m]\n\u001B[0;32m      3\u001B[0m reports[\u001B[38;5;124m'\u001B[39m\u001B[38;5;124mISSUE DATE\u001B[39m\u001B[38;5;124m'\u001B[39m] \u001B[38;5;241m=\u001B[39m pd\u001B[38;5;241m.\u001B[39mto_datetime(reports[\u001B[38;5;124m'\u001B[39m\u001B[38;5;124mISSUE DATE\u001B[39m\u001B[38;5;124m'\u001B[39m])\u001B[38;5;241m.\u001B[39mdt\u001B[38;5;241m.\u001B[39mdate\n",
      "\u001B[1;31mNameError\u001B[0m: name 'reports' is not defined"
     ]
    }
   ],
   "source": [
    "reports = reports[reports['EXPIRATION DATE'] != 'NONE']\n",
    "reports = reports[reports['EXPIRATION DATE'] != '00/00/0000']\n",
    "reports['ISSUE DATE'] = pd.to_datetime(reports['ISSUE DATE']).dt.date\n",
    "reports['EXPIRATION DATE'] = pd.to_datetime(reports['EXPIRATION DATE']).dt.date\n",
    "reports = reports[reports['ISSUE DATE'] > start_date]\n",
    "reports = reports[reports['EXPIRATION DATE'] < end_date]\n",
    "reports = reports[reports['CUM QTY'] > 0]"
   ],
   "metadata": {
    "collapsed": false,
    "ExecuteTime": {
     "end_time": "2023-10-25T15:52:12.273154300Z",
     "start_time": "2023-10-25T15:52:12.212574Z"
    }
   }
  },
  {
   "cell_type": "code",
   "execution_count": 32,
   "outputs": [
    {
     "ename": "NameError",
     "evalue": "name 'reports' is not defined",
     "output_type": "error",
     "traceback": [
      "\u001B[1;31m---------------------------------------------------------------------------\u001B[0m",
      "\u001B[1;31mNameError\u001B[0m                                 Traceback (most recent call last)",
      "Cell \u001B[1;32mIn[32], line 1\u001B[0m\n\u001B[1;32m----> 1\u001B[0m reports[\u001B[38;5;124m'\u001B[39m\u001B[38;5;124mOffer_Count\u001B[39m\u001B[38;5;124m'\u001B[39m] \u001B[38;5;241m=\u001B[39m \u001B[43mreports\u001B[49m\u001B[38;5;241m.\u001B[39mgroupby(\u001B[38;5;124m'\u001B[39m\u001B[38;5;124mOFFER CODE\u001B[39m\u001B[38;5;124m'\u001B[39m)[\u001B[38;5;124m'\u001B[39m\u001B[38;5;124mOFFER CODE\u001B[39m\u001B[38;5;124m'\u001B[39m]\u001B[38;5;241m.\u001B[39mtransform(\u001B[38;5;124m'\u001B[39m\u001B[38;5;124mcount\u001B[39m\u001B[38;5;124m'\u001B[39m)\n\u001B[0;32m      2\u001B[0m reports\u001B[38;5;241m.\u001B[39msort_values(by\u001B[38;5;241m=\u001B[39m[\u001B[38;5;124m'\u001B[39m\u001B[38;5;124mOFFER CODE\u001B[39m\u001B[38;5;124m'\u001B[39m, \u001B[38;5;124m'\u001B[39m\u001B[38;5;124mCUM QTY\u001B[39m\u001B[38;5;124m'\u001B[39m])\n",
      "\u001B[1;31mNameError\u001B[0m: name 'reports' is not defined"
     ]
    }
   ],
   "source": [
    "reports['Offer_Count'] = reports.groupby('OFFER CODE')['OFFER CODE'].transform('count')\n",
    "reports.sort_values(by=['OFFER CODE', 'CUM QTY'])"
   ],
   "metadata": {
    "collapsed": false,
    "ExecuteTime": {
     "end_time": "2023-10-25T15:52:12.359740800Z",
     "start_time": "2023-10-25T15:52:12.276153Z"
    }
   }
  },
  {
   "cell_type": "code",
   "execution_count": 33,
   "outputs": [
    {
     "ename": "NameError",
     "evalue": "name 'reports' is not defined",
     "output_type": "error",
     "traceback": [
      "\u001B[1;31m---------------------------------------------------------------------------\u001B[0m",
      "\u001B[1;31mNameError\u001B[0m                                 Traceback (most recent call last)",
      "Cell \u001B[1;32mIn[33], line 1\u001B[0m\n\u001B[1;32m----> 1\u001B[0m reports[\u001B[38;5;124m'\u001B[39m\u001B[38;5;124mQTY_MAX\u001B[39m\u001B[38;5;124m'\u001B[39m] \u001B[38;5;241m=\u001B[39m \u001B[43mreports\u001B[49m\u001B[38;5;241m.\u001B[39mgroupby(\u001B[38;5;124m'\u001B[39m\u001B[38;5;124mOFFER CODE\u001B[39m\u001B[38;5;124m'\u001B[39m)[\u001B[38;5;124m'\u001B[39m\u001B[38;5;124mCUM QTY\u001B[39m\u001B[38;5;124m'\u001B[39m]\u001B[38;5;241m.\u001B[39mtransform(\u001B[38;5;28mmax\u001B[39m)\n\u001B[0;32m      2\u001B[0m reports[\u001B[38;5;124m'\u001B[39m\u001B[38;5;124mTotal_Dist_Percent\u001B[39m\u001B[38;5;124m'\u001B[39m] \u001B[38;5;241m=\u001B[39m \u001B[38;5;241m1\u001B[39m \u001B[38;5;241m-\u001B[39m reports[\u001B[38;5;124m'\u001B[39m\u001B[38;5;124mCUM QTY\u001B[39m\u001B[38;5;124m'\u001B[39m] \u001B[38;5;241m/\u001B[39m reports [\u001B[38;5;124m'\u001B[39m\u001B[38;5;124mQTY_MAX\u001B[39m\u001B[38;5;124m'\u001B[39m]\n",
      "\u001B[1;31mNameError\u001B[0m: name 'reports' is not defined"
     ]
    }
   ],
   "source": [
    "reports['QTY_MAX'] = reports.groupby('OFFER CODE')['CUM QTY'].transform(max)\n",
    "reports['Total_Dist_Percent'] = 1 - reports['CUM QTY'] / reports ['QTY_MAX']"
   ],
   "metadata": {
    "collapsed": false,
    "ExecuteTime": {
     "start_time": "2023-10-25T15:52:12.327742500Z"
    }
   }
  },
  {
   "cell_type": "code",
   "execution_count": 34,
   "outputs": [
    {
     "ename": "NameError",
     "evalue": "name 'reports' is not defined",
     "output_type": "error",
     "traceback": [
      "\u001B[1;31m---------------------------------------------------------------------------\u001B[0m",
      "\u001B[1;31mNameError\u001B[0m                                 Traceback (most recent call last)",
      "Cell \u001B[1;32mIn[34], line 1\u001B[0m\n\u001B[1;32m----> 1\u001B[0m reports \u001B[38;5;241m=\u001B[39m \u001B[43mreports\u001B[49m[[\u001B[38;5;124m'\u001B[39m\u001B[38;5;124mTime_Since_Issue\u001B[39m\u001B[38;5;124m'\u001B[39m, \u001B[38;5;124m'\u001B[39m\u001B[38;5;124mMEDIA LONG DESCRIPTION\u001B[39m\u001B[38;5;124m'\u001B[39m, \u001B[38;5;124m'\u001B[39m\u001B[38;5;124mTotal_Dist_Percent\u001B[39m\u001B[38;5;124m'\u001B[39m]]\n",
      "\u001B[1;31mNameError\u001B[0m: name 'reports' is not defined"
     ]
    }
   ],
   "source": [
    "reports = reports[['Time_Since_Issue', 'MEDIA LONG DESCRIPTION', 'Total_Dist_Percent']]"
   ],
   "metadata": {
    "collapsed": false,
    "ExecuteTime": {
     "end_time": "2023-10-25T15:52:12.499876100Z",
     "start_time": "2023-10-25T15:52:12.428395500Z"
    }
   }
  },
  {
   "cell_type": "code",
   "execution_count": 35,
   "outputs": [
    {
     "ename": "NameError",
     "evalue": "name 'reports' is not defined",
     "output_type": "error",
     "traceback": [
      "\u001B[1;31m---------------------------------------------------------------------------\u001B[0m",
      "\u001B[1;31mNameError\u001B[0m                                 Traceback (most recent call last)",
      "Cell \u001B[1;32mIn[35], line 1\u001B[0m\n\u001B[1;32m----> 1\u001B[0m reports \u001B[38;5;241m=\u001B[39m \u001B[43mreports\u001B[49m\u001B[38;5;241m.\u001B[39mrename(columns\u001B[38;5;241m=\u001B[39m{\u001B[38;5;124m'\u001B[39m\u001B[38;5;124mMEDIA LONG DESCRIPTION\u001B[39m\u001B[38;5;124m'\u001B[39m: \u001B[38;5;124m'\u001B[39m\u001B[38;5;124mMedia_Type\u001B[39m\u001B[38;5;124m'\u001B[39m})\n",
      "\u001B[1;31mNameError\u001B[0m: name 'reports' is not defined"
     ]
    }
   ],
   "source": [
    "reports = reports.rename(columns={'MEDIA LONG DESCRIPTION': 'Media_Type'})"
   ],
   "metadata": {
    "collapsed": false,
    "ExecuteTime": {
     "end_time": "2023-10-25T15:52:12.571555100Z",
     "start_time": "2023-10-25T15:52:12.505874900Z"
    }
   }
  },
  {
   "cell_type": "code",
   "execution_count": 57,
   "outputs": [
    {
     "data": {
      "text/plain": "<matplotlib.collections.PathCollection at 0x21c5b5d2cd0>"
     },
     "execution_count": 57,
     "metadata": {},
     "output_type": "execute_result"
    },
    {
     "data": {
      "text/plain": "<Figure size 640x480 with 1 Axes>",
      "image/png": "[encoded data removed]"
     },
     "metadata": {},
     "output_type": "display_data"
    }
   ],
   "source": [
    "x = afrin_bg['Week']\n",
    "y = afrin_bg['Percentage']\n",
    "plt.scatter(x, y)"
   ],
   "metadata": {
    "collapsed": false,
    "ExecuteTime": {
     "end_time": "2023-10-25T16:23:37.065198800Z",
     "start_time": "2023-10-25T16:23:36.790257200Z"
    }
   }
  },
  {
   "cell_type": "markdown",
   "source": [
    "By stacking each month's coupon redemption data, you will be able to generate a formula\n",
    "that will tell you what percentage of the total coupon redemption\n",
    "remains, and therefore how much more money should be allocated to said coupon"
   ],
   "metadata": {
    "collapsed": false
   }
  },
  {
   "cell_type": "code",
   "execution_count": 37,
   "outputs": [
    {
     "ename": "FileNotFoundError",
     "evalue": "[Errno 2] No such file or directory: '/home/matt/DataspellProjects/mercury-ds/attribution/Bayer/bayer_curves.csv'",
     "output_type": "error",
     "traceback": [
      "\u001B[1;31m---------------------------------------------------------------------------\u001B[0m",
      "\u001B[1;31mFileNotFoundError\u001B[0m                         Traceback (most recent call last)",
      "Cell \u001B[1;32mIn[37], line 4\u001B[0m\n\u001B[0;32m      1\u001B[0m \u001B[38;5;66;03m# Load Bayer Curves\u001B[39;00m\n\u001B[0;32m      2\u001B[0m \u001B[38;5;66;03m# Data has media type to break into appropriate groups and run curves\u001B[39;00m\n\u001B[1;32m----> 4\u001B[0m all_coupons \u001B[38;5;241m=\u001B[39m \u001B[43mpd\u001B[49m\u001B[38;5;241;43m.\u001B[39;49m\u001B[43mread_csv\u001B[49m\u001B[43m(\u001B[49m\u001B[38;5;124;43m'\u001B[39;49m\u001B[38;5;124;43m/home/matt/DataspellProjects/mercury-ds/attribution/Bayer/bayer_curves.csv\u001B[39;49m\u001B[38;5;124;43m'\u001B[39;49m\u001B[43m)\u001B[49m\n\u001B[0;32m      5\u001B[0m p0 \u001B[38;5;241m=\u001B[39m [\u001B[38;5;241m1.0\u001B[39m, \u001B[38;5;241m.05\u001B[39m]\n\u001B[0;32m      6\u001B[0m \u001B[38;5;28mprint\u001B[39m(all_coupons\u001B[38;5;241m.\u001B[39mnunique())\n",
      "File \u001B[1;32m~\\.conda\\envs\\Promo_Forecast\\lib\\site-packages\\pandas\\io\\parsers\\readers.py:912\u001B[0m, in \u001B[0;36mread_csv\u001B[1;34m(filepath_or_buffer, sep, delimiter, header, names, index_col, usecols, dtype, engine, converters, true_values, false_values, skipinitialspace, skiprows, skipfooter, nrows, na_values, keep_default_na, na_filter, verbose, skip_blank_lines, parse_dates, infer_datetime_format, keep_date_col, date_parser, date_format, dayfirst, cache_dates, iterator, chunksize, compression, thousands, decimal, lineterminator, quotechar, quoting, doublequote, escapechar, comment, encoding, encoding_errors, dialect, on_bad_lines, delim_whitespace, low_memory, memory_map, float_precision, storage_options, dtype_backend)\u001B[0m\n\u001B[0;32m    899\u001B[0m kwds_defaults \u001B[38;5;241m=\u001B[39m _refine_defaults_read(\n\u001B[0;32m    900\u001B[0m     dialect,\n\u001B[0;32m    901\u001B[0m     delimiter,\n\u001B[1;32m   (...)\u001B[0m\n\u001B[0;32m    908\u001B[0m     dtype_backend\u001B[38;5;241m=\u001B[39mdtype_backend,\n\u001B[0;32m    909\u001B[0m )\n\u001B[0;32m    910\u001B[0m kwds\u001B[38;5;241m.\u001B[39mupdate(kwds_defaults)\n\u001B[1;32m--> 912\u001B[0m \u001B[38;5;28;01mreturn\u001B[39;00m \u001B[43m_read\u001B[49m\u001B[43m(\u001B[49m\u001B[43mfilepath_or_buffer\u001B[49m\u001B[43m,\u001B[49m\u001B[43m \u001B[49m\u001B[43mkwds\u001B[49m\u001B[43m)\u001B[49m\n",
      "File \u001B[1;32m~\\.conda\\envs\\Promo_Forecast\\lib\\site-packages\\pandas\\io\\parsers\\readers.py:577\u001B[0m, in \u001B[0;36m_read\u001B[1;34m(filepath_or_buffer, kwds)\u001B[0m\n\u001B[0;32m    574\u001B[0m _validate_names(kwds\u001B[38;5;241m.\u001B[39mget(\u001B[38;5;124m\"\u001B[39m\u001B[38;5;124mnames\u001B[39m\u001B[38;5;124m\"\u001B[39m, \u001B[38;5;28;01mNone\u001B[39;00m))\n\u001B[0;32m    576\u001B[0m \u001B[38;5;66;03m# Create the parser.\u001B[39;00m\n\u001B[1;32m--> 577\u001B[0m parser \u001B[38;5;241m=\u001B[39m TextFileReader(filepath_or_buffer, \u001B[38;5;241m*\u001B[39m\u001B[38;5;241m*\u001B[39mkwds)\n\u001B[0;32m    579\u001B[0m \u001B[38;5;28;01mif\u001B[39;00m chunksize \u001B[38;5;129;01mor\u001B[39;00m iterator:\n\u001B[0;32m    580\u001B[0m     \u001B[38;5;28;01mreturn\u001B[39;00m parser\n",
      "File \u001B[1;32m~\\.conda\\envs\\Promo_Forecast\\lib\\site-packages\\pandas\\io\\parsers\\readers.py:1407\u001B[0m, in \u001B[0;36mTextFileReader.__init__\u001B[1;34m(self, f, engine, **kwds)\u001B[0m\n\u001B[0;32m   1404\u001B[0m     \u001B[38;5;28mself\u001B[39m\u001B[38;5;241m.\u001B[39moptions[\u001B[38;5;124m\"\u001B[39m\u001B[38;5;124mhas_index_names\u001B[39m\u001B[38;5;124m\"\u001B[39m] \u001B[38;5;241m=\u001B[39m kwds[\u001B[38;5;124m\"\u001B[39m\u001B[38;5;124mhas_index_names\u001B[39m\u001B[38;5;124m\"\u001B[39m]\n\u001B[0;32m   1406\u001B[0m \u001B[38;5;28mself\u001B[39m\u001B[38;5;241m.\u001B[39mhandles: IOHandles \u001B[38;5;241m|\u001B[39m \u001B[38;5;28;01mNone\u001B[39;00m \u001B[38;5;241m=\u001B[39m \u001B[38;5;28;01mNone\u001B[39;00m\n\u001B[1;32m-> 1407\u001B[0m \u001B[38;5;28mself\u001B[39m\u001B[38;5;241m.\u001B[39m_engine \u001B[38;5;241m=\u001B[39m \u001B[38;5;28;43mself\u001B[39;49m\u001B[38;5;241;43m.\u001B[39;49m\u001B[43m_make_engine\u001B[49m\u001B[43m(\u001B[49m\u001B[43mf\u001B[49m\u001B[43m,\u001B[49m\u001B[43m \u001B[49m\u001B[38;5;28;43mself\u001B[39;49m\u001B[38;5;241;43m.\u001B[39;49m\u001B[43mengine\u001B[49m\u001B[43m)\u001B[49m\n",
      "File \u001B[1;32m~\\.conda\\envs\\Promo_Forecast\\lib\\site-packages\\pandas\\io\\parsers\\readers.py:1661\u001B[0m, in \u001B[0;36mTextFileReader._make_engine\u001B[1;34m(self, f, engine)\u001B[0m\n\u001B[0;32m   1659\u001B[0m     \u001B[38;5;28;01mif\u001B[39;00m \u001B[38;5;124m\"\u001B[39m\u001B[38;5;124mb\u001B[39m\u001B[38;5;124m\"\u001B[39m \u001B[38;5;129;01mnot\u001B[39;00m \u001B[38;5;129;01min\u001B[39;00m mode:\n\u001B[0;32m   1660\u001B[0m         mode \u001B[38;5;241m+\u001B[39m\u001B[38;5;241m=\u001B[39m \u001B[38;5;124m\"\u001B[39m\u001B[38;5;124mb\u001B[39m\u001B[38;5;124m\"\u001B[39m\n\u001B[1;32m-> 1661\u001B[0m \u001B[38;5;28mself\u001B[39m\u001B[38;5;241m.\u001B[39mhandles \u001B[38;5;241m=\u001B[39m \u001B[43mget_handle\u001B[49m\u001B[43m(\u001B[49m\n\u001B[0;32m   1662\u001B[0m \u001B[43m    \u001B[49m\u001B[43mf\u001B[49m\u001B[43m,\u001B[49m\n\u001B[0;32m   1663\u001B[0m \u001B[43m    \u001B[49m\u001B[43mmode\u001B[49m\u001B[43m,\u001B[49m\n\u001B[0;32m   1664\u001B[0m \u001B[43m    \u001B[49m\u001B[43mencoding\u001B[49m\u001B[38;5;241;43m=\u001B[39;49m\u001B[38;5;28;43mself\u001B[39;49m\u001B[38;5;241;43m.\u001B[39;49m\u001B[43moptions\u001B[49m\u001B[38;5;241;43m.\u001B[39;49m\u001B[43mget\u001B[49m\u001B[43m(\u001B[49m\u001B[38;5;124;43m\"\u001B[39;49m\u001B[38;5;124;43mencoding\u001B[39;49m\u001B[38;5;124;43m\"\u001B[39;49m\u001B[43m,\u001B[49m\u001B[43m \u001B[49m\u001B[38;5;28;43;01mNone\u001B[39;49;00m\u001B[43m)\u001B[49m\u001B[43m,\u001B[49m\n\u001B[0;32m   1665\u001B[0m \u001B[43m    \u001B[49m\u001B[43mcompression\u001B[49m\u001B[38;5;241;43m=\u001B[39;49m\u001B[38;5;28;43mself\u001B[39;49m\u001B[38;5;241;43m.\u001B[39;49m\u001B[43moptions\u001B[49m\u001B[38;5;241;43m.\u001B[39;49m\u001B[43mget\u001B[49m\u001B[43m(\u001B[49m\u001B[38;5;124;43m\"\u001B[39;49m\u001B[38;5;124;43mcompression\u001B[39;49m\u001B[38;5;124;43m\"\u001B[39;49m\u001B[43m,\u001B[49m\u001B[43m \u001B[49m\u001B[38;5;28;43;01mNone\u001B[39;49;00m\u001B[43m)\u001B[49m\u001B[43m,\u001B[49m\n\u001B[0;32m   1666\u001B[0m \u001B[43m    \u001B[49m\u001B[43mmemory_map\u001B[49m\u001B[38;5;241;43m=\u001B[39;49m\u001B[38;5;28;43mself\u001B[39;49m\u001B[38;5;241;43m.\u001B[39;49m\u001B[43moptions\u001B[49m\u001B[38;5;241;43m.\u001B[39;49m\u001B[43mget\u001B[49m\u001B[43m(\u001B[49m\u001B[38;5;124;43m\"\u001B[39;49m\u001B[38;5;124;43mmemory_map\u001B[39;49m\u001B[38;5;124;43m\"\u001B[39;49m\u001B[43m,\u001B[49m\u001B[43m \u001B[49m\u001B[38;5;28;43;01mFalse\u001B[39;49;00m\u001B[43m)\u001B[49m\u001B[43m,\u001B[49m\n\u001B[0;32m   1667\u001B[0m \u001B[43m    \u001B[49m\u001B[43mis_text\u001B[49m\u001B[38;5;241;43m=\u001B[39;49m\u001B[43mis_text\u001B[49m\u001B[43m,\u001B[49m\n\u001B[0;32m   1668\u001B[0m \u001B[43m    \u001B[49m\u001B[43merrors\u001B[49m\u001B[38;5;241;43m=\u001B[39;49m\u001B[38;5;28;43mself\u001B[39;49m\u001B[38;5;241;43m.\u001B[39;49m\u001B[43moptions\u001B[49m\u001B[38;5;241;43m.\u001B[39;49m\u001B[43mget\u001B[49m\u001B[43m(\u001B[49m\u001B[38;5;124;43m\"\u001B[39;49m\u001B[38;5;124;43mencoding_errors\u001B[39;49m\u001B[38;5;124;43m\"\u001B[39;49m\u001B[43m,\u001B[49m\u001B[43m \u001B[49m\u001B[38;5;124;43m\"\u001B[39;49m\u001B[38;5;124;43mstrict\u001B[39;49m\u001B[38;5;124;43m\"\u001B[39;49m\u001B[43m)\u001B[49m\u001B[43m,\u001B[49m\n\u001B[0;32m   1669\u001B[0m \u001B[43m    \u001B[49m\u001B[43mstorage_options\u001B[49m\u001B[38;5;241;43m=\u001B[39;49m\u001B[38;5;28;43mself\u001B[39;49m\u001B[38;5;241;43m.\u001B[39;49m\u001B[43moptions\u001B[49m\u001B[38;5;241;43m.\u001B[39;49m\u001B[43mget\u001B[49m\u001B[43m(\u001B[49m\u001B[38;5;124;43m\"\u001B[39;49m\u001B[38;5;124;43mstorage_options\u001B[39;49m\u001B[38;5;124;43m\"\u001B[39;49m\u001B[43m,\u001B[49m\u001B[43m \u001B[49m\u001B[38;5;28;43;01mNone\u001B[39;49;00m\u001B[43m)\u001B[49m\u001B[43m,\u001B[49m\n\u001B[0;32m   1670\u001B[0m \u001B[43m\u001B[49m\u001B[43m)\u001B[49m\n\u001B[0;32m   1671\u001B[0m \u001B[38;5;28;01massert\u001B[39;00m \u001B[38;5;28mself\u001B[39m\u001B[38;5;241m.\u001B[39mhandles \u001B[38;5;129;01mis\u001B[39;00m \u001B[38;5;129;01mnot\u001B[39;00m \u001B[38;5;28;01mNone\u001B[39;00m\n\u001B[0;32m   1672\u001B[0m f \u001B[38;5;241m=\u001B[39m \u001B[38;5;28mself\u001B[39m\u001B[38;5;241m.\u001B[39mhandles\u001B[38;5;241m.\u001B[39mhandle\n",
      "File \u001B[1;32m~\\.conda\\envs\\Promo_Forecast\\lib\\site-packages\\pandas\\io\\common.py:859\u001B[0m, in \u001B[0;36mget_handle\u001B[1;34m(path_or_buf, mode, encoding, compression, memory_map, is_text, errors, storage_options)\u001B[0m\n\u001B[0;32m    854\u001B[0m \u001B[38;5;28;01melif\u001B[39;00m \u001B[38;5;28misinstance\u001B[39m(handle, \u001B[38;5;28mstr\u001B[39m):\n\u001B[0;32m    855\u001B[0m     \u001B[38;5;66;03m# Check whether the filename is to be opened in binary mode.\u001B[39;00m\n\u001B[0;32m    856\u001B[0m     \u001B[38;5;66;03m# Binary mode does not support 'encoding' and 'newline'.\u001B[39;00m\n\u001B[0;32m    857\u001B[0m     \u001B[38;5;28;01mif\u001B[39;00m ioargs\u001B[38;5;241m.\u001B[39mencoding \u001B[38;5;129;01mand\u001B[39;00m \u001B[38;5;124m\"\u001B[39m\u001B[38;5;124mb\u001B[39m\u001B[38;5;124m\"\u001B[39m \u001B[38;5;129;01mnot\u001B[39;00m \u001B[38;5;129;01min\u001B[39;00m ioargs\u001B[38;5;241m.\u001B[39mmode:\n\u001B[0;32m    858\u001B[0m         \u001B[38;5;66;03m# Encoding\u001B[39;00m\n\u001B[1;32m--> 859\u001B[0m         handle \u001B[38;5;241m=\u001B[39m \u001B[38;5;28;43mopen\u001B[39;49m\u001B[43m(\u001B[49m\n\u001B[0;32m    860\u001B[0m \u001B[43m            \u001B[49m\u001B[43mhandle\u001B[49m\u001B[43m,\u001B[49m\n\u001B[0;32m    861\u001B[0m \u001B[43m            \u001B[49m\u001B[43mioargs\u001B[49m\u001B[38;5;241;43m.\u001B[39;49m\u001B[43mmode\u001B[49m\u001B[43m,\u001B[49m\n\u001B[0;32m    862\u001B[0m \u001B[43m            \u001B[49m\u001B[43mencoding\u001B[49m\u001B[38;5;241;43m=\u001B[39;49m\u001B[43mioargs\u001B[49m\u001B[38;5;241;43m.\u001B[39;49m\u001B[43mencoding\u001B[49m\u001B[43m,\u001B[49m\n\u001B[0;32m    863\u001B[0m \u001B[43m            \u001B[49m\u001B[43merrors\u001B[49m\u001B[38;5;241;43m=\u001B[39;49m\u001B[43merrors\u001B[49m\u001B[43m,\u001B[49m\n\u001B[0;32m    864\u001B[0m \u001B[43m            \u001B[49m\u001B[43mnewline\u001B[49m\u001B[38;5;241;43m=\u001B[39;49m\u001B[38;5;124;43m\"\u001B[39;49m\u001B[38;5;124;43m\"\u001B[39;49m\u001B[43m,\u001B[49m\n\u001B[0;32m    865\u001B[0m \u001B[43m        \u001B[49m\u001B[43m)\u001B[49m\n\u001B[0;32m    866\u001B[0m     \u001B[38;5;28;01melse\u001B[39;00m:\n\u001B[0;32m    867\u001B[0m         \u001B[38;5;66;03m# Binary mode\u001B[39;00m\n\u001B[0;32m    868\u001B[0m         handle \u001B[38;5;241m=\u001B[39m \u001B[38;5;28mopen\u001B[39m(handle, ioargs\u001B[38;5;241m.\u001B[39mmode)\n",
      "\u001B[1;31mFileNotFoundError\u001B[0m: [Errno 2] No such file or directory: '/home/matt/DataspellProjects/mercury-ds/attribution/Bayer/bayer_curves.csv'"
     ]
    }
   ],
   "source": [
    "# Load Bayer Curves\n",
    "# Data has media type to break into appropriate groups and run curves\n",
    "\n",
    "all_coupons = pd.read_csv('/home/matt/DataspellProjects/mercury-ds/attribution/Bayer/bayer_curves.csv')\n",
    "p0 = [1.0, .05]\n",
    "print(all_coupons.nunique())\n",
    "print(all_coupons['Media_Type'].value_counts())"
   ],
   "metadata": {
    "collapsed": false,
    "ExecuteTime": {
     "end_time": "2023-10-25T15:52:13.098729300Z",
     "start_time": "2023-10-25T15:52:12.633232Z"
    }
   }
  },
  {
   "cell_type": "code",
   "execution_count": 58,
   "outputs": [],
   "source": [
    "p0 = [1.0, .05]"
   ],
   "metadata": {
    "collapsed": false,
    "ExecuteTime": {
     "end_time": "2023-10-25T16:24:29.011214600Z",
     "start_time": "2023-10-25T16:24:28.999214600Z"
    }
   }
  },
  {
   "cell_type": "code",
   "execution_count": 59,
   "outputs": [],
   "source": [
    "#Sunday FSI Curve, creates subset based on media type (or coupon type)\n",
    "afrin_bg['Week'] = afrin_bg['Week'].to_numpy(dtype=float)\n",
    "afrin_bg['Percentage'] = afrin_bg[\"Percentage\"].to_numpy(dtype=float)"
   ],
   "metadata": {
    "collapsed": false,
    "ExecuteTime": {
     "end_time": "2023-10-25T16:24:32.793249100Z",
     "start_time": "2023-10-25T16:24:32.720433500Z"
    }
   }
  },
  {
   "cell_type": "code",
   "execution_count": 60,
   "outputs": [
    {
     "ename": "InvalidIndexError",
     "evalue": "(slice(None, None, None), 0)",
     "output_type": "error",
     "traceback": [
      "\u001B[1;31m---------------------------------------------------------------------------\u001B[0m",
      "\u001B[1;31mTypeError\u001B[0m                                 Traceback (most recent call last)",
      "File \u001B[1;32m~\\.conda\\envs\\Promo_Forecast\\lib\\site-packages\\pandas\\core\\indexes\\base.py:3653\u001B[0m, in \u001B[0;36mIndex.get_loc\u001B[1;34m(self, key)\u001B[0m\n\u001B[0;32m   3652\u001B[0m \u001B[38;5;28;01mtry\u001B[39;00m:\n\u001B[1;32m-> 3653\u001B[0m     \u001B[38;5;28;01mreturn\u001B[39;00m \u001B[38;5;28;43mself\u001B[39;49m\u001B[38;5;241;43m.\u001B[39;49m\u001B[43m_engine\u001B[49m\u001B[38;5;241;43m.\u001B[39;49m\u001B[43mget_loc\u001B[49m\u001B[43m(\u001B[49m\u001B[43mcasted_key\u001B[49m\u001B[43m)\u001B[49m\n\u001B[0;32m   3654\u001B[0m \u001B[38;5;28;01mexcept\u001B[39;00m \u001B[38;5;167;01mKeyError\u001B[39;00m \u001B[38;5;28;01mas\u001B[39;00m err:\n",
      "File \u001B[1;32m~\\.conda\\envs\\Promo_Forecast\\lib\\site-packages\\pandas\\_libs\\index.pyx:147\u001B[0m, in \u001B[0;36mpandas._libs.index.IndexEngine.get_loc\u001B[1;34m()\u001B[0m\n",
      "File \u001B[1;32m~\\.conda\\envs\\Promo_Forecast\\lib\\site-packages\\pandas\\_libs\\index.pyx:153\u001B[0m, in \u001B[0;36mpandas._libs.index.IndexEngine.get_loc\u001B[1;34m()\u001B[0m\n",
      "\u001B[1;31mTypeError\u001B[0m: '(slice(None, None, None), 0)' is an invalid key",
      "\nDuring handling of the above exception, another exception occurred:\n",
      "\u001B[1;31mInvalidIndexError\u001B[0m                         Traceback (most recent call last)",
      "Cell \u001B[1;32mIn[60], line 3\u001B[0m\n\u001B[0;32m      1\u001B[0m \u001B[38;5;66;03m# Takes the subset by media type and reduces it into a numpy array\u001B[39;00m\n\u001B[0;32m      2\u001B[0m \u001B[38;5;66;03m# containing the Time Since Issue and Total Distribution Percent data\u001B[39;00m\n\u001B[1;32m----> 3\u001B[0m x \u001B[38;5;241m=\u001B[39m \u001B[43mafrin_bg\u001B[49m\u001B[43m[\u001B[49m\u001B[43m:\u001B[49m\u001B[43m,\u001B[49m\u001B[43m \u001B[49m\u001B[38;5;241;43m0\u001B[39;49m\u001B[43m]\u001B[49m\n\u001B[0;32m      4\u001B[0m y \u001B[38;5;241m=\u001B[39m afrin_bg[:, \u001B[38;5;241m1\u001B[39m]\n",
      "File \u001B[1;32m~\\.conda\\envs\\Promo_Forecast\\lib\\site-packages\\pandas\\core\\frame.py:3761\u001B[0m, in \u001B[0;36mDataFrame.__getitem__\u001B[1;34m(self, key)\u001B[0m\n\u001B[0;32m   3759\u001B[0m \u001B[38;5;28;01mif\u001B[39;00m \u001B[38;5;28mself\u001B[39m\u001B[38;5;241m.\u001B[39mcolumns\u001B[38;5;241m.\u001B[39mnlevels \u001B[38;5;241m>\u001B[39m \u001B[38;5;241m1\u001B[39m:\n\u001B[0;32m   3760\u001B[0m     \u001B[38;5;28;01mreturn\u001B[39;00m \u001B[38;5;28mself\u001B[39m\u001B[38;5;241m.\u001B[39m_getitem_multilevel(key)\n\u001B[1;32m-> 3761\u001B[0m indexer \u001B[38;5;241m=\u001B[39m \u001B[38;5;28;43mself\u001B[39;49m\u001B[38;5;241;43m.\u001B[39;49m\u001B[43mcolumns\u001B[49m\u001B[38;5;241;43m.\u001B[39;49m\u001B[43mget_loc\u001B[49m\u001B[43m(\u001B[49m\u001B[43mkey\u001B[49m\u001B[43m)\u001B[49m\n\u001B[0;32m   3762\u001B[0m \u001B[38;5;28;01mif\u001B[39;00m is_integer(indexer):\n\u001B[0;32m   3763\u001B[0m     indexer \u001B[38;5;241m=\u001B[39m [indexer]\n",
      "File \u001B[1;32m~\\.conda\\envs\\Promo_Forecast\\lib\\site-packages\\pandas\\core\\indexes\\base.py:3660\u001B[0m, in \u001B[0;36mIndex.get_loc\u001B[1;34m(self, key)\u001B[0m\n\u001B[0;32m   3655\u001B[0m     \u001B[38;5;28;01mraise\u001B[39;00m \u001B[38;5;167;01mKeyError\u001B[39;00m(key) \u001B[38;5;28;01mfrom\u001B[39;00m \u001B[38;5;21;01merr\u001B[39;00m\n\u001B[0;32m   3656\u001B[0m \u001B[38;5;28;01mexcept\u001B[39;00m \u001B[38;5;167;01mTypeError\u001B[39;00m:\n\u001B[0;32m   3657\u001B[0m     \u001B[38;5;66;03m# If we have a listlike key, _check_indexing_error will raise\u001B[39;00m\n\u001B[0;32m   3658\u001B[0m     \u001B[38;5;66;03m#  InvalidIndexError. Otherwise we fall through and re-raise\u001B[39;00m\n\u001B[0;32m   3659\u001B[0m     \u001B[38;5;66;03m#  the TypeError.\u001B[39;00m\n\u001B[1;32m-> 3660\u001B[0m     \u001B[38;5;28;43mself\u001B[39;49m\u001B[38;5;241;43m.\u001B[39;49m\u001B[43m_check_indexing_error\u001B[49m\u001B[43m(\u001B[49m\u001B[43mkey\u001B[49m\u001B[43m)\u001B[49m\n\u001B[0;32m   3661\u001B[0m     \u001B[38;5;28;01mraise\u001B[39;00m\n",
      "File \u001B[1;32m~\\.conda\\envs\\Promo_Forecast\\lib\\site-packages\\pandas\\core\\indexes\\base.py:5737\u001B[0m, in \u001B[0;36mIndex._check_indexing_error\u001B[1;34m(self, key)\u001B[0m\n\u001B[0;32m   5733\u001B[0m \u001B[38;5;28;01mdef\u001B[39;00m \u001B[38;5;21m_check_indexing_error\u001B[39m(\u001B[38;5;28mself\u001B[39m, key):\n\u001B[0;32m   5734\u001B[0m     \u001B[38;5;28;01mif\u001B[39;00m \u001B[38;5;129;01mnot\u001B[39;00m is_scalar(key):\n\u001B[0;32m   5735\u001B[0m         \u001B[38;5;66;03m# if key is not a scalar, directly raise an error (the code below\u001B[39;00m\n\u001B[0;32m   5736\u001B[0m         \u001B[38;5;66;03m# would convert to numpy arrays and raise later any way) - GH29926\u001B[39;00m\n\u001B[1;32m-> 5737\u001B[0m         \u001B[38;5;28;01mraise\u001B[39;00m InvalidIndexError(key)\n",
      "\u001B[1;31mInvalidIndexError\u001B[0m: (slice(None, None, None), 0)"
     ]
    }
   ],
   "source": [
    "# Takes the subset by media type and reduces it into a numpy array\n",
    "# containing the Time Since Issue and Total Distribution Percent data\n",
    "x = afrin_bg[:, 0]\n",
    "y = afrin_bg[:, 1]"
   ],
   "metadata": {
    "collapsed": false,
    "ExecuteTime": {
     "end_time": "2023-10-25T16:24:35.165941900Z",
     "start_time": "2023-10-25T16:24:35.096568200Z"
    }
   }
  },
  {
   "cell_type": "code",
   "execution_count": 61,
   "outputs": [
    {
     "name": "stdout",
     "output_type": "stream",
     "text": [
      "Afrin& Fit Chart\n",
      "R^2 = -0.5427\n",
      "Curve Formula: y=2.16318*exp^(-0.2292*(x)\n"
     ]
    },
    {
     "data": {
      "text/plain": "<Figure size 800x800 with 1 Axes>",
      "image/png": "[encoded data removed]"
     },
     "metadata": {},
     "output_type": "display_data"
    }
   ],
   "source": [
    "# Provides plots and estimates\n",
    "print('Afrin& Fit Chart')\n",
    "a, b = output(x, y, p0)"
   ],
   "metadata": {
    "collapsed": false,
    "ExecuteTime": {
     "end_time": "2023-10-25T16:24:40.652118700Z",
     "start_time": "2023-10-25T16:24:40.431465100Z"
    }
   }
  },
  {
   "cell_type": "code",
   "execution_count": null,
   "outputs": [],
   "source": [
    "Afrin, creates estimates based on brand\n",
    "sun_fsi = all_coupons[all_coupons[\"Media_Type\"] == \"Sunday Fsi\"]\n",
    "np_sun_fsi = sun_fsi[['Time_Since_Issue', 'Total_Dist_Percent']].to_numpy(dtype=float)\n",
    "\n",
    "# Takes the subset by media type and reduces it into a numpy array\n",
    "# containing the Time Since Issue and Total Distribution Percent data\n",
    "x = np_sun_fsi[:, 0]\n",
    "y = np_sun_fsi[:, 1]\n",
    "\n",
    "# Provides plots and estimates\n",
    "print('Sunday FSI R^2 & Fit Chart')\n",
    "a, b = output(x, y, p0)"
   ],
   "metadata": {
    "collapsed": false
   }
  },
  {
   "cell_type": "code",
   "execution_count": null,
   "outputs": [],
   "source": [
    "#@title\n",
    "# Paperless Curve\n",
    "paperless = all_coupons[all_coupons[\"Media_Type\"] == \"Paperless\"]\n",
    "np_paperless = paperless[['Time_Since_Issue',\n",
    "                          'Total_Dist_Percent']].to_numpy(dtype=float)\n",
    "\n",
    "x = np_paperless[:, 0]\n",
    "y = np_paperless[:, 1]\n",
    "\n",
    "print('Paperless R^2 & Fit Chart')\n",
    "a, b = output(x, y, p0)"
   ],
   "metadata": {
    "collapsed": false,
    "ExecuteTime": {
     "start_time": "2023-10-25T15:52:13.101731Z"
    }
   }
  },
  {
   "cell_type": "code",
   "execution_count": null,
   "outputs": [],
   "source": [
    "#@title\n",
    "# Paperless + Print At Home, Print at Home, Paperless + Print at Home Curve\n",
    "\n",
    "paper_print = all_coupons[all_coupons[\"Media_Type\"].isin([\"Paperless + Print at Home\",\n",
    "                                                          \"Print At Home\",\n",
    "                                                          \"Paperless + Print at Home + Handout\"])]\n",
    "\n",
    "np_paper_print = paper_print[['Time_Since_Issue', 'Total_Dist_Percent']].to_numpy(dtype=float)\n",
    "\n",
    "x = np_paper_print[:, 0]\n",
    "y = np_paper_print[:, 1]\n",
    "\n",
    "print('Paperless + Print Group R^2 & Fit Chart')\n",
    "a, b = output(x, y, p0)"
   ],
   "metadata": {
    "collapsed": false,
    "ExecuteTime": {
     "end_time": "2023-10-25T15:52:13.105730700Z",
     "start_time": "2023-10-25T15:52:13.102731100Z"
    }
   }
  },
  {
   "cell_type": "code",
   "execution_count": null,
   "outputs": [],
   "source": [
    "#@title\n",
    "# HANDOUT, HANDOUT IN-STORE, HANDOUT IN-STORE DISPLAY, HANDOUT IN-STORE TEARPAD,\n",
    "# HANDOUT SHELF DISPENSER, HANDOUT WITH SAMPLE, INSTANT ON-PACK,\n",
    "# INSTANT ON-PACK FACTORY APPLIED, ON-PACK\n",
    "\n",
    "handout = all_coupons[all_coupons[\"Media_Type\"].\n",
    "isin([\"Handout\", \"Handout In-Store\",\n",
    "      \"Handout In-Store Display\",\n",
    "      \"Handout In-Store Tearpad\",\n",
    "      \"Handout Shelf Dispenser\",\n",
    "      \"Handout With Samole\", \"Instant On-Pack\",\n",
    "      \"On-Pack\"])]\n",
    "\n",
    "np_handout = handout[['Time_Since_Issue',\n",
    "                      'Total_Dist_Percent']].to_numpy(dtype=float)\n",
    "\n",
    "x = np_handout[:, 0]\n",
    "y = np_handout[:, 1]\n",
    "\n",
    "print('Handout Group R^2 & Fit Chart')\n",
    "a, b = output(x, y, p0)"
   ],
   "metadata": {
    "collapsed": false,
    "ExecuteTime": {
     "start_time": "2023-10-25T15:52:13.104731Z"
    }
   }
  },
  {
   "cell_type": "code",
   "execution_count": null,
   "outputs": [],
   "source": [
    "#@title\n",
    "# All Other: MISCELLANEOUS MEDIA, DIRECT MAIL, DIRECT MAIL SOLO\n",
    "\n",
    "misc = all_coupons[all_coupons[\"Media_Type\"].isin([\"Miscellaneous Media\",\n",
    "                                                    \"Direct Mail Solo\",\n",
    "                                                    \"Direct Mail\"])]\n",
    "\n",
    "np_misc = misc[['Time_Since_Issue',\n",
    "                'Total_Dist_Percent']].to_numpy(dtype=float)\n",
    "\n",
    "x = np_misc[:, 0]\n",
    "y = np_misc[:, 1]\n",
    "\n",
    "print('All Other Group R^2 & Fit Chart')\n",
    "a, b = output(x, y, p0)"
   ],
   "metadata": {
    "collapsed": false,
    "ExecuteTime": {
     "end_time": "2023-10-25T15:52:13.107729900Z",
     "start_time": "2023-10-25T15:52:13.105730700Z"
    }
   }
  },
  {
   "cell_type": "code",
   "execution_count": null,
   "outputs": [],
   "source": [],
   "metadata": {
    "collapsed": false,
    "ExecuteTime": {
     "start_time": "2023-10-25T15:52:13.107729900Z"
    }
   }
  }
 ]
}
