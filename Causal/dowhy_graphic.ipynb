{
 "cells": [
  {
   "cell_type": "code",
   "execution_count": 10,
   "id": "initial_id",
   "metadata": {
    "collapsed": true,
    "ExecuteTime": {
     "end_time": "2023-11-14T20:28:30.837857Z",
     "start_time": "2023-11-14T20:28:30.127789500Z"
    }
   },
   "outputs": [
    {
     "name": "stderr",
     "output_type": "stream",
     "text": [
      "Fitting causal mechanism of node Z: 100%|██████████| 3/3 [00:00<00:00, 374.79it/s]\n",
      "Evaluate set function: 8it [00:00, ?it/s]\n"
     ]
    }
   ],
   "source": [
    "import networkx as nx, numpy as np, pandas as pd\n",
    "from dowhy import gcm\n",
    "\n",
    "# Let's generate some \"normal\" data we assume we're given from our problem domain:\n",
    "X = np.random.normal(loc=0, scale=1, size=1000)\n",
    "Y = 2 * X + np.random.normal(loc=0, scale=1, size=1000)\n",
    "Z = 3 * Y + np.random.normal(loc=0, scale=1, size=1000)\n",
    "data = pd.DataFrame(dict(X=X, Y=Y, Z=Z))\n",
    "\n",
    "# Step 1: Model our system:\n",
    "causal_model = gcm.StructuralCausalModel(nx.DiGraph([('X', 'Y'), ('Y', 'Z')]))\n",
    "gcm.auto.assign_causal_mechanisms(causal_model, data)\n",
    "\n",
    "# Step 2: Train our causal model with the data from above:\n",
    "gcm.fit(causal_model, data)\n",
    "\n",
    "# Step 3: Perform a causal analysis. E.g. we have an:\n",
    "anomalous_record = pd.DataFrame(dict(X=[.7], Y=[100.0], Z=[303.0]))\n",
    "# ... and would like to answer the question:\n",
    "# \"Which node is the root cause of the anomaly in Z?\":\n",
    "anomaly_attribution = gcm.attribute_anomalies(causal_model, \"Z\", anomalous_record)"
   ]
  },
  {
   "cell_type": "code",
   "execution_count": 11,
   "outputs": [],
   "source": [
    "\n",
    "import networkx as nx\n",
    "causal_graph = nx.DiGraph([('X', 'Y'), ('Y', 'Z')])"
   ],
   "metadata": {
    "collapsed": false,
    "ExecuteTime": {
     "end_time": "2023-11-14T20:28:30.852859Z",
     "start_time": "2023-11-14T20:28:30.839856Z"
    }
   },
   "id": "80b45f2118be79b6"
  },
  {
   "cell_type": "code",
   "execution_count": 12,
   "outputs": [],
   "source": [
    "\n",
    "from dowhy import gcm\n",
    "causal_model = gcm.StructuralCausalModel(causal_graph)"
   ],
   "metadata": {
    "collapsed": false,
    "ExecuteTime": {
     "end_time": "2023-11-14T20:28:30.874191900Z",
     "start_time": "2023-11-14T20:28:30.854763400Z"
    }
   },
   "id": "78602885d2d2f9c"
  },
  {
   "cell_type": "code",
   "execution_count": 13,
   "outputs": [],
   "source": [
    "\n",
    "from dowhy import gcm\n",
    "causal_model = gcm.StructuralCausalModel(causal_graph)"
   ],
   "metadata": {
    "collapsed": false,
    "ExecuteTime": {
     "end_time": "2023-11-14T20:28:30.889602700Z",
     "start_time": "2023-11-14T20:28:30.869194700Z"
    }
   },
   "id": "9cafdff8c8c6e079"
  },
  {
   "cell_type": "code",
   "execution_count": 14,
   "outputs": [],
   "source": [
    "gcm.auto.assign_causal_mechanisms(causal_model, data)\n"
   ],
   "metadata": {
    "collapsed": false,
    "ExecuteTime": {
     "end_time": "2023-11-14T20:28:31.404222800Z",
     "start_time": "2023-11-14T20:28:30.885605400Z"
    }
   },
   "id": "2ae20414773fcd6e"
  },
  {
   "cell_type": "code",
   "execution_count": 15,
   "outputs": [],
   "source": [
    "causal_model.set_causal_mechanism('X', gcm.EmpiricalDistribution())\n",
    "causal_model.set_causal_mechanism('Y', gcm.AdditiveNoiseModel(gcm.ml.create_linear_regressor()))\n",
    "causal_model.set_causal_mechanism('Z', gcm.AdditiveNoiseModel(gcm.ml.create_linear_regressor()))"
   ],
   "metadata": {
    "collapsed": false,
    "ExecuteTime": {
     "end_time": "2023-11-14T20:28:31.423731200Z",
     "start_time": "2023-11-14T20:28:31.406224800Z"
    }
   },
   "id": "80bcbc7c214a227c"
  },
  {
   "cell_type": "code",
   "execution_count": 16,
   "outputs": [
    {
     "name": "stderr",
     "output_type": "stream",
     "text": [
      "Fitting causal mechanism of node Z: 100%|██████████| 3/3 [00:00<00:00, 428.56it/s]\n"
     ]
    }
   ],
   "source": [
    "\n",
    "gcm.fit(causal_model, data)"
   ],
   "metadata": {
    "collapsed": false,
    "ExecuteTime": {
     "end_time": "2023-11-14T20:28:31.451730500Z",
     "start_time": "2023-11-14T20:28:31.420732Z"
    }
   },
   "id": "fb2c12897407a557"
  },
  {
   "cell_type": "code",
   "execution_count": 17,
   "outputs": [
    {
     "data": {
      "text/plain": "          X     Y         Z\n0 -0.767502  2.34  6.777626\n1  0.274842  2.34  6.650801\n2  0.483652  2.34  5.100161\n3  1.524137  2.34  8.081731\n4 -0.456372  2.34  8.083934",
      "text/html": "<div>\n<style scoped>\n    .dataframe tbody tr th:only-of-type {\n        vertical-align: middle;\n    }\n\n    .dataframe tbody tr th {\n        vertical-align: top;\n    }\n\n    .dataframe thead th {\n        text-align: right;\n    }\n</style>\n<table border=\"1\" class=\"dataframe\">\n  <thead>\n    <tr style=\"text-align: right;\">\n      <th></th>\n      <th>X</th>\n      <th>Y</th>\n      <th>Z</th>\n    </tr>\n  </thead>\n  <tbody>\n    <tr>\n      <th>0</th>\n      <td>-0.767502</td>\n      <td>2.34</td>\n      <td>6.777626</td>\n    </tr>\n    <tr>\n      <th>1</th>\n      <td>0.274842</td>\n      <td>2.34</td>\n      <td>6.650801</td>\n    </tr>\n    <tr>\n      <th>2</th>\n      <td>0.483652</td>\n      <td>2.34</td>\n      <td>5.100161</td>\n    </tr>\n    <tr>\n      <th>3</th>\n      <td>1.524137</td>\n      <td>2.34</td>\n      <td>8.081731</td>\n    </tr>\n    <tr>\n      <th>4</th>\n      <td>-0.456372</td>\n      <td>2.34</td>\n      <td>8.083934</td>\n    </tr>\n  </tbody>\n</table>\n</div>"
     },
     "execution_count": 17,
     "metadata": {},
     "output_type": "execute_result"
    }
   ],
   "source": [
    "samples = gcm.interventional_samples(causal_model,\n",
    "                                     {'Y': lambda y: 2.34 },\n",
    "                                     num_samples_to_draw=1000)\n",
    "samples.head()"
   ],
   "metadata": {
    "collapsed": false,
    "ExecuteTime": {
     "end_time": "2023-11-14T20:28:31.453665200Z",
     "start_time": "2023-11-14T20:28:31.437733Z"
    }
   },
   "id": "50455efcd2d7e369"
  }
 ],
 "metadata": {
  "kernelspec": {
   "display_name": "Python 3",
   "language": "python",
   "name": "python3"
  },
  "language_info": {
   "codemirror_mode": {
    "name": "ipython",
    "version": 2
   },
   "file_extension": ".py",
   "mimetype": "text/x-python",
   "name": "python",
   "nbconvert_exporter": "python",
   "pygments_lexer": "ipython2",
   "version": "2.7.6"
  }
 },
 "nbformat": 4,
 "nbformat_minor": 5
}
