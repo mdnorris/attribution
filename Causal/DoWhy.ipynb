{
 "cells": [
  {
   "cell_type": "code",
   "id": "initial_id",
   "metadata": {
    "collapsed": true
   },
   "source": [
    "import numpy as np\n",
    "import pandas as pd\n",
    "import graphviz\n",
    "from dowhy import CausalModel\n",
    "import dowhy.datasets\n",
    "from IPython.display import Image, display"
   ],
   "outputs": [],
   "execution_count": null
  },
  {
   "cell_type": "code",
   "source": [
    "data = dowhy.datasets.linear_dataset(beta=10,\n",
    "                                     num_common_causes=5,\n",
    "                                     num_instruments = 2,\n",
    "                                     num_effect_modifiers=1,\n",
    "                                     num_samples=5000,\n",
    "                                     treatment_is_binary=True,\n",
    "                                     stddev_treatment_noise=10,\n",
    "                                     num_discrete_common_causes=1)"
   ],
   "metadata": {
    "collapsed": false
   },
   "id": "e5e6e37e1031af2d",
   "outputs": [],
   "execution_count": null
  },
  {
   "metadata": {},
   "cell_type": "code",
   "source": "df = data[\"df\"]",
   "id": "47d5eb71fa1337e",
   "outputs": [],
   "execution_count": null
  },
  {
   "cell_type": "code",
   "source": [
    "df.head()"
   ],
   "metadata": {
    "collapsed": false
   },
   "id": "1f94e5b972d49f87",
   "outputs": [],
   "execution_count": null
  },
  {
   "cell_type": "code",
   "source": [
    "model=CausalModel(\n",
    "    data = df,\n",
    "    treatment=data[\"treatment_name\"],\n",
    "    outcome=data[\"outcome_name\"],\n",
    "    graph=data[\"gml_graph\"]\n",
    ")"
   ],
   "metadata": {
    "collapsed": false
   },
   "id": "3ffddf4b248fa8bb",
   "outputs": [],
   "execution_count": null
  },
  {
   "cell_type": "code",
   "source": [
    "model.view_model()"
   ],
   "metadata": {
    "collapsed": false
   },
   "id": "f8fc750d2b2094d0",
   "outputs": [],
   "execution_count": null
  },
  {
   "cell_type": "code",
   "source": [
    "display(Image(filename=\"causal_model.png\"))"
   ],
   "metadata": {
    "collapsed": false
   },
   "id": "ce04d2d78c0a0cc2",
   "outputs": [],
   "execution_count": null
  },
  {
   "cell_type": "code",
   "source": [
    "identified_estimand = model.identify_effect(proceed_when_unidentifiable=True)\n",
    "print(identified_estimand)"
   ],
   "metadata": {
    "collapsed": false
   },
   "id": "f4dd380f3c8b3f08",
   "outputs": [],
   "execution_count": null
  },
  {
   "cell_type": "code",
   "source": [
    "causal_estimate = model.estimate_effect(identified_estimand,\n",
    "                                        method_name=\"backdoor.propensity_score_stratification\")\n",
    "print(causal_estimate)"
   ],
   "metadata": {
    "collapsed": false
   },
   "id": "acc140a3e58c85e0",
   "outputs": [],
   "execution_count": null
  },
  {
   "cell_type": "code",
   "source": [
    "causal_estimate_att = model.estimate_effect(identified_estimand,\n",
    "                                            method_name=\"backdoor.propensity_score_stratification\",\n",
    "                                            target_units = \"atc\")\n",
    "print(causal_estimate_att)\n",
    "print(\"Causal Estimate is \" + str(causal_estimate_att.value))"
   ],
   "metadata": {
    "collapsed": false
   },
   "id": "b67dfd2c12ac1886",
   "outputs": [],
   "execution_count": null
  },
  {
   "cell_type": "code",
   "source": [
    "refute_results = model.refute_estimate(identified_estimand, causal_estimate_att,\n",
    "                                       method_name=\"random_common_cause\")"
   ],
   "metadata": {
    "collapsed": false
   },
   "id": "d894fed644f02ea9",
   "outputs": [],
   "execution_count": null
  },
  {
   "cell_type": "code",
   "source": [],
   "metadata": {
    "collapsed": false
   },
   "id": "8aeab4236d42a147",
   "outputs": [],
   "execution_count": null
  }
 ],
 "metadata": {
  "kernelspec": {
   "display_name": "Python 3",
   "language": "python",
   "name": "python3"
  },
  "language_info": {
   "codemirror_mode": {
    "name": "ipython",
    "version": 2
   },
   "file_extension": ".py",
   "mimetype": "text/x-python",
   "name": "python",
   "nbconvert_exporter": "python",
   "pygments_lexer": "ipython2",
   "version": "2.7.6"
  }
 },
 "nbformat": 4,
 "nbformat_minor": 5
}
