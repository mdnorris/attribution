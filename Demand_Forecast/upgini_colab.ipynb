{
  "cells": [
    {
      "cell_type": "markdown",
      "metadata": {
        "id": "view-in-github",
        "colab_type": "text"
      },
      "source": [
        "<a href=\"https://colab.research.google.com/github/advantage-mercury/mercury-ds/blob/main/upgini_test.ipynb\" target=\"_parent\"><img src=\"https://colab.research.google.com/assets/colab-badge.svg\" alt=\"Open In Colab\"/></a>"
      ]
    },
    {
      "cell_type": "markdown",
      "source": [
        "I was finally able to access their free API by connecting to their website through my Mac Mini (I don't know why that worked), but after struggling with the code for a long time and\n",
        "getting inconsistent messages, I pinged search.upgini.com, their repository for all their keyed data, and it came back 404. I will try again in the future. Their repo and\n",
        "documentation have not been updated in a while as well."
      ],
      "metadata": {
        "collapsed": false,
        "id": "57f33f1e649b91af"
      },
      "id": "57f33f1e649b91af"
    },
    {
      "cell_type": "code",
      "source": [
        "%pip install -Uq upgini catboost\n",
        "%pip install -Uq scikit-learn\n",
        "%pip install -Uq xgboost"
      ],
      "metadata": {
        "id": "fX9ZASZzGtPg"
      },
      "id": "fX9ZASZzGtPg",
      "execution_count": 1,
      "outputs": []
    },
    {
      "cell_type": "code",
      "execution_count": 2,
      "outputs": [],
      "source": [
        "import pandas as pd\n",
        "import socket\n",
        "import requests\n",
        "from upgini import FeaturesEnricher, SearchKey\n",
        "from upgini.metadata import CVType\n",
        "from upgini import SearchKey\n",
        "from upgini.ads import upload_user_ads"
      ],
      "metadata": {
        "id": "abd7b91d766c4267"
      },
      "id": "abd7b91d766c4267"
    },
    {
      "cell_type": "code",
      "execution_count": 3,
      "outputs": [],
      "source": [
        "df = pd.read_csv('/content/sample_data/Sales_Product_Price_by_Store.csv')"
      ],
      "metadata": {
        "id": "a196ccd970317ace"
      },
      "id": "a196ccd970317ace"
    },
    {
      "cell_type": "code",
      "execution_count": 4,
      "outputs": [
        {
          "output_type": "execute_result",
          "data": {
            "text/plain": [
              "  Store Product       Date  Is_Holiday  Base Price  Price  Weekly_Units_Sold\n",
              "0     1       1 2010-02-05       False        9.99   7.99                245\n",
              "1     7       2 2010-02-05       False        5.99   5.99                141\n",
              "2     3       3 2010-02-05       False       19.99  19.99                 31\n",
              "3     3       2 2010-02-05       False        5.99   5.99                117\n",
              "4     8       3 2010-02-05       False       19.99  19.99                 70"
            ],
            "text/html": [
              "\n",
              "\n",
              "  <div id=\"df-cb81e013-ef45-491a-a5ff-9bd95715d3b1\">\n",
              "    <div class=\"colab-df-container\">\n",
              "      <div>\n",
              "<style scoped>\n",
              "    .dataframe tbody tr th:only-of-type {\n",
              "        vertical-align: middle;\n",
              "    }\n",
              "\n",
              "    .dataframe tbody tr th {\n",
              "        vertical-align: top;\n",
              "    }\n",
              "\n",
              "    .dataframe thead th {\n",
              "        text-align: right;\n",
              "    }\n",
              "</style>\n",
              "<table border=\"1\" class=\"dataframe\">\n",
              "  <thead>\n",
              "    <tr style=\"text-align: right;\">\n",
              "      <th></th>\n",
              "      <th>Store</th>\n",
              "      <th>Product</th>\n",
              "      <th>Date</th>\n",
              "      <th>Is_Holiday</th>\n",
              "      <th>Base Price</th>\n",
              "      <th>Price</th>\n",
              "      <th>Weekly_Units_Sold</th>\n",
              "    </tr>\n",
              "  </thead>\n",
              "  <tbody>\n",
              "    <tr>\n",
              "      <th>0</th>\n",
              "      <td>1</td>\n",
              "      <td>1</td>\n",
              "      <td>2010-02-05</td>\n",
              "      <td>False</td>\n",
              "      <td>9.99</td>\n",
              "      <td>7.99</td>\n",
              "      <td>245</td>\n",
              "    </tr>\n",
              "    <tr>\n",
              "      <th>1</th>\n",
              "      <td>7</td>\n",
              "      <td>2</td>\n",
              "      <td>2010-02-05</td>\n",
              "      <td>False</td>\n",
              "      <td>5.99</td>\n",
              "      <td>5.99</td>\n",
              "      <td>141</td>\n",
              "    </tr>\n",
              "    <tr>\n",
              "      <th>2</th>\n",
              "      <td>3</td>\n",
              "      <td>3</td>\n",
              "      <td>2010-02-05</td>\n",
              "      <td>False</td>\n",
              "      <td>19.99</td>\n",
              "      <td>19.99</td>\n",
              "      <td>31</td>\n",
              "    </tr>\n",
              "    <tr>\n",
              "      <th>3</th>\n",
              "      <td>3</td>\n",
              "      <td>2</td>\n",
              "      <td>2010-02-05</td>\n",
              "      <td>False</td>\n",
              "      <td>5.99</td>\n",
              "      <td>5.99</td>\n",
              "      <td>117</td>\n",
              "    </tr>\n",
              "    <tr>\n",
              "      <th>4</th>\n",
              "      <td>8</td>\n",
              "      <td>3</td>\n",
              "      <td>2010-02-05</td>\n",
              "      <td>False</td>\n",
              "      <td>19.99</td>\n",
              "      <td>19.99</td>\n",
              "      <td>70</td>\n",
              "    </tr>\n",
              "  </tbody>\n",
              "</table>\n",
              "</div>\n",
              "      <button class=\"colab-df-convert\" onclick=\"convertToInteractive('df-cb81e013-ef45-491a-a5ff-9bd95715d3b1')\"\n",
              "              title=\"Convert this dataframe to an interactive table.\"\n",
              "              style=\"display:none;\">\n",
              "\n",
              "  <svg xmlns=\"http://www.w3.org/2000/svg\" height=\"24px\"viewBox=\"0 0 24 24\"\n",
              "       width=\"24px\">\n",
              "    <path d=\"M0 0h24v24H0V0z\" fill=\"none\"/>\n",
              "    <path d=\"M18.56 5.44l.94 2.06.94-2.06 2.06-.94-2.06-.94-.94-2.06-.94 2.06-2.06.94zm-11 1L8.5 8.5l.94-2.06 2.06-.94-2.06-.94L8.5 2.5l-.94 2.06-2.06.94zm10 10l.94 2.06.94-2.06 2.06-.94-2.06-.94-.94-2.06-.94 2.06-2.06.94z\"/><path d=\"M17.41 7.96l-1.37-1.37c-.4-.4-.92-.59-1.43-.59-.52 0-1.04.2-1.43.59L10.3 9.45l-7.72 7.72c-.78.78-.78 2.05 0 2.83L4 21.41c.39.39.9.59 1.41.59.51 0 1.02-.2 1.41-.59l7.78-7.78 2.81-2.81c.8-.78.8-2.07 0-2.86zM5.41 20L4 18.59l7.72-7.72 1.47 1.35L5.41 20z\"/>\n",
              "  </svg>\n",
              "      </button>\n",
              "\n",
              "\n",
              "\n",
              "    <div id=\"df-b5689e34-169c-4e2d-89f2-501b41b44057\">\n",
              "      <button class=\"colab-df-quickchart\" onclick=\"quickchart('df-b5689e34-169c-4e2d-89f2-501b41b44057')\"\n",
              "              title=\"Suggest charts.\"\n",
              "              style=\"display:none;\">\n",
              "\n",
              "<svg xmlns=\"http://www.w3.org/2000/svg\" height=\"24px\"viewBox=\"0 0 24 24\"\n",
              "     width=\"24px\">\n",
              "    <g>\n",
              "        <path d=\"M19 3H5c-1.1 0-2 .9-2 2v14c0 1.1.9 2 2 2h14c1.1 0 2-.9 2-2V5c0-1.1-.9-2-2-2zM9 17H7v-7h2v7zm4 0h-2V7h2v10zm4 0h-2v-4h2v4z\"/>\n",
              "    </g>\n",
              "</svg>\n",
              "      </button>\n",
              "    </div>\n",
              "\n",
              "<style>\n",
              "  .colab-df-quickchart {\n",
              "    background-color: #E8F0FE;\n",
              "    border: none;\n",
              "    border-radius: 50%;\n",
              "    cursor: pointer;\n",
              "    display: none;\n",
              "    fill: #1967D2;\n",
              "    height: 32px;\n",
              "    padding: 0 0 0 0;\n",
              "    width: 32px;\n",
              "  }\n",
              "\n",
              "  .colab-df-quickchart:hover {\n",
              "    background-color: #E2EBFA;\n",
              "    box-shadow: 0px 1px 2px rgba(60, 64, 67, 0.3), 0px 1px 3px 1px rgba(60, 64, 67, 0.15);\n",
              "    fill: #174EA6;\n",
              "  }\n",
              "\n",
              "  [theme=dark] .colab-df-quickchart {\n",
              "    background-color: #3B4455;\n",
              "    fill: #D2E3FC;\n",
              "  }\n",
              "\n",
              "  [theme=dark] .colab-df-quickchart:hover {\n",
              "    background-color: #434B5C;\n",
              "    box-shadow: 0px 1px 3px 1px rgba(0, 0, 0, 0.15);\n",
              "    filter: drop-shadow(0px 1px 2px rgba(0, 0, 0, 0.3));\n",
              "    fill: #FFFFFF;\n",
              "  }\n",
              "</style>\n",
              "\n",
              "    <script>\n",
              "      async function quickchart(key) {\n",
              "        const containerElement = document.querySelector('#' + key);\n",
              "        const charts = await google.colab.kernel.invokeFunction(\n",
              "            'suggestCharts', [key], {});\n",
              "      }\n",
              "    </script>\n",
              "\n",
              "      <script>\n",
              "\n",
              "function displayQuickchartButton(domScope) {\n",
              "  let quickchartButtonEl =\n",
              "    domScope.querySelector('#df-b5689e34-169c-4e2d-89f2-501b41b44057 button.colab-df-quickchart');\n",
              "  quickchartButtonEl.style.display =\n",
              "    google.colab.kernel.accessAllowed ? 'block' : 'none';\n",
              "}\n",
              "\n",
              "        displayQuickchartButton(document);\n",
              "      </script>\n",
              "      <style>\n",
              "    .colab-df-container {\n",
              "      display:flex;\n",
              "      flex-wrap:wrap;\n",
              "      gap: 12px;\n",
              "    }\n",
              "\n",
              "    .colab-df-convert {\n",
              "      background-color: #E8F0FE;\n",
              "      border: none;\n",
              "      border-radius: 50%;\n",
              "      cursor: pointer;\n",
              "      display: none;\n",
              "      fill: #1967D2;\n",
              "      height: 32px;\n",
              "      padding: 0 0 0 0;\n",
              "      width: 32px;\n",
              "    }\n",
              "\n",
              "    .colab-df-convert:hover {\n",
              "      background-color: #E2EBFA;\n",
              "      box-shadow: 0px 1px 2px rgba(60, 64, 67, 0.3), 0px 1px 3px 1px rgba(60, 64, 67, 0.15);\n",
              "      fill: #174EA6;\n",
              "    }\n",
              "\n",
              "    [theme=dark] .colab-df-convert {\n",
              "      background-color: #3B4455;\n",
              "      fill: #D2E3FC;\n",
              "    }\n",
              "\n",
              "    [theme=dark] .colab-df-convert:hover {\n",
              "      background-color: #434B5C;\n",
              "      box-shadow: 0px 1px 3px 1px rgba(0, 0, 0, 0.15);\n",
              "      filter: drop-shadow(0px 1px 2px rgba(0, 0, 0, 0.3));\n",
              "      fill: #FFFFFF;\n",
              "    }\n",
              "  </style>\n",
              "\n",
              "      <script>\n",
              "        const buttonEl =\n",
              "          document.querySelector('#df-cb81e013-ef45-491a-a5ff-9bd95715d3b1 button.colab-df-convert');\n",
              "        buttonEl.style.display =\n",
              "          google.colab.kernel.accessAllowed ? 'block' : 'none';\n",
              "\n",
              "        async function convertToInteractive(key) {\n",
              "          const element = document.querySelector('#df-cb81e013-ef45-491a-a5ff-9bd95715d3b1');\n",
              "          const dataTable =\n",
              "            await google.colab.kernel.invokeFunction('convertToInteractive',\n",
              "                                                     [key], {});\n",
              "          if (!dataTable) return;\n",
              "\n",
              "          const docLinkHtml = 'Like what you see? Visit the ' +\n",
              "            '<a target=\"_blank\" href=https://colab.research.google.com/notebooks/data_table.ipynb>data table notebook</a>'\n",
              "            + ' to learn more about interactive tables.';\n",
              "          element.innerHTML = '';\n",
              "          dataTable['output_type'] = 'display_data';\n",
              "          await google.colab.output.renderOutput(dataTable, element);\n",
              "          const docLink = document.createElement('div');\n",
              "          docLink.innerHTML = docLinkHtml;\n",
              "          element.appendChild(docLink);\n",
              "        }\n",
              "      </script>\n",
              "    </div>\n",
              "  </div>\n"
            ]
          },
          "metadata": {},
          "execution_count": 4
        }
      ],
      "source": [
        "df[\"Store\"] = df[\"Store\"].astype(str)\n",
        "df[\"Product\"] = df[\"Product\"].astype(str)\n",
        "\n",
        "# Convert date column to datetime pandas object\n",
        "df[\"Date\"] = pd.to_datetime(df[\"Date\"])\n",
        "\n",
        "df.sort_values(\"Date\", inplace=True)\n",
        "df.reset_index(inplace=True, drop=True)\n",
        "df.head()"
      ],
      "metadata": {
        "colab": {
          "base_uri": "https://localhost:8080/",
          "height": 206
        },
        "id": "initial_id",
        "outputId": "7de8d746-28e5-492d-da74-e7216c00fae8"
      },
      "id": "initial_id"
    },
    {
      "cell_type": "code",
      "execution_count": 5,
      "outputs": [],
      "source": [
        "X = df[df[\"Date\"] < \"2011-01-01\"]\n",
        "y = df[df[\"Date\"] >= \"2012-10-26\"]"
      ],
      "metadata": {
        "id": "962ac63bfcb9236b"
      },
      "id": "962ac63bfcb9236b"
    },
    {
      "cell_type": "code",
      "execution_count": 6,
      "outputs": [],
      "source": [
        "from upgini import FeaturesEnricher, SearchKey\n",
        "\n",
        "enricher = FeaturesEnricher(\n",
        " search_keys = {\n",
        "   \"Date\":SearchKey.DATE,\n",
        "    # \"key_datetime\": SearchKey.DATETIME,\n",
        "    # \"key_phone\": SearchKey.PHONE,\n",
        "    # \"key_email\": SearchKey.EMAIL,\n",
        "    # \"key_hashed_email\": SearchKey.HEM,\n",
        "    # \"key_ip_address\": SearchKey.IP\n",
        " },\n",
        "#   keep_input = True,\n",
        "#  api_key = \"hSux-OfcWglRfQUetAPbfCFrqcqLxj4iAq31DgZfoLY\"\n",
        ")"
      ],
      "metadata": {
        "id": "3241b55ed929e29b"
      },
      "id": "3241b55ed929e29b"
    },
    {
      "cell_type": "code",
      "execution_count": 7,
      "outputs": [
        {
          "output_type": "display_data",
          "data": {
            "text/plain": [
              "<IPython.core.display.Javascript object>"
            ],
            "application/javascript": [
              "\n",
              "                        window.visitorId = import('https://openfpcdn.io/fingerprintjs/v3')\n",
              "                            .then(FingerprintJS => FingerprintJS.load())\n",
              "                            .then(fp => fp.get())\n",
              "                            .then(result => result.visitorId);\n",
              "                    "
            ]
          },
          "metadata": {}
        },
        {
          "output_type": "display_data",
          "data": {
            "text/plain": [
              "<IPython.core.display.Javascript object>"
            ],
            "application/javascript": [
              "\n",
              "                        window.clientIP = fetch(\"https://api.ipify.org\")\n",
              "                            .then(response => response.text())\n",
              "                            .then(data => data);\n",
              "                    "
            ]
          },
          "metadata": {}
        },
        {
          "output_type": "stream",
          "name": "stdout",
          "text": [
            "\n",
            "WARNING: Search started with DATE search key only\n",
            "Try to add other keys like the COUNTRY, POSTAL_CODE, PHONE NUMBER, EMAIL/HEM, IPv4 to your training dataset\n",
            "for search through all the available data sources.\n",
            "See docs https://github.com/upgini/upgini#-total-239-countries-and-up-to-41-years-of-history\n",
            "Detected task type: ModelTaskType.REGRESSION\n",
            "\n"
          ]
        },
        {
          "output_type": "display_data",
          "data": {
            "text/plain": [
              "<IPython.core.display.HTML object>"
            ],
            "text/html": [
              "<table><tr><th style='font-weight:bold'>Column name</th><th style='font-weight:bold'>Status</th><th style='font-weight:bold'>Errors</th></tr><tr><td>Date</td><td style='background-color:#DAF7A6;color:black'>All valid</td><td>-</td></tr><tr><td>target</td><td style='background-color:#DAF7A6;color:black'>All valid</td><td>-</td></tr></table>"
            ]
          },
          "metadata": {}
        },
        {
          "output_type": "stream",
          "name": "stdout",
          "text": [
            "\n",
            "Running search request, search_id=bed18b89-161e-43a9-a07a-f4fbf565b498\n",
            "We'll send email notification once it's completed, just use your personal api_key from profile.upgini.com\n",
            "\n",
            "\u001b[92m\u001b[1m\n",
            "45 relevant feature(s) found with the search keys: ['Date']\u001b[0m\n"
          ]
        },
        {
          "output_type": "display_data",
          "data": {
            "text/plain": [
              "<IPython.core.display.HTML object>"
            ],
            "text/html": [
              "<style>\n",
              "            .upgini-df thead th {\n",
              "                font-weight:bold;\n",
              "                text-align: center;\n",
              "                padding: 0.5em;\n",
              "            }\n",
              "\n",
              "            .upgini-df tbody td {\n",
              "                padding: 0.5em;\n",
              "            }\n",
              "\n",
              "            .upgini-text {\n",
              "                text-align: left;\n",
              "            }\n",
              "\n",
              "            .upgini-number {\n",
              "                text-align: center;\n",
              "            }\n",
              "        </style>\n",
              "        <h2>Relevant features</h2>\n",
              "        <div style=\"display:flex; flex-direction:column; align-items:flex-end; width: fit-content;\">\n",
              "            <div style=\"text-align: right\">\n",
              "                <button onclick=navigator.clipboard.writeText(decodeURI('Feature%20name%09SHAP%20value%09Coverage%20%25%09Value%20preview%09Provider%09Source%09Feature%20type%0Af_events_date_year_cos7_9580852c%090.0193%09100.0%09-0.8977,%200.9088,%20-0.2297%09Upgini%09Calendar%20data%09Free%0Af_weather_date_weather_umap_10_6b2de688%090.0146%09100.0%095.1634,%205.496,%205.2188%09Upgini%09Weather%20%26%20climate%20normals%20data%09Premium%0Af_weather_date_weather_umap_4_0c0d6662%090.0143%09100.0%093.8514,%203.8514,%204.3758%09Upgini%09Weather%20%26%20climate%20normals%20data%09Premium%0Af_events_date_year_sin3_e4c1ec0e%090.0138%09100.0%09-0.9997,%20-0.622,%20-0.9176%09Upgini%09Calendar%20data%09Free%0Af_weather_date_weather_pca_1_9e4af931%090.0117%09100.0%0919.7702,%20-4.3547,%20-1.4661%09Upgini%09Weather%20%26%20climate%20normals%20data%09Premium%0Af_weather_date_weather_umap_11_c0a11c2b%090.0105%09100.0%093.8956,%205.2168,%204.5078%09Upgini%09Weather%20%26%20climate%20normals%20data%09Premium%0Af_weather_date_weather_umap_1_68679173%090.0057%09100.0%098.3491,%204.8604,%207.3761%09Upgini%09Weather%20%26%20climate%20normals%20data%09Premium%0Af_weather_date_weather_umap_6_8de4f955%090.0049%09100.0%0911.8544,%203.201,%206.8514%09Upgini%09Weather%20%26%20climate%20normals%20data%09Premium%0Af_events_date_year_cos1_9014a856%090.0047%09100.0%09-0.49,%20-0.1284,%200.5416%09Upgini%09Calendar%20data%09Free%0Af_weather_date_weather_umap_21_1e3366b6%090.0046%09100.0%094.962,%205.0477,%204.9931%09Upgini%09Weather%20%26%20climate%20normals%20data%09Premium%0Af_events_date_year_sin2_59955ffd%090.0038%09100.0%09-0.622,%200.4775,%20-0.4775%09Upgini%09Calendar%20data%09Free%0Af_economic_date_cci_pca_1_b2db99f5%090.0037%09100.0%092.091,%209.4606,%204.1888%09Upgini%09World%20economic%20indicators%09Free%0Af_weather_date_weather_umap_18_9db1637a%090.003%09100.0%095.8165,%205.5034,%204.6097%09Upgini%09Weather%20%26%20climate%20normals%20data%09Premium%0Af_weather_date_weather_pca_4_20123643%090.003%09100.0%09-2.0349,%201.0447,%20-1.9968%09Upgini%09Weather%20%26%20climate%20normals%20data%09Premium%0Af_weather_date_weather_umap_30_898d12c4%090.0029%09100.0%094.5868,%204.7357,%204.9859%09Upgini%09Weather%20%26%20climate%20normals%20data%09Premium%0Af_financial_date_silver_7d_to_1y_0ccfe462%090.0025%09100.0%091.0452,%200.9808,%201.2566%09Upgini%09Markets%20data%09Free%0Af_economic_date_cpi_pca_0_af5ec5cf%090.0022%09100.0%09-5.7577,%20-3.0478,%20-13.8202%09Upgini%09World%20economic%20indicators%09Free%0Af_weather_date_weather_pca_2_ecef8c63%090.0022%09100.0%09-1.4155,%207.3505,%20-2.2118%09Upgini%09Weather%20%26%20climate%20normals%20data%09Premium%0Af_financial_date_gold_7d_to_1y_ae310379%090.0022%09100.0%091.0814,%201.0888,%201.1011%09Upgini%09Markets%20data%09Free%0Af_weather_date_weather_umap_45_d474bf8d%090.0019%09100.0%095.678,%205.0623,%204.8981%09Upgini%09Weather%20%26%20climate%20normals%20data%09Premium%0Af_weather_date_weather_pca_0_d7e0a1fc%090.0019%09100.0%09-2.6616,%20-19.2076,%20-28.1953%09Upgini%09Weather%20%26%20climate%20normals%20data%09Premium%0Af_weather_date_weather_umap_33_89bb7578%090.0018%09100.0%094.6627,%204.6497,%204.8247%09Upgini%09Weather%20%26%20climate%20normals%20data%09Premium%0Af_weather_date_weather_umap_9_c6c96834%090.0017%09100.0%094.8069,%204.384,%204.9064%09Upgini%09Weather%20%26%20climate%20normals%20data%09Premium%0Af_financial_date_natural_gas_daydiff_cb20809a%090.0017%09100.0%090.035,%20-0.028,%200.038%09Upgini%09Markets%20data%09Free%0Af_financial_date_crude_oil_1f195998%090.0016%09100.0%0991.51,%2098.31,%2087.7%09Upgini%09Markets%20data%09Free%0Af_weather_date_weather_umap_37_14cab469%090.0016%09100.0%094.9673,%204.3503,%204.4231%09Upgini%09Weather%20%26%20climate%20normals%20data%09Premium%0Af_weather_date_weather_umap_47_5123ef0a%090.0016%09100.0%096.2692,%206.1388,%205.0129%09Upgini%09Weather%20%26%20climate%20normals%20data%09Premium%0Af_events_date_holiday_ramadan_358aad6c%090.0016%09100.0%090,%200,%201%09Upgini%09Calendar%20data%09Free%0Af_economic_date_cpi_umap_9_b7d42666%090.0015%09100.0%09-3.6651,%207.6055,%208.4185%09Upgini%09World%20economic%20indicators%09Free%0Af_financial_date_gold_bf71e733%090.0015%09100.0%091564.9,%201380.0,%201619.4%09Upgini%09Markets%20data%09Free%0Af_weather_date_weather_umap_15_df3bc177%090.0015%09100.0%094.8273,%204.3397,%205.6357%09Upgini%09Weather%20%26%20climate%20normals%20data%09Premium%0Af_economic_date_cpi_umap_1_ba1c4045%090.0015%09100.0%092.9048,%20-0.4378,%2016.8546%09Upgini%09World%20economic%20indicators%09Free%0Af_economic_date_cci_pca_6_aa7c1005%090.0014%09100.0%09-3.5133,%203.4815,%20-3.9396%09Upgini%09World%20economic%20indicators%09Free%0Af_events_date_year_cos3_0570af1d%090.0012%09100.0%090.1074,%200.6119,%200.814%09Upgini%09Calendar%20data%09Free%0Af_economic_date_cci_pca_3_10646e17%090.0012%09100.0%09-0.5333,%20-2.1721,%20-3.9379%09Upgini%09World%20economic%20indicators%09Free%0Af_economic_date_cci_pca_7_17261951%090.0012%09100.0%09-0.7798,%203.8656,%20-0.7798%09Upgini%09World%20economic%20indicators%09Free%0Af_economic_date_cpi_umap_7_20d961e2%090.0011%09100.0%0910.9318,%2013.9401,%208.5891%09Upgini%09World%20economic%20indicators%09Free%0Af_economic_date_cpi_pca_5_e2bcc984%090.001%09100.0%09-2.7251,%20-7.6524,%20-3.1018%09Upgini%09World%20economic%20indicators%09Free%0Af_economic_date_cci_pca_0_4b266261%090.001%09100.0%096.3182,%205.8489,%202.788%09Upgini%09World%20economic%20indicators%09Free%0Af_financial_date_snp500_fdb64447%090.001%09100.0%091157.4399,%201314.99,%201173.8101%09Upgini%09Markets%20data%09Free%0Af_weather_date_weather_umap_14_63480984%090.0009%09100.0%095.6433,%204.8458,%205.5389%09Upgini%09Weather%20%26%20climate%20normals%20data%09Premium%0Af_economic_date_cbpol_umap_7_a80d807e%090.0008%09100.0%09-0.4176,%200.2444,%206.8002%09Upgini%09World%20economic%20indicators%09Free%0Af_economic_date_cbpol_pca_2_33d6e3fc%090.0008%09100.0%09-0.5435,%200.7903,%200.7903%09Upgini%09World%20economic%20indicators%09Free%0Af_economic_date_cbpol_pca_1_31e5f62c%090.0008%09100.0%092.2337,%202.5473,%20-2.0981%09Upgini%09World%20economic%20indicators%09Free%0Af_events_date_year_sin5_458f51f9%090.0008%09100.0%090.8359,%200.4471,%200.4938%09Upgini%09Calendar%20data%09Free%0A'))>📂 Copy</button>\n",
              "                <a href='mailto:<Share with...>?subject=Relevant external data sources from Upgini.com&body=Feature%20name%09SHAP%20value%09Coverage%20%25%09Value%20preview%09Provider%09Source%09Feature%20type%0Af_events_date_year_cos7_9580852c%090.0193%09100.0%09-0.8977,%200.9088,%20-0.2297%09Upgini%09Calendar%20data%09Free%0Af_weather_date_weather_umap_10_6b2de688%090.0146%09100.0%095.1634,%205.496,%205.2188%09Upgini%09Weather%20%26%20climate%20normals%20data%09Premium%0Af_weather_date_weather_umap_4_0c0d6662%090.0143%09100.0%093.8514,%203.8514,%204.3758%09Upgini%09Weather%20%26%20climate%20normals%20data%09Premium%0Af_events_date_year_sin3_e4c1ec0e%090.0138%09100.0%09-0.9997,%20-0.622,%20-0.9176%09Upgini%09Calendar%20data%09Free%0Af_weather_date_weather_pca_1_9e4af931%090.0117%09100.0%0919.7702,%20-4.3547,%20-1.4661%09Upgini%09Weather%20%26%20climate%20normals%20data%09Premium%0Af_weather_date_weather_umap_11_c0a11c2b%090.0105%09100.0%093.8956,%205.2168,%204.5078%09Upgini%09Weather%20%26%20climate%20normals%20data%09Premium%0Af_weather_date_weather_umap_1_68679173%090.0057%09100.0%098.3491,%204.8604,%207.3761%09Upgini%09Weather%20%26%20climate%20normals%20data%09Premium%0Af_weather_date_weather_umap_6_8de4f955%090.0049%09100.0%0911.8544,%203.201,%206.8514%09Upgini%09Weather%20%26%20climate%20normals%20data%09Premium%0Af_events_date_year_cos1_9014a856%090.0047%09100.0%09-0.49,%20-0.1284,%200.5416%09Upgini%09Calendar%20data%09Free%0Af_weather_date_weather_umap_21_1e3366b6%090.0046%09100.0%094.962,%205.0477,%204.9931%09Upgini%09Weather%20%26%20climate%20normals%20data%09Premium%0Af_events_date_year_sin2_59955ffd%090.0038%09100.0%09-0.622,%200.4775,%20-0.4775%09Upgini%09Calendar%20data%09Free%0Af_economic_date_cci_pca_1_b2db99f5%090.0037%09100.0%092.091,%209.4606,%204.1888%09Upgini%09World%20economic%20indicators%09Free%0Af_weather_date_weather_umap_18_9db1637a%090.003%09100.0%095.8165,%205.5034,%204.6097%09Upgini%09Weather%20%26%20climate%20normals%20data%09Premium%0Af_weather_date_weather_pca_4_20123643%090.003%09100.0%09-2.0349,%201.0447,%20-1.9968%09Upgini%09Weather%20%26%20climate%20normals%20data%09Premium%0Af_weather_date_weather_umap_30_898d12c4%090.0029%09100.0%094.5868,%204.7357,%204.9859%09Upgini%09Weather%20%26%20climate%20normals%20data%09Premium%0Af_financial_date_silver_7d_to_1y_0ccfe462%090.0025%09100.0%091.0452,%200.9808,%201.2566%09Upgini%09Markets%20data%09Free%0Af_economic_date_cpi_pca_0_af5ec5cf%090.0022%09100.0%09-5.7577,%20-3.0478,%20-13.8202%09Upgini%09World%20economic%20indicators%09Free%0Af_weather_date_weather_pca_2_ecef8c63%090.0022%09100.0%09-1.4155,%207.3505,%20-2.2118%09Upgini%09Weather%20%26%20climate%20normals%20data%09Premium%0Af_financial_date_gold_7d_to_1y_ae310379%090.0022%09100.0%091.0814,%201.0888,%201.1011%09Upgini%09Markets%20data%09Free%0Af_weather_date_weather_umap_45_d474bf8d%090.0019%09100.0%095.678,%205.0623,%204.8981%09Upgini%09Weather%20%26%20climate%20normals%20data%09Premium%0Af_weather_date_weather_pca_0_d7e0a1fc%090.0019%09100.0%09-2.6616,%20-19.2076,%20-28.1953%09Upgini%09Weather%20%26%20climate%20normals%20data%09Premium%0Af_weather_date_weather_umap_33_89bb7578%090.0018%09100.0%094.6627,%204.6497,%204.8247%09Upgini%09Weather%20%26%20climate%20normals%20data%09Premium%0Af_weather_date_weather_umap_9_c6c96834%090.0017%09100.0%094.8069,%204.384,%204.9064%09Upgini%09Weather%20%26%20climate%20normals%20data%09Premium%0Af_financial_date_natural_gas_daydiff_cb20809a%090.0017%09100.0%090.035,%20-0.028,%200.038%09Upgini%09Markets%20data%09Free%0Af_financial_date_crude_oil_1f195998%090.0016%09100.0%0991.51,%2098.31,%2087.7%09Upgini%09Markets%20data%09Free%0Af_weather_date_weather_umap_37_14cab469%090.0016%09100.0%094.9673,%204.3503,%204.4231%09Upgini%09Weather%20%26%20climate%20normals%20data%09Premium%0Af_weather_date_weather_umap_47_5123ef0a%090.0016%09100.0%096.2692,%206.1388,%205.0129%09Upgini%09Weather%20%26%20climate%20normals%20data%09Premium%0Af_events_date_holiday_ramadan_358aad6c%090.0016%09100.0%090,%200,%201%09Upgini%09Calendar%20data%09Free%0Af_economic_date_cpi_umap_9_b7d42666%090.0015%09100.0%09-3.6651,%207.6055,%208.4185%09Upgini%09World%20economic%20indicators%09Free%0Af_financial_date_gold_bf71e733%090.0015%09100.0%091564.9,%201380.0,%201619.4%09Upgini%09Markets%20data%09Free%0Af_weather_date_weather_umap_15_df3bc177%090.0015%09100.0%094.8273,%204.3397,%205.6357%09Upgini%09Weather%20%26%20climate%20normals%20data%09Premium%0Af_economic_date_cpi_umap_1_ba1c4045%090.0015%09100.0%092.9048,%20-0.4378,%2016.8546%09Upgini%09World%20economic%20indicators%09Free%0Af_economic_date_cci_pca_6_aa7c1005%090.0014%09100.0%09-3.5133,%203.4815,%20-3.9396%09Upgini%09World%20economic%20indicators%09Free%0Af_events_date_year_cos3_0570af1d%090.0012%09100.0%090.1074,%200.6119,%200.814%09Upgini%09Calendar%20data%09Free%0Af_economic_date_cci_pca_3_10646e17%090.0012%09100.0%09-0.5333,%20-2.1721,%20-3.9379%09Upgini%09World%20economic%20indicators%09Free%0Af_economic_date_cci_pca_7_17261951%090.0012%09100.0%09-0.7798,%203.8656,%20-0.7798%09Upgini%09World%20economic%20indicators%09Free%0Af_economic_date_cpi_umap_7_20d961e2%090.0011%09100.0%0910.9318,%2013.9401,%208.5891%09Upgini%09World%20economic%20indicators%09Free%0Af_economic_date_cpi_pca_5_e2bcc984%090.001%09100.0%09-2.7251,%20-7.6524,%20-3.1018%09Upgini%09World%20economic%20indicators%09Free%0Af_economic_date_cci_pca_0_4b266261%090.001%09100.0%096.3182,%205.8489,%202.788%09Upgini%09World%20economic%20indicators%09Free%0Af_financial_date_snp500_fdb64447%090.001%09100.0%091157.4399,%201314.99,%201173.8101%09Upgini%09Markets%20data%09Free%0Af_weather_date_weather_umap_14_63480984%090.0009%09100.0%095.6433,%204.8458,%205.5389%09Upgini%09Weather%20%26%20climate%20normals%20data%09Premium%0Af_economic_date_cbpol_umap_7_a80d807e%090.0008%09100.0%09-0.4176,%200.2444,%206.8002%09Upgini%09World%20economic%20indicators%09Free%0Af_economic_date_cbpol_pca_2_33d6e3fc%090.0008%09100.0%09-0.5435,%200.7903,%200.7903%09Upgini%09World%20economic%20indicators%09Free%0Af_economic_date_cbpol_pca_1_31e5f62c%090.0008%09100.0%092.2337,%202.5473,%20-2.0981%09Upgini%09World%20economic%20indicators%09Free%0Af_events_date_year_sin5_458f51f9%090.0008%09100.0%090.8359,%200.4471,%200.4938%09Upgini%09Calendar%20data%09Free%0A'>\n",
              "                    <button>📨 Share</button>\n",
              "                </a>\n",
              "            </div>\n",
              "            <table class='upgini-df'><thead><th>Feature name</th><th>SHAP value</th><th>Coverage %</th><th>Value preview</th><th>Provider</th><th>Source</th><th>Feature type</th></thead><tbody><tr><td class='upgini-text'><a href='https://docs.upgini.com/public/calendar/calendar#f_events_date_year_cos7_9580852c' target='_blank' rel='noopener noreferrer'>f_events_date_year_cos7_9580852c</a></td><td class='upgini-number'>0.0193</td><td class='upgini-number'>100.0000</td><td class='upgini-text'>-0.8977, 0.9088, -0.2297</td><td class='upgini-text'><a href='https://upgini.com' target='_blank' rel='noopener noreferrer'>Upgini</a></td><td class='upgini-text'><a href='https://upgini.com/#data_sources' target='_blank' rel='noopener noreferrer'>Calendar data</a></td><td class='upgini-text'>Free</td></tr><tr><td class='upgini-text'><a href='https://docs.upgini.com/public/weather/weather_umap#f_weather_date_weather_umap_10_6b2de688' target='_blank' rel='noopener noreferrer'>f_weather_date_weather_umap_10_6b2de688</a></td><td class='upgini-number'>0.0146</td><td class='upgini-number'>100.0000</td><td class='upgini-text'>5.1634, 5.496, 5.2188</td><td class='upgini-text'><a href='https://upgini.com' target='_blank' rel='noopener noreferrer'>Upgini</a></td><td class='upgini-text'><a href='https://upgini.com/#data_sources' target='_blank' rel='noopener noreferrer'>Weather & climate normals data</a></td><td class='upgini-text'>Premium</td></tr><tr><td class='upgini-text'><a href='https://docs.upgini.com/public/weather/weather_umap#f_weather_date_weather_umap_4_0c0d6662' target='_blank' rel='noopener noreferrer'>f_weather_date_weather_umap_4_0c0d6662</a></td><td class='upgini-number'>0.0143</td><td class='upgini-number'>100.0000</td><td class='upgini-text'>3.8514, 3.8514, 4.3758</td><td class='upgini-text'><a href='https://upgini.com' target='_blank' rel='noopener noreferrer'>Upgini</a></td><td class='upgini-text'><a href='https://upgini.com/#data_sources' target='_blank' rel='noopener noreferrer'>Weather & climate normals data</a></td><td class='upgini-text'>Premium</td></tr><tr><td class='upgini-text'><a href='https://docs.upgini.com/public/calendar/calendar#f_events_date_year_sin3_e4c1ec0e' target='_blank' rel='noopener noreferrer'>f_events_date_year_sin3_e4c1ec0e</a></td><td class='upgini-number'>0.0138</td><td class='upgini-number'>100.0000</td><td class='upgini-text'>-0.9997, -0.622, -0.9176</td><td class='upgini-text'><a href='https://upgini.com' target='_blank' rel='noopener noreferrer'>Upgini</a></td><td class='upgini-text'><a href='https://upgini.com/#data_sources' target='_blank' rel='noopener noreferrer'>Calendar data</a></td><td class='upgini-text'>Free</td></tr><tr><td class='upgini-text'><a href='https://docs.upgini.com/public/weather/weather_pca#f_weather_date_weather_pca_1_9e4af931' target='_blank' rel='noopener noreferrer'>f_weather_date_weather_pca_1_9e4af931</a></td><td class='upgini-number'>0.0117</td><td class='upgini-number'>100.0000</td><td class='upgini-text'>19.7702, -4.3547, -1.4661</td><td class='upgini-text'><a href='https://upgini.com' target='_blank' rel='noopener noreferrer'>Upgini</a></td><td class='upgini-text'><a href='https://upgini.com/#data_sources' target='_blank' rel='noopener noreferrer'>Weather & climate normals data</a></td><td class='upgini-text'>Premium</td></tr><tr><td class='upgini-text'><a href='https://docs.upgini.com/public/weather/weather_umap#f_weather_date_weather_umap_11_c0a11c2b' target='_blank' rel='noopener noreferrer'>f_weather_date_weather_umap_11_c0a11c2b</a></td><td class='upgini-number'>0.0105</td><td class='upgini-number'>100.0000</td><td class='upgini-text'>3.8956, 5.2168, 4.5078</td><td class='upgini-text'><a href='https://upgini.com' target='_blank' rel='noopener noreferrer'>Upgini</a></td><td class='upgini-text'><a href='https://upgini.com/#data_sources' target='_blank' rel='noopener noreferrer'>Weather & climate normals data</a></td><td class='upgini-text'>Premium</td></tr><tr><td class='upgini-text'><a href='https://docs.upgini.com/public/weather/weather_umap#f_weather_date_weather_umap_1_68679173' target='_blank' rel='noopener noreferrer'>f_weather_date_weather_umap_1_68679173</a></td><td class='upgini-number'>0.0057</td><td class='upgini-number'>100.0000</td><td class='upgini-text'>8.3491, 4.8604, 7.3761</td><td class='upgini-text'><a href='https://upgini.com' target='_blank' rel='noopener noreferrer'>Upgini</a></td><td class='upgini-text'><a href='https://upgini.com/#data_sources' target='_blank' rel='noopener noreferrer'>Weather & climate normals data</a></td><td class='upgini-text'>Premium</td></tr><tr><td class='upgini-text'><a href='https://docs.upgini.com/public/weather/weather_umap#f_weather_date_weather_umap_6_8de4f955' target='_blank' rel='noopener noreferrer'>f_weather_date_weather_umap_6_8de4f955</a></td><td class='upgini-number'>0.0049</td><td class='upgini-number'>100.0000</td><td class='upgini-text'>11.8544, 3.201, 6.8514</td><td class='upgini-text'><a href='https://upgini.com' target='_blank' rel='noopener noreferrer'>Upgini</a></td><td class='upgini-text'><a href='https://upgini.com/#data_sources' target='_blank' rel='noopener noreferrer'>Weather & climate normals data</a></td><td class='upgini-text'>Premium</td></tr><tr><td class='upgini-text'><a href='https://docs.upgini.com/public/calendar/calendar#f_events_date_year_cos1_9014a856' target='_blank' rel='noopener noreferrer'>f_events_date_year_cos1_9014a856</a></td><td class='upgini-number'>0.0047</td><td class='upgini-number'>100.0000</td><td class='upgini-text'>-0.49, -0.1284, 0.5416</td><td class='upgini-text'><a href='https://upgini.com' target='_blank' rel='noopener noreferrer'>Upgini</a></td><td class='upgini-text'><a href='https://upgini.com/#data_sources' target='_blank' rel='noopener noreferrer'>Calendar data</a></td><td class='upgini-text'>Free</td></tr><tr><td class='upgini-text'><a href='https://docs.upgini.com/public/weather/weather_umap#f_weather_date_weather_umap_21_1e3366b6' target='_blank' rel='noopener noreferrer'>f_weather_date_weather_umap_21_1e3366b6</a></td><td class='upgini-number'>0.0046</td><td class='upgini-number'>100.0000</td><td class='upgini-text'>4.962, 5.0477, 4.9931</td><td class='upgini-text'><a href='https://upgini.com' target='_blank' rel='noopener noreferrer'>Upgini</a></td><td class='upgini-text'><a href='https://upgini.com/#data_sources' target='_blank' rel='noopener noreferrer'>Weather & climate normals data</a></td><td class='upgini-text'>Premium</td></tr><tr><td class='upgini-text'><a href='https://docs.upgini.com/public/calendar/calendar#f_events_date_year_sin2_59955ffd' target='_blank' rel='noopener noreferrer'>f_events_date_year_sin2_59955ffd</a></td><td class='upgini-number'>0.0038</td><td class='upgini-number'>100.0000</td><td class='upgini-text'>-0.622, 0.4775, -0.4775</td><td class='upgini-text'><a href='https://upgini.com' target='_blank' rel='noopener noreferrer'>Upgini</a></td><td class='upgini-text'><a href='https://upgini.com/#data_sources' target='_blank' rel='noopener noreferrer'>Calendar data</a></td><td class='upgini-text'>Free</td></tr><tr><td class='upgini-text'><a href='https://docs.upgini.com/public/economics/cci_pca#f_economic_date_cci_pca_1_b2db99f5' target='_blank' rel='noopener noreferrer'>f_economic_date_cci_pca_1_b2db99f5</a></td><td class='upgini-number'>0.0037</td><td class='upgini-number'>100.0000</td><td class='upgini-text'>2.091, 9.4606, 4.1888</td><td class='upgini-text'><a href='https://upgini.com' target='_blank' rel='noopener noreferrer'>Upgini</a></td><td class='upgini-text'><a href='https://upgini.com/#data_sources' target='_blank' rel='noopener noreferrer'>World economic indicators</a></td><td class='upgini-text'>Free</td></tr><tr><td class='upgini-text'><a href='https://docs.upgini.com/public/weather/weather_umap#f_weather_date_weather_umap_18_9db1637a' target='_blank' rel='noopener noreferrer'>f_weather_date_weather_umap_18_9db1637a</a></td><td class='upgini-number'>0.0030</td><td class='upgini-number'>100.0000</td><td class='upgini-text'>5.8165, 5.5034, 4.6097</td><td class='upgini-text'><a href='https://upgini.com' target='_blank' rel='noopener noreferrer'>Upgini</a></td><td class='upgini-text'><a href='https://upgini.com/#data_sources' target='_blank' rel='noopener noreferrer'>Weather & climate normals data</a></td><td class='upgini-text'>Premium</td></tr><tr><td class='upgini-text'><a href='https://docs.upgini.com/public/weather/weather_pca#f_weather_date_weather_pca_4_20123643' target='_blank' rel='noopener noreferrer'>f_weather_date_weather_pca_4_20123643</a></td><td class='upgini-number'>0.0030</td><td class='upgini-number'>100.0000</td><td class='upgini-text'>-2.0349, 1.0447, -1.9968</td><td class='upgini-text'><a href='https://upgini.com' target='_blank' rel='noopener noreferrer'>Upgini</a></td><td class='upgini-text'><a href='https://upgini.com/#data_sources' target='_blank' rel='noopener noreferrer'>Weather & climate normals data</a></td><td class='upgini-text'>Premium</td></tr><tr><td class='upgini-text'><a href='https://docs.upgini.com/public/weather/weather_umap#f_weather_date_weather_umap_30_898d12c4' target='_blank' rel='noopener noreferrer'>f_weather_date_weather_umap_30_898d12c4</a></td><td class='upgini-number'>0.0029</td><td class='upgini-number'>100.0000</td><td class='upgini-text'>4.5868, 4.7357, 4.9859</td><td class='upgini-text'><a href='https://upgini.com' target='_blank' rel='noopener noreferrer'>Upgini</a></td><td class='upgini-text'><a href='https://upgini.com/#data_sources' target='_blank' rel='noopener noreferrer'>Weather & climate normals data</a></td><td class='upgini-text'>Premium</td></tr><tr><td class='upgini-text'><a href='https://docs.upgini.com/public/markets/finance#f_financial_date_silver_7d_to_1y_0ccfe462' target='_blank' rel='noopener noreferrer'>f_financial_date_silver_7d_to_1y_0ccfe462</a></td><td class='upgini-number'>0.0025</td><td class='upgini-number'>100.0000</td><td class='upgini-text'>1.0452, 0.9808, 1.2566</td><td class='upgini-text'><a href='https://upgini.com' target='_blank' rel='noopener noreferrer'>Upgini</a></td><td class='upgini-text'><a href='https://upgini.com/#data_sources' target='_blank' rel='noopener noreferrer'>Markets data</a></td><td class='upgini-text'>Free</td></tr><tr><td class='upgini-text'><a href='https://docs.upgini.com/public/economics/cpi_pca#f_economic_date_cpi_pca_0_af5ec5cf' target='_blank' rel='noopener noreferrer'>f_economic_date_cpi_pca_0_af5ec5cf</a></td><td class='upgini-number'>0.0022</td><td class='upgini-number'>100.0000</td><td class='upgini-text'>-5.7577, -3.0478, -13.8202</td><td class='upgini-text'><a href='https://upgini.com' target='_blank' rel='noopener noreferrer'>Upgini</a></td><td class='upgini-text'><a href='https://upgini.com/#data_sources' target='_blank' rel='noopener noreferrer'>World economic indicators</a></td><td class='upgini-text'>Free</td></tr><tr><td class='upgini-text'><a href='https://docs.upgini.com/public/weather/weather_pca#f_weather_date_weather_pca_2_ecef8c63' target='_blank' rel='noopener noreferrer'>f_weather_date_weather_pca_2_ecef8c63</a></td><td class='upgini-number'>0.0022</td><td class='upgini-number'>100.0000</td><td class='upgini-text'>-1.4155, 7.3505, -2.2118</td><td class='upgini-text'><a href='https://upgini.com' target='_blank' rel='noopener noreferrer'>Upgini</a></td><td class='upgini-text'><a href='https://upgini.com/#data_sources' target='_blank' rel='noopener noreferrer'>Weather & climate normals data</a></td><td class='upgini-text'>Premium</td></tr><tr><td class='upgini-text'><a href='https://docs.upgini.com/public/markets/finance#f_financial_date_gold_7d_to_1y_ae310379' target='_blank' rel='noopener noreferrer'>f_financial_date_gold_7d_to_1y_ae310379</a></td><td class='upgini-number'>0.0022</td><td class='upgini-number'>100.0000</td><td class='upgini-text'>1.0814, 1.0888, 1.1011</td><td class='upgini-text'><a href='https://upgini.com' target='_blank' rel='noopener noreferrer'>Upgini</a></td><td class='upgini-text'><a href='https://upgini.com/#data_sources' target='_blank' rel='noopener noreferrer'>Markets data</a></td><td class='upgini-text'>Free</td></tr><tr><td class='upgini-text'><a href='https://docs.upgini.com/public/weather/weather_umap#f_weather_date_weather_umap_45_d474bf8d' target='_blank' rel='noopener noreferrer'>f_weather_date_weather_umap_45_d474bf8d</a></td><td class='upgini-number'>0.0019</td><td class='upgini-number'>100.0000</td><td class='upgini-text'>5.678, 5.0623, 4.8981</td><td class='upgini-text'><a href='https://upgini.com' target='_blank' rel='noopener noreferrer'>Upgini</a></td><td class='upgini-text'><a href='https://upgini.com/#data_sources' target='_blank' rel='noopener noreferrer'>Weather & climate normals data</a></td><td class='upgini-text'>Premium</td></tr><tr><td class='upgini-text'><a href='https://docs.upgini.com/public/weather/weather_pca#f_weather_date_weather_pca_0_d7e0a1fc' target='_blank' rel='noopener noreferrer'>f_weather_date_weather_pca_0_d7e0a1fc</a></td><td class='upgini-number'>0.0019</td><td class='upgini-number'>100.0000</td><td class='upgini-text'>-2.6616, -19.2076, -28.1953</td><td class='upgini-text'><a href='https://upgini.com' target='_blank' rel='noopener noreferrer'>Upgini</a></td><td class='upgini-text'><a href='https://upgini.com/#data_sources' target='_blank' rel='noopener noreferrer'>Weather & climate normals data</a></td><td class='upgini-text'>Premium</td></tr><tr><td class='upgini-text'><a href='https://docs.upgini.com/public/weather/weather_umap#f_weather_date_weather_umap_33_89bb7578' target='_blank' rel='noopener noreferrer'>f_weather_date_weather_umap_33_89bb7578</a></td><td class='upgini-number'>0.0018</td><td class='upgini-number'>100.0000</td><td class='upgini-text'>4.6627, 4.6497, 4.8247</td><td class='upgini-text'><a href='https://upgini.com' target='_blank' rel='noopener noreferrer'>Upgini</a></td><td class='upgini-text'><a href='https://upgini.com/#data_sources' target='_blank' rel='noopener noreferrer'>Weather & climate normals data</a></td><td class='upgini-text'>Premium</td></tr><tr><td class='upgini-text'><a href='https://docs.upgini.com/public/weather/weather_umap#f_weather_date_weather_umap_9_c6c96834' target='_blank' rel='noopener noreferrer'>f_weather_date_weather_umap_9_c6c96834</a></td><td class='upgini-number'>0.0017</td><td class='upgini-number'>100.0000</td><td class='upgini-text'>4.8069, 4.384, 4.9064</td><td class='upgini-text'><a href='https://upgini.com' target='_blank' rel='noopener noreferrer'>Upgini</a></td><td class='upgini-text'><a href='https://upgini.com/#data_sources' target='_blank' rel='noopener noreferrer'>Weather & climate normals data</a></td><td class='upgini-text'>Premium</td></tr><tr><td class='upgini-text'><a href='https://docs.upgini.com/public/markets/finance#f_financial_date_natural_gas_daydiff_cb20809a' target='_blank' rel='noopener noreferrer'>f_financial_date_natural_gas_daydiff_cb20809a</a></td><td class='upgini-number'>0.0017</td><td class='upgini-number'>100.0000</td><td class='upgini-text'>0.035, -0.028, 0.038</td><td class='upgini-text'><a href='https://upgini.com' target='_blank' rel='noopener noreferrer'>Upgini</a></td><td class='upgini-text'><a href='https://upgini.com/#data_sources' target='_blank' rel='noopener noreferrer'>Markets data</a></td><td class='upgini-text'>Free</td></tr><tr><td class='upgini-text'><a href='https://docs.upgini.com/public/markets/finance#f_financial_date_crude_oil_1f195998' target='_blank' rel='noopener noreferrer'>f_financial_date_crude_oil_1f195998</a></td><td class='upgini-number'>0.0016</td><td class='upgini-number'>100.0000</td><td class='upgini-text'>91.51, 98.31, 87.7</td><td class='upgini-text'><a href='https://upgini.com' target='_blank' rel='noopener noreferrer'>Upgini</a></td><td class='upgini-text'><a href='https://upgini.com/#data_sources' target='_blank' rel='noopener noreferrer'>Markets data</a></td><td class='upgini-text'>Free</td></tr><tr><td class='upgini-text'><a href='https://docs.upgini.com/public/weather/weather_umap#f_weather_date_weather_umap_37_14cab469' target='_blank' rel='noopener noreferrer'>f_weather_date_weather_umap_37_14cab469</a></td><td class='upgini-number'>0.0016</td><td class='upgini-number'>100.0000</td><td class='upgini-text'>4.9673, 4.3503, 4.4231</td><td class='upgini-text'><a href='https://upgini.com' target='_blank' rel='noopener noreferrer'>Upgini</a></td><td class='upgini-text'><a href='https://upgini.com/#data_sources' target='_blank' rel='noopener noreferrer'>Weather & climate normals data</a></td><td class='upgini-text'>Premium</td></tr><tr><td class='upgini-text'><a href='https://docs.upgini.com/public/weather/weather_umap#f_weather_date_weather_umap_47_5123ef0a' target='_blank' rel='noopener noreferrer'>f_weather_date_weather_umap_47_5123ef0a</a></td><td class='upgini-number'>0.0016</td><td class='upgini-number'>100.0000</td><td class='upgini-text'>6.2692, 6.1388, 5.0129</td><td class='upgini-text'><a href='https://upgini.com' target='_blank' rel='noopener noreferrer'>Upgini</a></td><td class='upgini-text'><a href='https://upgini.com/#data_sources' target='_blank' rel='noopener noreferrer'>Weather & climate normals data</a></td><td class='upgini-text'>Premium</td></tr><tr><td class='upgini-text'><a href='https://docs.upgini.com/public/calendar/calendar#f_events_date_holiday_ramadan_358aad6c' target='_blank' rel='noopener noreferrer'>f_events_date_holiday_ramadan_358aad6c</a></td><td class='upgini-number'>0.0016</td><td class='upgini-number'>100.0000</td><td class='upgini-text'>0, 0, 1</td><td class='upgini-text'><a href='https://upgini.com' target='_blank' rel='noopener noreferrer'>Upgini</a></td><td class='upgini-text'><a href='https://upgini.com/#data_sources' target='_blank' rel='noopener noreferrer'>Calendar data</a></td><td class='upgini-text'>Free</td></tr><tr><td class='upgini-text'><a href='https://docs.upgini.com/public/economics/cpi_umap#f_economic_date_cpi_umap_9_b7d42666' target='_blank' rel='noopener noreferrer'>f_economic_date_cpi_umap_9_b7d42666</a></td><td class='upgini-number'>0.0015</td><td class='upgini-number'>100.0000</td><td class='upgini-text'>-3.6651, 7.6055, 8.4185</td><td class='upgini-text'><a href='https://upgini.com' target='_blank' rel='noopener noreferrer'>Upgini</a></td><td class='upgini-text'><a href='https://upgini.com/#data_sources' target='_blank' rel='noopener noreferrer'>World economic indicators</a></td><td class='upgini-text'>Free</td></tr><tr><td class='upgini-text'><a href='https://docs.upgini.com/public/markets/finance#f_financial_date_gold_bf71e733' target='_blank' rel='noopener noreferrer'>f_financial_date_gold_bf71e733</a></td><td class='upgini-number'>0.0015</td><td class='upgini-number'>100.0000</td><td class='upgini-text'>1564.9, 1380.0, 1619.4</td><td class='upgini-text'><a href='https://upgini.com' target='_blank' rel='noopener noreferrer'>Upgini</a></td><td class='upgini-text'><a href='https://upgini.com/#data_sources' target='_blank' rel='noopener noreferrer'>Markets data</a></td><td class='upgini-text'>Free</td></tr><tr><td class='upgini-text'><a href='https://docs.upgini.com/public/weather/weather_umap#f_weather_date_weather_umap_15_df3bc177' target='_blank' rel='noopener noreferrer'>f_weather_date_weather_umap_15_df3bc177</a></td><td class='upgini-number'>0.0015</td><td class='upgini-number'>100.0000</td><td class='upgini-text'>4.8273, 4.3397, 5.6357</td><td class='upgini-text'><a href='https://upgini.com' target='_blank' rel='noopener noreferrer'>Upgini</a></td><td class='upgini-text'><a href='https://upgini.com/#data_sources' target='_blank' rel='noopener noreferrer'>Weather & climate normals data</a></td><td class='upgini-text'>Premium</td></tr><tr><td class='upgini-text'><a href='https://docs.upgini.com/public/economics/cpi_umap#f_economic_date_cpi_umap_1_ba1c4045' target='_blank' rel='noopener noreferrer'>f_economic_date_cpi_umap_1_ba1c4045</a></td><td class='upgini-number'>0.0015</td><td class='upgini-number'>100.0000</td><td class='upgini-text'>2.9048, -0.4378, 16.8546</td><td class='upgini-text'><a href='https://upgini.com' target='_blank' rel='noopener noreferrer'>Upgini</a></td><td class='upgini-text'><a href='https://upgini.com/#data_sources' target='_blank' rel='noopener noreferrer'>World economic indicators</a></td><td class='upgini-text'>Free</td></tr><tr><td class='upgini-text'><a href='https://docs.upgini.com/public/economics/cci_pca#f_economic_date_cci_pca_6_aa7c1005' target='_blank' rel='noopener noreferrer'>f_economic_date_cci_pca_6_aa7c1005</a></td><td class='upgini-number'>0.0014</td><td class='upgini-number'>100.0000</td><td class='upgini-text'>-3.5133, 3.4815, -3.9396</td><td class='upgini-text'><a href='https://upgini.com' target='_blank' rel='noopener noreferrer'>Upgini</a></td><td class='upgini-text'><a href='https://upgini.com/#data_sources' target='_blank' rel='noopener noreferrer'>World economic indicators</a></td><td class='upgini-text'>Free</td></tr><tr><td class='upgini-text'><a href='https://docs.upgini.com/public/calendar/calendar#f_events_date_year_cos3_0570af1d' target='_blank' rel='noopener noreferrer'>f_events_date_year_cos3_0570af1d</a></td><td class='upgini-number'>0.0012</td><td class='upgini-number'>100.0000</td><td class='upgini-text'>0.1074, 0.6119, 0.814</td><td class='upgini-text'><a href='https://upgini.com' target='_blank' rel='noopener noreferrer'>Upgini</a></td><td class='upgini-text'><a href='https://upgini.com/#data_sources' target='_blank' rel='noopener noreferrer'>Calendar data</a></td><td class='upgini-text'>Free</td></tr><tr><td class='upgini-text'><a href='https://docs.upgini.com/public/economics/cci_pca#f_economic_date_cci_pca_3_10646e17' target='_blank' rel='noopener noreferrer'>f_economic_date_cci_pca_3_10646e17</a></td><td class='upgini-number'>0.0012</td><td class='upgini-number'>100.0000</td><td class='upgini-text'>-0.5333, -2.1721, -3.9379</td><td class='upgini-text'><a href='https://upgini.com' target='_blank' rel='noopener noreferrer'>Upgini</a></td><td class='upgini-text'><a href='https://upgini.com/#data_sources' target='_blank' rel='noopener noreferrer'>World economic indicators</a></td><td class='upgini-text'>Free</td></tr><tr><td class='upgini-text'><a href='https://docs.upgini.com/public/economics/cci_pca#f_economic_date_cci_pca_7_17261951' target='_blank' rel='noopener noreferrer'>f_economic_date_cci_pca_7_17261951</a></td><td class='upgini-number'>0.0012</td><td class='upgini-number'>100.0000</td><td class='upgini-text'>-0.7798, 3.8656, -0.7798</td><td class='upgini-text'><a href='https://upgini.com' target='_blank' rel='noopener noreferrer'>Upgini</a></td><td class='upgini-text'><a href='https://upgini.com/#data_sources' target='_blank' rel='noopener noreferrer'>World economic indicators</a></td><td class='upgini-text'>Free</td></tr><tr><td class='upgini-text'><a href='https://docs.upgini.com/public/economics/cpi_umap#f_economic_date_cpi_umap_7_20d961e2' target='_blank' rel='noopener noreferrer'>f_economic_date_cpi_umap_7_20d961e2</a></td><td class='upgini-number'>0.0011</td><td class='upgini-number'>100.0000</td><td class='upgini-text'>10.9318, 13.9401, 8.5891</td><td class='upgini-text'><a href='https://upgini.com' target='_blank' rel='noopener noreferrer'>Upgini</a></td><td class='upgini-text'><a href='https://upgini.com/#data_sources' target='_blank' rel='noopener noreferrer'>World economic indicators</a></td><td class='upgini-text'>Free</td></tr><tr><td class='upgini-text'><a href='https://docs.upgini.com/public/economics/cpi_pca#f_economic_date_cpi_pca_5_e2bcc984' target='_blank' rel='noopener noreferrer'>f_economic_date_cpi_pca_5_e2bcc984</a></td><td class='upgini-number'>0.0010</td><td class='upgini-number'>100.0000</td><td class='upgini-text'>-2.7251, -7.6524, -3.1018</td><td class='upgini-text'><a href='https://upgini.com' target='_blank' rel='noopener noreferrer'>Upgini</a></td><td class='upgini-text'><a href='https://upgini.com/#data_sources' target='_blank' rel='noopener noreferrer'>World economic indicators</a></td><td class='upgini-text'>Free</td></tr><tr><td class='upgini-text'><a href='https://docs.upgini.com/public/economics/cci_pca#f_economic_date_cci_pca_0_4b266261' target='_blank' rel='noopener noreferrer'>f_economic_date_cci_pca_0_4b266261</a></td><td class='upgini-number'>0.0010</td><td class='upgini-number'>100.0000</td><td class='upgini-text'>6.3182, 5.8489, 2.788</td><td class='upgini-text'><a href='https://upgini.com' target='_blank' rel='noopener noreferrer'>Upgini</a></td><td class='upgini-text'><a href='https://upgini.com/#data_sources' target='_blank' rel='noopener noreferrer'>World economic indicators</a></td><td class='upgini-text'>Free</td></tr><tr><td class='upgini-text'><a href='https://docs.upgini.com/public/markets/finance#f_financial_date_snp500_fdb64447' target='_blank' rel='noopener noreferrer'>f_financial_date_snp500_fdb64447</a></td><td class='upgini-number'>0.0010</td><td class='upgini-number'>100.0000</td><td class='upgini-text'>1157.4399, 1314.99, 1173.8101</td><td class='upgini-text'><a href='https://upgini.com' target='_blank' rel='noopener noreferrer'>Upgini</a></td><td class='upgini-text'><a href='https://upgini.com/#data_sources' target='_blank' rel='noopener noreferrer'>Markets data</a></td><td class='upgini-text'>Free</td></tr><tr><td class='upgini-text'><a href='https://docs.upgini.com/public/weather/weather_umap#f_weather_date_weather_umap_14_63480984' target='_blank' rel='noopener noreferrer'>f_weather_date_weather_umap_14_63480984</a></td><td class='upgini-number'>0.0009</td><td class='upgini-number'>100.0000</td><td class='upgini-text'>5.6433, 4.8458, 5.5389</td><td class='upgini-text'><a href='https://upgini.com' target='_blank' rel='noopener noreferrer'>Upgini</a></td><td class='upgini-text'><a href='https://upgini.com/#data_sources' target='_blank' rel='noopener noreferrer'>Weather & climate normals data</a></td><td class='upgini-text'>Premium</td></tr><tr><td class='upgini-text'><a href='https://docs.upgini.com/public/economics/cbpol_umap#f_economic_date_cbpol_umap_7_a80d807e' target='_blank' rel='noopener noreferrer'>f_economic_date_cbpol_umap_7_a80d807e</a></td><td class='upgini-number'>0.0008</td><td class='upgini-number'>100.0000</td><td class='upgini-text'>-0.4176, 0.2444, 6.8002</td><td class='upgini-text'><a href='https://upgini.com' target='_blank' rel='noopener noreferrer'>Upgini</a></td><td class='upgini-text'><a href='https://upgini.com/#data_sources' target='_blank' rel='noopener noreferrer'>World economic indicators</a></td><td class='upgini-text'>Free</td></tr><tr><td class='upgini-text'><a href='https://docs.upgini.com/public/economics/cbpol_pca#f_economic_date_cbpol_pca_2_33d6e3fc' target='_blank' rel='noopener noreferrer'>f_economic_date_cbpol_pca_2_33d6e3fc</a></td><td class='upgini-number'>0.0008</td><td class='upgini-number'>100.0000</td><td class='upgini-text'>-0.5435, 0.7903, 0.7903</td><td class='upgini-text'><a href='https://upgini.com' target='_blank' rel='noopener noreferrer'>Upgini</a></td><td class='upgini-text'><a href='https://upgini.com/#data_sources' target='_blank' rel='noopener noreferrer'>World economic indicators</a></td><td class='upgini-text'>Free</td></tr><tr><td class='upgini-text'><a href='https://docs.upgini.com/public/economics/cbpol_pca#f_economic_date_cbpol_pca_1_31e5f62c' target='_blank' rel='noopener noreferrer'>f_economic_date_cbpol_pca_1_31e5f62c</a></td><td class='upgini-number'>0.0008</td><td class='upgini-number'>100.0000</td><td class='upgini-text'>2.2337, 2.5473, -2.0981</td><td class='upgini-text'><a href='https://upgini.com' target='_blank' rel='noopener noreferrer'>Upgini</a></td><td class='upgini-text'><a href='https://upgini.com/#data_sources' target='_blank' rel='noopener noreferrer'>World economic indicators</a></td><td class='upgini-text'>Free</td></tr><tr><td class='upgini-text'><a href='https://docs.upgini.com/public/calendar/calendar#f_events_date_year_sin5_458f51f9' target='_blank' rel='noopener noreferrer'>f_events_date_year_sin5_458f51f9</a></td><td class='upgini-number'>0.0008</td><td class='upgini-number'>100.0000</td><td class='upgini-text'>0.8359, 0.4471, 0.4938</td><td class='upgini-text'><a href='https://upgini.com' target='_blank' rel='noopener noreferrer'>Upgini</a></td><td class='upgini-text'><a href='https://upgini.com/#data_sources' target='_blank' rel='noopener noreferrer'>Calendar data</a></td><td class='upgini-text'>Free</td></tr></tbody></table>\n",
              "        </div>\n",
              "        "
            ]
          },
          "metadata": {}
        },
        {
          "output_type": "display_data",
          "data": {
            "text/plain": [
              "<IPython.core.display.HTML object>"
            ],
            "text/html": [
              "<style>\n",
              "            .upgini-df thead th {\n",
              "                font-weight:bold;\n",
              "                text-align: center;\n",
              "                padding: 0.5em;\n",
              "            }\n",
              "\n",
              "            .upgini-df tbody td {\n",
              "                padding: 0.5em;\n",
              "            }\n",
              "\n",
              "            .upgini-text {\n",
              "                text-align: left;\n",
              "            }\n",
              "\n",
              "            .upgini-number {\n",
              "                text-align: center;\n",
              "            }\n",
              "        </style>\n",
              "        <h2>Relevant data sources</h2>\n",
              "        <div style=\"display:flex; flex-direction:column; align-items:flex-end; width: fit-content;\">\n",
              "            <div style=\"text-align: right\">\n",
              "                <button onclick=navigator.clipboard.writeText(decodeURI('Provider%09Source%09All%20features%20SHAP%09Number%20of%20relevant%20features%0AUpgini%09Weather%20%26%20climate%20normals%20data%090.0903%0919%0AUpgini%09Calendar%20data%090.045200000000000004%097%0AUpgini%09World%20economic%20indicators%090.0182%0913%0AUpgini%09Markets%20data%090.0105%096%0A'))>📂 Copy</button>\n",
              "                <a href='mailto:<Share with...>?subject=Relevant external data sources from Upgini.com&body=Provider%09Source%09All%20features%20SHAP%09Number%20of%20relevant%20features%0AUpgini%09Weather%20%26%20climate%20normals%20data%090.0903%0919%0AUpgini%09Calendar%20data%090.045200000000000004%097%0AUpgini%09World%20economic%20indicators%090.0182%0913%0AUpgini%09Markets%20data%090.0105%096%0A'>\n",
              "                    <button>📨 Share</button>\n",
              "                </a>\n",
              "            </div>\n",
              "            <table class='upgini-df'><thead><th>Provider</th><th>Source</th><th>All features SHAP</th><th>Number of relevant features</th></thead><tbody><tr><td class='upgini-text'><a href='https://upgini.com' target='_blank' rel='noopener noreferrer'>Upgini</a></td><td class='upgini-text'><a href='https://upgini.com/#data_sources' target='_blank' rel='noopener noreferrer'>Weather & climate normals data</a></td><td class='upgini-number'>0.0903</td><td class='upgini-number'>19</td></tr><tr><td class='upgini-text'><a href='https://upgini.com' target='_blank' rel='noopener noreferrer'>Upgini</a></td><td class='upgini-text'><a href='https://upgini.com/#data_sources' target='_blank' rel='noopener noreferrer'>Calendar data</a></td><td class='upgini-number'>0.0452</td><td class='upgini-number'>7</td></tr><tr><td class='upgini-text'><a href='https://upgini.com' target='_blank' rel='noopener noreferrer'>Upgini</a></td><td class='upgini-text'><a href='https://upgini.com/#data_sources' target='_blank' rel='noopener noreferrer'>World economic indicators</a></td><td class='upgini-number'>0.0182</td><td class='upgini-number'>13</td></tr><tr><td class='upgini-text'><a href='https://upgini.com' target='_blank' rel='noopener noreferrer'>Upgini</a></td><td class='upgini-text'><a href='https://upgini.com/#data_sources' target='_blank' rel='noopener noreferrer'>Markets data</a></td><td class='upgini-number'>0.0105</td><td class='upgini-number'>6</td></tr></tbody></table>\n",
              "        </div>\n",
              "        "
            ]
          },
          "metadata": {}
        },
        {
          "output_type": "stream",
          "name": "stdout",
          "text": [
            "We detected 176 outliers in your sample.\n",
            "Examples of outliers with maximum value of target:\n",
            "165    2557\n",
            "173    2524\n",
            "43     2153\n",
            "Name: target, dtype: int64\n",
            "Outliers will be excluded during the metrics calculation.\n",
            "Before dropping target outliers size: 3861\n",
            "After dropping target outliers size: 3685\n",
            "Calculating accuracy uplift after enrichment...\n"
          ]
        },
        {
          "output_type": "display_data",
          "data": {
            "text/plain": [
              "<IPython.core.display.HTML object>"
            ],
            "text/html": [
              "<style>\n",
              "            .upgini-df thead th {\n",
              "                font-weight:bold;\n",
              "                text-align: center;\n",
              "                padding: 0.5em;\n",
              "            }\n",
              "\n",
              "            .upgini-df tbody td {\n",
              "                padding: 0.5em;\n",
              "            }\n",
              "\n",
              "            .upgini-text {\n",
              "                text-align: left;\n",
              "            }\n",
              "\n",
              "            .upgini-number {\n",
              "                text-align: center;\n",
              "            }\n",
              "        </style>\n",
              "        <h2>Accuracy after enrichment</h2>\n",
              "        <div style=\"display:flex; flex-direction:column; align-items:flex-end; width: fit-content;\">\n",
              "            <div style=\"text-align: right\">\n",
              "                <button onclick=navigator.clipboard.writeText(decodeURI('Dataset%20type%09Rows%09Mean%20target%09Baseline%20mean_absolute_error%09Enriched%20mean_absolute_error%09Uplift%0ATrain%093685%09180.118%0939.31402731631935%0931.389115237978114%097.924912078341233%0A'))>📂 Copy</button>\n",
              "                <a href='mailto:<Share with...>?subject=Relevant external data sources from Upgini.com&body=Dataset%20type%09Rows%09Mean%20target%09Baseline%20mean_absolute_error%09Enriched%20mean_absolute_error%09Uplift%0ATrain%093685%09180.118%0939.31402731631935%0931.389115237978114%097.924912078341233%0A'>\n",
              "                    <button>📨 Share</button>\n",
              "                </a>\n",
              "            </div>\n",
              "            <table class='upgini-df'><thead><th>Dataset type</th><th>Rows</th><th>Mean target</th><th>Baseline mean_absolute_error</th><th>Enriched mean_absolute_error</th><th>Uplift</th></thead><tbody><tr><td class='upgini-text'>Train</td><td class='upgini-number'>3685</td><td class='upgini-number'>180.1180</td><td class='upgini-number'>39.3140</td><td class='upgini-number'>31.3891</td><td class='upgini-number'>7.9249</td></tr></tbody></table>\n",
              "        </div>\n",
              "        "
            ]
          },
          "metadata": {}
        },
        {
          "output_type": "display_data",
          "data": {
            "text/plain": [
              "<IPython.core.display.HTML object>"
            ],
            "text/html": [
              "<a download=\"upgini-report-befd0a03-41b8-4a9f-b919-98542b5dfd41.pdf\" href=\"data:application/pdf;base64,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\" target=\"_blank\">\n",
              "        <button>📊 Download PDF report</button></a>"
            ]
          },
          "metadata": {}
        },
        {
          "output_type": "stream",
          "name": "stdout",
          "text": [
            "\n"
          ]
        }
      ],
      "source": [
        "train_features = df.drop(['Weekly_Units_Sold'], axis=1)\n",
        "train_target = df.Weekly_Units_Sold\n",
        "enriched_train_features = enricher.fit_transform(\n",
        "    train_features,\n",
        "    train_target,\n",
        "    scoring = \"mean_absolute_error\")"
      ],
      "metadata": {
        "colab": {
          "base_uri": "https://localhost:8080/",
          "height": 2508
        },
        "id": "bffe6b13dc21fc89",
        "outputId": "0c9cab93-5062-48ce-e0f4-557dcb725da5"
      },
      "id": "bffe6b13dc21fc89"
    },
    {
      "cell_type": "code",
      "source": [
        "from upgini.metadata import CVType\n",
        "enricher = FeaturesEnricher(\n",
        "\tsearch_keys={\"Date\": SearchKey.DATE},\n",
        "\tcv=CVType.time_series\n",
        ")"
      ],
      "metadata": {
        "id": "EO7WbmEZOpvc"
      },
      "id": "EO7WbmEZOpvc",
      "execution_count": 8,
      "outputs": []
    },
    {
      "cell_type": "code",
      "execution_count": 9,
      "outputs": [],
      "source": [
        "from catboost import CatBoostRegressor\n",
        "from catboost.utils import eval_metric\n",
        "from sklearn.model_selection import train_test_split\n",
        "\n",
        "# Find all categorical features and replace NaNs with 'NA'\n",
        "cat_col_enriched = [col for col in enriched_train_features.columns if enriched_train_features[col].dtype == \"O\"]\n",
        "enriched_train_features.loc[:, cat_col_enriched] = enriched_train_features.loc[:, cat_col_enriched].fillna(\"NA\")\n",
        "\n",
        "cat_col_baseline = [col for col in train_features.columns if train_features[col].dtype == \"O\"]\n",
        "train_features.loc[:, cat_col_baseline] = train_features.loc[:, cat_col_baseline].fillna(\"NA\")\n",
        "\n",
        "# Train and test split for correct model evaluation\n",
        "X_train, X_test, y_train, y_test, X_train_baseline, X_test_baseline = train_test_split(\n",
        "    enriched_train_features,\n",
        "    train_target,\n",
        "    train_features,\n",
        "    test_size=0.2,\n",
        "    shuffle=True,\n",
        "    random_state=0)\n",
        "\n",
        "# Task-optimized Catboost estimator\n",
        "model = CatBoostRegressor(\n",
        "    learning_rate=0.03,\n",
        "    iterations=330,\n",
        "    random_state=0,\n",
        "    eval_metric=\"MAE\",\n",
        "    verbose=False,)"
      ],
      "metadata": {
        "id": "656ed447ee627157"
      },
      "id": "656ed447ee627157"
    },
    {
      "cell_type": "code",
      "source": [
        "model.fit(X_train_baseline, y_train, cat_features=cat_col_baseline)\n",
        "preds = model.predict(X_test_baseline)\n",
        "eval_metric(y_test.values, preds, \"MAE\")"
      ],
      "metadata": {
        "colab": {
          "base_uri": "https://localhost:8080/",
          "height": 0
        },
        "id": "htYzsUkVPgB7",
        "outputId": "7ded3d09-9978-41bc-f290-af4ce9ff6f7f"
      },
      "id": "htYzsUkVPgB7",
      "execution_count": 10,
      "outputs": [
        {
          "output_type": "execute_result",
          "data": {
            "text/plain": [
              "[34.63767164622421]"
            ]
          },
          "metadata": {},
          "execution_count": 10
        }
      ]
    },
    {
      "cell_type": "code",
      "source": [
        "model.fit(X_train, y_train, cat_features=cat_col_enriched)\n",
        "preds = model.predict(X_test)\n",
        "eval_metric(y_test.values, preds, \"MAE\")"
      ],
      "metadata": {
        "colab": {
          "base_uri": "https://localhost:8080/",
          "height": 0
        },
        "id": "JEqfTVzgPlOE",
        "outputId": "d6e27246-1b2b-475f-fff2-6688623a6980"
      },
      "id": "JEqfTVzgPlOE",
      "execution_count": 11,
      "outputs": [
        {
          "output_type": "execute_result",
          "data": {
            "text/plain": [
              "[26.26390673108738]"
            ]
          },
          "metadata": {},
          "execution_count": 11
        }
      ]
    }
  ],
  "metadata": {
    "kernelspec": {
      "display_name": "Python 3",
      "language": "python",
      "name": "python3"
    },
    "language_info": {
      "codemirror_mode": {
        "name": "ipython",
        "version": 2
      },
      "file_extension": ".py",
      "mimetype": "text/x-python",
      "name": "python",
      "nbconvert_exporter": "python",
      "pygments_lexer": "ipython2",
      "version": "2.7.6"
    },
    "colab": {
      "provenance": [],
      "include_colab_link": true
    }
  },
  "nbformat": 4,
  "nbformat_minor": 5
}