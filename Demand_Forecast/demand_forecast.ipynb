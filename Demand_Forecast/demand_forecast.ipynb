{
 "cells": [
  {
   "cell_type": "markdown",
   "source": [
    "##### This short example taken from Medium, https://shorturl.at/zADJZ, is similar in many ways to the Time\n",
    "##### Varying Coefficients (which could be adapted if we like this idea, but would be time-consuming in \n",
    "##### Development. The basic motivation is to write a program that has promos of varying lengths to evaluate\n",
    "##### How they perform"
   ],
   "metadata": {
    "collapsed": false
   },
   "id": "3b59c280cbc34534"
  },
  {
   "cell_type": "code",
   "execution_count": 5,
   "id": "initial_id",
   "metadata": {
    "collapsed": true,
    "ExecuteTime": {
     "end_time": "2023-08-02T18:27:17.525367100Z",
     "start_time": "2023-08-02T18:27:17.456847900Z"
    }
   },
   "outputs": [
    {
     "name": "stderr",
     "output_type": "stream",
     "text": [
      "C:\\Users\\norri\\AppData\\Local\\Temp\\ipykernel_21816\\3069097588.py:33: FutureWarning: The frame.append method is deprecated and will be removed from pandas in a future version. Use pandas.concat instead.\n",
      "  df = df.append(\n"
     ]
    }
   ],
   "source": [
    "import numpy as np\n",
    "import pandas as pd\n",
    "import random as rd\n",
    "# Initialize our example dataframe with 6 columns: sku, retailer, promotion type, \n",
    "# promotion id, date, selling\n",
    "df = pd.DataFrame(\n",
    "    {\n",
    "        'sku': [1] * 25,\n",
    "        'retailer': ['A'] * 20 + ['B'] * 5,\n",
    "        'promotion_type': [1] * 10 + [2] * 10 + [2] * 3 + [3] * 2,\n",
    "        'promotion_id': ['A1-2019'] * 2 + ['A1-20201'] * 8 + ['A2-20201'] * 3 + \\\n",
    "                        ['A2-20203'] * 5 + ['A2-20204'] * 2 + ['B2-20201'] * 3 + \\\n",
    "                        ['B3-20201'] * 2,\n",
    "        'date': [\n",
    "            pd.Timestamp(el) for el in [\"2019-12-01\", \"2019-12-02\", \"2020-01-01\",\n",
    "                                        \"2020-01-02\", \"2020-01-03\", \"2020-01-04\",\n",
    "                                        \"2020-01-05\", \"2020-01-06\", \"2020-01-07\",\n",
    "                                        \"2020-01-08\", \"2020-01-21\", \"2020-01-22\",\n",
    "                                        \"2020-01-23\", \"2020-03-01\", \"2020-03-02\",\n",
    "                                        \"2020-03-03\", \"2020-03-04\", \"2020-03-05\",\n",
    "                                        \"2020-04-15\", \"2020-04-16\", \"2020-01-21\",\n",
    "                                        \"2020-01-22\", \"2020-01-23\", \"2020-01-21\",\n",
    "                                        \"2020-01-22\"]],\n",
    "        'sellin': [rd.randint(100, 200) for i in range(25)]\n",
    "    }\n",
    ")\n",
    "\n",
    "# Initialize our horizon: 7-days rolling mean\n",
    "horizon = 7\n",
    "\n",
    "# Add a line \"in the future\" for which we want to forecast the sell-in (unknown for \n",
    "# now) and therefore for which we want to have a value for the rolling mean feature\n",
    "df = df.append(\n",
    "    {\n",
    "        'sku': 1,\n",
    "        'retailer': 'A',\n",
    "        'promotion_type': 3,\n",
    "        'promotion_id': 'A3-20203',\n",
    "        'date': pd.Timestamp('2020-06-01'),\n",
    "        'sellin': np.nan\n",
    "    },\n",
    "    ignore_index=True\n",
    ")"
   ]
  },
  {
   "cell_type": "code",
   "execution_count": 6,
   "outputs": [],
   "source": [
    "# We create two new columns: \n",
    "# - the minimum promo date (start date based on promotion ID)\n",
    "df = df.merge(\n",
    "    df.groupby([\"sku\", \"retailer\", \"promotion_id\"]).date.min() \\\n",
    "        .reset_index() \\\n",
    "        .rename(columns={\"date\": \"min_promo_date\"}),\n",
    "    on=[\"sku\", \"retailer\", \"promotion_id\"],\n",
    "    how=\"left\"\n",
    ")\n",
    "df = df.sort_values(\"min_promo_date\")\n",
    "\n",
    "# - the rolling mean feature, filled with NaN for the moment\n",
    "df['promo_rolling_mean'] = np.nan"
   ],
   "metadata": {
    "collapsed": false,
    "ExecuteTime": {
     "end_time": "2023-08-02T18:27:17.526366600Z",
     "start_time": "2023-08-02T18:27:17.477849300Z"
    }
   },
   "id": "ce47d0db3252d2f9"
  },
  {
   "cell_type": "code",
   "execution_count": 7,
   "outputs": [],
   "source": [
    "# Definition of granularity levels to compute the rolling means, from the most granular \n",
    "# to the less granular\n",
    "AGG_LEVELS = {\n",
    "    \"1\": [\"sku\", \"retailer\", \"promotion_type\"],\n",
    "    \"2\": [\"sku\", \"promotion_type\"],\n",
    "    \"3\": [\"sku\"]\n",
    "}\n",
    "\n",
    "# We iterate on the granularity levels (from the most granular to the less granular) in \n",
    "# order to compute the rolling mean on the most similar promotion for each row\n",
    "for agg_level_number, agg_level_columns in AGG_LEVELS.items():\n",
    "\n",
    "    # Once the rolling mean feature is filled, we break from the loop\n",
    "    if df[\"promo_rolling_mean\"].isna().sum() == 0:\n",
    "        break\n",
    "\n",
    "    # (1) We aggregate our dataframe to the current granularity level\n",
    "    agg_level_df = df.groupby([\"promotion_id\"] + agg_level_columns) \\\n",
    "        .agg({\"sellin\": \"mean\", \"date\": \"min\"}) \\\n",
    "        .reset_index() \\\n",
    "        .rename(columns={\"date\": \"min_promo_date\"}) \\\n",
    "        .dropna(subset=[\"sellin\"]) \\\n",
    "        .sort_values(\"min_promo_date\")\n",
    "\n",
    "    # (2) We compute the rolling mean on the given horizon for the current granularity \n",
    "    # level\n",
    "    agg_level_df[\"sellin\"] = agg_level_df.groupby(agg_level_columns) \\\n",
    "        .rolling(horizon, 1)[\"sellin\"] \\\n",
    "        .mean() \\\n",
    "        .droplevel(\n",
    "        level=list(\n",
    "            range(len(agg_level_columns))\n",
    "        )\n",
    "    )\n",
    "\n",
    "    # (3) We merge the results with the main dataframe on the right columns and min promo \n",
    "    # date. We use the merge_asof to only take rolling means computed for dates before each \n",
    "    # observation date.\n",
    "    df = pd.merge_asof(\n",
    "        df,\n",
    "        agg_level_df,\n",
    "        by=agg_level_columns,\n",
    "        on=\"min_promo_date\",\n",
    "        direction=\"backward\",\n",
    "        suffixes=(None, f\"_{agg_level_number}\"),\n",
    "        allow_exact_matches=False\n",
    "    )\n",
    "\n",
    "    # We fill the feature with the rolling mean values for the current granularity level\n",
    "    df[\"promo_rolling_mean\"] = df[\"promo_rolling_mean\"].fillna(\n",
    "        df[f\"sellin_{agg_level_number}\"])\n",
    "\n",
    "cols_to_keep = [\n",
    "    \"sku\", \"retailer\", \"promotion_type\", \"promotion_id\", \"date\",\n",
    "    \"sellin\", \"promo_rolling_mean\"\n",
    "]\n",
    "\n",
    "df = df[cols_to_keep].sort_values(\n",
    "    by=['sku', 'retailer', 'promotion_type', 'promotion_id', 'date'])"
   ],
   "metadata": {
    "collapsed": false,
    "ExecuteTime": {
     "end_time": "2023-08-02T18:27:17.584367300Z",
     "start_time": "2023-08-02T18:27:17.532366400Z"
    }
   },
   "id": "da21e71134780303"
  },
  {
   "cell_type": "code",
   "execution_count": 8,
   "outputs": [],
   "source": [
    "from dask import delayed, compute\n",
    "\n",
    "def compute_rolling_mean(df):\n",
    "    ...\n",
    "    return df\n",
    "\n",
    "skus_list = set(df['sku'])\n",
    "dfs_with_promo = [\n",
    "    delayed(compute_rolling_mean)(df.loc[df.sku == sku]) for sku in skus_list\n",
    "]\n",
    "df_final = pd.concat(compute(*dfs_with_promo), axis=0, ignore_index=True)"
   ],
   "metadata": {
    "collapsed": false,
    "ExecuteTime": {
     "end_time": "2023-08-02T18:27:17.599375100Z",
     "start_time": "2023-08-02T18:27:17.586366900Z"
    }
   },
   "id": "e96a74954e72fba5"
  }
 ],
 "metadata": {
  "kernelspec": {
   "display_name": "Python 3",
   "language": "python",
   "name": "python3"
  },
  "language_info": {
   "codemirror_mode": {
    "name": "ipython",
    "version": 2
   },
   "file_extension": ".py",
   "mimetype": "text/x-python",
   "name": "python",
   "nbconvert_exporter": "python",
   "pygments_lexer": "ipython2",
   "version": "2.7.6"
  }
 },
 "nbformat": 4,
 "nbformat_minor": 5
}
